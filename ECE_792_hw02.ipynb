{
  "cells": [
    {
      "cell_type": "markdown",
      "metadata": {
        "id": "view-in-github",
        "colab_type": "text"
      },
      "source": [
        "<a href=\"https://colab.research.google.com/github/tanisha1112/ECE_792_Assignments/blob/main/ECE_792_hw02.ipynb\" target=\"_parent\"><img src=\"https://colab.research.google.com/assets/colab-badge.svg\" alt=\"Open In Colab\"/></a>"
      ]
    },
    {
      "cell_type": "code",
      "execution_count": null,
      "metadata": {
        "id": "FYTuYmi82uX1"
      },
      "outputs": [],
      "source": [
        "import torch\n",
        "from torchvision import transforms\n",
        "import torchvision.datasets as datasets\n",
        "import matplotlib.pyplot as plt\n",
        "import numpy as np\n",
        "import torch.nn as nn\n",
        "import torch.nn.functional as F\n",
        "import sklearn\n",
        "from torch.utils.data import DataLoader\n",
        "from torch import optim\n",
        "from torch.autograd import Variable"
      ]
    },
    {
      "cell_type": "code",
      "execution_count": null,
      "metadata": {
        "colab": {
          "base_uri": "https://localhost:8080/"
        },
        "id": "LRVeKXNe6qDq",
        "outputId": "946e4508-5487-42ae-a16a-9d89f452a990"
      },
      "outputs": [
        {
          "output_type": "execute_result",
          "data": {
            "text/plain": [
              "device(type='cpu')"
            ]
          },
          "metadata": {},
          "execution_count": 2
        }
      ],
      "source": [
        "device = torch.device('cuda' if torch.cuda.is_available() else 'cpu')\n",
        "device"
      ]
    },
    {
      "cell_type": "code",
      "execution_count": null,
      "metadata": {
        "colab": {
          "base_uri": "https://localhost:8080/"
        },
        "id": "yywU_MR220W0",
        "outputId": "c31a8235-4b6e-4ca5-f277-83b29e4489bb"
      },
      "outputs": [
        {
          "output_type": "stream",
          "name": "stdout",
          "text": [
            "Downloading http://yann.lecun.com/exdb/mnist/train-images-idx3-ubyte.gz\n",
            "Downloading http://yann.lecun.com/exdb/mnist/train-images-idx3-ubyte.gz to ./DATA/MNIST/raw/train-images-idx3-ubyte.gz\n"
          ]
        },
        {
          "output_type": "stream",
          "name": "stderr",
          "text": [
            "100%|██████████| 9912422/9912422 [00:00<00:00, 67957154.21it/s]\n"
          ]
        },
        {
          "output_type": "stream",
          "name": "stdout",
          "text": [
            "Extracting ./DATA/MNIST/raw/train-images-idx3-ubyte.gz to ./DATA/MNIST/raw\n",
            "\n",
            "Downloading http://yann.lecun.com/exdb/mnist/train-labels-idx1-ubyte.gz\n",
            "Downloading http://yann.lecun.com/exdb/mnist/train-labels-idx1-ubyte.gz to ./DATA/MNIST/raw/train-labels-idx1-ubyte.gz\n"
          ]
        },
        {
          "output_type": "stream",
          "name": "stderr",
          "text": [
            "100%|██████████| 28881/28881 [00:00<00:00, 33196956.38it/s]\n"
          ]
        },
        {
          "output_type": "stream",
          "name": "stdout",
          "text": [
            "Extracting ./DATA/MNIST/raw/train-labels-idx1-ubyte.gz to ./DATA/MNIST/raw\n",
            "\n",
            "Downloading http://yann.lecun.com/exdb/mnist/t10k-images-idx3-ubyte.gz\n",
            "Downloading http://yann.lecun.com/exdb/mnist/t10k-images-idx3-ubyte.gz to ./DATA/MNIST/raw/t10k-images-idx3-ubyte.gz\n"
          ]
        },
        {
          "output_type": "stream",
          "name": "stderr",
          "text": [
            "100%|██████████| 1648877/1648877 [00:00<00:00, 17879714.37it/s]\n"
          ]
        },
        {
          "output_type": "stream",
          "name": "stdout",
          "text": [
            "Extracting ./DATA/MNIST/raw/t10k-images-idx3-ubyte.gz to ./DATA/MNIST/raw\n",
            "\n",
            "Downloading http://yann.lecun.com/exdb/mnist/t10k-labels-idx1-ubyte.gz\n",
            "Downloading http://yann.lecun.com/exdb/mnist/t10k-labels-idx1-ubyte.gz to ./DATA/MNIST/raw/t10k-labels-idx1-ubyte.gz\n"
          ]
        },
        {
          "output_type": "stream",
          "name": "stderr",
          "text": [
            "100%|██████████| 4542/4542 [00:00<00:00, 5275693.37it/s]\n"
          ]
        },
        {
          "output_type": "stream",
          "name": "stdout",
          "text": [
            "Extracting ./DATA/MNIST/raw/t10k-labels-idx1-ubyte.gz to ./DATA/MNIST/raw\n",
            "\n"
          ]
        }
      ],
      "source": [
        "\n",
        "transform=transforms.Compose([transforms.ToTensor(), transforms.Normalize((0.1307,), (0.3081,))])\n",
        "\n",
        "mnist_trainset = datasets.MNIST(root='./DATA', train=True, download=True, transform=transform)\n",
        "mnist_testset = datasets.MNIST(root='./DATA', train=False, download=True, transform=transform)"
      ]
    },
    {
      "cell_type": "code",
      "execution_count": null,
      "metadata": {
        "colab": {
          "base_uri": "https://localhost:8080/"
        },
        "id": "aQZSPFXH22l7",
        "outputId": "50cdd3cb-6a6c-4373-b3d0-0011409970a5"
      },
      "outputs": [
        {
          "output_type": "stream",
          "name": "stdout",
          "text": [
            "Training dataset size:  60000\n",
            "Testing dataset size:  10000\n"
          ]
        }
      ],
      "source": [
        "train_batchsize = 100\n",
        "test_batchsize = 100\n",
        "train_dataloader = torch.utils.data.DataLoader(mnist_trainset, batch_size=train_batchsize, shuffle=True)\n",
        "test_dataloader = torch.utils.data.DataLoader(mnist_testset, batch_size=test_batchsize, shuffle=True)\n",
        "\n",
        "print(\"Training dataset size: \", len(mnist_trainset))\n",
        "print(\"Testing dataset size: \", len(mnist_testset))"
      ]
    },
    {
      "cell_type": "code",
      "execution_count": null,
      "metadata": {
        "colab": {
          "base_uri": "https://localhost:8080/",
          "height": 301
        },
        "id": "mZhDaX673EST",
        "outputId": "71f0225d-aef9-481a-d4ea-c1bb611b6586"
      },
      "outputs": [
        {
          "output_type": "display_data",
          "data": {
            "text/plain": [
              "<Figure size 2000x1000 with 5 Axes>"
            ],
            "image/png": "[encoded data removed]"
          },
          "metadata": {}
        }
      ],
      "source": [
        "# visualize data\n",
        "fig=plt.figure(figsize=(20, 10))\n",
        "for i in range(1, 6):\n",
        "    img = transforms.ToPILImage()(mnist_trainset[i][0])\n",
        "    fig.add_subplot(1, 6, i)\n",
        "    plt.title(mnist_trainset[i][1])\n",
        "    plt.imshow(img)\n",
        "plt.show()"
      ]
    },
    {
      "cell_type": "code",
      "execution_count": null,
      "metadata": {
        "colab": {
          "base_uri": "https://localhost:8080/"
        },
        "id": "yTBQN7y-55kZ",
        "outputId": "41abf369-0db7-4db5-922b-39e4591ee8ea"
      },
      "outputs": [
        {
          "output_type": "stream",
          "name": "stdout",
          "text": [
            "torch.Size([1, 28, 28]) 0\n"
          ]
        }
      ],
      "source": [
        "img, label=mnist_trainset[1]\n",
        "print(img.shape,label)\n"
      ]
    },
    {
      "cell_type": "code",
      "execution_count": null,
      "metadata": {
        "colab": {
          "base_uri": "https://localhost:8080/",
          "height": 448
        },
        "id": "HTG5lWjh58Qc",
        "outputId": "5c6d222d-9613-4074-abca-f00cab0894e9"
      },
      "outputs": [
        {
          "output_type": "execute_result",
          "data": {
            "text/plain": [
              "<matplotlib.image.AxesImage at 0x79858ea0ba30>"
            ]
          },
          "metadata": {},
          "execution_count": 7
        },
        {
          "output_type": "display_data",
          "data": {
            "text/plain": [
              "<Figure size 640x480 with 1 Axes>"
            ],
            "image/png": "[encoded data removed]"
          },
          "metadata": {}
        }
      ],
      "source": [
        "img = transforms.ToPILImage(mode='L')(img)\n",
        "plt.imshow(img)\n"
      ]
    },
    {
      "cell_type": "code",
      "execution_count": null,
      "metadata": {
        "colab": {
          "base_uri": "https://localhost:8080/",
          "height": 448
        },
        "id": "nKKUVpOIAnoC",
        "outputId": "4107f313-bcdb-446c-ea61-2a59db4c7bab"
      },
      "outputs": [
        {
          "output_type": "execute_result",
          "data": {
            "text/plain": [
              "<matplotlib.image.AxesImage at 0x79858c040610>"
            ]
          },
          "metadata": {},
          "execution_count": 8
        },
        {
          "output_type": "display_data",
          "data": {
            "text/plain": [
              "<Figure size 640x480 with 1 Axes>"
            ],
            "image/png": "[encoded data removed]"
          },
          "metadata": {}
        }
      ],
      "source": [
        "arr = np.asarray(img)\n",
        "plt.imshow(arr, cmap =\"gray\")"
      ]
    },
    {
      "cell_type": "code",
      "execution_count": null,
      "metadata": {
        "id": "4Af3PIP_6FSW"
      },
      "outputs": [],
      "source": [
        "class CNN(nn.Module):\n",
        "    def __init__(self):\n",
        "        super(CNN, self).__init__()\n",
        "        #6 (5×5 size) convolutional filters with stride 1x1 and 2x2 padding.\n",
        "        self.conv1 = nn.Sequential(\n",
        "            nn.Conv2d(\n",
        "                in_channels=1,\n",
        "                out_channels=6,\n",
        "                kernel_size=5,\n",
        "                stride=1,\n",
        "                padding=2,\n",
        "            ),\n",
        "            nn.ReLU(),\n",
        "            nn.MaxPool2d(kernel_size=2, stride=2, padding=0, return_indices=True),\n",
        "        )\n",
        "        # self.conv1 = nn.Conv2d(in_channels=1,out_channels=6,kernel_size=5,stride=1,padding=2)\n",
        "\n",
        "        # 16 (5×5 size) convolutional filters with stride 1x1 and no padding.\n",
        "        self.conv2 = nn.Sequential(\n",
        "            nn.Conv2d(\n",
        "                in_channels=6,\n",
        "                out_channels=16,\n",
        "                kernel_size=5,\n",
        "                stride=1,\n",
        "                padding=0,\n",
        "            ),\n",
        "            nn.ReLU(),\n",
        "            nn.MaxPool2d(kernel_size=2, stride=2, padding=0, return_indices=True),\n",
        "        )\n",
        "        # self.conv2 = nn.Conv2d(in_channels=6,out_channels=16,kernel_size=5,stride=1,padding=0)\n",
        "\n",
        "        self.fc1 = nn.Linear(5*5*16, 120)\n",
        "        self.fc2 = nn.Linear(120, 84)\n",
        "        self.fc3 = nn.Linear(84, 10)\n",
        "\n",
        "    def forward(self, x):\n",
        "        #28*28*1\n",
        "        x,indices= self.conv1(x)         #28 * 28* 6\n",
        "        #ReLU activation\n",
        "        # x = F.relu(x)\n",
        "        #Max Pooling layer (2×2 size and 2x2 stride)\n",
        "        # x = F.max_pool2d(x, kernel_size=2, stride=2, padding=0)       #14*14*6\n",
        "\n",
        "        x,indices = self.conv2(x)               #10 *10* 16\n",
        "        #ReLU activation\n",
        "        # x = F.relu(x)\n",
        "        # x = F.max_pool2d(x ,kernel_size= 2,stride=2)            #5*5*16\n",
        "        #Flatten\n",
        "        x = x.reshape(-1, 5*5*16)\n",
        "\n",
        "        #relu after Fully connected linear layer\n",
        "        x = self.fc1(x)\n",
        "        x = F.relu(x)\n",
        "        #relu\n",
        "        x = self.fc2(x)\n",
        "        x = F.relu(x)\n",
        "        x = self.fc3(x)\n",
        "        x = F.log_softmax(x, dim=1)\n",
        "        return x\n"
      ]
    },
    {
      "cell_type": "code",
      "execution_count": null,
      "metadata": {
        "colab": {
          "base_uri": "https://localhost:8080/"
        },
        "id": "hRwAlOUM7yRb",
        "outputId": "7ed96413-a8ac-459d-e652-64c83b1843b3"
      },
      "outputs": [
        {
          "output_type": "execute_result",
          "data": {
            "text/plain": [
              "CNN(\n",
              "  (conv1): Sequential(\n",
              "    (0): Conv2d(1, 6, kernel_size=(5, 5), stride=(1, 1), padding=(2, 2))\n",
              "    (1): ReLU()\n",
              "    (2): MaxPool2d(kernel_size=2, stride=2, padding=0, dilation=1, ceil_mode=False)\n",
              "  )\n",
              "  (conv2): Sequential(\n",
              "    (0): Conv2d(6, 16, kernel_size=(5, 5), stride=(1, 1))\n",
              "    (1): ReLU()\n",
              "    (2): MaxPool2d(kernel_size=2, stride=2, padding=0, dilation=1, ceil_mode=False)\n",
              "  )\n",
              "  (fc1): Linear(in_features=400, out_features=120, bias=True)\n",
              "  (fc2): Linear(in_features=120, out_features=84, bias=True)\n",
              "  (fc3): Linear(in_features=84, out_features=10, bias=True)\n",
              ")"
            ]
          },
          "metadata": {},
          "execution_count": 10
        }
      ],
      "source": [
        "cnn = CNN()\n",
        "cnn"
      ]
    },
    {
      "cell_type": "code",
      "execution_count": null,
      "metadata": {
        "colab": {
          "base_uri": "https://localhost:8080/"
        },
        "id": "pzzeJjrG72Zv",
        "outputId": "e7c6535e-f08e-4bac-e2f6-a477ca2bddfb"
      },
      "outputs": [
        {
          "output_type": "stream",
          "name": "stdout",
          "text": [
            "----------------------------------------------------------------\n",
            "        Layer (type)               Output Shape         Param #\n",
            "================================================================\n",
            "            Conv2d-1            [-1, 6, 28, 28]             156\n",
            "              ReLU-2            [-1, 6, 28, 28]               0\n",
            "         MaxPool2d-3  [[-1, 6, 14, 14], [-1, 6, 14, 14]]               0\n",
            "            Conv2d-4           [-1, 16, 10, 10]           2,416\n",
            "              ReLU-5           [-1, 16, 10, 10]               0\n",
            "         MaxPool2d-6  [[-1, 16, 5, 5], [-1, 16, 5, 5]]               0\n",
            "            Linear-7                  [-1, 120]          48,120\n",
            "            Linear-8                   [-1, 84]          10,164\n",
            "            Linear-9                   [-1, 10]             850\n",
            "================================================================\n",
            "Total params: 61,706\n",
            "Trainable params: 61,706\n",
            "Non-trainable params: 0\n",
            "----------------------------------------------------------------\n",
            "Input size (MB): 0.00\n",
            "Forward/backward pass size (MB): 11.67\n",
            "Params size (MB): 0.24\n",
            "Estimated Total Size (MB): 11.91\n",
            "----------------------------------------------------------------\n"
          ]
        }
      ],
      "source": [
        "from torchsummary import summary\n",
        "summary(cnn, (1, 28, 28))"
      ]
    },
    {
      "cell_type": "code",
      "execution_count": null,
      "metadata": {
        "colab": {
          "base_uri": "https://localhost:8080/"
        },
        "id": "tdbXIzytKh8q",
        "outputId": "5bfa3d7c-1706-4611-f8d5-7a410b30b9cd"
      },
      "outputs": [
        {
          "output_type": "execute_result",
          "data": {
            "text/plain": [
              "Adam (\n",
              "Parameter Group 0\n",
              "    amsgrad: False\n",
              "    betas: (0.9, 0.999)\n",
              "    capturable: False\n",
              "    differentiable: False\n",
              "    eps: 1e-08\n",
              "    foreach: None\n",
              "    fused: None\n",
              "    lr: 0.01\n",
              "    maximize: False\n",
              "    weight_decay: 0\n",
              ")"
            ]
          },
          "metadata": {},
          "execution_count": 12
        }
      ],
      "source": [
        "optimizer = optim.Adam(cnn.parameters(), lr = 0.01)\n",
        "optimizer"
      ]
    },
    {
      "cell_type": "code",
      "execution_count": null,
      "metadata": {
        "colab": {
          "base_uri": "https://localhost:8080/"
        },
        "id": "EsDm37K4aYGb",
        "outputId": "3eb7c5e6-c315-46db-8d47-87cf737b7b47"
      },
      "outputs": [
        {
          "output_type": "execute_result",
          "data": {
            "text/plain": [
              "600"
            ]
          },
          "metadata": {},
          "execution_count": 13
        }
      ],
      "source": [
        "num_epochs = 10\n",
        "len(train_dataloader)\n"
      ]
    },
    {
      "cell_type": "code",
      "execution_count": null,
      "metadata": {
        "colab": {
          "base_uri": "https://localhost:8080/"
        },
        "id": "_J_fmU5n-r7g",
        "outputId": "9687b99c-1625-483a-b154-81a7d5b33d64"
      },
      "outputs": [
        {
          "output_type": "stream",
          "name": "stdout",
          "text": [
            "Epoch:1 Loss:0.07 Accuracy:97.0\n",
            "Epoch:2 Loss:0.01 Accuracy:100.0\n",
            "Epoch:3 Loss:0.04 Accuracy:99.0\n",
            "Epoch:4 Loss:0.06 Accuracy:99.0\n",
            "Epoch:5 Loss:0.05 Accuracy:99.0\n",
            "Training process has finished!\n"
          ]
        }
      ],
      "source": [
        "def accuracy(predictions, labels):\n",
        "    classes = torch.argmax(predictions, dim=1)\n",
        "    return torch.mean((classes == labels).float())\n",
        "\n",
        "acc_train = []\n",
        "loss_train = []\n",
        "cnn.train()\n",
        "for epoch in range(1,6):\n",
        "    for batch in train_dataloader:\n",
        "        inputs, labels = batch\n",
        "        optimizer.zero_grad()\n",
        "        out = cnn(inputs.to(device))       #forward pass\n",
        "        loss = F.nll_loss(out, labels)\n",
        "        loss.backward()                #backward pass\n",
        "        optimizer.step()\n",
        "    training_accuracy = accuracy(out, labels.to(device))\n",
        "    acc_train.append(training_accuracy.item())\n",
        "    loss_train.append(loss.item())\n",
        "\n",
        "    # Report\n",
        "    print(f\"Epoch:{epoch} Loss:{loss:.2f} Accuracy:{training_accuracy*100}\")\n",
        "\n",
        "print('Training process has finished!')"
      ]
    },
    {
      "cell_type": "code",
      "execution_count": null,
      "metadata": {
        "id": "tsB_k8et_aau",
        "colab": {
          "base_uri": "https://localhost:8080/"
        },
        "outputId": "700ee909-965e-4490-dd49-c74468d2f140"
      },
      "outputs": [
        {
          "output_type": "stream",
          "name": "stdout",
          "text": [
            "Epoch:1 Loss:0.04 Accuracy:98.0\n",
            "Epoch:2 Loss:0.20 Accuracy:97.0\n",
            "Epoch:3 Loss:0.06 Accuracy:98.0\n",
            "Epoch:4 Loss:0.01 Accuracy:100.0\n",
            "Epoch:5 Loss:0.07 Accuracy:99.0\n",
            "Test process has finished!\n"
          ]
        }
      ],
      "source": [
        "acc_test = []\n",
        "loss_test = []\n",
        "cnn.eval()\n",
        "for epoch in range(1,6):\n",
        "    for batch in test_dataloader:\n",
        "        inputs, labels = batch\n",
        "        optimizer.zero_grad()\n",
        "        out = cnn(inputs.to(device))\n",
        "        loss = F.nll_loss(out, labels)\n",
        "        loss.backward()\n",
        "        optimizer.step()\n",
        "    test_accuracy = accuracy(out, labels.to(device))\n",
        "    acc_test.append(test_accuracy.item())\n",
        "    loss_test.append(loss.item())\n",
        "\n",
        "    # Report\n",
        "    print(f\"Epoch:{epoch} Loss:{loss:.2f} Accuracy:{test_accuracy*100}\")\n",
        "\n",
        "print('Test process has finished!')"
      ]
    },
    {
      "cell_type": "code",
      "execution_count": null,
      "metadata": {
        "id": "v6-s3dWsAoQc"
      },
      "outputs": [],
      "source": [
        "sample = next(iter(test_dataloader))\n",
        "imgs, lbls = sample"
      ]
    },
    {
      "cell_type": "code",
      "execution_count": null,
      "metadata": {
        "id": "bY3-SS_bAxbK",
        "colab": {
          "base_uri": "https://localhost:8080/"
        },
        "outputId": "c711f39b-4a7e-4345-e329-f251024c9b69"
      },
      "outputs": [
        {
          "output_type": "execute_result",
          "data": {
            "text/plain": [
              "array([5, 7, 7, 3, 7, 1, 1, 2, 1, 4])"
            ]
          },
          "metadata": {},
          "execution_count": 17
        }
      ],
      "source": [
        "actual_number = lbls[:10].numpy()\n",
        "actual_number"
      ]
    },
    {
      "cell_type": "code",
      "execution_count": null,
      "metadata": {
        "id": "YZZ1nAd6--4c",
        "colab": {
          "base_uri": "https://localhost:8080/"
        },
        "outputId": "a8f93ed4-2705-4a66-82b4-31f624ea427a"
      },
      "outputs": [
        {
          "output_type": "stream",
          "name": "stdout",
          "text": [
            "Prediction number: [5 7 7 3 7 1 1 2 1 4]\n",
            "Actual number: [5 7 7 3 7 1 1 2 1 4]\n"
          ]
        }
      ],
      "source": [
        "test_output = cnn(imgs[:10])\n",
        "pred_y = torch.max(test_output, 1)[1].data.numpy().squeeze()\n",
        "print(f'Prediction number: {pred_y}')\n",
        "print(f'Actual number: {actual_number}')"
      ]
    },
    {
      "cell_type": "markdown",
      "metadata": {
        "id": "G92ltkhp82zm"
      },
      "source": [
        "##Deconv"
      ]
    },
    {
      "cell_type": "code",
      "execution_count": null,
      "metadata": {
        "id": "3N2fdpZmzIB0",
        "colab": {
          "base_uri": "https://localhost:8080/"
        },
        "outputId": "cbb22762-9cc0-4484-d417-c58b451dde44"
      },
      "outputs": [
        {
          "output_type": "execute_result",
          "data": {
            "text/plain": [
              "2"
            ]
          },
          "metadata": {},
          "execution_count": 19
        }
      ],
      "source": [
        "img,label =mnist_testset[1]\n",
        "label"
      ]
    },
    {
      "cell_type": "code",
      "execution_count": null,
      "metadata": {
        "id": "0jv0cUDy8Bhd",
        "colab": {
          "base_uri": "https://localhost:8080/",
          "height": 448
        },
        "outputId": "d4fda1f8-2cc1-4de9-b066-66f4f8aa39c3"
      },
      "outputs": [
        {
          "output_type": "execute_result",
          "data": {
            "text/plain": [
              "<matplotlib.image.AxesImage at 0x79858e87ef50>"
            ]
          },
          "metadata": {},
          "execution_count": 20
        },
        {
          "output_type": "display_data",
          "data": {
            "text/plain": [
              "<Figure size 640x480 with 1 Axes>"
            ],
            "image/png": "[encoded data removed]"
          },
          "metadata": {}
        }
      ],
      "source": [
        "img_PIL = transforms.ToPILImage()(img)\n",
        "plt.imshow(img_PIL)"
      ]
    },
    {
      "cell_type": "code",
      "execution_count": null,
      "metadata": {
        "id": "GZaijAep9J_6",
        "colab": {
          "base_uri": "https://localhost:8080/"
        },
        "outputId": "08794f00-1e5c-4ccb-c249-42afbe2de6fc"
      },
      "outputs": [
        {
          "output_type": "execute_result",
          "data": {
            "text/plain": [
              "Sequential(\n",
              "  (0): Conv2d(1, 6, kernel_size=(5, 5), stride=(1, 1), padding=(2, 2))\n",
              "  (1): ReLU()\n",
              "  (2): MaxPool2d(kernel_size=2, stride=2, padding=0, dilation=1, ceil_mode=False)\n",
              ")"
            ]
          },
          "metadata": {},
          "execution_count": 21
        }
      ],
      "source": [
        "conv1 = cnn.conv1\n",
        "conv1"
      ]
    },
    {
      "cell_type": "code",
      "execution_count": null,
      "metadata": {
        "id": "UQXIVbzLAk1F",
        "colab": {
          "base_uri": "https://localhost:8080/"
        },
        "outputId": "1e27e544-3fca-4f0f-a258-9c1f3516d735"
      },
      "outputs": [
        {
          "output_type": "execute_result",
          "data": {
            "text/plain": [
              "torch.Size([1, 6, 14, 14])"
            ]
          },
          "metadata": {},
          "execution_count": 22
        }
      ],
      "source": [
        "x = img.unsqueeze(1)\n",
        "x, indices= conv1(x)\n",
        "x.shape"
      ]
    },
    {
      "cell_type": "code",
      "execution_count": null,
      "metadata": {
        "id": "Oooty_sNmnjR",
        "colab": {
          "base_uri": "https://localhost:8080/"
        },
        "outputId": "b1c0db77-0561-4fee-fdae-a675f94837c1"
      },
      "outputs": [
        {
          "output_type": "execute_result",
          "data": {
            "text/plain": [
              "torch.Size([14, 14])"
            ]
          },
          "metadata": {},
          "execution_count": 23
        }
      ],
      "source": [
        "selected_activation = x[0,5]\n",
        "selected_activation.shape"
      ]
    },
    {
      "cell_type": "code",
      "execution_count": null,
      "metadata": {
        "id": "lSqHyK1Qlico"
      },
      "outputs": [],
      "source": [
        "empty_tensor = torch.zeros(1, 6, 14, 14)\n",
        "empty_tensor.shape\n",
        "activation = []"
      ]
    },
    {
      "cell_type": "code",
      "execution_count": null,
      "metadata": {
        "id": "mBDyhzteofVP"
      },
      "outputs": [],
      "source": [
        "empty_tensor[:,5, :, :] = selected_activation\n",
        "activation.append(empty_tensor)"
      ]
    },
    {
      "cell_type": "code",
      "execution_count": null,
      "metadata": {
        "id": "YzSybLFs-_b3",
        "colab": {
          "base_uri": "https://localhost:8080/"
        },
        "outputId": "c1b01517-28ee-428b-a6ad-689b5bd00e65"
      },
      "outputs": [
        {
          "output_type": "execute_result",
          "data": {
            "text/plain": [
              "tensor([[[[0., 0., 0.,  ..., 0., 0., 0.],\n",
              "          [0., 0., 0.,  ..., 0., 0., 0.],\n",
              "          [0., 0., 0.,  ..., 0., 0., 0.],\n",
              "          ...,\n",
              "          [0., 0., 0.,  ..., 0., 0., 0.],\n",
              "          [0., 0., 0.,  ..., 0., 0., 0.],\n",
              "          [0., 0., 0.,  ..., 0., 0., 0.]],\n",
              "\n",
              "         [[0., 0., 0.,  ..., 0., 0., 0.],\n",
              "          [0., 0., 0.,  ..., 0., 0., 0.],\n",
              "          [0., 0., 0.,  ..., 0., 0., 0.],\n",
              "          ...,\n",
              "          [0., 0., 0.,  ..., 0., 0., 0.],\n",
              "          [0., 0., 0.,  ..., 0., 0., 0.],\n",
              "          [0., 0., 0.,  ..., 0., 0., 0.]],\n",
              "\n",
              "         [[0., 0., 0.,  ..., 0., 0., 0.],\n",
              "          [0., 0., 0.,  ..., 0., 0., 0.],\n",
              "          [0., 0., 0.,  ..., 0., 0., 0.],\n",
              "          ...,\n",
              "          [0., 0., 0.,  ..., 0., 0., 0.],\n",
              "          [0., 0., 0.,  ..., 0., 0., 0.],\n",
              "          [0., 0., 0.,  ..., 0., 0., 0.]],\n",
              "\n",
              "         [[0., 0., 0.,  ..., 0., 0., 0.],\n",
              "          [0., 0., 0.,  ..., 0., 0., 0.],\n",
              "          [0., 0., 0.,  ..., 0., 0., 0.],\n",
              "          ...,\n",
              "          [0., 0., 0.,  ..., 0., 0., 0.],\n",
              "          [0., 0., 0.,  ..., 0., 0., 0.],\n",
              "          [0., 0., 0.,  ..., 0., 0., 0.]],\n",
              "\n",
              "         [[0., 0., 0.,  ..., 0., 0., 0.],\n",
              "          [0., 0., 0.,  ..., 0., 0., 0.],\n",
              "          [0., 0., 0.,  ..., 0., 0., 0.],\n",
              "          ...,\n",
              "          [0., 0., 0.,  ..., 0., 0., 0.],\n",
              "          [0., 0., 0.,  ..., 0., 0., 0.],\n",
              "          [0., 0., 0.,  ..., 0., 0., 0.]],\n",
              "\n",
              "         [[0., 0., 0.,  ..., 0., 0., 0.],\n",
              "          [0., 0., 0.,  ..., 0., 0., 0.],\n",
              "          [0., 0., 0.,  ..., 0., 0., 0.],\n",
              "          ...,\n",
              "          [0., 0., 0.,  ..., 0., 0., 0.],\n",
              "          [0., 0., 0.,  ..., 0., 0., 0.],\n",
              "          [0., 0., 0.,  ..., 0., 0., 0.]]]], grad_fn=<CopySlices>)"
            ]
          },
          "metadata": {},
          "execution_count": 26
        }
      ],
      "source": [
        "activation[0]"
      ]
    },
    {
      "cell_type": "code",
      "execution_count": null,
      "metadata": {
        "id": "zd9mF5EJ-52j"
      },
      "outputs": [],
      "source": [
        "unpool = nn.MaxUnpool2d(2, stride=2)\n",
        "activation[0] = unpool(activation[0], indices)"
      ]
    },
    {
      "cell_type": "code",
      "execution_count": null,
      "metadata": {
        "id": "zS7jfMW7xy7b",
        "colab": {
          "base_uri": "https://localhost:8080/"
        },
        "outputId": "530d2f35-4791-412a-db3a-a9c169d25b8c"
      },
      "outputs": [
        {
          "output_type": "execute_result",
          "data": {
            "text/plain": [
              "torch.Size([1, 6, 28, 28])"
            ]
          },
          "metadata": {},
          "execution_count": 28
        }
      ],
      "source": [
        "activation[0] = F.relu(activation[0])\n",
        "activation[0].shape"
      ]
    },
    {
      "cell_type": "code",
      "execution_count": null,
      "metadata": {
        "id": "aCvkK3s1ORVG"
      },
      "outputs": [],
      "source": [
        "conv_weight = conv1[0].weight\n"
      ]
    },
    {
      "cell_type": "code",
      "execution_count": null,
      "metadata": {
        "id": "2dSNSiAcT0F6",
        "colab": {
          "base_uri": "https://localhost:8080/"
        },
        "outputId": "18468920-886c-4d71-81da-07c164aab7f9"
      },
      "outputs": [
        {
          "output_type": "execute_result",
          "data": {
            "text/plain": [
              "torch.Size([6, 1, 5, 5])"
            ]
          },
          "metadata": {},
          "execution_count": 30
        }
      ],
      "source": [
        "conv_weight.shape"
      ]
    },
    {
      "cell_type": "code",
      "execution_count": null,
      "metadata": {
        "id": "ETTggWMoR6j4",
        "colab": {
          "base_uri": "https://localhost:8080/"
        },
        "outputId": "7b667359-45d0-4f4b-904f-19c24d0f1fca"
      },
      "outputs": [
        {
          "output_type": "execute_result",
          "data": {
            "text/plain": [
              "torch.Size([1, 6, 5, 5])"
            ]
          },
          "metadata": {},
          "execution_count": 31
        }
      ],
      "source": [
        "weight_transposed =torch.permute(conv_weight,(1,0,3,2))\n",
        "weight_transposed.shape"
      ]
    },
    {
      "cell_type": "code",
      "execution_count": null,
      "metadata": {
        "id": "gNje_KMv2lrH",
        "colab": {
          "base_uri": "https://localhost:8080/"
        },
        "outputId": "f5ac23ab-f9fc-4408-a9f7-d7663b0f46d8"
      },
      "outputs": [
        {
          "output_type": "execute_result",
          "data": {
            "text/plain": [
              "torch.Size([1, 1, 42, 42])"
            ]
          },
          "metadata": {},
          "execution_count": 32
        }
      ],
      "source": [
        "result = F.conv2d(activation[0], weight_transposed, stride=1, padding=9)\n",
        "result.shape"
      ]
    },
    {
      "cell_type": "code",
      "execution_count": null,
      "metadata": {
        "id": "81VYGZpmBUJy",
        "colab": {
          "base_uri": "https://localhost:8080/",
          "height": 449
        },
        "outputId": "0b6e9b16-e3c9-41c7-b184-bc6e45b38e79"
      },
      "outputs": [
        {
          "output_type": "execute_result",
          "data": {
            "text/plain": [
              "<matplotlib.image.AxesImage at 0x79858e9142e0>"
            ]
          },
          "metadata": {},
          "execution_count": 33
        },
        {
          "output_type": "display_data",
          "data": {
            "text/plain": [
              "<Figure size 640x480 with 1 Axes>"
            ],
            "image/png": "[encoded data removed]"
          },
          "metadata": {}
        }
      ],
      "source": [
        "deconvimg = transforms.ToPILImage()(result[0])\n",
        "plt.imshow(deconvimg)"
      ]
    },
    {
      "cell_type": "code",
      "execution_count": null,
      "metadata": {
        "id": "G5LGBmIvqOgN",
        "colab": {
          "base_uri": "https://localhost:8080/",
          "height": 285
        },
        "outputId": "68fdc39c-29c8-4708-d1d6-72d783cac912"
      },
      "outputs": [
        {
          "output_type": "execute_result",
          "data": {
            "text/plain": [
              "<matplotlib.image.AxesImage at 0x7fe1cf371970>"
            ]
          },
          "metadata": {},
          "execution_count": 34
        },
        {
          "output_type": "display_data",
          "data": {
            "text/plain": [
              "<Figure size 432x288 with 1 Axes>"
            ],
            "image/png": "[encoded data removed]"
          },
          "metadata": {
            "needs_background": "light"
          }
        }
      ],
      "source": [
        "arr = np.asarray(deconvimg)\n",
        "plt.imshow(arr, cmap =\"gray\")"
      ]
    },
    {
      "cell_type": "code",
      "source": [
        "activations = []\n",
        "deconvimg_list = []"
      ],
      "metadata": {
        "id": "sE6Ko50K1byZ"
      },
      "execution_count": null,
      "outputs": []
    },
    {
      "cell_type": "code",
      "source": [
        "activation_conv1 = 6\n"
      ],
      "metadata": {
        "id": "MiXYoJaBG1v8"
      },
      "execution_count": null,
      "outputs": []
    },
    {
      "cell_type": "code",
      "execution_count": null,
      "metadata": {
        "id": "yR9E-J5tvcR_"
      },
      "outputs": [],
      "source": [
        "def deconv1(img):\n",
        "  for i in range(0,activation_conv1):\n",
        "      x = img.unsqueeze(1)\n",
        "      conv1 = cnn.conv1\n",
        "      x, indices= conv1(x)\n",
        "      selected_activation = x[0,i]\n",
        "      empty_tensor = torch.zeros(1, activation_conv1, 14, 14)\n",
        "      empty_tensor[:,i, :, :] = selected_activation\n",
        "      activations.append(empty_tensor)\n",
        "      unpool = nn.MaxUnpool2d(2, stride=2)\n",
        "      activations[i] = unpool(activations[i], indices)\n",
        "      activations[i] = F.relu(activations[i])\n",
        "      conv_weight = conv1[0].weight\n",
        "      weight_transposed =torch.permute(conv_weight,(1,0,3,2))\n",
        "      result = F.conv2d(activations[i], weight_transposed, stride=1, padding=9)\n",
        "      deconvimg_list.append(result)\n",
        "  return deconvimg_list"
      ]
    },
    {
      "cell_type": "code",
      "source": [
        "#### 0\n",
        "img,label =mnist_testset[10]\n",
        "label"
      ],
      "metadata": {
        "colab": {
          "base_uri": "https://localhost:8080/"
        },
        "id": "6ZsnyNVPEg6d",
        "outputId": "ad850fe9-dac2-4ced-8989-22bfdafff438"
      },
      "execution_count": null,
      "outputs": [
        {
          "output_type": "execute_result",
          "data": {
            "text/plain": [
              "0"
            ]
          },
          "metadata": {},
          "execution_count": 38
        }
      ]
    },
    {
      "cell_type": "code",
      "source": [
        "img_PIL = transforms.ToPILImage()(img)\n",
        "plt.imshow(img_PIL)"
      ],
      "metadata": {
        "colab": {
          "base_uri": "https://localhost:8080/",
          "height": 283
        },
        "id": "N0DQ4fIkEsxk",
        "outputId": "5cff125b-eb25-42d0-b214-bd62c9286760"
      },
      "execution_count": null,
      "outputs": [
        {
          "output_type": "execute_result",
          "data": {
            "text/plain": [
              "<matplotlib.image.AxesImage at 0x7fe1cf3df9a0>"
            ]
          },
          "metadata": {},
          "execution_count": 39
        },
        {
          "output_type": "display_data",
          "data": {
            "text/plain": [
              "<Figure size 432x288 with 1 Axes>"
            ],
            "image/png": "[encoded data removed]"
          },
          "metadata": {
            "needs_background": "light"
          }
        }
      ]
    },
    {
      "cell_type": "code",
      "source": [
        "deconvimg_list = deconv1(img)\n",
        "deconvimg_list[0].shape"
      ],
      "metadata": {
        "colab": {
          "base_uri": "https://localhost:8080/"
        },
        "id": "jconqsLeQKhG",
        "outputId": "023589b9-486b-4a2d-92a0-8a7253801268"
      },
      "execution_count": null,
      "outputs": [
        {
          "output_type": "execute_result",
          "data": {
            "text/plain": [
              "torch.Size([1, 1, 42, 42])"
            ]
          },
          "metadata": {},
          "execution_count": 40
        }
      ]
    },
    {
      "cell_type": "code",
      "execution_count": null,
      "metadata": {
        "id": "HYkgu1HM9Snv",
        "colab": {
          "base_uri": "https://localhost:8080/",
          "height": 209
        },
        "outputId": "c1bb95d2-470d-4e88-b29c-58ad6d9a0d18"
      },
      "outputs": [
        {
          "output_type": "display_data",
          "data": {
            "text/plain": [
              "<Figure size 1440x720 with 5 Axes>"
            ],
            "image/png": "[encoded data removed]"
          },
          "metadata": {
            "needs_background": "light"
          }
        }
      ],
      "source": [
        "# visualize data\n",
        "fig=plt.figure(figsize=(20, 10))\n",
        "for i in range(1, activation_conv1):\n",
        "    img = transforms.ToPILImage(mode='L')(deconvimg_list[i][0])\n",
        "    fig.add_subplot(1, activation_conv1, i)\n",
        "    plt.imshow(img)\n",
        "plt.show()\n"
      ]
    },
    {
      "cell_type": "code",
      "source": [
        "def deconv2(img):\n",
        "  for i in range(0,activation_conv2):\n",
        "      x = img.unsqueeze(1)\n",
        "      conv1 = cnn.conv1\n",
        "      x, indices= conv1(x)\n",
        "      conv2 = cnn.conv2\n",
        "      x, indices= conv2(x)\n",
        "      selected_activation = x[0,i]\n",
        "      empty_tensor = torch.zeros(1, activation_conv2, 5, 5)\n",
        "      empty_tensor[:,i, :, :] = selected_activation\n",
        "      activations_2.append(empty_tensor)\n",
        "      unpool = nn.MaxUnpool2d(2, stride=2)\n",
        "      activations_2[i] = unpool(activations_2[i], indices)\n",
        "      activations_2[i] = F.relu(activations_2[i])\n",
        "      conv_weight = conv2[0].weight\n",
        "      weight_transposed =torch.permute(conv_weight,(1,0,3,2))\n",
        "      result = F.conv2d(activations_2[i], weight_transposed, stride=1, padding=4)\n",
        "\n",
        "      print(result.shape)\n",
        "      deconvimg_list_2.append(result)\n",
        "  return deconvimg_list_2"
      ],
      "metadata": {
        "id": "Gp2BqTr1SuuY"
      },
      "execution_count": null,
      "outputs": []
    },
    {
      "cell_type": "code",
      "source": [
        "activations_2 = []\n",
        "deconvimg_list_2 = []\n",
        "activation_conv2 = 16"
      ],
      "metadata": {
        "id": "ePjDhvoxS1cj"
      },
      "execution_count": null,
      "outputs": []
    },
    {
      "cell_type": "code",
      "source": [
        "img,label =mnist_testset[10]\n",
        "label"
      ],
      "metadata": {
        "colab": {
          "base_uri": "https://localhost:8080/"
        },
        "id": "Yclw3B7FUR6V",
        "outputId": "197a990c-a07b-41c9-9958-08f3ca77700a"
      },
      "execution_count": null,
      "outputs": [
        {
          "output_type": "execute_result",
          "data": {
            "text/plain": [
              "0"
            ]
          },
          "metadata": {},
          "execution_count": 44
        }
      ]
    },
    {
      "cell_type": "code",
      "source": [
        "deconvimg_list_2 = deconv2(img)"
      ],
      "metadata": {
        "id": "URs1vcrIKPri",
        "colab": {
          "base_uri": "https://localhost:8080/"
        },
        "outputId": "08b5d736-7db9-4115-e321-b1374ddfd2fd"
      },
      "execution_count": null,
      "outputs": [
        {
          "output_type": "stream",
          "name": "stdout",
          "text": [
            "torch.Size([1, 6, 14, 14])\n",
            "torch.Size([1, 6, 14, 14])\n",
            "torch.Size([1, 6, 14, 14])\n",
            "torch.Size([1, 6, 14, 14])\n",
            "torch.Size([1, 6, 14, 14])\n",
            "torch.Size([1, 6, 14, 14])\n",
            "torch.Size([1, 6, 14, 14])\n",
            "torch.Size([1, 6, 14, 14])\n",
            "torch.Size([1, 6, 14, 14])\n",
            "torch.Size([1, 6, 14, 14])\n",
            "torch.Size([1, 6, 14, 14])\n",
            "torch.Size([1, 6, 14, 14])\n",
            "torch.Size([1, 6, 14, 14])\n",
            "torch.Size([1, 6, 14, 14])\n",
            "torch.Size([1, 6, 14, 14])\n",
            "torch.Size([1, 6, 14, 14])\n"
          ]
        }
      ]
    },
    {
      "cell_type": "code",
      "source": [
        "deconvimg_list_2[0].shape"
      ],
      "metadata": {
        "colab": {
          "base_uri": "https://localhost:8080/"
        },
        "id": "MbCN1_nFVJLi",
        "outputId": "5c611627-06ec-48ab-f610-928510feb785"
      },
      "execution_count": null,
      "outputs": [
        {
          "output_type": "execute_result",
          "data": {
            "text/plain": [
              "torch.Size([1, 6, 14, 14])"
            ]
          },
          "metadata": {},
          "execution_count": 46
        }
      ]
    },
    {
      "cell_type": "code",
      "source": [
        "# visualize data\n",
        "fig=plt.figure(figsize=(20, 10))\n",
        "for i in range(1, activation_conv2):\n",
        "    img = transforms.ToPILImage(mode='L')(deconvimg_list_2[i][0])\n",
        "    fig.add_subplot(1, activation_conv2, i)\n",
        "    plt.imshow(img)\n",
        "plt.show()"
      ],
      "metadata": {
        "id": "ecVXLFtXULgu"
      },
      "execution_count": null,
      "outputs": []
    },
    {
      "cell_type": "code",
      "source": [],
      "metadata": {
        "id": "L-f5VbOeUcY8"
      },
      "execution_count": null,
      "outputs": []
    }
  ],
  "metadata": {
    "colab": {
      "provenance": [],
      "authorship_tag": "ABX9TyPeTvaQas0t1agt3dJ/aHf1",
      "include_colab_link": true
    },
    "kernelspec": {
      "display_name": "Python 3",
      "name": "python3"
    },
    "language_info": {
      "name": "python"
    }
  },
  "nbformat": 4,
  "nbformat_minor": 0
}