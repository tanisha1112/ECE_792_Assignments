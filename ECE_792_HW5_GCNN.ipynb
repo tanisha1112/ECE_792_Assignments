{
  "nbformat": 4,
  "nbformat_minor": 0,
  "metadata": {
    "colab": {
      "provenance": [],
      "include_colab_link": true
    },
    "kernelspec": {
      "name": "python3",
      "display_name": "Python 3"
    },
    "language_info": {
      "name": "python"
    }
  },
  "cells": [
    {
      "cell_type": "markdown",
      "metadata": {
        "id": "view-in-github",
        "colab_type": "text"
      },
      "source": [
        "<a href=\"https://colab.research.google.com/github/tanisha1112/ECE_792_Assignments/blob/main/ECE_792_HW5_GCNN.ipynb\" target=\"_parent\"><img src=\"https://colab.research.google.com/assets/colab-badge.svg\" alt=\"Open In Colab\"/></a>"
      ]
    },
    {
      "cell_type": "code",
      "source": [
        "!pip install networkx\n",
        "!pip install torch_geometric"
      ],
      "metadata": {
        "colab": {
          "base_uri": "https://localhost:8080/"
        },
        "id": "I8PM9jPZrMBh",
        "outputId": "9ea98888-4075-402b-897e-1b4a361d2597"
      },
      "execution_count": null,
      "outputs": [
        {
          "output_type": "stream",
          "name": "stdout",
          "text": [
            "Looking in indexes: https://pypi.org/simple, https://us-python.pkg.dev/colab-wheels/public/simple/\n",
            "Requirement already satisfied: networkx in /usr/local/lib/python3.9/dist-packages (3.1)\n",
            "Looking in indexes: https://pypi.org/simple, https://us-python.pkg.dev/colab-wheels/public/simple/\n",
            "Requirement already satisfied: torch_geometric in /usr/local/lib/python3.9/dist-packages (2.3.0)\n",
            "Requirement already satisfied: psutil>=5.8.0 in /usr/local/lib/python3.9/dist-packages (from torch_geometric) (5.9.5)\n",
            "Requirement already satisfied: tqdm in /usr/local/lib/python3.9/dist-packages (from torch_geometric) (4.65.0)\n",
            "Requirement already satisfied: scipy in /usr/local/lib/python3.9/dist-packages (from torch_geometric) (1.10.1)\n",
            "Requirement already satisfied: jinja2 in /usr/local/lib/python3.9/dist-packages (from torch_geometric) (3.1.2)\n",
            "Requirement already satisfied: numpy in /usr/local/lib/python3.9/dist-packages (from torch_geometric) (1.22.4)\n",
            "Requirement already satisfied: requests in /usr/local/lib/python3.9/dist-packages (from torch_geometric) (2.27.1)\n",
            "Requirement already satisfied: pyparsing in /usr/local/lib/python3.9/dist-packages (from torch_geometric) (3.0.9)\n",
            "Requirement already satisfied: scikit-learn in /usr/local/lib/python3.9/dist-packages (from torch_geometric) (1.2.2)\n",
            "Requirement already satisfied: MarkupSafe>=2.0 in /usr/local/lib/python3.9/dist-packages (from jinja2->torch_geometric) (2.1.2)\n",
            "Requirement already satisfied: charset-normalizer~=2.0.0 in /usr/local/lib/python3.9/dist-packages (from requests->torch_geometric) (2.0.12)\n",
            "Requirement already satisfied: urllib3<1.27,>=1.21.1 in /usr/local/lib/python3.9/dist-packages (from requests->torch_geometric) (1.26.15)\n",
            "Requirement already satisfied: idna<4,>=2.5 in /usr/local/lib/python3.9/dist-packages (from requests->torch_geometric) (3.4)\n",
            "Requirement already satisfied: certifi>=2017.4.17 in /usr/local/lib/python3.9/dist-packages (from requests->torch_geometric) (2022.12.7)\n",
            "Requirement already satisfied: threadpoolctl>=2.0.0 in /usr/local/lib/python3.9/dist-packages (from scikit-learn->torch_geometric) (3.1.0)\n",
            "Requirement already satisfied: joblib>=1.1.1 in /usr/local/lib/python3.9/dist-packages (from scikit-learn->torch_geometric) (1.2.0)\n"
          ]
        }
      ]
    },
    {
      "cell_type": "code",
      "execution_count": null,
      "metadata": {
        "id": "FdogEMlG0jup"
      },
      "outputs": [],
      "source": [
        "import pandas as pd\n",
        "import glob\n",
        "import torch\n",
        "from torchvision import transforms\n",
        "import torchvision.datasets as datasets\n",
        "import matplotlib.pyplot as plt\n",
        "import numpy as np\n",
        "import torch.nn as nn\n",
        "import torch.nn.functional as F\n",
        "import sklearn\n",
        "from torch.utils.data import DataLoader\n",
        "from torch import optim\n",
        "from torch.autograd import Variable\n",
        "import cv2\n",
        "from numpy import array\n",
        "import networkx as nx\n",
        "from networkx import read_edgelist, set_node_attributes\n",
        "from networkx import shortest_path_length\n",
        "from torch.nn import Linear, Dropout\n",
        "from sklearn.metrics import classification_report\n",
        "from torch_geometric.data import Data"
      ]
    },
    {
      "cell_type": "code",
      "source": [
        "karate_edge_path = '/content/drive/MyDrive/karate.edgelist.txt'\n",
        "karate_attributes_path = '/content/drive/MyDrive/karate.attributes.csv'"
      ],
      "metadata": {
        "id": "kMl_KxR-0ofE"
      },
      "execution_count": null,
      "outputs": []
    },
    {
      "cell_type": "code",
      "source": [
        "network = read_edgelist(karate_edge_path,nodetype=int)"
      ],
      "metadata": {
        "id": "xGIBiC3w3KNk"
      },
      "execution_count": null,
      "outputs": []
    },
    {
      "cell_type": "code",
      "source": [
        "attributes = pd.read_csv(karate_attributes_path, index_col=['node'])"
      ],
      "metadata": {
        "id": "H9pwxS6prmm3"
      },
      "execution_count": null,
      "outputs": []
    },
    {
      "cell_type": "code",
      "source": [
        "attributes"
      ],
      "metadata": {
        "colab": {
          "base_uri": "https://localhost:8080/",
          "height": 1000
        },
        "id": "GMtgIOVBeuUW",
        "outputId": "24e129a8-1afe-4afc-f0d2-40d91fbd8284"
      },
      "execution_count": null,
      "outputs": [
        {
          "output_type": "execute_result",
          "data": {
            "text/plain": [
              "               role      community\n",
              "node                              \n",
              "0     Administrator  Administrator\n",
              "1            Member  Administrator\n",
              "2            Member  Administrator\n",
              "3            Member  Administrator\n",
              "4            Member  Administrator\n",
              "5            Member  Administrator\n",
              "6            Member  Administrator\n",
              "7            Member  Administrator\n",
              "8            Member  Administrator\n",
              "9            Member     Instructor\n",
              "10           Member  Administrator\n",
              "11           Member  Administrator\n",
              "12           Member  Administrator\n",
              "13           Member  Administrator\n",
              "14           Member     Instructor\n",
              "15           Member     Instructor\n",
              "16           Member  Administrator\n",
              "17           Member  Administrator\n",
              "18           Member     Instructor\n",
              "19           Member  Administrator\n",
              "20           Member     Instructor\n",
              "21           Member  Administrator\n",
              "22           Member     Instructor\n",
              "23           Member     Instructor\n",
              "24           Member     Instructor\n",
              "25           Member     Instructor\n",
              "26           Member     Instructor\n",
              "27           Member     Instructor\n",
              "28           Member     Instructor\n",
              "29           Member     Instructor\n",
              "30           Member     Instructor\n",
              "31           Member     Instructor\n",
              "32           Member     Instructor\n",
              "33       Instructor     Instructor"
            ],
            "text/html": [
              "\n",
              "  <div id=\"df-93dbff06-0b12-4297-b8ab-565f8d2155e2\">\n",
              "    <div class=\"colab-df-container\">\n",
              "      <div>\n",
              "<style scoped>\n",
              "    .dataframe tbody tr th:only-of-type {\n",
              "        vertical-align: middle;\n",
              "    }\n",
              "\n",
              "    .dataframe tbody tr th {\n",
              "        vertical-align: top;\n",
              "    }\n",
              "\n",
              "    .dataframe thead th {\n",
              "        text-align: right;\n",
              "    }\n",
              "</style>\n",
              "<table border=\"1\" class=\"dataframe\">\n",
              "  <thead>\n",
              "    <tr style=\"text-align: right;\">\n",
              "      <th></th>\n",
              "      <th>role</th>\n",
              "      <th>community</th>\n",
              "    </tr>\n",
              "    <tr>\n",
              "      <th>node</th>\n",
              "      <th></th>\n",
              "      <th></th>\n",
              "    </tr>\n",
              "  </thead>\n",
              "  <tbody>\n",
              "    <tr>\n",
              "      <th>0</th>\n",
              "      <td>Administrator</td>\n",
              "      <td>Administrator</td>\n",
              "    </tr>\n",
              "    <tr>\n",
              "      <th>1</th>\n",
              "      <td>Member</td>\n",
              "      <td>Administrator</td>\n",
              "    </tr>\n",
              "    <tr>\n",
              "      <th>2</th>\n",
              "      <td>Member</td>\n",
              "      <td>Administrator</td>\n",
              "    </tr>\n",
              "    <tr>\n",
              "      <th>3</th>\n",
              "      <td>Member</td>\n",
              "      <td>Administrator</td>\n",
              "    </tr>\n",
              "    <tr>\n",
              "      <th>4</th>\n",
              "      <td>Member</td>\n",
              "      <td>Administrator</td>\n",
              "    </tr>\n",
              "    <tr>\n",
              "      <th>5</th>\n",
              "      <td>Member</td>\n",
              "      <td>Administrator</td>\n",
              "    </tr>\n",
              "    <tr>\n",
              "      <th>6</th>\n",
              "      <td>Member</td>\n",
              "      <td>Administrator</td>\n",
              "    </tr>\n",
              "    <tr>\n",
              "      <th>7</th>\n",
              "      <td>Member</td>\n",
              "      <td>Administrator</td>\n",
              "    </tr>\n",
              "    <tr>\n",
              "      <th>8</th>\n",
              "      <td>Member</td>\n",
              "      <td>Administrator</td>\n",
              "    </tr>\n",
              "    <tr>\n",
              "      <th>9</th>\n",
              "      <td>Member</td>\n",
              "      <td>Instructor</td>\n",
              "    </tr>\n",
              "    <tr>\n",
              "      <th>10</th>\n",
              "      <td>Member</td>\n",
              "      <td>Administrator</td>\n",
              "    </tr>\n",
              "    <tr>\n",
              "      <th>11</th>\n",
              "      <td>Member</td>\n",
              "      <td>Administrator</td>\n",
              "    </tr>\n",
              "    <tr>\n",
              "      <th>12</th>\n",
              "      <td>Member</td>\n",
              "      <td>Administrator</td>\n",
              "    </tr>\n",
              "    <tr>\n",
              "      <th>13</th>\n",
              "      <td>Member</td>\n",
              "      <td>Administrator</td>\n",
              "    </tr>\n",
              "    <tr>\n",
              "      <th>14</th>\n",
              "      <td>Member</td>\n",
              "      <td>Instructor</td>\n",
              "    </tr>\n",
              "    <tr>\n",
              "      <th>15</th>\n",
              "      <td>Member</td>\n",
              "      <td>Instructor</td>\n",
              "    </tr>\n",
              "    <tr>\n",
              "      <th>16</th>\n",
              "      <td>Member</td>\n",
              "      <td>Administrator</td>\n",
              "    </tr>\n",
              "    <tr>\n",
              "      <th>17</th>\n",
              "      <td>Member</td>\n",
              "      <td>Administrator</td>\n",
              "    </tr>\n",
              "    <tr>\n",
              "      <th>18</th>\n",
              "      <td>Member</td>\n",
              "      <td>Instructor</td>\n",
              "    </tr>\n",
              "    <tr>\n",
              "      <th>19</th>\n",
              "      <td>Member</td>\n",
              "      <td>Administrator</td>\n",
              "    </tr>\n",
              "    <tr>\n",
              "      <th>20</th>\n",
              "      <td>Member</td>\n",
              "      <td>Instructor</td>\n",
              "    </tr>\n",
              "    <tr>\n",
              "      <th>21</th>\n",
              "      <td>Member</td>\n",
              "      <td>Administrator</td>\n",
              "    </tr>\n",
              "    <tr>\n",
              "      <th>22</th>\n",
              "      <td>Member</td>\n",
              "      <td>Instructor</td>\n",
              "    </tr>\n",
              "    <tr>\n",
              "      <th>23</th>\n",
              "      <td>Member</td>\n",
              "      <td>Instructor</td>\n",
              "    </tr>\n",
              "    <tr>\n",
              "      <th>24</th>\n",
              "      <td>Member</td>\n",
              "      <td>Instructor</td>\n",
              "    </tr>\n",
              "    <tr>\n",
              "      <th>25</th>\n",
              "      <td>Member</td>\n",
              "      <td>Instructor</td>\n",
              "    </tr>\n",
              "    <tr>\n",
              "      <th>26</th>\n",
              "      <td>Member</td>\n",
              "      <td>Instructor</td>\n",
              "    </tr>\n",
              "    <tr>\n",
              "      <th>27</th>\n",
              "      <td>Member</td>\n",
              "      <td>Instructor</td>\n",
              "    </tr>\n",
              "    <tr>\n",
              "      <th>28</th>\n",
              "      <td>Member</td>\n",
              "      <td>Instructor</td>\n",
              "    </tr>\n",
              "    <tr>\n",
              "      <th>29</th>\n",
              "      <td>Member</td>\n",
              "      <td>Instructor</td>\n",
              "    </tr>\n",
              "    <tr>\n",
              "      <th>30</th>\n",
              "      <td>Member</td>\n",
              "      <td>Instructor</td>\n",
              "    </tr>\n",
              "    <tr>\n",
              "      <th>31</th>\n",
              "      <td>Member</td>\n",
              "      <td>Instructor</td>\n",
              "    </tr>\n",
              "    <tr>\n",
              "      <th>32</th>\n",
              "      <td>Member</td>\n",
              "      <td>Instructor</td>\n",
              "    </tr>\n",
              "    <tr>\n",
              "      <th>33</th>\n",
              "      <td>Instructor</td>\n",
              "      <td>Instructor</td>\n",
              "    </tr>\n",
              "  </tbody>\n",
              "</table>\n",
              "</div>\n",
              "      <button class=\"colab-df-convert\" onclick=\"convertToInteractive('df-93dbff06-0b12-4297-b8ab-565f8d2155e2')\"\n",
              "              title=\"Convert this dataframe to an interactive table.\"\n",
              "              style=\"display:none;\">\n",
              "        \n",
              "  <svg xmlns=\"http://www.w3.org/2000/svg\" height=\"24px\"viewBox=\"0 0 24 24\"\n",
              "       width=\"24px\">\n",
              "    <path d=\"M0 0h24v24H0V0z\" fill=\"none\"/>\n",
              "    <path d=\"M18.56 5.44l.94 2.06.94-2.06 2.06-.94-2.06-.94-.94-2.06-.94 2.06-2.06.94zm-11 1L8.5 8.5l.94-2.06 2.06-.94-2.06-.94L8.5 2.5l-.94 2.06-2.06.94zm10 10l.94 2.06.94-2.06 2.06-.94-2.06-.94-.94-2.06-.94 2.06-2.06.94z\"/><path d=\"M17.41 7.96l-1.37-1.37c-.4-.4-.92-.59-1.43-.59-.52 0-1.04.2-1.43.59L10.3 9.45l-7.72 7.72c-.78.78-.78 2.05 0 2.83L4 21.41c.39.39.9.59 1.41.59.51 0 1.02-.2 1.41-.59l7.78-7.78 2.81-2.81c.8-.78.8-2.07 0-2.86zM5.41 20L4 18.59l7.72-7.72 1.47 1.35L5.41 20z\"/>\n",
              "  </svg>\n",
              "      </button>\n",
              "      \n",
              "  <style>\n",
              "    .colab-df-container {\n",
              "      display:flex;\n",
              "      flex-wrap:wrap;\n",
              "      gap: 12px;\n",
              "    }\n",
              "\n",
              "    .colab-df-convert {\n",
              "      background-color: #E8F0FE;\n",
              "      border: none;\n",
              "      border-radius: 50%;\n",
              "      cursor: pointer;\n",
              "      display: none;\n",
              "      fill: #1967D2;\n",
              "      height: 32px;\n",
              "      padding: 0 0 0 0;\n",
              "      width: 32px;\n",
              "    }\n",
              "\n",
              "    .colab-df-convert:hover {\n",
              "      background-color: #E2EBFA;\n",
              "      box-shadow: 0px 1px 2px rgba(60, 64, 67, 0.3), 0px 1px 3px 1px rgba(60, 64, 67, 0.15);\n",
              "      fill: #174EA6;\n",
              "    }\n",
              "\n",
              "    [theme=dark] .colab-df-convert {\n",
              "      background-color: #3B4455;\n",
              "      fill: #D2E3FC;\n",
              "    }\n",
              "\n",
              "    [theme=dark] .colab-df-convert:hover {\n",
              "      background-color: #434B5C;\n",
              "      box-shadow: 0px 1px 3px 1px rgba(0, 0, 0, 0.15);\n",
              "      filter: drop-shadow(0px 1px 2px rgba(0, 0, 0, 0.3));\n",
              "      fill: #FFFFFF;\n",
              "    }\n",
              "  </style>\n",
              "\n",
              "      <script>\n",
              "        const buttonEl =\n",
              "          document.querySelector('#df-93dbff06-0b12-4297-b8ab-565f8d2155e2 button.colab-df-convert');\n",
              "        buttonEl.style.display =\n",
              "          google.colab.kernel.accessAllowed ? 'block' : 'none';\n",
              "\n",
              "        async function convertToInteractive(key) {\n",
              "          const element = document.querySelector('#df-93dbff06-0b12-4297-b8ab-565f8d2155e2');\n",
              "          const dataTable =\n",
              "            await google.colab.kernel.invokeFunction('convertToInteractive',\n",
              "                                                     [key], {});\n",
              "          if (!dataTable) return;\n",
              "\n",
              "          const docLinkHtml = 'Like what you see? Visit the ' +\n",
              "            '<a target=\"_blank\" href=https://colab.research.google.com/notebooks/data_table.ipynb>data table notebook</a>'\n",
              "            + ' to learn more about interactive tables.';\n",
              "          element.innerHTML = '';\n",
              "          dataTable['output_type'] = 'display_data';\n",
              "          await google.colab.output.renderOutput(dataTable, element);\n",
              "          const docLink = document.createElement('div');\n",
              "          docLink.innerHTML = docLinkHtml;\n",
              "          element.appendChild(docLink);\n",
              "        }\n",
              "      </script>\n",
              "    </div>\n",
              "  </div>\n",
              "  "
            ]
          },
          "metadata": {},
          "execution_count": 114
        }
      ]
    },
    {
      "cell_type": "code",
      "source": [
        "for attribute in attributes.columns.values:\n",
        "    set_node_attributes(network,values=pd.Series(attributes[attribute],index=attributes.index).to_dict(),name=attribute)"
      ],
      "metadata": {
        "id": "2mjd9ilxry5l"
      },
      "execution_count": null,
      "outputs": []
    },
    {
      "cell_type": "code",
      "source": [
        "X_train, y_train = map(array, zip(*[([node], data['role'] == 'Administrator') for node, data\n",
        "                                    in network.nodes(data=True) if data['role'] in {'Administrator', 'Instructor'}]))"
      ],
      "metadata": {
        "id": "F2yeZ2D8teiq"
      },
      "execution_count": null,
      "outputs": []
    },
    {
      "cell_type": "code",
      "source": [
        "X_test, y_test = map(array, zip(*[([node], data['community'] == 'Administrator') for node,\n",
        "data in network.nodes(data=True) if data['role'] == 'Member']))"
      ],
      "metadata": {
        "id": "y0parPCAtyHU"
      },
      "execution_count": null,
      "outputs": []
    },
    {
      "cell_type": "code",
      "source": [
        "y_train = y_train.astype(int)\n",
        "y_test = y_test.astype(int)\n",
        "y_test"
      ],
      "metadata": {
        "colab": {
          "base_uri": "https://localhost:8080/"
        },
        "id": "oXw1YX1gg532",
        "outputId": "cd2690a4-3f93-46f8-ea05-b0a073fdd306"
      },
      "execution_count": null,
      "outputs": [
        {
          "output_type": "execute_result",
          "data": {
            "text/plain": [
              "array([1, 1, 1, 1, 1, 1, 1, 1, 1, 1, 1, 1, 1, 1, 1, 0, 0, 0, 0, 0, 0, 1,\n",
              "       0, 0, 0, 0, 0, 0, 0, 0, 0, 0])"
            ]
          },
          "metadata": {},
          "execution_count": 120
        }
      ]
    },
    {
      "cell_type": "code",
      "source": [
        "X_2 = np.zeros((34, 36))\n",
        "node_distance_instructor = shortest_path_length(network, target=X_train[0][0])\n",
        "node_distance_administrator = shortest_path_length(network, target=X_train[-1][0])"
      ],
      "metadata": {
        "id": "rRt7X9x-uCPa"
      },
      "execution_count": null,
      "outputs": []
    },
    {
      "cell_type": "code",
      "source": [
        "for node in network.nodes():\n",
        "    X_2[node][node] = 1\n",
        "    X_2[node][-2] = node_distance_administrator[node]\n",
        "    X_2[node][-1] = node_distance_instructor[node]"
      ],
      "metadata": {
        "id": "Bs_alZNhuF3g"
      },
      "execution_count": null,
      "outputs": []
    },
    {
      "cell_type": "code",
      "source": [
        "A = nx.to_numpy_array(network)"
      ],
      "metadata": {
        "id": "xcLg0HF9w5oN"
      },
      "execution_count": null,
      "outputs": []
    },
    {
      "cell_type": "code",
      "source": [
        "def degree_matrix(A):\n",
        "    n = A.shape[0] # Number of vertices\n",
        "    deg = np.sum(A, axis=1) # Compute vertex degrees\n",
        "    D = np.diag(deg) # Construct diagonal matrix\n",
        "    return D\n",
        "D = degree_matrix(A)"
      ],
      "metadata": {
        "id": "hDtAC_bMEIN1"
      },
      "execution_count": null,
      "outputs": []
    },
    {
      "cell_type": "code",
      "source": [
        "def NormLaplacian_matrix(A, D):\n",
        "    n = A.shape[0]\n",
        "    D_inv_sqrt = np.sqrt(np.linalg.inv(D))\n",
        "    L = np.identity(n) + np.dot(np.dot(D_inv_sqrt, A), D_inv_sqrt)\n",
        "    return L"
      ],
      "metadata": {
        "id": "yYiqhH3LEKs-"
      },
      "execution_count": null,
      "outputs": []
    },
    {
      "cell_type": "code",
      "source": [
        "L = NormLaplacian_matrix(A,D)\n",
        "L"
      ],
      "metadata": {
        "id": "HUtNr4CXEMAZ",
        "colab": {
          "base_uri": "https://localhost:8080/"
        },
        "outputId": "7b06875e-0854-4dbf-99d2-40804277aa19"
      },
      "execution_count": null,
      "outputs": [
        {
          "output_type": "execute_result",
          "data": {
            "text/plain": [
              "array([[1.        , 0.08333333, 0.07905694, ..., 0.        , 0.        ,\n",
              "        0.        ],\n",
              "       [0.08333333, 1.        , 0.10540926, ..., 0.        , 0.        ,\n",
              "        0.        ],\n",
              "       [0.07905694, 0.10540926, 1.        , ..., 0.        , 0.        ,\n",
              "        0.        ],\n",
              "       ...,\n",
              "       [0.        , 0.        , 0.        , ..., 1.        , 0.        ,\n",
              "        0.35355339],\n",
              "       [0.        , 0.        , 0.        , ..., 0.        , 1.        ,\n",
              "        0.        ],\n",
              "       [0.        , 0.        , 0.        , ..., 0.35355339, 0.        ,\n",
              "        1.        ]])"
            ]
          },
          "metadata": {},
          "execution_count": 126
        }
      ]
    },
    {
      "cell_type": "code",
      "source": [
        "G = nx.karate_club_graph()\n",
        "labels = {node: (1 if node == 0 or node == 33 else 0) for node in G.nodes()}\n",
        "train_nodes = [0, 33]\n",
        "test_nodes = list(set(G.nodes()) - set(train_nodes))"
      ],
      "metadata": {
        "id": "hTeGBXQZEN6Y"
      },
      "execution_count": null,
      "outputs": []
    },
    {
      "cell_type": "code",
      "source": [
        "labels"
      ],
      "metadata": {
        "colab": {
          "base_uri": "https://localhost:8080/"
        },
        "id": "uXr2FXIVIi-y",
        "outputId": "e8a72624-9e66-48b9-93a3-4ff7c09e068f"
      },
      "execution_count": null,
      "outputs": [
        {
          "output_type": "execute_result",
          "data": {
            "text/plain": [
              "{0: 1,\n",
              " 1: 0,\n",
              " 2: 0,\n",
              " 3: 0,\n",
              " 4: 0,\n",
              " 5: 0,\n",
              " 6: 0,\n",
              " 7: 0,\n",
              " 8: 0,\n",
              " 9: 0,\n",
              " 10: 0,\n",
              " 11: 0,\n",
              " 12: 0,\n",
              " 13: 0,\n",
              " 14: 0,\n",
              " 15: 0,\n",
              " 16: 0,\n",
              " 17: 0,\n",
              " 18: 0,\n",
              " 19: 0,\n",
              " 20: 0,\n",
              " 21: 0,\n",
              " 22: 0,\n",
              " 23: 0,\n",
              " 24: 0,\n",
              " 25: 0,\n",
              " 26: 0,\n",
              " 27: 0,\n",
              " 28: 0,\n",
              " 29: 0,\n",
              " 30: 0,\n",
              " 31: 0,\n",
              " 32: 0,\n",
              " 33: 1}"
            ]
          },
          "metadata": {},
          "execution_count": 128
        }
      ]
    },
    {
      "cell_type": "code",
      "source": [
        "edge_index = torch.tensor(np.array(list(G.edges())).T, dtype=torch.long)\n",
        "x = torch.tensor(np.zeros((len(G.nodes()), 36)), dtype=torch.float)\n",
        "for node in G.nodes():\n",
        "    x[node][node] = 1\n",
        "    x[node][-2] = nx.shortest_path_length(G, node, train_nodes[0])\n",
        "    x[node][-1] = nx.shortest_path_length(G, node, train_nodes[1])"
      ],
      "metadata": {
        "id": "cIbHjNnhEYum"
      },
      "execution_count": null,
      "outputs": []
    },
    {
      "cell_type": "code",
      "source": [
        "data = Data(x=x, edge_index=edge_index)\n",
        "data.x"
      ],
      "metadata": {
        "colab": {
          "base_uri": "https://localhost:8080/"
        },
        "id": "HZRcn1BAEsfA",
        "outputId": "a88005cf-7db9-4e3f-9ba4-44d5ad032f68"
      },
      "execution_count": null,
      "outputs": [
        {
          "output_type": "execute_result",
          "data": {
            "text/plain": [
              "tensor([[1., 0., 0.,  ..., 0., 0., 2.],\n",
              "        [0., 1., 0.,  ..., 0., 1., 2.],\n",
              "        [0., 0., 1.,  ..., 0., 1., 2.],\n",
              "        ...,\n",
              "        [0., 0., 0.,  ..., 0., 1., 1.],\n",
              "        [0., 0., 0.,  ..., 0., 2., 1.],\n",
              "        [0., 0., 0.,  ..., 1., 2., 0.]])"
            ]
          },
          "metadata": {},
          "execution_count": 130
        }
      ]
    },
    {
      "cell_type": "code",
      "source": [
        "class GraphConvolution(torch.nn.Module):\n",
        "    def __init__(self, in_features, out_features):\n",
        "        super(GraphConvolution, self).__init__()\n",
        "        self.weight = torch.nn.Parameter(torch.FloatTensor(in_features, out_features))\n",
        "        self.bias = torch.nn.Parameter(torch.FloatTensor(out_features))\n",
        "        self.reset_parameters()\n",
        "\n",
        "    def reset_parameters(self):\n",
        "        torch.nn.init.xavier_uniform_(self.weight)\n",
        "        torch.nn.init.zeros_(self.bias)\n",
        "\n",
        "    def forward(self, x, adj):\n",
        "        support = torch.mm(x, self.weight)\n",
        "        output = torch.spmm(adj, support)\n",
        "        output = output + self.bias\n",
        "        return output\n",
        "\n",
        "class GCN(torch.nn.Module):\n",
        "    def __init__(self):\n",
        "        super(GCN, self).__init__()\n",
        "        self.conv1 = GraphConvolution(36, 8)\n",
        "        self.conv2 = GraphConvolution(8, 8)\n",
        "        self.conv3 = GraphConvolution(8, 2)\n",
        "        self.relu = torch.nn.ReLU()\n",
        "        self.dropout = torch.nn.Dropout(p=0.5)\n",
        "        self.classifier = Linear(2, 2)\n",
        "        #self.fc1 = torch.nn.Linear(2,)\n",
        "\n",
        "    def forward(self, x, adj):\n",
        "        x = self.conv1(x, adj)\n",
        "        x = self.relu(x)\n",
        "        x = self.dropout(x)\n",
        "        x = self.conv2(x, adj)\n",
        "        x = self.relu(x)\n",
        "        x = self.dropout(x)\n",
        "        x = self.conv3(x, adj)\n",
        "        return self.classifier(x)"
      ],
      "metadata": {
        "id": "Z3fugPwEEyrE"
      },
      "execution_count": null,
      "outputs": []
    },
    {
      "cell_type": "code",
      "source": [
        "L = torch.FloatTensor(L)\n",
        "X_2 = torch.FloatTensor(X_2)\n",
        "y_train = torch.FloatTensor(y_train).int()\n",
        "X_train1 = torch.FloatTensor(X_train).int()"
      ],
      "metadata": {
        "id": "mxe1eugsE_S_"
      },
      "execution_count": null,
      "outputs": []
    },
    {
      "cell_type": "code",
      "source": [
        "device = torch.device(\"cuda\" if torch.cuda.is_available() else \"cpu\")\n",
        "model = GCN().to(device)\n",
        "optimizer = torch.optim.Adam(model.parameters(), lr=0.01)\n",
        "loss_fn = torch.nn.CrossEntropyLoss()\n",
        "\n",
        "model.train()\n",
        "X_2 = X_2.to(device)\n",
        "L = L.to(device)\n",
        "train_loss = []\n",
        "for epoch in range(5000):\n",
        "    optimizer.zero_grad()\n",
        "    out = model(X_2, L)\n",
        "    loss = loss_fn(out[X_train1].squeeze(), y_train.type(torch.LongTensor).to(device))\n",
        "    loss.backward()\n",
        "    optimizer.step()\n",
        "    train_loss.append(float(loss))\n",
        "    print(loss)"
      ],
      "metadata": {
        "id": "iZSf9uCxHNID"
      },
      "execution_count": null,
      "outputs": []
    },
    {
      "cell_type": "code",
      "source": [
        "preds = model(X_2, L).argmax(dim=1)\n",
        "preds"
      ],
      "metadata": {
        "id": "n6kPzzPBHRnR",
        "colab": {
          "base_uri": "https://localhost:8080/"
        },
        "outputId": "622f2914-e220-4429-b580-c1c5e04fa69c"
      },
      "execution_count": null,
      "outputs": [
        {
          "output_type": "execute_result",
          "data": {
            "text/plain": [
              "tensor([1, 1, 1, 1, 1, 1, 1, 1, 0, 1, 1, 1, 0, 1, 0, 1, 0, 0, 0, 0, 0, 0, 0, 0,\n",
              "        0, 0, 0, 0, 0, 0, 0, 0, 0, 0])"
            ]
          },
          "metadata": {},
          "execution_count": 136
        }
      ]
    },
    {
      "cell_type": "code",
      "source": [
        "y_test"
      ],
      "metadata": {
        "colab": {
          "base_uri": "https://localhost:8080/"
        },
        "id": "exyTkzlObEAd",
        "outputId": "e97d152f-9dfb-4b8a-f3e4-373c3b07a431"
      },
      "execution_count": null,
      "outputs": [
        {
          "output_type": "execute_result",
          "data": {
            "text/plain": [
              "array([1, 1, 1, 1, 1, 1, 1, 1, 1, 1, 1, 1, 1, 1, 1, 0, 0, 0, 0, 0, 0, 1,\n",
              "       0, 0, 0, 0, 0, 0, 0, 0, 0, 0])"
            ]
          },
          "metadata": {},
          "execution_count": 137
        }
      ]
    },
    {
      "cell_type": "code",
      "source": [
        "L"
      ],
      "metadata": {
        "colab": {
          "base_uri": "https://localhost:8080/"
        },
        "id": "4xlXvfg2IxLk",
        "outputId": "bb003f7e-0a73-4538-ecbc-93076fd945db"
      },
      "execution_count": null,
      "outputs": [
        {
          "output_type": "execute_result",
          "data": {
            "text/plain": [
              "tensor([[1.0000, 0.0833, 0.0791,  ..., 0.0000, 0.0000, 0.0000],\n",
              "        [0.0833, 1.0000, 0.1054,  ..., 0.0000, 0.0000, 0.0000],\n",
              "        [0.0791, 0.1054, 1.0000,  ..., 0.0000, 0.0000, 0.0000],\n",
              "        ...,\n",
              "        [0.0000, 0.0000, 0.0000,  ..., 1.0000, 0.0000, 0.3536],\n",
              "        [0.0000, 0.0000, 0.0000,  ..., 0.0000, 1.0000, 0.0000],\n",
              "        [0.0000, 0.0000, 0.0000,  ..., 0.3536, 0.0000, 1.0000]])"
            ]
          },
          "metadata": {},
          "execution_count": 138
        }
      ]
    },
    {
      "cell_type": "code",
      "source": [
        "preds = preds[X_test.squeeze()].cpu().detach()\n",
        "len(preds)"
      ],
      "metadata": {
        "id": "BQVFZWvLHdGZ",
        "colab": {
          "base_uri": "https://localhost:8080/"
        },
        "outputId": "a1e35a2d-2f17-4e7a-8217-9d525365ecc1"
      },
      "execution_count": null,
      "outputs": [
        {
          "output_type": "execute_result",
          "data": {
            "text/plain": [
              "32"
            ]
          },
          "metadata": {},
          "execution_count": 139
        }
      ]
    },
    {
      "cell_type": "code",
      "source": [
        "y_test = torch.FloatTensor(y_test)"
      ],
      "metadata": {
        "id": "7u5kkJRfHfPf"
      },
      "execution_count": null,
      "outputs": []
    },
    {
      "cell_type": "code",
      "source": [
        "test_correct = y_test == preds[X_test.squeeze()].cpu().detach()"
      ],
      "metadata": {
        "id": "ZV2OjsHwasy1"
      },
      "execution_count": null,
      "outputs": []
    },
    {
      "cell_type": "code",
      "source": [
        "test_acc = int(test_correct.sum()) / len(X_test)\n",
        "test_acc"
      ],
      "metadata": {
        "id": "ZNiId3ycHlrS",
        "colab": {
          "base_uri": "https://localhost:8080/"
        },
        "outputId": "ff1f70aa-a9eb-4bf4-8ccc-24a7743806d5"
      },
      "execution_count": null,
      "outputs": [
        {
          "output_type": "execute_result",
          "data": {
            "text/plain": [
              "0.81"
            ]
          },
          "metadata": {},
          "execution_count": 159
        }
      ]
    },
    {
      "cell_type": "code",
      "source": [
        "plt.plot(train_loss)"
      ],
      "metadata": {
        "id": "_gtPn4JaHnQb",
        "colab": {
          "base_uri": "https://localhost:8080/",
          "height": 448
        },
        "outputId": "a4ac1564-8c41-40b4-dd85-adff3eb63e15"
      },
      "execution_count": null,
      "outputs": [
        {
          "output_type": "execute_result",
          "data": {
            "text/plain": [
              "[<matplotlib.lines.Line2D at 0x7f8d1ae4c460>]"
            ]
          },
          "metadata": {},
          "execution_count": 142
        },
        {
          "output_type": "display_data",
          "data": {
            "text/plain": [
              "<Figure size 640x480 with 1 Axes>"
            ],
            "image/png": "[encoded data removed]"
          },
          "metadata": {}
        }
      ]
    },
    {
      "cell_type": "code",
      "source": [
        "class GraphAttention(torch.nn.Module):\n",
        "    def __init__(self, in_features, out_features):\n",
        "        super(GraphAttention, self).__init__()\n",
        "        self.weight = torch.nn.Parameter(torch.FloatTensor(in_features, out_features))\n",
        "        self.bias = torch.nn.Parameter(torch.FloatTensor(out_features))\n",
        "        self.a = torch.nn.Parameter(torch.FloatTensor(2*out_features, 1))\n",
        "        self.reset_parameters()\n",
        "\n",
        "    def reset_parameters(self):\n",
        "        torch.nn.init.xavier_uniform_(self.weight)\n",
        "        torch.nn.init.zeros_(self.bias)\n",
        "        torch.nn.init.xavier_uniform_(self.a)\n",
        "\n",
        "    def forward(self, x, adj):\n",
        "        support = torch.mm(x, self.weight)\n",
        "        h = support\n",
        "        # Compute attention coefficients\n",
        "        N = h.size()[0]\n",
        "        a_input = torch.cat([h.repeat(1, N).view(N*N, -1), h.repeat(N, 1)], dim=1).view(N, -1, 2*h.size()[-1])\n",
        "        e = torch.matmul(a_input, self.a).squeeze(2)\n",
        "        attention = torch.nn.functional.softmax(torch.nn.functional.leaky_relu(e), dim=1)\n",
        "        # Apply attention coefficients\n",
        "        h_prime = torch.matmul(attention, h)\n",
        "        output = torch.spmm(adj, h_prime)\n",
        "        output = output + self.bias\n",
        "        return output\n"
      ],
      "metadata": {
        "id": "rAZT-ZnvJFF3"
      },
      "execution_count": null,
      "outputs": []
    },
    {
      "cell_type": "code",
      "source": [
        "class GAT(torch.nn.Module):\n",
        "    def __init__(self):\n",
        "        super(GAT, self).__init__()\n",
        "        self.att1 = GraphAttention(36, 8)\n",
        "        self.att2 = GraphAttention(8, 8)\n",
        "        self.att3 = GraphAttention(8, 2)\n",
        "        self.relu = torch.nn.ReLU()\n",
        "        self.dropout = torch.nn.Dropout(p=0.5)\n",
        "        self.classifier = Linear(2, 2)\n",
        "\n",
        "    def forward(self, x, adj):\n",
        "        x = self.att1(x, adj)\n",
        "        x = self.relu(x)\n",
        "        x = self.dropout(x)\n",
        "        x = self.att2(x, adj)\n",
        "        x = self.relu(x)\n",
        "        x = self.dropout(x)\n",
        "        x = self.att3(x, adj)\n",
        "        return self.classifier(x)"
      ],
      "metadata": {
        "id": "0rScpzZ7YeAs"
      },
      "execution_count": null,
      "outputs": []
    },
    {
      "cell_type": "code",
      "source": [
        "device = torch.device(\"cuda\" if torch.cuda.is_available() else \"cpu\")\n",
        "model = GAT().to(device)\n",
        "optimizer = torch.optim.Adam(model.parameters(), lr=0.01)\n",
        "loss_fn = torch.nn.CrossEntropyLoss()\n",
        "\n",
        "model.train()\n",
        "X_2 = X_2.to(device)\n",
        "L = L.to(device)\n",
        "train_loss = []\n",
        "for epoch in range(5000):\n",
        "    optimizer.zero_grad()\n",
        "    out = model(X_2, L)\n",
        "    loss = loss_fn(out[X_train1].squeeze(), y_train.type(torch.LongTensor).to(device))\n",
        "    loss.backward()\n",
        "    optimizer.step()\n",
        "    train_loss.append(float(loss))\n",
        "    print(loss)"
      ],
      "metadata": {
        "id": "M6RXhR9EYuCm"
      },
      "execution_count": null,
      "outputs": []
    },
    {
      "cell_type": "code",
      "source": [
        "preds = model(X_2, L).argmax(dim=1)"
      ],
      "metadata": {
        "id": "p6KZYFSFba9x"
      },
      "execution_count": null,
      "outputs": []
    },
    {
      "cell_type": "code",
      "source": [
        "preds"
      ],
      "metadata": {
        "id": "jSg0eKzZbSLW",
        "colab": {
          "base_uri": "https://localhost:8080/"
        },
        "outputId": "cca8763a-58a3-4dc2-ce1e-41db16076ba1"
      },
      "execution_count": null,
      "outputs": [
        {
          "output_type": "execute_result",
          "data": {
            "text/plain": [
              "tensor([1, 1, 1, 1, 1, 1, 1, 1, 1, 1, 0, 0, 1, 0, 0, 0, 1, 1, 0, 1, 1, 1, 1, 1,\n",
              "        0, 0, 0, 0, 0, 1, 1, 1, 1, 1])"
            ]
          },
          "metadata": {},
          "execution_count": 148
        }
      ]
    },
    {
      "cell_type": "code",
      "source": [
        "preds = preds[X_test.squeeze()].cpu().detach()\n"
      ],
      "metadata": {
        "id": "9hInZUCObdMa"
      },
      "execution_count": null,
      "outputs": []
    },
    {
      "cell_type": "code",
      "source": [
        "len(X_test)"
      ],
      "metadata": {
        "id": "dRCIPLyMbvW9",
        "colab": {
          "base_uri": "https://localhost:8080/"
        },
        "outputId": "f3ed2c66-6c77-4122-fce9-f05d3760792e"
      },
      "execution_count": null,
      "outputs": [
        {
          "output_type": "execute_result",
          "data": {
            "text/plain": [
              "32"
            ]
          },
          "metadata": {},
          "execution_count": 150
        }
      ]
    },
    {
      "cell_type": "code",
      "source": [
        "plt.plot(train_loss)"
      ],
      "metadata": {
        "colab": {
          "base_uri": "https://localhost:8080/",
          "height": 448
        },
        "id": "EKD4kLL-ht6U",
        "outputId": "b04c4ce3-0a94-4c66-f4f7-edd0e8017ba5"
      },
      "execution_count": null,
      "outputs": [
        {
          "output_type": "execute_result",
          "data": {
            "text/plain": [
              "[<matplotlib.lines.Line2D at 0x7f8d1a69d790>]"
            ]
          },
          "metadata": {},
          "execution_count": 162
        },
        {
          "output_type": "display_data",
          "data": {
            "text/plain": [
              "<Figure size 640x480 with 1 Axes>"
            ],
            "image/png": "[encoded data removed]"
          },
          "metadata": {}
        }
      ]
    },
    {
      "cell_type": "code",
      "source": [],
      "metadata": {
        "id": "zX-T-jR6iMRU"
      },
      "execution_count": null,
      "outputs": []
    }
  ]
}