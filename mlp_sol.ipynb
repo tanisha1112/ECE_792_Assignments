{
  "nbformat": 4,
  "nbformat_minor": 0,
  "metadata": {
    "colab": {
      "provenance": []
    },
    "kernelspec": {
      "name": "python3",
      "display_name": "Python 3"
    },
    "language_info": {
      "name": "python"
    }
  },
  "cells": [
    {
      "cell_type": "markdown",
      "source": [
        "Mount Google Drive"
      ],
      "metadata": {
        "id": "iY-Uro05RQ4N"
      }
    },
    {
      "cell_type": "code",
      "execution_count": null,
      "metadata": {
        "colab": {
          "base_uri": "https://localhost:8080/"
        },
        "id": "a2oLdBaFn61v",
        "outputId": "7e961585-6c45-4d0c-ad04-7d75b872f9af"
      },
      "outputs": [
        {
          "output_type": "stream",
          "name": "stdout",
          "text": [
            "Drive already mounted at /content/drive; to attempt to forcibly remount, call drive.mount(\"/content/drive\", force_remount=True).\n"
          ]
        }
      ],
      "source": [
        "from google.colab import drive\n",
        "drive.mount('/content/drive')"
      ]
    },
    {
      "cell_type": "markdown",
      "source": [
        "Import all necessary Libraries"
      ],
      "metadata": {
        "id": "bfFsDdT8RUu1"
      }
    },
    {
      "cell_type": "code",
      "source": [
        "import numpy as np\n",
        "import pandas as pd\n",
        "import os\n",
        "import time\n",
        "import sklearn\n",
        "import matplotlib.pyplot as plt\n",
        "%matplotlib inline \n",
        "\n",
        "import torch\n",
        "import torch.nn as nn\n",
        "import torch.nn.functional as F\n",
        "from torch.utils.data import DataLoader\n",
        "from torchvision import datasets,transforms\n",
        "torch.manual_seed(101)"
      ],
      "metadata": {
        "colab": {
          "base_uri": "https://localhost:8080/"
        },
        "id": "nigzYNuYoHsk",
        "outputId": "93400591-2128-4cef-f247-56080d1df088"
      },
      "execution_count": null,
      "outputs": [
        {
          "output_type": "execute_result",
          "data": {
            "text/plain": [
              "<torch._C.Generator at 0x7f14162a9b90>"
            ]
          },
          "metadata": {},
          "execution_count": 33
        }
      ]
    },
    {
      "cell_type": "markdown",
      "source": [
        "Get MNIST train and test datasets:\n",
        "\n",
        "Below commands download and store the MNIST dataset automatically and also normalize the images. The commands \n",
        "also convert them to pytorch tensors and shuffle all the samples.\n",
        "\n",
        "If you have downloaded data manually, then upon loading you will find that images are comprised of pixels\n",
        "represented by 8-bits. So, the brightness of a pixel is represented by a number ranging from 0 (implying completely black pixel) \n",
        "to 2^8-1 = 255 (implying completely white pixel). You can normalize the images in that case by simply dividing them by 255 "
      ],
      "metadata": {
        "id": "Rz8c66whTE5j"
      }
    },
    {
      "cell_type": "code",
      "source": [
        "Transform = transforms.ToTensor()\n",
        "mnist_trainset = datasets.MNIST(\"../MyDrive/Advanced_ML/data\", train=True, download=True, transform=Transform)\n",
        "mnist_testset = datasets.MNIST(\"../MyDrive/Advanced_ML/data\", train=False, download=True, transform=Transform)"
      ],
      "metadata": {
        "id": "lDUzO2YkpfWc"
      },
      "execution_count": null,
      "outputs": []
    },
    {
      "cell_type": "code",
      "source": [
        "mnist_trainset"
      ],
      "metadata": {
        "colab": {
          "base_uri": "https://localhost:8080/"
        },
        "id": "S6nT3cgSqUNP",
        "outputId": "17a2f0db-6bce-487e-a4b3-7fb7bb024a8a"
      },
      "execution_count": null,
      "outputs": [
        {
          "output_type": "execute_result",
          "data": {
            "text/plain": [
              "Dataset MNIST\n",
              "    Number of datapoints: 60000\n",
              "    Root location: ../MyDrive/Advanced_ML/data\n",
              "    Split: Train\n",
              "    StandardTransform\n",
              "Transform: ToTensor()"
            ]
          },
          "metadata": {},
          "execution_count": 35
        }
      ]
    },
    {
      "cell_type": "code",
      "source": [
        "mnist_testset"
      ],
      "metadata": {
        "colab": {
          "base_uri": "https://localhost:8080/"
        },
        "id": "Yg3zE7hAsrik",
        "outputId": "95f4e4fe-887f-4d49-c000-400e5f62ef39"
      },
      "execution_count": null,
      "outputs": [
        {
          "output_type": "execute_result",
          "data": {
            "text/plain": [
              "Dataset MNIST\n",
              "    Number of datapoints: 10000\n",
              "    Root location: ../MyDrive/Advanced_ML/data\n",
              "    Split: Test\n",
              "    StandardTransform\n",
              "Transform: ToTensor()"
            ]
          },
          "metadata": {},
          "execution_count": 36
        }
      ]
    },
    {
      "cell_type": "markdown",
      "source": [
        "Visualizing an example:\n",
        "\n",
        "As shown below the pixels are normalized.Normalizing the data across all the dimensions (28x28=784 in this case) is really necessary.\n",
        "This ensures that a single or a few dimensions don't significantly affect your training steps.\n",
        "Normalization also increases stability of the training procedure.\n",
        "\n",
        "Similarly, shuffling of data is also necessary.\n",
        "Shuffling the data serves the purpose of reducing variance and making sure that models remain generalized and overfit less."
      ],
      "metadata": {
        "id": "Su3sSBaBTBkw"
      }
    },
    {
      "cell_type": "code",
      "source": [
        "train_image,train_label = mnist_trainset[4]\n",
        "plt.imshow(train_image.reshape((28,28)),cmap=\"gray\")\n",
        "\n",
        "train_image\n"
      ],
      "metadata": {
        "colab": {
          "base_uri": "https://localhost:8080/",
          "height": 1000
        },
        "id": "fRmNHxyBsv3w",
        "outputId": "d99e6dee-0d60-41c3-c1de-d1a5f1e2c19c"
      },
      "execution_count": null,
      "outputs": [
        {
          "output_type": "execute_result",
          "data": {
            "text/plain": [
              "tensor([[[0.0000, 0.0000, 0.0000, 0.0000, 0.0000, 0.0000, 0.0000, 0.0000,\n",
              "          0.0000, 0.0000, 0.0000, 0.0000, 0.0000, 0.0000, 0.0000, 0.0000,\n",
              "          0.0000, 0.0000, 0.0000, 0.0000, 0.0000, 0.0000, 0.0000, 0.0000,\n",
              "          0.0000, 0.0000, 0.0000, 0.0000],\n",
              "         [0.0000, 0.0000, 0.0000, 0.0000, 0.0000, 0.0000, 0.0000, 0.0000,\n",
              "          0.0000, 0.0000, 0.0000, 0.0000, 0.0000, 0.0000, 0.0000, 0.0000,\n",
              "          0.0000, 0.0000, 0.0000, 0.0000, 0.0000, 0.0000, 0.0000, 0.0000,\n",
              "          0.0000, 0.0000, 0.0000, 0.0000],\n",
              "         [0.0000, 0.0000, 0.0000, 0.0000, 0.0000, 0.0000, 0.0000, 0.0000,\n",
              "          0.0000, 0.0000, 0.0000, 0.0000, 0.0000, 0.0000, 0.0000, 0.0000,\n",
              "          0.0000, 0.0000, 0.0000, 0.0000, 0.0000, 0.0000, 0.0000, 0.0000,\n",
              "          0.0000, 0.0000, 0.0000, 0.0000],\n",
              "         [0.0000, 0.0000, 0.0000, 0.0000, 0.0000, 0.0000, 0.0000, 0.0000,\n",
              "          0.0000, 0.0000, 0.0000, 0.0000, 0.0000, 0.0000, 0.0000, 0.0000,\n",
              "          0.0000, 0.0000, 0.0000, 0.0000, 0.0000, 0.0000, 0.0000, 0.0000,\n",
              "          0.0000, 0.0000, 0.0000, 0.0000],\n",
              "         [0.0000, 0.0000, 0.0000, 0.0000, 0.0000, 0.0000, 0.0000, 0.0000,\n",
              "          0.0000, 0.0000, 0.0000, 0.0000, 0.0000, 0.0000, 0.0000, 0.0000,\n",
              "          0.0000, 0.0000, 0.0000, 0.0000, 0.0000, 0.0000, 0.0000, 0.0000,\n",
              "          0.0000, 0.0000, 0.0000, 0.0000],\n",
              "         [0.0000, 0.0000, 0.0000, 0.0000, 0.0000, 0.0000, 0.0000, 0.0000,\n",
              "          0.0000, 0.0000, 0.0000, 0.0000, 0.0000, 0.0000, 0.0000, 0.0000,\n",
              "          0.0000, 0.0000, 0.0000, 0.0000, 0.0000, 0.0000, 0.0000, 0.0000,\n",
              "          0.0000, 0.0000, 0.0000, 0.0000],\n",
              "         [0.0000, 0.0000, 0.0000, 0.0000, 0.0000, 0.0000, 0.0000, 0.0000,\n",
              "          0.0000, 0.0000, 0.0000, 0.0000, 0.0000, 0.0000, 0.0000, 0.0000,\n",
              "          0.0000, 0.0000, 0.0000, 0.0000, 0.0000, 0.0000, 0.0000, 0.0000,\n",
              "          0.0000, 0.0000, 0.0000, 0.0000],\n",
              "         [0.0000, 0.0000, 0.0000, 0.0000, 0.0000, 0.0000, 0.0000, 0.0000,\n",
              "          0.0000, 0.0000, 0.0000, 0.0000, 0.2157, 0.5804, 0.8235, 0.9922,\n",
              "          0.9922, 0.4431, 0.3412, 0.5804, 0.2157, 0.0000, 0.0000, 0.0000,\n",
              "          0.0000, 0.0000, 0.0000, 0.0000],\n",
              "         [0.0000, 0.0000, 0.0000, 0.0000, 0.0000, 0.0000, 0.0000, 0.0000,\n",
              "          0.0000, 0.0000, 0.0000, 0.3412, 0.9098, 0.9882, 0.9922, 0.7412,\n",
              "          0.8235, 0.9882, 0.9882, 0.9922, 0.6588, 0.0000, 0.0000, 0.0000,\n",
              "          0.0000, 0.0000, 0.0000, 0.0000],\n",
              "         [0.0000, 0.0000, 0.0000, 0.0000, 0.0000, 0.0000, 0.0000, 0.0000,\n",
              "          0.0000, 0.0157, 0.2235, 0.9490, 0.9882, 0.7451, 0.2549, 0.0196,\n",
              "          0.0471, 0.7137, 0.9882, 0.9922, 0.4549, 0.0000, 0.0000, 0.0000,\n",
              "          0.0000, 0.0000, 0.0000, 0.0000],\n",
              "         [0.0000, 0.0000, 0.0000, 0.0000, 0.0000, 0.0000, 0.0000, 0.0000,\n",
              "          0.0000, 0.3765, 0.9882, 0.9882, 0.7176, 0.0549, 0.0000, 0.0000,\n",
              "          0.3608, 0.9882, 0.9882, 0.8824, 0.0824, 0.0000, 0.0000, 0.0000,\n",
              "          0.0000, 0.0000, 0.0000, 0.0000],\n",
              "         [0.0000, 0.0000, 0.0000, 0.0000, 0.0000, 0.0000, 0.0000, 0.0000,\n",
              "          0.5176, 0.9922, 0.9882, 0.5725, 0.0549, 0.0000, 0.0000, 0.0000,\n",
              "          0.8431, 0.9882, 0.9882, 0.3098, 0.0000, 0.0000, 0.0000, 0.0000,\n",
              "          0.0000, 0.0000, 0.0000, 0.0000],\n",
              "         [0.0000, 0.0000, 0.0000, 0.0000, 0.0000, 0.0000, 0.0000, 0.4941,\n",
              "          0.9922, 0.9686, 0.6902, 0.0353, 0.0000, 0.0000, 0.0314, 0.3059,\n",
              "          0.9608, 0.9922, 0.5059, 0.0000, 0.0000, 0.0000, 0.0000, 0.0000,\n",
              "          0.0000, 0.0000, 0.0000, 0.0000],\n",
              "         [0.0000, 0.0000, 0.0000, 0.0000, 0.0000, 0.0000, 0.0627, 0.9098,\n",
              "          0.9882, 0.6902, 0.0000, 0.0000, 0.0000, 0.1412, 0.7882, 0.9882,\n",
              "          0.9882, 0.6627, 0.0431, 0.0000, 0.0000, 0.0000, 0.0000, 0.0000,\n",
              "          0.0000, 0.0000, 0.0000, 0.0000],\n",
              "         [0.0000, 0.0000, 0.0000, 0.0000, 0.0000, 0.0000, 0.0863, 0.9882,\n",
              "          0.9882, 0.1176, 0.0863, 0.4667, 0.7725, 0.9451, 0.9922, 0.9882,\n",
              "          0.9843, 0.3020, 0.0000, 0.0000, 0.0000, 0.0000, 0.0000, 0.0000,\n",
              "          0.0000, 0.0000, 0.0000, 0.0000],\n",
              "         [0.0000, 0.0000, 0.0000, 0.0000, 0.0000, 0.0000, 0.0627, 0.9059,\n",
              "          0.9882, 0.9922, 0.9882, 0.9882, 0.9882, 0.8863, 0.8902, 0.9882,\n",
              "          0.9059, 0.0000, 0.0000, 0.0000, 0.0000, 0.0000, 0.0000, 0.0000,\n",
              "          0.0000, 0.0000, 0.0000, 0.0000],\n",
              "         [0.0000, 0.0000, 0.0000, 0.0000, 0.0000, 0.0000, 0.0000, 0.2157,\n",
              "          0.9216, 0.9922, 0.8510, 0.5412, 0.1647, 0.0941, 0.7529, 0.9882,\n",
              "          0.5608, 0.0000, 0.0000, 0.0000, 0.0000, 0.0000, 0.0000, 0.0000,\n",
              "          0.0000, 0.0000, 0.0000, 0.0000],\n",
              "         [0.0000, 0.0000, 0.0000, 0.0000, 0.0000, 0.0000, 0.0000, 0.0000,\n",
              "          0.0000, 0.0000, 0.0000, 0.0000, 0.0000, 0.2431, 1.0000, 0.9922,\n",
              "          0.4275, 0.0000, 0.0000, 0.0000, 0.0000, 0.0000, 0.0000, 0.0000,\n",
              "          0.0000, 0.0000, 0.0000, 0.0000],\n",
              "         [0.0000, 0.0000, 0.0000, 0.0000, 0.0000, 0.0000, 0.0000, 0.0000,\n",
              "          0.0000, 0.0000, 0.0000, 0.0000, 0.0000, 0.2784, 0.9922, 0.9882,\n",
              "          0.0824, 0.0000, 0.0000, 0.0000, 0.0000, 0.0000, 0.0000, 0.0000,\n",
              "          0.0000, 0.0000, 0.0000, 0.0000],\n",
              "         [0.0000, 0.0000, 0.0000, 0.0000, 0.0000, 0.0000, 0.0000, 0.0000,\n",
              "          0.0000, 0.0000, 0.0000, 0.0000, 0.0000, 0.0000, 0.9922, 0.9882,\n",
              "          0.0824, 0.0000, 0.0000, 0.0000, 0.0000, 0.0000, 0.0000, 0.0000,\n",
              "          0.0000, 0.0000, 0.0000, 0.0000],\n",
              "         [0.0000, 0.0000, 0.0000, 0.0000, 0.0000, 0.0000, 0.0000, 0.0000,\n",
              "          0.0000, 0.0000, 0.0000, 0.0000, 0.0000, 0.2784, 0.9922, 0.9882,\n",
              "          0.0824, 0.0000, 0.0000, 0.0000, 0.0000, 0.0000, 0.0000, 0.0000,\n",
              "          0.0000, 0.0000, 0.0000, 0.0000],\n",
              "         [0.0000, 0.0000, 0.0000, 0.0000, 0.0000, 0.0000, 0.0000, 0.0000,\n",
              "          0.0000, 0.0000, 0.0000, 0.0000, 0.0000, 0.4157, 0.9922, 0.9882,\n",
              "          0.0824, 0.0000, 0.0000, 0.0000, 0.0000, 0.0000, 0.0000, 0.0000,\n",
              "          0.0000, 0.0000, 0.0000, 0.0000],\n",
              "         [0.0000, 0.0000, 0.0000, 0.0000, 0.0000, 0.0000, 0.0000, 0.0000,\n",
              "          0.0000, 0.0000, 0.0000, 0.0000, 0.0000, 0.1765, 1.0000, 0.9922,\n",
              "          0.0824, 0.0000, 0.0000, 0.0000, 0.0000, 0.0000, 0.0000, 0.0000,\n",
              "          0.0000, 0.0000, 0.0000, 0.0000],\n",
              "         [0.0000, 0.0000, 0.0000, 0.0000, 0.0000, 0.0000, 0.0000, 0.0000,\n",
              "          0.0000, 0.0000, 0.0000, 0.0000, 0.0000, 0.0000, 0.8549, 0.9882,\n",
              "          0.2196, 0.0000, 0.0000, 0.0000, 0.0000, 0.0000, 0.0000, 0.0000,\n",
              "          0.0000, 0.0000, 0.0000, 0.0000],\n",
              "         [0.0000, 0.0000, 0.0000, 0.0000, 0.0000, 0.0000, 0.0000, 0.0000,\n",
              "          0.0000, 0.0000, 0.0000, 0.0000, 0.0000, 0.0000, 0.3765, 0.9882,\n",
              "          0.7412, 0.1647, 0.0000, 0.0000, 0.0000, 0.0000, 0.0000, 0.0000,\n",
              "          0.0000, 0.0000, 0.0000, 0.0000],\n",
              "         [0.0000, 0.0000, 0.0000, 0.0000, 0.0000, 0.0000, 0.0000, 0.0000,\n",
              "          0.0000, 0.0000, 0.0000, 0.0000, 0.0000, 0.0000, 0.0549, 0.7216,\n",
              "          0.9882, 0.6667, 0.0431, 0.0000, 0.0000, 0.0000, 0.0000, 0.0000,\n",
              "          0.0000, 0.0000, 0.0000, 0.0000],\n",
              "         [0.0000, 0.0000, 0.0000, 0.0000, 0.0000, 0.0000, 0.0000, 0.0000,\n",
              "          0.0000, 0.0000, 0.0000, 0.0000, 0.0000, 0.0000, 0.0000, 0.0549,\n",
              "          0.5765, 0.9882, 0.1647, 0.0000, 0.0000, 0.0000, 0.0000, 0.0000,\n",
              "          0.0000, 0.0000, 0.0000, 0.0000],\n",
              "         [0.0000, 0.0000, 0.0000, 0.0000, 0.0000, 0.0000, 0.0000, 0.0000,\n",
              "          0.0000, 0.0000, 0.0000, 0.0000, 0.0000, 0.0000, 0.0000, 0.0000,\n",
              "          0.0000, 0.0000, 0.0000, 0.0000, 0.0000, 0.0000, 0.0000, 0.0000,\n",
              "          0.0000, 0.0000, 0.0000, 0.0000]]])"
            ]
          },
          "metadata": {},
          "execution_count": 37
        },
        {
          "output_type": "display_data",
          "data": {
            "text/plain": [
              "<Figure size 432x288 with 1 Axes>"
            ],
            "image/png": "[encoded data removed]"
          },
          "metadata": {
            "needs_background": "light"
          }
        }
      ]
    },
    {
      "cell_type": "markdown",
      "source": [
        "Initialize train and test data loaders:\n",
        "\n",
        "DataLoader function creates mini-batches of relevant batch size from the training and test-sets. It creates an iterator, a data structure (https://www.w3schools.com/python/python_iterators.asp) from which mini-batches can be yielded one after another.\n",
        "Shuffling of data is also necessary.Shuffling data serves the purpose of reducing variance and making sure that models remain general and overfit less. "
      ],
      "metadata": {
        "id": "vzlaZmGmTLu6"
      }
    },
    {
      "cell_type": "code",
      "source": [
        "BATCH_SIZE = 1000\n",
        "TEST_BATCH_SIZE = 10000\n",
        "train_data_loader = DataLoader(mnist_trainset,batch_size = BATCH_SIZE,shuffle = True)\n",
        "test_data_loader = DataLoader(mnist_testset,batch_size = TEST_BATCH_SIZE,shuffle = False)"
      ],
      "metadata": {
        "id": "W3y-9Xm7uGDK"
      },
      "execution_count": null,
      "outputs": []
    },
    {
      "cell_type": "markdown",
      "source": [
        "Multi layer Perceptron model with 2 hidden layers\n",
        "\n",
        "Here we are defining our Multi-Layer Perceptron as a class called MLP. The MLP class is declared as a child class of the nn.Module base class. MLP inherits many of the attributes and methods from nn.Module through the statement super().__init__()\n",
        "\n",
        "Our MLP has 2 hidden layers, with the size of layers being 784, 110, 74 and 10 respectively starting from the input layer.\n",
        "All layers except the last layer use ReLU as non-linear activation.\n",
        "\n",
        "The output layer consists of a log softmax operation. Softmax is a mathematical function which takes a vector of N (10 in our case) real numbers as input and converts it into a probability distribution. It is a generalized form of logistic function of N probabilities proportional to the exponential of input numbers, that is, before applying softmax, the vector components can be negative or greater than 0.\n",
        "But after applying softmax, each component will be in the interval [0,1], and the components will add up to 1, so that we can interpret \n",
        "these values as probabilities.\n",
        "\"The term softmax is used because this activation function represents a smooth version of the winner-takes-all activation model in \n",
        "which the unit with the largest input has output +1 while all other units have output 0.\"\n",
        "As the numbers are too big the exponents will probably blow up (computer cannot handle such big numbers) giving Nan as output. Also,\n",
        "dividing by large numbers can be numerically unstable.Log softmax is advantageous over softmax for improved numerical performance \n",
        "and gradient optimization.\n",
        "Source: https://medium.com/@AbhiramiVS/softmax-vs-logsoftmax-eb94254445a2"
      ],
      "metadata": {
        "id": "w2L1OBHYTP8u"
      }
    },
    {
      "cell_type": "code",
      "source": [
        "class MLP(nn.Module):\n",
        "    def __init__(self,n_features = 784,n_classes=10,layers=[110,74]):\n",
        "        super().__init__()\n",
        "        self.fullconnected1 = nn.Linear(n_features,layers[0])\n",
        "        self.fullconnected2 = nn.Linear(layers[0],layers[1])\n",
        "        self.fullconnected3 = nn.Linear(layers[1],n_classes)\n",
        "    def forward(self,x):\n",
        "        x = F.relu(self.fullconnected1(x))\n",
        "        x = F.relu(self.fullconnected2(x))\n",
        "        x = self.fullconnected3(x)\n",
        "        return F.log_softmax(x,dim=1)"
      ],
      "metadata": {
        "id": "C2YdOiQ7vGGL"
      },
      "execution_count": null,
      "outputs": []
    },
    {
      "cell_type": "code",
      "source": [
        "'''\n",
        "Instantiate from MLP class\n",
        "'''\n",
        "mlp_model = MLP()\n",
        "print(mlp_model)"
      ],
      "metadata": {
        "colab": {
          "base_uri": "https://localhost:8080/"
        },
        "id": "-NEL0hbOByAr",
        "outputId": "f5b76b1f-ce13-411f-a6c2-48c81e2e12d0"
      },
      "execution_count": null,
      "outputs": [
        {
          "output_type": "stream",
          "name": "stdout",
          "text": [
            "MLP(\n",
            "  (fullconnected1): Linear(in_features=784, out_features=110, bias=True)\n",
            "  (fullconnected2): Linear(in_features=110, out_features=74, bias=True)\n",
            "  (fullconnected3): Linear(in_features=74, out_features=10, bias=True)\n",
            ")\n"
          ]
        }
      ]
    },
    {
      "cell_type": "markdown",
      "source": [
        "Loss function and optimizer:\n",
        "\n",
        "The loss function to be optimized is Cross-entropy loss. A popular function used to calculate distance between two probability distributions.\n",
        "This is optimized using ADAM optimizer here, a version of Stochastic Gradient Descent. Read additional resources in Moodle to learn more about ADAM optimizer."
      ],
      "metadata": {
        "id": "N6qUSDsUSfFQ"
      }
    },
    {
      "cell_type": "code",
      "source": [
        "criterion = nn.CrossEntropyLoss()\n",
        "optimizer = torch.optim.Adam(mlp_model.parameters(),lr = 0.01)"
      ],
      "metadata": {
        "id": "O9m-lRUaB3T7"
      },
      "execution_count": null,
      "outputs": []
    },
    {
      "cell_type": "markdown",
      "source": [
        "Training and testing the model:\n",
        "\n",
        "optimizer.zero_grad() makes stored gradient values of all the learnable parameters 0 before starting back-propagation for each mini-batch.\n",
        "PyTorch accumulates the gradients on subsequent backward passes. This accumulating behaviour is convenient while training models like RNNs or when we want to compute the gradient of the loss summed over multiple mini-batches. This is not required here.\n",
        "\n",
        "loss.backward() does the actual backpropagation and calculates all the relevant gradients.\n",
        "\n",
        "optimizer.step() updates the parameters accoring to the optimizer chosen (ADAM in this case)\n",
        "\n",
        "\"with torch.no_grad():\" context ensures that gradients are not accumulated while feeding samples from test or validation set.\n",
        "\n",
        "\n"
      ],
      "metadata": {
        "id": "KE50NcJZTX7U"
      }
    },
    {
      "cell_type": "code",
      "source": [
        "epochs = 10\n",
        "train_counter = []\n",
        "test_counter = []\n",
        "train_loss = []\n",
        "test_loss = []\n",
        "\n",
        "for epoch in range(epochs):\n",
        "    train_corr = 0\n",
        "    test_corr = 0\n",
        "\n",
        "    for batch_idx, (train_image,train_label) in enumerate(train_data_loader):\n",
        "        batch_idx+=1\n",
        "        prediction = mlp_model(train_image.view(BATCH_SIZE,-1))\n",
        "        loss = criterion(prediction,train_label)\n",
        "\n",
        "        predicted_counter = torch.max(prediction.data,1)[1]\n",
        "        batch_corr = (predicted_counter == train_label).sum()\n",
        "        train_corr += batch_corr\n",
        "\n",
        "        optimizer.zero_grad()\n",
        "        loss.backward()\n",
        "        optimizer.step()\n",
        "\n",
        "        if batch_idx%(60000/BATCH_SIZE) == 0:\n",
        "            print(f'Train Epoch: {epoch:2} batch: {batch_idx:4} [{BATCH_SIZE*batch_idx:6}/60000] Train Loss: {loss.item():10.6f} Train Accuracy: {train_corr.item()*100/60000:.3f}%')\n",
        "\n",
        "    train_loss.append(loss.detach().numpy())\n",
        "    train_counter.append(train_corr)\n",
        "\n",
        "    with torch.no_grad():\n",
        "        for batch_idx, (test_image,test_label) in enumerate(test_data_loader):\n",
        "            validation = mlp_model(test_image.view(TEST_BATCH_SIZE,-1))\n",
        "\n",
        "            validated = torch.max(validation.data,1)[1]\n",
        "            test_corr+= (validated == test_label).sum()\n",
        "\n",
        "        loss = criterion(validation,test_label)\n",
        "        test_loss.append(loss)\n",
        "        test_counter.append(test_corr)"
      ],
      "metadata": {
        "colab": {
          "base_uri": "https://localhost:8080/"
        },
        "id": "15MkvUulCScd",
        "outputId": "065ebdbd-24f8-4f34-ddae-d1188b0f9416"
      },
      "execution_count": null,
      "outputs": [
        {
          "output_type": "stream",
          "name": "stdout",
          "text": [
            "Train Epoch:  0 batch:   60 [ 60000/60000] Train Loss:   0.203381 Train Accuracy: 85.793%\n",
            "Train Epoch:  1 batch:   60 [ 60000/60000] Train Loss:   0.158904 Train Accuracy: 95.500%\n",
            "Train Epoch:  2 batch:   60 [ 60000/60000] Train Loss:   0.101560 Train Accuracy: 96.853%\n",
            "Train Epoch:  3 batch:   60 [ 60000/60000] Train Loss:   0.068663 Train Accuracy: 97.617%\n",
            "Train Epoch:  4 batch:   60 [ 60000/60000] Train Loss:   0.068853 Train Accuracy: 98.155%\n",
            "Train Epoch:  5 batch:   60 [ 60000/60000] Train Loss:   0.094966 Train Accuracy: 98.493%\n",
            "Train Epoch:  6 batch:   60 [ 60000/60000] Train Loss:   0.023397 Train Accuracy: 98.633%\n",
            "Train Epoch:  7 batch:   60 [ 60000/60000] Train Loss:   0.054614 Train Accuracy: 98.782%\n",
            "Train Epoch:  8 batch:   60 [ 60000/60000] Train Loss:   0.019384 Train Accuracy: 98.863%\n",
            "Train Epoch:  9 batch:   60 [ 60000/60000] Train Loss:   0.015971 Train Accuracy: 98.932%\n"
          ]
        }
      ]
    },
    {
      "cell_type": "code",
      "source": [
        "print(f'Test Accuracy: {test_counter[-1].item()*100/10000:.3f}%')"
      ],
      "metadata": {
        "colab": {
          "base_uri": "https://localhost:8080/"
        },
        "id": "PCULguAeLmXE",
        "outputId": "c3cdb810-89c6-4e2a-af69-008e86b3f353"
      },
      "execution_count": null,
      "outputs": [
        {
          "output_type": "stream",
          "name": "stdout",
          "text": [
            "Test Accuracy: 97.540%\n"
          ]
        }
      ]
    },
    {
      "cell_type": "code",
      "source": [
        "np.array(train_loss)"
      ],
      "metadata": {
        "colab": {
          "base_uri": "https://localhost:8080/"
        },
        "id": "oXuI5BAlONYa",
        "outputId": "771c48d0-4c58-46d6-e513-ea496531dd32"
      },
      "execution_count": null,
      "outputs": [
        {
          "output_type": "execute_result",
          "data": {
            "text/plain": [
              "array([0.2033813 , 0.15890414, 0.10155977, 0.06866342, 0.06885263,\n",
              "       0.09496556, 0.02339669, 0.05461412, 0.0193836 , 0.01597136],\n",
              "      dtype=float32)"
            ]
          },
          "metadata": {},
          "execution_count": 44
        }
      ]
    },
    {
      "cell_type": "markdown",
      "source": [
        "Plot losses"
      ],
      "metadata": {
        "id": "COpiL6pnS-zg"
      }
    },
    {
      "cell_type": "code",
      "source": [
        "plt.plot(train_loss,label = 'training loss')\n",
        "plt.plot(test_loss,label = 'test loss')\n",
        "plt.title('loss vs epoch')\n",
        "\n",
        "plt.legend()"
      ],
      "metadata": {
        "colab": {
          "base_uri": "https://localhost:8080/",
          "height": 298
        },
        "id": "b8vkf4rlNHuX",
        "outputId": "4c7c374f-1497-4f87-9b56-15a33560a4c3"
      },
      "execution_count": null,
      "outputs": [
        {
          "output_type": "execute_result",
          "data": {
            "text/plain": [
              "<matplotlib.legend.Legend at 0x7f140f24f460>"
            ]
          },
          "metadata": {},
          "execution_count": 45
        },
        {
          "output_type": "display_data",
          "data": {
            "text/plain": [
              "<Figure size 432x288 with 1 Axes>"
            ],
            "image/png": "[encoded data removed]"
          },
          "metadata": {
            "needs_background": "light"
          }
        }
      ]
    },
    {
      "cell_type": "code",
      "source": [
        "np.array(train_counter)\n",
        "np.array(train_counter)"
      ],
      "metadata": {
        "colab": {
          "base_uri": "https://localhost:8080/"
        },
        "id": "dFxHVRjOhbzZ",
        "outputId": "44017e9a-2e9d-4b34-9abc-06410fe4ae59"
      },
      "execution_count": null,
      "outputs": [
        {
          "output_type": "execute_result",
          "data": {
            "text/plain": [
              "array([51476, 57300, 58112, 58570, 58893, 59096, 59180, 59269, 59318,\n",
              "       59359])"
            ]
          },
          "metadata": {},
          "execution_count": 46
        }
      ]
    },
    {
      "cell_type": "markdown",
      "source": [
        "Both training and test accuracy are well above 96% after training for 10 epochs. Test accuracy is close to training accuracy. This is a sign that our training has gone well. \n",
        "Test accuracy is also slightly lower than training accuracy. This indicates slight overfitting. A slight overfitting is expected. However, the difference between training and test accuracy shouldn't be too large"
      ],
      "metadata": {
        "id": "pP6r12koihwW"
      }
    },
    {
      "cell_type": "code",
      "source": [
        "plt.plot((np.array(train_counter)/60000)*100,label = 'training accuracy')\n",
        "plt.plot((np.array(test_counter)/10000)*100,label = 'test accuracy')\n",
        "plt.title('Accuracy vs epoch')\n",
        "\n",
        "plt.legend()"
      ],
      "metadata": {
        "colab": {
          "base_uri": "https://localhost:8080/",
          "height": 298
        },
        "id": "qJzGSrnBg_rJ",
        "outputId": "3107fdff-58ba-4c7f-c17d-db79541d2947"
      },
      "execution_count": null,
      "outputs": [
        {
          "output_type": "execute_result",
          "data": {
            "text/plain": [
              "<matplotlib.legend.Legend at 0x7f140f4c4f40>"
            ]
          },
          "metadata": {},
          "execution_count": 47
        },
        {
          "output_type": "display_data",
          "data": {
            "text/plain": [
              "<Figure size 432x288 with 1 Axes>"
            ],
            "image/png": "[encoded data removed]"
          },
          "metadata": {
            "needs_background": "light"
          }
        }
      ]
    }
  ]
}