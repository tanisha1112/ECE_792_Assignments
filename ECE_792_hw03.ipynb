{
 "cells": [
  {
   "cell_type": "code",
   "execution_count": 308,
   "id": "10a2b455",
   "metadata": {},
   "outputs": [],
   "source": [
    "import torch\n",
    "from torchvision import transforms\n",
    "import torchvision.datasets as datasets\n",
    "import matplotlib.pyplot as plt\n",
    "import numpy as np\n",
    "import torch.nn as nn\n",
    "import torch.nn.functional as F \n",
    "import sklearn\n",
    "from torch.utils.data import Dataset, DataLoader\n",
    "from torch import optim\n",
    "from torch.autograd import Variable\n",
    "import pandas as pd\n",
    "import os\n",
    "from skimage import io, transform\n",
    "import cv2\n",
    "from IPython import embed"
   ]
  },
  {
   "cell_type": "markdown",
   "id": "f8ce53a5",
   "metadata": {},
   "source": [
    "### TASK 1.  Develop and train a CVAE to encode and manipulate images in CelebA database."
   ]
  },
  {
   "cell_type": "code",
   "execution_count": 309,
   "id": "771033f2",
   "metadata": {},
   "outputs": [],
   "source": [
    "dir = '/Users/tanishakhurana/Downloads/CelebA/list_attr_celeba.txt'"
   ]
  },
  {
   "cell_type": "code",
   "execution_count": 310,
   "id": "9d6971a4",
   "metadata": {},
   "outputs": [],
   "source": [
    "with open(dir, \"r\") as f:\n",
    "    list_attr_celeba = f.read().splitlines()\n",
    "    attribute_descriptions = list_attr_celeba[1]\n",
    "    list_attr_celeba = list_attr_celeba[2:]"
   ]
  },
  {
   "cell_type": "code",
   "execution_count": 311,
   "id": "64a5065d",
   "metadata": {},
   "outputs": [],
   "source": [
    "attribute_description_list = []\n",
    "for elem in attribute_descriptions.split(' '):\n",
    "    attribute_description_list.append(elem)\n"
   ]
  },
  {
   "cell_type": "code",
   "execution_count": 312,
   "id": "c795fdd0",
   "metadata": {},
   "outputs": [],
   "source": [
    "attribute_description_list.insert(0,'image_id')\n",
    "attribute_description_list = attribute_description_list[:41]"
   ]
  },
  {
   "cell_type": "code",
   "execution_count": 313,
   "id": "90e5354c",
   "metadata": {},
   "outputs": [],
   "source": [
    "list_attr_celeba = np.array(\n",
    "            [[x for x in s.split()] for s in list_attr_celeba]\n",
    "        )"
   ]
  },
  {
   "cell_type": "code",
   "execution_count": 63,
   "id": "4d932228",
   "metadata": {},
   "outputs": [
    {
     "data": {
      "text/plain": [
       "(202599, 41)"
      ]
     },
     "execution_count": 63,
     "metadata": {},
     "output_type": "execute_result"
    }
   ],
   "source": [
    "list_attr_celeba.shape"
   ]
  },
  {
   "cell_type": "code",
   "execution_count": 314,
   "id": "a3be3243",
   "metadata": {},
   "outputs": [],
   "source": [
    "list_attr_celeba = list_attr_celeba[:40000,:] #taking 40k for now"
   ]
  },
  {
   "cell_type": "code",
   "execution_count": 315,
   "id": "99cb8250",
   "metadata": {},
   "outputs": [
    {
     "data": {
      "text/plain": [
       "(40000, 41)"
      ]
     },
     "execution_count": 315,
     "metadata": {},
     "output_type": "execute_result"
    }
   ],
   "source": [
    "list_attr_celeba.shape    "
   ]
  },
  {
   "cell_type": "code",
   "execution_count": 316,
   "id": "31d4727f",
   "metadata": {},
   "outputs": [],
   "source": [
    "df = pd.DataFrame(list_attr_celeba, columns=attribute_description_list)"
   ]
  },
  {
   "cell_type": "code",
   "execution_count": 317,
   "id": "c9c09339",
   "metadata": {
    "scrolled": true
   },
   "outputs": [
    {
     "data": {
      "text/html": [
       "<div>\n",
       "<style scoped>\n",
       "    .dataframe tbody tr th:only-of-type {\n",
       "        vertical-align: middle;\n",
       "    }\n",
       "\n",
       "    .dataframe tbody tr th {\n",
       "        vertical-align: top;\n",
       "    }\n",
       "\n",
       "    .dataframe thead th {\n",
       "        text-align: right;\n",
       "    }\n",
       "</style>\n",
       "<table border=\"1\" class=\"dataframe\">\n",
       "  <thead>\n",
       "    <tr style=\"text-align: right;\">\n",
       "      <th></th>\n",
       "      <th>image_id</th>\n",
       "      <th>5_o_Clock_Shadow</th>\n",
       "      <th>Arched_Eyebrows</th>\n",
       "      <th>Attractive</th>\n",
       "      <th>Bags_Under_Eyes</th>\n",
       "      <th>Bald</th>\n",
       "      <th>Bangs</th>\n",
       "      <th>Big_Lips</th>\n",
       "      <th>Big_Nose</th>\n",
       "      <th>Black_Hair</th>\n",
       "      <th>...</th>\n",
       "      <th>Sideburns</th>\n",
       "      <th>Smiling</th>\n",
       "      <th>Straight_Hair</th>\n",
       "      <th>Wavy_Hair</th>\n",
       "      <th>Wearing_Earrings</th>\n",
       "      <th>Wearing_Hat</th>\n",
       "      <th>Wearing_Lipstick</th>\n",
       "      <th>Wearing_Necklace</th>\n",
       "      <th>Wearing_Necktie</th>\n",
       "      <th>Young</th>\n",
       "    </tr>\n",
       "  </thead>\n",
       "  <tbody>\n",
       "    <tr>\n",
       "      <th>0</th>\n",
       "      <td>000001.jpg</td>\n",
       "      <td>-1</td>\n",
       "      <td>1</td>\n",
       "      <td>1</td>\n",
       "      <td>-1</td>\n",
       "      <td>-1</td>\n",
       "      <td>-1</td>\n",
       "      <td>-1</td>\n",
       "      <td>-1</td>\n",
       "      <td>-1</td>\n",
       "      <td>...</td>\n",
       "      <td>-1</td>\n",
       "      <td>1</td>\n",
       "      <td>1</td>\n",
       "      <td>-1</td>\n",
       "      <td>1</td>\n",
       "      <td>-1</td>\n",
       "      <td>1</td>\n",
       "      <td>-1</td>\n",
       "      <td>-1</td>\n",
       "      <td>1</td>\n",
       "    </tr>\n",
       "    <tr>\n",
       "      <th>1</th>\n",
       "      <td>000002.jpg</td>\n",
       "      <td>-1</td>\n",
       "      <td>-1</td>\n",
       "      <td>-1</td>\n",
       "      <td>1</td>\n",
       "      <td>-1</td>\n",
       "      <td>-1</td>\n",
       "      <td>-1</td>\n",
       "      <td>1</td>\n",
       "      <td>-1</td>\n",
       "      <td>...</td>\n",
       "      <td>-1</td>\n",
       "      <td>1</td>\n",
       "      <td>-1</td>\n",
       "      <td>-1</td>\n",
       "      <td>-1</td>\n",
       "      <td>-1</td>\n",
       "      <td>-1</td>\n",
       "      <td>-1</td>\n",
       "      <td>-1</td>\n",
       "      <td>1</td>\n",
       "    </tr>\n",
       "    <tr>\n",
       "      <th>2</th>\n",
       "      <td>000003.jpg</td>\n",
       "      <td>-1</td>\n",
       "      <td>-1</td>\n",
       "      <td>-1</td>\n",
       "      <td>-1</td>\n",
       "      <td>-1</td>\n",
       "      <td>-1</td>\n",
       "      <td>1</td>\n",
       "      <td>-1</td>\n",
       "      <td>-1</td>\n",
       "      <td>...</td>\n",
       "      <td>-1</td>\n",
       "      <td>-1</td>\n",
       "      <td>-1</td>\n",
       "      <td>1</td>\n",
       "      <td>-1</td>\n",
       "      <td>-1</td>\n",
       "      <td>-1</td>\n",
       "      <td>-1</td>\n",
       "      <td>-1</td>\n",
       "      <td>1</td>\n",
       "    </tr>\n",
       "    <tr>\n",
       "      <th>3</th>\n",
       "      <td>000004.jpg</td>\n",
       "      <td>-1</td>\n",
       "      <td>-1</td>\n",
       "      <td>1</td>\n",
       "      <td>-1</td>\n",
       "      <td>-1</td>\n",
       "      <td>-1</td>\n",
       "      <td>-1</td>\n",
       "      <td>-1</td>\n",
       "      <td>-1</td>\n",
       "      <td>...</td>\n",
       "      <td>-1</td>\n",
       "      <td>-1</td>\n",
       "      <td>1</td>\n",
       "      <td>-1</td>\n",
       "      <td>1</td>\n",
       "      <td>-1</td>\n",
       "      <td>1</td>\n",
       "      <td>1</td>\n",
       "      <td>-1</td>\n",
       "      <td>1</td>\n",
       "    </tr>\n",
       "    <tr>\n",
       "      <th>4</th>\n",
       "      <td>000005.jpg</td>\n",
       "      <td>-1</td>\n",
       "      <td>1</td>\n",
       "      <td>1</td>\n",
       "      <td>-1</td>\n",
       "      <td>-1</td>\n",
       "      <td>-1</td>\n",
       "      <td>1</td>\n",
       "      <td>-1</td>\n",
       "      <td>-1</td>\n",
       "      <td>...</td>\n",
       "      <td>-1</td>\n",
       "      <td>-1</td>\n",
       "      <td>-1</td>\n",
       "      <td>-1</td>\n",
       "      <td>-1</td>\n",
       "      <td>-1</td>\n",
       "      <td>1</td>\n",
       "      <td>-1</td>\n",
       "      <td>-1</td>\n",
       "      <td>1</td>\n",
       "    </tr>\n",
       "  </tbody>\n",
       "</table>\n",
       "<p>5 rows × 41 columns</p>\n",
       "</div>"
      ],
      "text/plain": [
       "     image_id 5_o_Clock_Shadow Arched_Eyebrows Attractive Bags_Under_Eyes  \\\n",
       "0  000001.jpg               -1               1          1              -1   \n",
       "1  000002.jpg               -1              -1         -1               1   \n",
       "2  000003.jpg               -1              -1         -1              -1   \n",
       "3  000004.jpg               -1              -1          1              -1   \n",
       "4  000005.jpg               -1               1          1              -1   \n",
       "\n",
       "  Bald Bangs Big_Lips Big_Nose Black_Hair  ... Sideburns Smiling  \\\n",
       "0   -1    -1       -1       -1         -1  ...        -1       1   \n",
       "1   -1    -1       -1        1         -1  ...        -1       1   \n",
       "2   -1    -1        1       -1         -1  ...        -1      -1   \n",
       "3   -1    -1       -1       -1         -1  ...        -1      -1   \n",
       "4   -1    -1        1       -1         -1  ...        -1      -1   \n",
       "\n",
       "  Straight_Hair Wavy_Hair Wearing_Earrings Wearing_Hat Wearing_Lipstick  \\\n",
       "0             1        -1                1          -1                1   \n",
       "1            -1        -1               -1          -1               -1   \n",
       "2            -1         1               -1          -1               -1   \n",
       "3             1        -1                1          -1                1   \n",
       "4            -1        -1               -1          -1                1   \n",
       "\n",
       "  Wearing_Necklace Wearing_Necktie Young  \n",
       "0               -1              -1     1  \n",
       "1               -1              -1     1  \n",
       "2               -1              -1     1  \n",
       "3                1              -1     1  \n",
       "4               -1              -1     1  \n",
       "\n",
       "[5 rows x 41 columns]"
      ]
     },
     "execution_count": 317,
     "metadata": {},
     "output_type": "execute_result"
    }
   ],
   "source": [
    "df.head()"
   ]
  },
  {
   "cell_type": "code",
   "execution_count": 318,
   "id": "1c4c8179",
   "metadata": {},
   "outputs": [
    {
     "data": {
      "text/plain": [
       "array([[-1,  1,  1, ..., -1, -1,  1],\n",
       "       [-1, -1, -1, ..., -1, -1,  1],\n",
       "       [-1, -1, -1, ..., -1, -1,  1],\n",
       "       ...,\n",
       "       [-1, -1,  1, ..., -1, -1,  1],\n",
       "       [-1, -1, -1, ..., -1, -1,  1],\n",
       "       [-1,  1,  1, ..., -1, -1,  1]])"
      ]
     },
     "execution_count": 318,
     "metadata": {},
     "output_type": "execute_result"
    }
   ],
   "source": [
    "list_attr_celeba = list_attr_celeba[:,1:]\n",
    "list_attr_celeba = np.array([[int(y) for y in x] for x in list_attr_celeba])\n",
    "list_attr_celeba"
   ]
  },
  {
   "cell_type": "code",
   "execution_count": 319,
   "id": "2eb31f84",
   "metadata": {},
   "outputs": [
    {
     "data": {
      "text/plain": [
       "(40000, 40)"
      ]
     },
     "execution_count": 319,
     "metadata": {},
     "output_type": "execute_result"
    }
   ],
   "source": [
    "list_attr_celeba.shape"
   ]
  },
  {
   "cell_type": "code",
   "execution_count": 320,
   "id": "4b4e60ec",
   "metadata": {},
   "outputs": [],
   "source": [
    "class CelebA(Dataset):\n",
    "    def __init__(self, root_dir,df, transform=None):\n",
    "        self.df = df\n",
    "        self.root_dir = root_dir\n",
    "        self.transform = transform\n",
    "\n",
    "    def __len__(self):\n",
    "        return len(df)\n",
    "\n",
    "    def __getitem__(self, idx):\n",
    "        if torch.is_tensor(idx):\n",
    "            idx = idx.tolist()\n",
    "        img_name = os.path.join(self.root_dir,self.df.iloc[idx, 0])\n",
    "        image = io.imread(img_name)\n",
    "        attr = self.df.iloc[idx, 1:]\n",
    "        attr = np.array([int(x) for x in attr])\n",
    "        sample = {'image': image, 'attribute': attr}\n",
    "\n",
    "        if self.transform:\n",
    "            image = self.transform(sample['image'])\n",
    "            sample = {'image': image, 'attribute': attr}\n",
    "            \n",
    "\n",
    "        return sample"
   ]
  },
  {
   "cell_type": "code",
   "execution_count": 321,
   "id": "b4e286b4",
   "metadata": {},
   "outputs": [],
   "source": [
    "root_dir='/Users/tanishakhurana/Downloads/CelebA/CelebA_40k/'\n",
    "celeba_dataset = CelebA(root_dir, df)"
   ]
  },
  {
   "cell_type": "code",
   "execution_count": 322,
   "id": "11d7ac35",
   "metadata": {},
   "outputs": [
    {
     "data": {
      "text/plain": [
       "(218, 178, 3)"
      ]
     },
     "execution_count": 322,
     "metadata": {},
     "output_type": "execute_result"
    }
   ],
   "source": [
    "sample = celeba_dataset[1]\n",
    "sample['image'].shape"
   ]
  },
  {
   "cell_type": "code",
   "execution_count": 323,
   "id": "ceb0ba8e",
   "metadata": {},
   "outputs": [],
   "source": [
    "img, label = sample['image'], sample['attribute']"
   ]
  },
  {
   "cell_type": "code",
   "execution_count": 324,
   "id": "5b08e755",
   "metadata": {},
   "outputs": [
    {
     "data": {
      "text/plain": [
       "<matplotlib.image.AxesImage at 0x7f7db92f91f0>"
      ]
     },
     "execution_count": 324,
     "metadata": {},
     "output_type": "execute_result"
    },
    {
     "data": {
      "image/png": "[encoded data removed]",
      "text/plain": [
       "<Figure size 640x480 with 1 Axes>"
      ]
     },
     "metadata": {},
     "output_type": "display_data"
    }
   ],
   "source": [
    "plt.imshow(img)"
   ]
  },
  {
   "cell_type": "code",
   "execution_count": 325,
   "id": "7725b6c7",
   "metadata": {},
   "outputs": [],
   "source": [
    "transform = transforms.Compose([\n",
    "        transforms.ToPILImage(),\n",
    "        transforms.Resize([64, 64]),\n",
    "        transforms.ToTensor(),\n",
    "        transforms.Normalize(mean=[0.5 ,0.5, 0.5],\n",
    "                             std=[0.5, 0.5, 0.5])\n",
    "    ])"
   ]
  },
  {
   "cell_type": "code",
   "execution_count": 326,
   "id": "5e7fa5fe",
   "metadata": {},
   "outputs": [],
   "source": [
    "celeb_transformed_dataset = CelebA(root_dir=root_dir,df = df,transform=transform)"
   ]
  },
  {
   "cell_type": "code",
   "execution_count": 327,
   "id": "ae0d65ff",
   "metadata": {},
   "outputs": [],
   "source": [
    "sample = celeb_transformed_dataset[1]\n",
    "img, label = sample['image'], sample['attribute']"
   ]
  },
  {
   "cell_type": "code",
   "execution_count": 328,
   "id": "c3f4994c",
   "metadata": {},
   "outputs": [
    {
     "data": {
      "text/plain": [
       "torch.Size([3, 64, 64])"
      ]
     },
     "execution_count": 328,
     "metadata": {},
     "output_type": "execute_result"
    }
   ],
   "source": [
    "img.shape"
   ]
  },
  {
   "cell_type": "code",
   "execution_count": 329,
   "id": "8527dedf",
   "metadata": {},
   "outputs": [
    {
     "name": "stderr",
     "output_type": "stream",
     "text": [
      "Clipping input data to the valid range for imshow with RGB data ([0..1] for floats or [0..255] for integers).\n"
     ]
    },
    {
     "data": {
      "text/plain": [
       "<matplotlib.image.AxesImage at 0x7f7d7a047760>"
      ]
     },
     "execution_count": 329,
     "metadata": {},
     "output_type": "execute_result"
    },
    {
     "data": {
      "image/png": "[encoded data removed]",
      "text/plain": [
       "<Figure size 640x480 with 1 Axes>"
      ]
     },
     "metadata": {},
     "output_type": "display_data"
    }
   ],
   "source": [
    "plt.imshow(img.permute(1, 2, 0))  #The shape convention for images used below is Channel x Height x Width."
   ]
  },
  {
   "cell_type": "code",
   "execution_count": 330,
   "id": "43dd99b1",
   "metadata": {},
   "outputs": [],
   "source": [
    "class AttributeEncoder(nn.Module):      #4th dimension add for attribute\n",
    "    def __init__(self):\n",
    "        super(AttributeEncoder, self).__init__()\n",
    "        self.fc = nn.Linear(40, 64*64)\n",
    "        \n",
    "    def forward(self, c):\n",
    "        c = c.float()\n",
    "        x = self.fc(c)\n",
    "        x = x.view(-1, 64, 64)\n",
    "        return x"
   ]
  },
  {
   "cell_type": "code",
   "execution_count": 331,
   "id": "d49afa1a",
   "metadata": {},
   "outputs": [],
   "source": [
    "attribute_encoder = AttributeEncoder()"
   ]
  },
  {
   "cell_type": "code",
   "execution_count": 332,
   "id": "ad217659",
   "metadata": {},
   "outputs": [
    {
     "name": "stdout",
     "output_type": "stream",
     "text": [
      "tensor([-1, -1, -1,  1, -1, -1, -1,  1, -1, -1, -1,  1, -1, -1, -1, -1, -1, -1,\n",
      "        -1,  1, -1,  1, -1, -1,  1, -1, -1, -1, -1, -1, -1,  1, -1, -1, -1, -1,\n",
      "        -1, -1, -1,  1])\n"
     ]
    }
   ],
   "source": [
    "tensor_label = torch.from_numpy(label)\n",
    "print(tensor_label)"
   ]
  },
  {
   "cell_type": "code",
   "execution_count": 333,
   "id": "5e1fa0b1",
   "metadata": {},
   "outputs": [
    {
     "data": {
      "text/plain": [
       "torch.Size([1, 64, 64])"
      ]
     },
     "execution_count": 333,
     "metadata": {},
     "output_type": "execute_result"
    }
   ],
   "source": [
    "attr = attribute_encoder(tensor_label)\n",
    "attr.shape"
   ]
  },
  {
   "cell_type": "code",
   "execution_count": 334,
   "id": "05ff5be5",
   "metadata": {},
   "outputs": [
    {
     "data": {
      "text/plain": [
       "torch.Size([3, 64, 64])"
      ]
     },
     "execution_count": 334,
     "metadata": {},
     "output_type": "execute_result"
    }
   ],
   "source": [
    "img.shape"
   ]
  },
  {
   "cell_type": "code",
   "execution_count": 335,
   "id": "12859182",
   "metadata": {},
   "outputs": [],
   "source": [
    "image_with_attributes = torch.cat([img, attribute_encoder(tensor_label)], dim=0)"
   ]
  },
  {
   "cell_type": "code",
   "execution_count": 336,
   "id": "7520bbe2",
   "metadata": {},
   "outputs": [
    {
     "data": {
      "text/plain": [
       "torch.Size([4, 64, 64])"
      ]
     },
     "execution_count": 336,
     "metadata": {},
     "output_type": "execute_result"
    }
   ],
   "source": [
    "image_with_attributes.shape"
   ]
  },
  {
   "cell_type": "code",
   "execution_count": 337,
   "id": "8466d6d7",
   "metadata": {},
   "outputs": [
    {
     "data": {
      "text/plain": [
       "40000"
      ]
     },
     "execution_count": 337,
     "metadata": {},
     "output_type": "execute_result"
    }
   ],
   "source": [
    "total_count = len(celeb_transformed_dataset)\n",
    "total_count"
   ]
  },
  {
   "cell_type": "code",
   "execution_count": 379,
   "id": "467b65f4",
   "metadata": {},
   "outputs": [],
   "source": [
    "train_count = int(0.9 * total_count)     \n",
    "val_count = int(0.05 * total_count)      \n",
    "test_count = total_count - train_count - val_count    \n",
    "celeb_train_dataset, celeb_val_dataset, celeb_test_dataset = torch.utils.data.random_split(\n",
    "    celeb_transformed_dataset, (train_count, val_count, test_count))"
   ]
  },
  {
   "cell_type": "code",
   "execution_count": 380,
   "id": "0253a336",
   "metadata": {},
   "outputs": [
    {
     "data": {
      "text/plain": [
       "36000"
      ]
     },
     "execution_count": 380,
     "metadata": {},
     "output_type": "execute_result"
    }
   ],
   "source": [
    "len(celeb_train_dataset)"
   ]
  },
  {
   "cell_type": "code",
   "execution_count": 381,
   "id": "fe8e22c1",
   "metadata": {},
   "outputs": [
    {
     "data": {
      "text/plain": [
       "2000"
      ]
     },
     "execution_count": 381,
     "metadata": {},
     "output_type": "execute_result"
    }
   ],
   "source": [
    "len(celeb_val_dataset)"
   ]
  },
  {
   "cell_type": "code",
   "execution_count": 382,
   "id": "274d214b",
   "metadata": {},
   "outputs": [
    {
     "data": {
      "text/plain": [
       "2000"
      ]
     },
     "execution_count": 382,
     "metadata": {},
     "output_type": "execute_result"
    }
   ],
   "source": [
    "len(celeb_test_dataset)"
   ]
  },
  {
   "cell_type": "code",
   "execution_count": 383,
   "id": "3f816680",
   "metadata": {},
   "outputs": [],
   "source": [
    "celeb_train_dataloader = torch.utils.data.DataLoader(celeb_train_dataset,batch_size=1,shuffle=True)"
   ]
  },
  {
   "cell_type": "code",
   "execution_count": 384,
   "id": "2acd7987",
   "metadata": {},
   "outputs": [],
   "source": [
    "celeb_val_dataloader = torch.utils.data.DataLoader(celeb_val_dataset,batch_size=1,shuffle=True)\n",
    "celeb_test_dataloader = torch.utils.data.DataLoader(celeb_test_dataset,batch_size=1,shuffle=True)"
   ]
  },
  {
   "cell_type": "code",
   "execution_count": 385,
   "id": "f606962e",
   "metadata": {},
   "outputs": [],
   "source": [
    "class Encoder(nn.Module):\n",
    "    def __init__(self):\n",
    "        super(Encoder, self).__init__()\n",
    "        self.fc = nn.Linear(40, 64*64) \n",
    "        # 5 conv layers \n",
    "        self.conv1 = nn.Conv2d(4, 32, kernel_size=3, stride=2, padding=1)\n",
    "        self.conv2 = nn.Conv2d(32, 64, kernel_size=3, stride=2, padding=1)\n",
    "        self.conv3 = nn.Conv2d(64, 128, kernel_size=3, stride=2, padding=1)\n",
    "        self.conv4 = nn.Conv2d(128, 256, kernel_size=3, stride=2, padding=1)\n",
    "        self.conv5 = nn.Conv2d(256, 512, kernel_size=3, stride=2, padding=1)\n",
    "        self.fc_mu = nn.Linear(512 * 2 * 2, 128)        # latent dimension 128\n",
    "        self.fc_logvar = nn.Linear(512 * 2 * 2, 128)\n",
    "        \n",
    "    def forward(self, x, c):      #give img -x and attributes -c \n",
    "        c = c.float()\n",
    "        c = self.fc(c)\n",
    "        c = c.view(-1,1, 64, 64)\n",
    "        x = torch.cat([x, c], dim=1)    # concatenate attribute to image,  dim 1 because batch also there\n",
    "        \n",
    "        #5 leaky relu activations on conv layers\n",
    "        x = F.leaky_relu(self.conv1(x))\n",
    "        x = F.leaky_relu(self.conv2(x))\n",
    "        x = F.leaky_relu(self.conv3(x))\n",
    "        x = F.leaky_relu(self.conv4(x))\n",
    "        x = F.leaky_relu(self.conv5(x))\n",
    "        x = x.view(-1, 512 * 2 * 2)\n",
    "        mu = self.fc_mu(x) \n",
    "        logvar = self.fc_logvar(x)\n",
    "        return mu, logvar"
   ]
  },
  {
   "cell_type": "code",
   "execution_count": 386,
   "id": "51264a81",
   "metadata": {},
   "outputs": [],
   "source": [
    "class Decoder(nn.Module):\n",
    "    def __init__(self):\n",
    "        super(Decoder, self).__init__()\n",
    "        self.fc = nn.Linear(128 + 40, 512 * 2 * 2)\n",
    "        self.conv1 = nn.ConvTranspose2d(512, 256, kernel_size=3, stride=2, padding=1, output_padding=1)\n",
    "        self.conv2 = nn.ConvTranspose2d(256, 128, kernel_size=3, stride=2, padding=1, output_padding=1)\n",
    "        self.conv3 = nn.ConvTranspose2d(128, 64, kernel_size=3, stride=2, padding=1, output_padding=1)\n",
    "        self.conv4 = nn.ConvTranspose2d(64, 32, kernel_size=3, stride=2, padding=1, output_padding=1)\n",
    "        self.conv5 = nn.ConvTranspose2d(32, 32, kernel_size=3, stride=2, padding=1, output_padding=1)\n",
    "        self.conv6 = nn.Conv2d(in_channels=32, out_channels=3,kernel_size=3, stride = 1, padding=1)\n",
    "        \n",
    "    def forward(self, z, c):\n",
    "        \n",
    "        x = torch.cat([z, c], dim=1)  #Concatenate the original attribute vector c to z.\n",
    "        x = self.fc(x) #Pass this concatentaed vector to fully connected layer to get a vector of size 512x2x2.\n",
    "        x = x.view(-1, 512, 2, 2)    #Reshape this output to shape [512,2,2]\n",
    "        x = F.leaky_relu(self.conv1(x))      #([1, 256, 4, 4])\n",
    "        x = F.leaky_relu(self.conv2(x))      #([1, 128, 8, 8])\n",
    "        x = F.leaky_relu(self.conv3(x))      #([1, 64, 16, 16])\n",
    "        x = F.leaky_relu(self.conv4(x))      #([1, 32, 32, 32])\n",
    "        x = F.leaky_relu(self.conv5(x))      #([1, 32, 64 ,64])\n",
    "        x = torch.tanh(self.conv6(x))        #([1, 3, 64, 64])\n",
    "        return x"
   ]
  },
  {
   "cell_type": "code",
   "execution_count": 387,
   "id": "987d83df",
   "metadata": {},
   "outputs": [],
   "source": [
    "class VAE(nn.Module):\n",
    "    def __init__(self):\n",
    "        super(VAE, self).__init__()\n",
    "        self.encoder = Encoder()        #initialise encoder and decoder of VAE\n",
    "        self.decoder = Decoder()\n",
    "        \n",
    "        #generate a random distribution w.r.t. the mu and log_var from the embedding space\n",
    "    def reparameterize(self, mu, logvar): \n",
    "        std = torch.exp(0.5 * logvar)\n",
    "        epsilon = torch.randn_like(std)     #normal distribution with mean 0 and variance 1\n",
    "        z = mu + epsilon * std\n",
    "        return z\n",
    "    \n",
    "    def forward(self, x, c):\n",
    "        mu, logvar = self.encoder(x, c)\n",
    "        z = self.reparameterize(mu, logvar)\n",
    "        reconstruction = self.decoder(z, c)\n",
    "        return reconstruction, mu, logvar"
   ]
  },
  {
   "cell_type": "code",
   "execution_count": 388,
   "id": "b6fa07bf",
   "metadata": {},
   "outputs": [
    {
     "data": {
      "text/plain": [
       "VAE(\n",
       "  (encoder): Encoder(\n",
       "    (fc): Linear(in_features=40, out_features=4096, bias=True)\n",
       "    (conv1): Conv2d(4, 32, kernel_size=(3, 3), stride=(2, 2), padding=(1, 1))\n",
       "    (conv2): Conv2d(32, 64, kernel_size=(3, 3), stride=(2, 2), padding=(1, 1))\n",
       "    (conv3): Conv2d(64, 128, kernel_size=(3, 3), stride=(2, 2), padding=(1, 1))\n",
       "    (conv4): Conv2d(128, 256, kernel_size=(3, 3), stride=(2, 2), padding=(1, 1))\n",
       "    (conv5): Conv2d(256, 512, kernel_size=(3, 3), stride=(2, 2), padding=(1, 1))\n",
       "    (fc_mu): Linear(in_features=2048, out_features=128, bias=True)\n",
       "    (fc_logvar): Linear(in_features=2048, out_features=128, bias=True)\n",
       "  )\n",
       "  (decoder): Decoder(\n",
       "    (fc): Linear(in_features=168, out_features=2048, bias=True)\n",
       "    (conv1): ConvTranspose2d(512, 256, kernel_size=(3, 3), stride=(2, 2), padding=(1, 1), output_padding=(1, 1))\n",
       "    (conv2): ConvTranspose2d(256, 128, kernel_size=(3, 3), stride=(2, 2), padding=(1, 1), output_padding=(1, 1))\n",
       "    (conv3): ConvTranspose2d(128, 64, kernel_size=(3, 3), stride=(2, 2), padding=(1, 1), output_padding=(1, 1))\n",
       "    (conv4): ConvTranspose2d(64, 32, kernel_size=(3, 3), stride=(2, 2), padding=(1, 1), output_padding=(1, 1))\n",
       "    (conv5): ConvTranspose2d(32, 32, kernel_size=(3, 3), stride=(2, 2), padding=(1, 1), output_padding=(1, 1))\n",
       "    (conv6): Conv2d(32, 3, kernel_size=(3, 3), stride=(1, 1), padding=(1, 1))\n",
       "  )\n",
       ")"
      ]
     },
     "execution_count": 388,
     "metadata": {},
     "output_type": "execute_result"
    }
   ],
   "source": [
    "model = VAE()\n",
    "model\n"
   ]
  },
  {
   "cell_type": "code",
   "execution_count": 389,
   "id": "0f91fa15",
   "metadata": {},
   "outputs": [],
   "source": [
    "criterion = nn.MSELoss()\n",
    "optimizer = optim.Adam(model.parameters(), lr=0.0001)"
   ]
  },
  {
   "cell_type": "code",
   "execution_count": 390,
   "id": "ebcf6440",
   "metadata": {},
   "outputs": [
    {
     "data": {
      "text/plain": [
       "device(type='cpu')"
      ]
     },
     "execution_count": 390,
     "metadata": {},
     "output_type": "execute_result"
    }
   ],
   "source": [
    "device = torch.device(\"cuda:0\" if torch.cuda.is_available() else \"cpu\")\n",
    "device"
   ]
  },
  {
   "cell_type": "code",
   "execution_count": 391,
   "id": "ff004ca0",
   "metadata": {},
   "outputs": [
    {
     "data": {
      "text/plain": [
       "VAE(\n",
       "  (encoder): Encoder(\n",
       "    (fc): Linear(in_features=40, out_features=4096, bias=True)\n",
       "    (conv1): Conv2d(4, 32, kernel_size=(3, 3), stride=(2, 2), padding=(1, 1))\n",
       "    (conv2): Conv2d(32, 64, kernel_size=(3, 3), stride=(2, 2), padding=(1, 1))\n",
       "    (conv3): Conv2d(64, 128, kernel_size=(3, 3), stride=(2, 2), padding=(1, 1))\n",
       "    (conv4): Conv2d(128, 256, kernel_size=(3, 3), stride=(2, 2), padding=(1, 1))\n",
       "    (conv5): Conv2d(256, 512, kernel_size=(3, 3), stride=(2, 2), padding=(1, 1))\n",
       "    (fc_mu): Linear(in_features=2048, out_features=128, bias=True)\n",
       "    (fc_logvar): Linear(in_features=2048, out_features=128, bias=True)\n",
       "  )\n",
       "  (decoder): Decoder(\n",
       "    (fc): Linear(in_features=168, out_features=2048, bias=True)\n",
       "    (conv1): ConvTranspose2d(512, 256, kernel_size=(3, 3), stride=(2, 2), padding=(1, 1), output_padding=(1, 1))\n",
       "    (conv2): ConvTranspose2d(256, 128, kernel_size=(3, 3), stride=(2, 2), padding=(1, 1), output_padding=(1, 1))\n",
       "    (conv3): ConvTranspose2d(128, 64, kernel_size=(3, 3), stride=(2, 2), padding=(1, 1), output_padding=(1, 1))\n",
       "    (conv4): ConvTranspose2d(64, 32, kernel_size=(3, 3), stride=(2, 2), padding=(1, 1), output_padding=(1, 1))\n",
       "    (conv5): ConvTranspose2d(32, 32, kernel_size=(3, 3), stride=(2, 2), padding=(1, 1), output_padding=(1, 1))\n",
       "    (conv6): Conv2d(32, 3, kernel_size=(3, 3), stride=(1, 1), padding=(1, 1))\n",
       "  )\n",
       ")"
      ]
     },
     "execution_count": 391,
     "metadata": {},
     "output_type": "execute_result"
    }
   ],
   "source": [
    "model.train()"
   ]
  },
  {
   "cell_type": "code",
   "execution_count": 392,
   "id": "f81fa46f",
   "metadata": {},
   "outputs": [],
   "source": [
    "num_epochs = 5\n",
    "loss = 0\n",
    "train_loss = 0\n",
    "val_loss = 0"
   ]
  },
  {
   "cell_type": "code",
   "execution_count": 393,
   "id": "ac2b86cb",
   "metadata": {},
   "outputs": [
    {
     "name": "stdout",
     "output_type": "stream",
     "text": [
      "Epoch [1/5], Step [100/36000], Loss: 0.5540\n",
      "Epoch [1/5], Step [200/36000], Loss: 0.3220\n",
      "Epoch [1/5], Step [300/36000], Loss: 0.2143\n",
      "Epoch [1/5], Step [400/36000], Loss: 0.3627\n",
      "Epoch [1/5], Step [500/36000], Loss: 0.6045\n",
      "Epoch [1/5], Step [600/36000], Loss: 0.3527\n",
      "Epoch [1/5], Step [700/36000], Loss: 0.6777\n",
      "Epoch [1/5], Step [800/36000], Loss: 0.5860\n",
      "Epoch [1/5], Step [900/36000], Loss: 0.4322\n",
      "Epoch [1/5], Step [1000/36000], Loss: 0.2492\n",
      "Epoch [1/5], Step [1100/36000], Loss: 0.4027\n",
      "Epoch [1/5], Step [1200/36000], Loss: 0.1730\n",
      "Epoch [1/5], Step [1300/36000], Loss: 0.1523\n",
      "Epoch [1/5], Step [1400/36000], Loss: 0.3328\n",
      "Epoch [1/5], Step [1500/36000], Loss: 0.2518\n",
      "Epoch [1/5], Step [1600/36000], Loss: 0.1549\n",
      "Epoch [1/5], Step [1700/36000], Loss: 0.7162\n",
      "Epoch [1/5], Step [1800/36000], Loss: 0.1833\n",
      "Epoch [1/5], Step [1900/36000], Loss: 0.3267\n",
      "Epoch [1/5], Step [2000/36000], Loss: 0.1310\n",
      "Epoch [1/5], Step [2100/36000], Loss: 0.1587\n",
      "Epoch [1/5], Step [2200/36000], Loss: 0.2522\n",
      "Epoch [1/5], Step [2300/36000], Loss: 0.3023\n",
      "Epoch [1/5], Step [2400/36000], Loss: 0.3673\n",
      "Epoch [1/5], Step [2500/36000], Loss: 0.2597\n",
      "Epoch [1/5], Step [2600/36000], Loss: 0.1836\n",
      "Epoch [1/5], Step [2700/36000], Loss: 0.3294\n",
      "Epoch [1/5], Step [2800/36000], Loss: 0.3694\n",
      "Epoch [1/5], Step [2900/36000], Loss: 0.2951\n",
      "Epoch [1/5], Step [3000/36000], Loss: 0.4387\n",
      "Epoch [1/5], Step [3100/36000], Loss: 0.2346\n",
      "Epoch [1/5], Step [3200/36000], Loss: 0.3817\n",
      "Epoch [1/5], Step [3300/36000], Loss: 0.3781\n",
      "Epoch [1/5], Step [3400/36000], Loss: 0.3724\n",
      "Epoch [1/5], Step [3500/36000], Loss: 0.1615\n",
      "Epoch [1/5], Step [3600/36000], Loss: 0.2365\n",
      "Epoch [1/5], Step [3700/36000], Loss: 0.1929\n",
      "Epoch [1/5], Step [3800/36000], Loss: 0.1617\n",
      "Epoch [1/5], Step [3900/36000], Loss: 0.4647\n",
      "Epoch [1/5], Step [4000/36000], Loss: 0.2574\n",
      "Epoch [1/5], Step [4100/36000], Loss: 0.3969\n",
      "Epoch [1/5], Step [4200/36000], Loss: 0.2251\n",
      "Epoch [1/5], Step [4300/36000], Loss: 0.5063\n",
      "Epoch [1/5], Step [4400/36000], Loss: 0.3307\n",
      "Epoch [1/5], Step [4500/36000], Loss: 0.4522\n",
      "Epoch [1/5], Step [4600/36000], Loss: 0.1665\n",
      "Epoch [1/5], Step [4700/36000], Loss: 0.1581\n",
      "Epoch [1/5], Step [4800/36000], Loss: 0.3508\n",
      "Epoch [1/5], Step [4900/36000], Loss: 0.1343\n",
      "Epoch [1/5], Step [5000/36000], Loss: 0.6412\n",
      "Epoch [1/5], Step [5100/36000], Loss: 0.2584\n",
      "Epoch [1/5], Step [5200/36000], Loss: 0.1410\n",
      "Epoch [1/5], Step [5300/36000], Loss: 0.2174\n",
      "Epoch [1/5], Step [5400/36000], Loss: 0.3311\n",
      "Epoch [1/5], Step [5500/36000], Loss: 0.2497\n",
      "Epoch [1/5], Step [5600/36000], Loss: 0.5411\n",
      "Epoch [1/5], Step [5700/36000], Loss: 0.3432\n",
      "Epoch [1/5], Step [5800/36000], Loss: 0.2182\n",
      "Epoch [1/5], Step [5900/36000], Loss: 0.1135\n",
      "Epoch [1/5], Step [6000/36000], Loss: 0.2978\n",
      "Epoch [1/5], Step [6100/36000], Loss: 0.3682\n",
      "Epoch [1/5], Step [6200/36000], Loss: 0.2702\n",
      "Epoch [1/5], Step [6300/36000], Loss: 0.2572\n",
      "Epoch [1/5], Step [6400/36000], Loss: 0.0588\n",
      "Epoch [1/5], Step [6500/36000], Loss: 0.0726\n",
      "Epoch [1/5], Step [6600/36000], Loss: 0.4385\n",
      "Epoch [1/5], Step [6700/36000], Loss: 0.4347\n",
      "Epoch [1/5], Step [6800/36000], Loss: 0.3317\n",
      "Epoch [1/5], Step [6900/36000], Loss: 0.6439\n",
      "Epoch [1/5], Step [7000/36000], Loss: 0.1673\n",
      "Epoch [1/5], Step [7100/36000], Loss: 0.2483\n",
      "Epoch [1/5], Step [7200/36000], Loss: 0.3952\n",
      "Epoch [1/5], Step [7300/36000], Loss: 0.4471\n",
      "Epoch [1/5], Step [7400/36000], Loss: 0.2979\n",
      "Epoch [1/5], Step [7500/36000], Loss: 0.0851\n",
      "Epoch [1/5], Step [7600/36000], Loss: 0.1339\n",
      "Epoch [1/5], Step [7700/36000], Loss: 0.1672\n",
      "Epoch [1/5], Step [7800/36000], Loss: 0.2869\n",
      "Epoch [1/5], Step [7900/36000], Loss: 0.2555\n",
      "Epoch [1/5], Step [8000/36000], Loss: 0.2689\n",
      "Epoch [1/5], Step [8100/36000], Loss: 0.5807\n",
      "Epoch [1/5], Step [8200/36000], Loss: 0.1737\n",
      "Epoch [1/5], Step [8300/36000], Loss: 0.2868\n",
      "Epoch [1/5], Step [8400/36000], Loss: 0.3135\n",
      "Epoch [1/5], Step [8500/36000], Loss: 0.3156\n",
      "Epoch [1/5], Step [8600/36000], Loss: 0.2549\n",
      "Epoch [1/5], Step [8700/36000], Loss: 0.3036\n",
      "Epoch [1/5], Step [8800/36000], Loss: 0.3942\n",
      "Epoch [1/5], Step [8900/36000], Loss: 0.3098\n",
      "Epoch [1/5], Step [9000/36000], Loss: 0.3578\n",
      "Epoch [1/5], Step [9100/36000], Loss: 0.1254\n",
      "Epoch [1/5], Step [9200/36000], Loss: 0.1896\n",
      "Epoch [1/5], Step [9300/36000], Loss: 0.3610\n",
      "Epoch [1/5], Step [9400/36000], Loss: 0.2769\n",
      "Epoch [1/5], Step [9500/36000], Loss: 0.2925\n",
      "Epoch [1/5], Step [9600/36000], Loss: 0.2035\n",
      "Epoch [1/5], Step [9700/36000], Loss: 0.4241\n",
      "Epoch [1/5], Step [9800/36000], Loss: 0.5247\n",
      "Epoch [1/5], Step [9900/36000], Loss: 0.4618\n",
      "Epoch [1/5], Step [10000/36000], Loss: 0.2969\n",
      "Epoch [1/5], Step [10100/36000], Loss: 0.2177\n",
      "Epoch [1/5], Step [10200/36000], Loss: 0.3461\n",
      "Epoch [1/5], Step [10300/36000], Loss: 0.2597\n",
      "Epoch [1/5], Step [10400/36000], Loss: 0.2654\n",
      "Epoch [1/5], Step [10500/36000], Loss: 0.2540\n",
      "Epoch [1/5], Step [10600/36000], Loss: 0.2763\n",
      "Epoch [1/5], Step [10700/36000], Loss: 0.5372\n",
      "Epoch [1/5], Step [10800/36000], Loss: 0.3533\n",
      "Epoch [1/5], Step [10900/36000], Loss: 0.2195\n",
      "Epoch [1/5], Step [11000/36000], Loss: 0.4443\n",
      "Epoch [1/5], Step [11100/36000], Loss: 0.2602\n",
      "Epoch [1/5], Step [11200/36000], Loss: 0.3214\n",
      "Epoch [1/5], Step [11300/36000], Loss: 0.2540\n",
      "Epoch [1/5], Step [11400/36000], Loss: 0.4632\n",
      "Epoch [1/5], Step [11500/36000], Loss: 0.1391\n",
      "Epoch [1/5], Step [11600/36000], Loss: 0.7014\n",
      "Epoch [1/5], Step [11700/36000], Loss: 0.2231\n",
      "Epoch [1/5], Step [11800/36000], Loss: 0.1628\n",
      "Epoch [1/5], Step [11900/36000], Loss: 0.3398\n",
      "Epoch [1/5], Step [12000/36000], Loss: 0.1070\n",
      "Epoch [1/5], Step [12100/36000], Loss: 0.2717\n",
      "Epoch [1/5], Step [12200/36000], Loss: 0.3210\n",
      "Epoch [1/5], Step [12300/36000], Loss: 0.2242\n",
      "Epoch [1/5], Step [12400/36000], Loss: 0.3515\n",
      "Epoch [1/5], Step [12500/36000], Loss: 0.1577\n",
      "Epoch [1/5], Step [12600/36000], Loss: 0.2361\n",
      "Epoch [1/5], Step [12700/36000], Loss: 0.2296\n",
      "Epoch [1/5], Step [12800/36000], Loss: 0.1153\n",
      "Epoch [1/5], Step [12900/36000], Loss: 0.4067\n",
      "Epoch [1/5], Step [13000/36000], Loss: 0.3832\n",
      "Epoch [1/5], Step [13100/36000], Loss: 0.1951\n",
      "Epoch [1/5], Step [13200/36000], Loss: 0.4579\n",
      "Epoch [1/5], Step [13300/36000], Loss: 0.3389\n",
      "Epoch [1/5], Step [13400/36000], Loss: 0.2759\n",
      "Epoch [1/5], Step [13500/36000], Loss: 0.3644\n",
      "Epoch [1/5], Step [13600/36000], Loss: 0.4901\n",
      "Epoch [1/5], Step [13700/36000], Loss: 0.2096\n",
      "Epoch [1/5], Step [13800/36000], Loss: 0.4926\n",
      "Epoch [1/5], Step [13900/36000], Loss: 0.3271\n",
      "Epoch [1/5], Step [14000/36000], Loss: 0.1536\n",
      "Epoch [1/5], Step [14100/36000], Loss: 0.1946\n",
      "Epoch [1/5], Step [14200/36000], Loss: 0.2608\n",
      "Epoch [1/5], Step [14300/36000], Loss: 0.3197\n",
      "Epoch [1/5], Step [14400/36000], Loss: 0.3321\n",
      "Epoch [1/5], Step [14500/36000], Loss: 0.1016\n",
      "Epoch [1/5], Step [14600/36000], Loss: 0.6672\n",
      "Epoch [1/5], Step [14700/36000], Loss: 0.3553\n",
      "Epoch [1/5], Step [14800/36000], Loss: 0.2895\n",
      "Epoch [1/5], Step [14900/36000], Loss: 0.1896\n",
      "Epoch [1/5], Step [15000/36000], Loss: 0.0791\n",
      "Epoch [1/5], Step [15100/36000], Loss: 0.2761\n",
      "Epoch [1/5], Step [15200/36000], Loss: 0.4515\n",
      "Epoch [1/5], Step [15300/36000], Loss: 0.1444\n",
      "Epoch [1/5], Step [15400/36000], Loss: 0.1701\n",
      "Epoch [1/5], Step [15500/36000], Loss: 0.2551\n",
      "Epoch [1/5], Step [15600/36000], Loss: 0.1627\n",
      "Epoch [1/5], Step [15700/36000], Loss: 0.4659\n",
      "Epoch [1/5], Step [15800/36000], Loss: 0.5965\n",
      "Epoch [1/5], Step [15900/36000], Loss: 0.1813\n",
      "Epoch [1/5], Step [16000/36000], Loss: 0.5473\n",
      "Epoch [1/5], Step [16100/36000], Loss: 0.1557\n",
      "Epoch [1/5], Step [16200/36000], Loss: 0.2407\n",
      "Epoch [1/5], Step [16300/36000], Loss: 0.3076\n",
      "Epoch [1/5], Step [16400/36000], Loss: 0.2569\n",
      "Epoch [1/5], Step [16500/36000], Loss: 0.1427\n",
      "Epoch [1/5], Step [16600/36000], Loss: 0.3092\n",
      "Epoch [1/5], Step [16700/36000], Loss: 0.4081\n",
      "Epoch [1/5], Step [16800/36000], Loss: 0.1589\n",
      "Epoch [1/5], Step [16900/36000], Loss: 0.2460\n",
      "Epoch [1/5], Step [17000/36000], Loss: 0.4051\n",
      "Epoch [1/5], Step [17100/36000], Loss: 0.3091\n",
      "Epoch [1/5], Step [17200/36000], Loss: 0.1597\n",
      "Epoch [1/5], Step [17300/36000], Loss: 0.3559\n",
      "Epoch [1/5], Step [17400/36000], Loss: 0.1849\n",
      "Epoch [1/5], Step [17500/36000], Loss: 0.2101\n",
      "Epoch [1/5], Step [17600/36000], Loss: 0.3074\n",
      "Epoch [1/5], Step [17700/36000], Loss: 0.7485\n",
      "Epoch [1/5], Step [17800/36000], Loss: 0.2583\n",
      "Epoch [1/5], Step [17900/36000], Loss: 0.2063\n",
      "Epoch [1/5], Step [18000/36000], Loss: 0.2180\n",
      "Epoch [1/5], Step [18100/36000], Loss: 0.6553\n"
     ]
    },
    {
     "name": "stdout",
     "output_type": "stream",
     "text": [
      "Epoch [1/5], Step [18200/36000], Loss: 0.3294\n",
      "Epoch [1/5], Step [18300/36000], Loss: 0.3580\n",
      "Epoch [1/5], Step [18400/36000], Loss: 0.4929\n",
      "Epoch [1/5], Step [18500/36000], Loss: 0.2881\n",
      "Epoch [1/5], Step [18600/36000], Loss: 0.2954\n",
      "Epoch [1/5], Step [18700/36000], Loss: 0.3116\n",
      "Epoch [1/5], Step [18800/36000], Loss: 0.2439\n",
      "Epoch [1/5], Step [18900/36000], Loss: 0.1226\n",
      "Epoch [1/5], Step [19000/36000], Loss: 0.3019\n",
      "Epoch [1/5], Step [19100/36000], Loss: 0.3356\n",
      "Epoch [1/5], Step [19200/36000], Loss: 0.1764\n",
      "Epoch [1/5], Step [19300/36000], Loss: 0.2444\n",
      "Epoch [1/5], Step [19400/36000], Loss: 0.3547\n",
      "Epoch [1/5], Step [19500/36000], Loss: 0.3258\n",
      "Epoch [1/5], Step [19600/36000], Loss: 0.1941\n",
      "Epoch [1/5], Step [19700/36000], Loss: 0.4910\n",
      "Epoch [1/5], Step [19800/36000], Loss: 0.2053\n",
      "Epoch [1/5], Step [19900/36000], Loss: 0.3798\n",
      "Epoch [1/5], Step [20000/36000], Loss: 0.2142\n",
      "Epoch [1/5], Step [20100/36000], Loss: 0.3736\n",
      "Epoch [1/5], Step [20200/36000], Loss: 0.2032\n",
      "Epoch [1/5], Step [20300/36000], Loss: 0.2350\n",
      "Epoch [1/5], Step [20400/36000], Loss: 0.2203\n",
      "Epoch [1/5], Step [20500/36000], Loss: 0.2485\n",
      "Epoch [1/5], Step [20600/36000], Loss: 0.1444\n",
      "Epoch [1/5], Step [20700/36000], Loss: 0.1627\n",
      "Epoch [1/5], Step [20800/36000], Loss: 0.3357\n",
      "Epoch [1/5], Step [20900/36000], Loss: 0.3094\n",
      "Epoch [1/5], Step [21000/36000], Loss: 0.2823\n",
      "Epoch [1/5], Step [21100/36000], Loss: 0.5002\n",
      "Epoch [1/5], Step [21200/36000], Loss: 0.3350\n",
      "Epoch [1/5], Step [21300/36000], Loss: 0.2408\n",
      "Epoch [1/5], Step [21400/36000], Loss: 0.5452\n",
      "Epoch [1/5], Step [21500/36000], Loss: 0.3269\n",
      "Epoch [1/5], Step [21600/36000], Loss: 0.2268\n",
      "Epoch [1/5], Step [21700/36000], Loss: 0.1492\n",
      "Epoch [1/5], Step [21800/36000], Loss: 0.2753\n",
      "Epoch [1/5], Step [21900/36000], Loss: 0.3168\n",
      "Epoch [1/5], Step [22000/36000], Loss: 0.3201\n",
      "Epoch [1/5], Step [22100/36000], Loss: 0.1679\n",
      "Epoch [1/5], Step [22200/36000], Loss: 0.0979\n",
      "Epoch [1/5], Step [22300/36000], Loss: 0.4546\n",
      "Epoch [1/5], Step [22400/36000], Loss: 0.2813\n",
      "Epoch [1/5], Step [22500/36000], Loss: 0.2770\n",
      "Epoch [1/5], Step [22600/36000], Loss: 0.4284\n",
      "Epoch [1/5], Step [22700/36000], Loss: 0.4147\n",
      "Epoch [1/5], Step [22800/36000], Loss: 0.3350\n",
      "Epoch [1/5], Step [22900/36000], Loss: 0.1777\n",
      "Epoch [1/5], Step [23000/36000], Loss: 0.4930\n",
      "Epoch [1/5], Step [23100/36000], Loss: 0.1533\n",
      "Epoch [1/5], Step [23200/36000], Loss: 0.4025\n",
      "Epoch [1/5], Step [23300/36000], Loss: 0.3192\n",
      "Epoch [1/5], Step [23400/36000], Loss: 0.6098\n",
      "Epoch [1/5], Step [23500/36000], Loss: 0.4172\n",
      "Epoch [1/5], Step [23600/36000], Loss: 0.2947\n",
      "Epoch [1/5], Step [23700/36000], Loss: 0.6863\n",
      "Epoch [1/5], Step [23800/36000], Loss: 0.3177\n",
      "Epoch [1/5], Step [23900/36000], Loss: 0.1660\n",
      "Epoch [1/5], Step [24000/36000], Loss: 0.1921\n",
      "Epoch [1/5], Step [24100/36000], Loss: 0.3434\n",
      "Epoch [1/5], Step [24200/36000], Loss: 0.3734\n",
      "Epoch [1/5], Step [24300/36000], Loss: 0.2820\n",
      "Epoch [1/5], Step [24400/36000], Loss: 0.2629\n",
      "Epoch [1/5], Step [24500/36000], Loss: 0.4568\n",
      "Epoch [1/5], Step [24600/36000], Loss: 0.4384\n",
      "Epoch [1/5], Step [24700/36000], Loss: 0.4411\n",
      "Epoch [1/5], Step [24800/36000], Loss: 0.2397\n",
      "Epoch [1/5], Step [24900/36000], Loss: 0.2558\n",
      "Epoch [1/5], Step [25000/36000], Loss: 0.1318\n",
      "Epoch [1/5], Step [25100/36000], Loss: 0.4975\n",
      "Epoch [1/5], Step [25200/36000], Loss: 0.3816\n",
      "Epoch [1/5], Step [25300/36000], Loss: 0.3762\n",
      "Epoch [1/5], Step [25400/36000], Loss: 0.3815\n",
      "Epoch [1/5], Step [25500/36000], Loss: 0.2841\n",
      "Epoch [1/5], Step [25600/36000], Loss: 0.1425\n",
      "Epoch [1/5], Step [25700/36000], Loss: 0.3060\n",
      "Epoch [1/5], Step [25800/36000], Loss: 0.4991\n",
      "Epoch [1/5], Step [25900/36000], Loss: 0.2943\n",
      "Epoch [1/5], Step [26000/36000], Loss: 0.2033\n",
      "Epoch [1/5], Step [26100/36000], Loss: 0.2076\n",
      "Epoch [1/5], Step [26200/36000], Loss: 0.1351\n",
      "Epoch [1/5], Step [26300/36000], Loss: 0.1456\n",
      "Epoch [1/5], Step [26400/36000], Loss: 0.4200\n",
      "Epoch [1/5], Step [26500/36000], Loss: 0.1829\n",
      "Epoch [1/5], Step [26600/36000], Loss: 0.2739\n",
      "Epoch [1/5], Step [26700/36000], Loss: 0.1839\n",
      "Epoch [1/5], Step [26800/36000], Loss: 0.1885\n",
      "Epoch [1/5], Step [26900/36000], Loss: 0.4257\n",
      "Epoch [1/5], Step [27000/36000], Loss: 0.5777\n",
      "Epoch [1/5], Step [27100/36000], Loss: 0.1399\n",
      "Epoch [1/5], Step [27200/36000], Loss: 0.3235\n",
      "Epoch [1/5], Step [27300/36000], Loss: 0.1751\n",
      "Epoch [1/5], Step [27400/36000], Loss: 0.2070\n",
      "Epoch [1/5], Step [27500/36000], Loss: 0.7007\n",
      "Epoch [1/5], Step [27600/36000], Loss: 0.2647\n",
      "Epoch [1/5], Step [27700/36000], Loss: 0.4540\n",
      "Epoch [1/5], Step [27800/36000], Loss: 0.2594\n",
      "Epoch [1/5], Step [27900/36000], Loss: 0.3943\n",
      "Epoch [1/5], Step [28000/36000], Loss: 0.2833\n",
      "Epoch [1/5], Step [28100/36000], Loss: 0.2593\n",
      "Epoch [1/5], Step [28200/36000], Loss: 0.4406\n",
      "Epoch [1/5], Step [28300/36000], Loss: 0.3030\n",
      "Epoch [1/5], Step [28400/36000], Loss: 0.1526\n",
      "Epoch [1/5], Step [28500/36000], Loss: 0.2817\n",
      "Epoch [1/5], Step [28600/36000], Loss: 0.4984\n",
      "Epoch [1/5], Step [28700/36000], Loss: 0.3015\n",
      "Epoch [1/5], Step [28800/36000], Loss: 0.1735\n",
      "Epoch [1/5], Step [28900/36000], Loss: 0.1790\n",
      "Epoch [1/5], Step [29000/36000], Loss: 0.4549\n",
      "Epoch [1/5], Step [29100/36000], Loss: 0.1159\n",
      "Epoch [1/5], Step [29200/36000], Loss: 0.3295\n",
      "Epoch [1/5], Step [29300/36000], Loss: 0.3166\n",
      "Epoch [1/5], Step [29400/36000], Loss: 0.2591\n",
      "Epoch [1/5], Step [29500/36000], Loss: 0.3293\n",
      "Epoch [1/5], Step [29600/36000], Loss: 0.2316\n",
      "Epoch [1/5], Step [29700/36000], Loss: 0.2524\n",
      "Epoch [1/5], Step [29800/36000], Loss: 0.3761\n",
      "Epoch [1/5], Step [29900/36000], Loss: 0.2025\n",
      "Epoch [1/5], Step [30000/36000], Loss: 0.4362\n",
      "Epoch [1/5], Step [30100/36000], Loss: 0.2856\n",
      "Epoch [1/5], Step [30200/36000], Loss: 0.1460\n",
      "Epoch [1/5], Step [30300/36000], Loss: 0.3583\n",
      "Epoch [1/5], Step [30400/36000], Loss: 0.2170\n",
      "Epoch [1/5], Step [30500/36000], Loss: 0.1964\n",
      "Epoch [1/5], Step [30600/36000], Loss: 0.1691\n",
      "Epoch [1/5], Step [30700/36000], Loss: 0.6043\n",
      "Epoch [1/5], Step [30800/36000], Loss: 0.3570\n",
      "Epoch [1/5], Step [30900/36000], Loss: 0.3315\n",
      "Epoch [1/5], Step [31000/36000], Loss: 0.2487\n",
      "Epoch [1/5], Step [31100/36000], Loss: 0.1361\n",
      "Epoch [1/5], Step [31200/36000], Loss: 0.2860\n",
      "Epoch [1/5], Step [31300/36000], Loss: 0.2568\n",
      "Epoch [1/5], Step [31400/36000], Loss: 0.1748\n",
      "Epoch [1/5], Step [31500/36000], Loss: 0.1919\n",
      "Epoch [1/5], Step [31600/36000], Loss: 0.2475\n",
      "Epoch [1/5], Step [31700/36000], Loss: 0.3608\n",
      "Epoch [1/5], Step [31800/36000], Loss: 0.2415\n",
      "Epoch [1/5], Step [31900/36000], Loss: 0.4521\n",
      "Epoch [1/5], Step [32000/36000], Loss: 0.1568\n",
      "Epoch [1/5], Step [32100/36000], Loss: 0.2821\n",
      "Epoch [1/5], Step [32200/36000], Loss: 0.3605\n",
      "Epoch [1/5], Step [32300/36000], Loss: 0.4000\n",
      "Epoch [1/5], Step [32400/36000], Loss: 0.1535\n",
      "Epoch [1/5], Step [32500/36000], Loss: 0.2372\n",
      "Epoch [1/5], Step [32600/36000], Loss: 0.3524\n",
      "Epoch [1/5], Step [32700/36000], Loss: 0.2529\n",
      "Epoch [1/5], Step [32800/36000], Loss: 0.2583\n",
      "Epoch [1/5], Step [32900/36000], Loss: 0.1939\n",
      "Epoch [1/5], Step [33000/36000], Loss: 0.2561\n",
      "Epoch [1/5], Step [33100/36000], Loss: 0.2109\n",
      "Epoch [1/5], Step [33200/36000], Loss: 0.4375\n",
      "Epoch [1/5], Step [33300/36000], Loss: 0.2912\n",
      "Epoch [1/5], Step [33400/36000], Loss: 0.2354\n",
      "Epoch [1/5], Step [33500/36000], Loss: 0.2553\n",
      "Epoch [1/5], Step [33600/36000], Loss: 0.2954\n",
      "Epoch [1/5], Step [33700/36000], Loss: 0.2264\n",
      "Epoch [1/5], Step [33800/36000], Loss: 0.5563\n",
      "Epoch [1/5], Step [33900/36000], Loss: 0.0616\n",
      "Epoch [1/5], Step [34000/36000], Loss: 0.3263\n",
      "Epoch [1/5], Step [34100/36000], Loss: 0.6969\n",
      "Epoch [1/5], Step [34200/36000], Loss: 0.1093\n",
      "Epoch [1/5], Step [34300/36000], Loss: 0.4224\n",
      "Epoch [1/5], Step [34400/36000], Loss: 0.2119\n",
      "Epoch [1/5], Step [34500/36000], Loss: 0.2669\n",
      "Epoch [1/5], Step [34600/36000], Loss: 0.5917\n",
      "Epoch [1/5], Step [34700/36000], Loss: 0.2044\n",
      "Epoch [1/5], Step [34800/36000], Loss: 0.4900\n",
      "Epoch [1/5], Step [34900/36000], Loss: 0.1755\n",
      "Epoch [1/5], Step [35000/36000], Loss: 0.3972\n",
      "Epoch [1/5], Step [35100/36000], Loss: 0.4073\n",
      "Epoch [1/5], Step [35200/36000], Loss: 0.3716\n",
      "Epoch [1/5], Step [35300/36000], Loss: 0.2274\n",
      "Epoch [1/5], Step [35400/36000], Loss: 0.1354\n",
      "Epoch [1/5], Step [35500/36000], Loss: 0.4187\n",
      "Epoch [1/5], Step [35600/36000], Loss: 0.1028\n",
      "Epoch [1/5], Step [35700/36000], Loss: 0.3151\n",
      "Epoch [1/5], Step [35800/36000], Loss: 0.3610\n",
      "Epoch [1/5], Step [35900/36000], Loss: 0.2582\n",
      "Epoch [1/5], Step [36000/36000], Loss: 0.3419\n",
      "Epoch 1, train_loss: 0.2989\n"
     ]
    },
    {
     "name": "stdout",
     "output_type": "stream",
     "text": [
      "Epoch [2/5], Step [100/36000], Loss: 0.1876\n",
      "Epoch [2/5], Step [200/36000], Loss: 0.4817\n",
      "Epoch [2/5], Step [300/36000], Loss: 0.0526\n",
      "Epoch [2/5], Step [400/36000], Loss: 0.2646\n",
      "Epoch [2/5], Step [500/36000], Loss: 0.1507\n",
      "Epoch [2/5], Step [600/36000], Loss: 0.1530\n",
      "Epoch [2/5], Step [700/36000], Loss: 0.3397\n",
      "Epoch [2/5], Step [800/36000], Loss: 0.0798\n",
      "Epoch [2/5], Step [900/36000], Loss: 0.2670\n",
      "Epoch [2/5], Step [1000/36000], Loss: 0.6350\n",
      "Epoch [2/5], Step [1100/36000], Loss: 0.5039\n",
      "Epoch [2/5], Step [1200/36000], Loss: 0.0981\n",
      "Epoch [2/5], Step [1300/36000], Loss: 0.4037\n",
      "Epoch [2/5], Step [1400/36000], Loss: 0.2123\n",
      "Epoch [2/5], Step [1500/36000], Loss: 0.2200\n",
      "Epoch [2/5], Step [1600/36000], Loss: 0.2438\n",
      "Epoch [2/5], Step [1700/36000], Loss: 0.2498\n",
      "Epoch [2/5], Step [1800/36000], Loss: 0.2740\n",
      "Epoch [2/5], Step [1900/36000], Loss: 0.1199\n",
      "Epoch [2/5], Step [2000/36000], Loss: 0.1528\n",
      "Epoch [2/5], Step [2100/36000], Loss: 0.1215\n",
      "Epoch [2/5], Step [2200/36000], Loss: 0.1924\n",
      "Epoch [2/5], Step [2300/36000], Loss: 0.5965\n",
      "Epoch [2/5], Step [2400/36000], Loss: 0.2384\n",
      "Epoch [2/5], Step [2500/36000], Loss: 0.3708\n",
      "Epoch [2/5], Step [2600/36000], Loss: 0.1493\n",
      "Epoch [2/5], Step [2700/36000], Loss: 0.1457\n",
      "Epoch [2/5], Step [2800/36000], Loss: 0.1477\n",
      "Epoch [2/5], Step [2900/36000], Loss: 0.2541\n",
      "Epoch [2/5], Step [3000/36000], Loss: 0.1959\n",
      "Epoch [2/5], Step [3100/36000], Loss: 0.2312\n",
      "Epoch [2/5], Step [3200/36000], Loss: 0.3727\n",
      "Epoch [2/5], Step [3300/36000], Loss: 0.1924\n",
      "Epoch [2/5], Step [3400/36000], Loss: 0.1254\n",
      "Epoch [2/5], Step [3500/36000], Loss: 0.1715\n",
      "Epoch [2/5], Step [3600/36000], Loss: 0.5130\n",
      "Epoch [2/5], Step [3700/36000], Loss: 0.5273\n",
      "Epoch [2/5], Step [3800/36000], Loss: 0.1605\n",
      "Epoch [2/5], Step [3900/36000], Loss: 0.2706\n",
      "Epoch [2/5], Step [4000/36000], Loss: 0.1201\n",
      "Epoch [2/5], Step [4100/36000], Loss: 0.2764\n",
      "Epoch [2/5], Step [4200/36000], Loss: 0.1010\n",
      "Epoch [2/5], Step [4300/36000], Loss: 0.3181\n",
      "Epoch [2/5], Step [4400/36000], Loss: 0.3859\n",
      "Epoch [2/5], Step [4500/36000], Loss: 0.2511\n",
      "Epoch [2/5], Step [4600/36000], Loss: 0.2695\n",
      "Epoch [2/5], Step [4700/36000], Loss: 0.1751\n",
      "Epoch [2/5], Step [4800/36000], Loss: 0.3465\n",
      "Epoch [2/5], Step [4900/36000], Loss: 0.1171\n",
      "Epoch [2/5], Step [5000/36000], Loss: 0.2530\n",
      "Epoch [2/5], Step [5100/36000], Loss: 0.1509\n",
      "Epoch [2/5], Step [5200/36000], Loss: 0.2864\n",
      "Epoch [2/5], Step [5300/36000], Loss: 0.4301\n",
      "Epoch [2/5], Step [5400/36000], Loss: 0.3602\n",
      "Epoch [2/5], Step [5500/36000], Loss: 0.3722\n",
      "Epoch [2/5], Step [5600/36000], Loss: 0.1960\n",
      "Epoch [2/5], Step [5700/36000], Loss: 0.2117\n",
      "Epoch [2/5], Step [5800/36000], Loss: 0.2296\n",
      "Epoch [2/5], Step [5900/36000], Loss: 0.3160\n",
      "Epoch [2/5], Step [6000/36000], Loss: 0.2039\n",
      "Epoch [2/5], Step [6100/36000], Loss: 0.2064\n",
      "Epoch [2/5], Step [6200/36000], Loss: 0.1321\n",
      "Epoch [2/5], Step [6300/36000], Loss: 0.2110\n",
      "Epoch [2/5], Step [6400/36000], Loss: 0.5035\n",
      "Epoch [2/5], Step [6500/36000], Loss: 0.2456\n",
      "Epoch [2/5], Step [6600/36000], Loss: 0.3362\n",
      "Epoch [2/5], Step [6700/36000], Loss: 0.2278\n",
      "Epoch [2/5], Step [6800/36000], Loss: 0.2056\n",
      "Epoch [2/5], Step [6900/36000], Loss: 0.2728\n",
      "Epoch [2/5], Step [7000/36000], Loss: 0.1731\n",
      "Epoch [2/5], Step [7100/36000], Loss: 0.1891\n",
      "Epoch [2/5], Step [7200/36000], Loss: 0.2865\n",
      "Epoch [2/5], Step [7300/36000], Loss: 0.1229\n",
      "Epoch [2/5], Step [7400/36000], Loss: 0.3098\n",
      "Epoch [2/5], Step [7500/36000], Loss: 0.0951\n",
      "Epoch [2/5], Step [7600/36000], Loss: 0.3225\n",
      "Epoch [2/5], Step [7700/36000], Loss: 0.2825\n",
      "Epoch [2/5], Step [7800/36000], Loss: 0.2345\n",
      "Epoch [2/5], Step [7900/36000], Loss: 0.4011\n",
      "Epoch [2/5], Step [8000/36000], Loss: 0.4115\n",
      "Epoch [2/5], Step [8100/36000], Loss: 0.4071\n",
      "Epoch [2/5], Step [8200/36000], Loss: 0.2482\n",
      "Epoch [2/5], Step [8300/36000], Loss: 0.2754\n",
      "Epoch [2/5], Step [8400/36000], Loss: 0.5566\n",
      "Epoch [2/5], Step [8500/36000], Loss: 0.4587\n",
      "Epoch [2/5], Step [8600/36000], Loss: 0.2804\n",
      "Epoch [2/5], Step [8700/36000], Loss: 0.5268\n",
      "Epoch [2/5], Step [8800/36000], Loss: 0.5591\n",
      "Epoch [2/5], Step [8900/36000], Loss: 0.3044\n",
      "Epoch [2/5], Step [9000/36000], Loss: 0.0979\n",
      "Epoch [2/5], Step [9100/36000], Loss: 0.4739\n",
      "Epoch [2/5], Step [9200/36000], Loss: 0.1535\n",
      "Epoch [2/5], Step [9300/36000], Loss: 0.1464\n",
      "Epoch [2/5], Step [9400/36000], Loss: 0.3020\n",
      "Epoch [2/5], Step [9500/36000], Loss: 0.2766\n",
      "Epoch [2/5], Step [9600/36000], Loss: 0.3199\n",
      "Epoch [2/5], Step [9700/36000], Loss: 0.4835\n",
      "Epoch [2/5], Step [9800/36000], Loss: 0.4721\n",
      "Epoch [2/5], Step [9900/36000], Loss: 0.4898\n",
      "Epoch [2/5], Step [10000/36000], Loss: 0.3033\n",
      "Epoch [2/5], Step [10100/36000], Loss: 0.3303\n",
      "Epoch [2/5], Step [10200/36000], Loss: 0.1736\n",
      "Epoch [2/5], Step [10300/36000], Loss: 0.3040\n",
      "Epoch [2/5], Step [10400/36000], Loss: 0.2038\n",
      "Epoch [2/5], Step [10500/36000], Loss: 0.1862\n",
      "Epoch [2/5], Step [10600/36000], Loss: 0.5570\n",
      "Epoch [2/5], Step [10700/36000], Loss: 0.3146\n",
      "Epoch [2/5], Step [10800/36000], Loss: 0.5037\n",
      "Epoch [2/5], Step [10900/36000], Loss: 0.2775\n",
      "Epoch [2/5], Step [11000/36000], Loss: 0.2810\n",
      "Epoch [2/5], Step [11100/36000], Loss: 0.2294\n",
      "Epoch [2/5], Step [11200/36000], Loss: 0.1542\n",
      "Epoch [2/5], Step [11300/36000], Loss: 0.2045\n",
      "Epoch [2/5], Step [11400/36000], Loss: 0.1841\n",
      "Epoch [2/5], Step [11500/36000], Loss: 0.3088\n",
      "Epoch [2/5], Step [11600/36000], Loss: 0.2519\n",
      "Epoch [2/5], Step [11700/36000], Loss: 0.4945\n",
      "Epoch [2/5], Step [11800/36000], Loss: 0.2876\n",
      "Epoch [2/5], Step [11900/36000], Loss: 0.1899\n",
      "Epoch [2/5], Step [12000/36000], Loss: 0.1425\n",
      "Epoch [2/5], Step [12100/36000], Loss: 0.2699\n",
      "Epoch [2/5], Step [12200/36000], Loss: 0.6453\n",
      "Epoch [2/5], Step [12300/36000], Loss: 0.1224\n",
      "Epoch [2/5], Step [12400/36000], Loss: 0.2020\n",
      "Epoch [2/5], Step [12500/36000], Loss: 0.4178\n",
      "Epoch [2/5], Step [12600/36000], Loss: 0.6342\n",
      "Epoch [2/5], Step [12700/36000], Loss: 0.1943\n",
      "Epoch [2/5], Step [12800/36000], Loss: 0.3304\n",
      "Epoch [2/5], Step [12900/36000], Loss: 0.1487\n",
      "Epoch [2/5], Step [13000/36000], Loss: 0.4466\n",
      "Epoch [2/5], Step [13100/36000], Loss: 0.2298\n",
      "Epoch [2/5], Step [13200/36000], Loss: 0.3424\n",
      "Epoch [2/5], Step [13300/36000], Loss: 0.1545\n",
      "Epoch [2/5], Step [13400/36000], Loss: 0.1851\n",
      "Epoch [2/5], Step [13500/36000], Loss: 0.0581\n",
      "Epoch [2/5], Step [13600/36000], Loss: 0.4284\n",
      "Epoch [2/5], Step [13700/36000], Loss: 0.1526\n",
      "Epoch [2/5], Step [13800/36000], Loss: 0.2804\n",
      "Epoch [2/5], Step [13900/36000], Loss: 0.4088\n",
      "Epoch [2/5], Step [14000/36000], Loss: 0.2892\n",
      "Epoch [2/5], Step [14100/36000], Loss: 0.4184\n",
      "Epoch [2/5], Step [14200/36000], Loss: 0.1887\n",
      "Epoch [2/5], Step [14300/36000], Loss: 0.3644\n",
      "Epoch [2/5], Step [14400/36000], Loss: 0.3050\n",
      "Epoch [2/5], Step [14500/36000], Loss: 0.1216\n",
      "Epoch [2/5], Step [14600/36000], Loss: 0.2684\n",
      "Epoch [2/5], Step [14700/36000], Loss: 0.3638\n",
      "Epoch [2/5], Step [14800/36000], Loss: 0.2589\n",
      "Epoch [2/5], Step [14900/36000], Loss: 0.2122\n",
      "Epoch [2/5], Step [15000/36000], Loss: 0.3680\n",
      "Epoch [2/5], Step [15100/36000], Loss: 0.5011\n",
      "Epoch [2/5], Step [15200/36000], Loss: 0.3942\n",
      "Epoch [2/5], Step [15300/36000], Loss: 0.3249\n",
      "Epoch [2/5], Step [15400/36000], Loss: 0.3185\n",
      "Epoch [2/5], Step [15500/36000], Loss: 0.2372\n",
      "Epoch [2/5], Step [15600/36000], Loss: 0.2436\n",
      "Epoch [2/5], Step [15700/36000], Loss: 0.3970\n",
      "Epoch [2/5], Step [15800/36000], Loss: 0.2250\n",
      "Epoch [2/5], Step [15900/36000], Loss: 0.2117\n",
      "Epoch [2/5], Step [16000/36000], Loss: 0.1868\n",
      "Epoch [2/5], Step [16100/36000], Loss: 0.5335\n",
      "Epoch [2/5], Step [16200/36000], Loss: 0.3824\n",
      "Epoch [2/5], Step [16300/36000], Loss: 0.3626\n",
      "Epoch [2/5], Step [16400/36000], Loss: 0.1506\n",
      "Epoch [2/5], Step [16500/36000], Loss: 0.1311\n",
      "Epoch [2/5], Step [16600/36000], Loss: 0.1360\n",
      "Epoch [2/5], Step [16700/36000], Loss: 0.1812\n",
      "Epoch [2/5], Step [16800/36000], Loss: 0.2436\n",
      "Epoch [2/5], Step [16900/36000], Loss: 0.0683\n",
      "Epoch [2/5], Step [17000/36000], Loss: 0.1252\n",
      "Epoch [2/5], Step [17100/36000], Loss: 0.1650\n",
      "Epoch [2/5], Step [17200/36000], Loss: 0.2221\n",
      "Epoch [2/5], Step [17300/36000], Loss: 0.4765\n",
      "Epoch [2/5], Step [17400/36000], Loss: 0.3982\n",
      "Epoch [2/5], Step [17500/36000], Loss: 0.2997\n",
      "Epoch [2/5], Step [17600/36000], Loss: 0.4064\n",
      "Epoch [2/5], Step [17700/36000], Loss: 0.2319\n",
      "Epoch [2/5], Step [17800/36000], Loss: 0.3670\n",
      "Epoch [2/5], Step [17900/36000], Loss: 0.3909\n",
      "Epoch [2/5], Step [18000/36000], Loss: 0.3726\n",
      "Epoch [2/5], Step [18100/36000], Loss: 0.5357\n"
     ]
    },
    {
     "name": "stdout",
     "output_type": "stream",
     "text": [
      "Epoch [2/5], Step [18200/36000], Loss: 0.1518\n",
      "Epoch [2/5], Step [18300/36000], Loss: 0.1980\n",
      "Epoch [2/5], Step [18400/36000], Loss: 0.2229\n",
      "Epoch [2/5], Step [18500/36000], Loss: 0.2463\n",
      "Epoch [2/5], Step [18600/36000], Loss: 0.2092\n",
      "Epoch [2/5], Step [18700/36000], Loss: 0.3202\n",
      "Epoch [2/5], Step [18800/36000], Loss: 0.1752\n",
      "Epoch [2/5], Step [18900/36000], Loss: 0.4275\n",
      "Epoch [2/5], Step [19000/36000], Loss: 0.2477\n",
      "Epoch [2/5], Step [19100/36000], Loss: 0.3517\n",
      "Epoch [2/5], Step [19200/36000], Loss: 0.0977\n",
      "Epoch [2/5], Step [19300/36000], Loss: 0.0757\n",
      "Epoch [2/5], Step [19400/36000], Loss: 0.4006\n",
      "Epoch [2/5], Step [19500/36000], Loss: 0.1381\n",
      "Epoch [2/5], Step [19600/36000], Loss: 0.3747\n",
      "Epoch [2/5], Step [19700/36000], Loss: 0.2441\n",
      "Epoch [2/5], Step [19800/36000], Loss: 0.3484\n",
      "Epoch [2/5], Step [19900/36000], Loss: 0.2395\n",
      "Epoch [2/5], Step [20000/36000], Loss: 0.3986\n",
      "Epoch [2/5], Step [20100/36000], Loss: 0.1599\n",
      "Epoch [2/5], Step [20200/36000], Loss: 0.1833\n",
      "Epoch [2/5], Step [20300/36000], Loss: 0.3232\n",
      "Epoch [2/5], Step [20400/36000], Loss: 0.2086\n",
      "Epoch [2/5], Step [20500/36000], Loss: 0.3819\n",
      "Epoch [2/5], Step [20600/36000], Loss: 0.3096\n",
      "Epoch [2/5], Step [20700/36000], Loss: 0.3409\n",
      "Epoch [2/5], Step [20800/36000], Loss: 0.3823\n",
      "Epoch [2/5], Step [20900/36000], Loss: 0.3361\n",
      "Epoch [2/5], Step [21000/36000], Loss: 0.3216\n",
      "Epoch [2/5], Step [21100/36000], Loss: 0.2997\n",
      "Epoch [2/5], Step [21200/36000], Loss: 0.2076\n",
      "Epoch [2/5], Step [21300/36000], Loss: 0.1085\n",
      "Epoch [2/5], Step [21400/36000], Loss: 0.1239\n",
      "Epoch [2/5], Step [21500/36000], Loss: 0.1134\n",
      "Epoch [2/5], Step [21600/36000], Loss: 0.0875\n",
      "Epoch [2/5], Step [21700/36000], Loss: 0.2827\n",
      "Epoch [2/5], Step [21800/36000], Loss: 0.1485\n",
      "Epoch [2/5], Step [21900/36000], Loss: 0.1724\n",
      "Epoch [2/5], Step [22000/36000], Loss: 0.2160\n",
      "Epoch [2/5], Step [22100/36000], Loss: 0.1302\n",
      "Epoch [2/5], Step [22200/36000], Loss: 0.2779\n",
      "Epoch [2/5], Step [22300/36000], Loss: 0.0847\n",
      "Epoch [2/5], Step [22400/36000], Loss: 0.2274\n",
      "Epoch [2/5], Step [22500/36000], Loss: 0.3674\n",
      "Epoch [2/5], Step [22600/36000], Loss: 0.2447\n",
      "Epoch [2/5], Step [22700/36000], Loss: 0.2687\n",
      "Epoch [2/5], Step [22800/36000], Loss: 0.2821\n",
      "Epoch [2/5], Step [22900/36000], Loss: 0.2549\n",
      "Epoch [2/5], Step [23000/36000], Loss: 0.2407\n",
      "Epoch [2/5], Step [23100/36000], Loss: 0.2027\n",
      "Epoch [2/5], Step [23200/36000], Loss: 0.4966\n",
      "Epoch [2/5], Step [23300/36000], Loss: 0.1774\n",
      "Epoch [2/5], Step [23400/36000], Loss: 0.1031\n",
      "Epoch [2/5], Step [23500/36000], Loss: 0.2718\n",
      "Epoch [2/5], Step [23600/36000], Loss: 0.2447\n",
      "Epoch [2/5], Step [23700/36000], Loss: 0.4203\n",
      "Epoch [2/5], Step [23800/36000], Loss: 0.2954\n",
      "Epoch [2/5], Step [23900/36000], Loss: 0.3043\n",
      "Epoch [2/5], Step [24000/36000], Loss: 0.2386\n",
      "Epoch [2/5], Step [24100/36000], Loss: 0.5275\n",
      "Epoch [2/5], Step [24200/36000], Loss: 0.2431\n",
      "Epoch [2/5], Step [24300/36000], Loss: 0.2118\n",
      "Epoch [2/5], Step [24400/36000], Loss: 0.2056\n",
      "Epoch [2/5], Step [24500/36000], Loss: 0.2073\n",
      "Epoch [2/5], Step [24600/36000], Loss: 0.3058\n",
      "Epoch [2/5], Step [24700/36000], Loss: 0.3189\n",
      "Epoch [2/5], Step [24800/36000], Loss: 0.2889\n",
      "Epoch [2/5], Step [24900/36000], Loss: 0.1783\n",
      "Epoch [2/5], Step [25000/36000], Loss: 0.2045\n",
      "Epoch [2/5], Step [25100/36000], Loss: 0.6124\n",
      "Epoch [2/5], Step [25200/36000], Loss: 0.4096\n",
      "Epoch [2/5], Step [25300/36000], Loss: 0.4117\n",
      "Epoch [2/5], Step [25400/36000], Loss: 0.0617\n",
      "Epoch [2/5], Step [25500/36000], Loss: 0.4151\n",
      "Epoch [2/5], Step [25600/36000], Loss: 0.4154\n",
      "Epoch [2/5], Step [25700/36000], Loss: 0.1476\n",
      "Epoch [2/5], Step [25800/36000], Loss: 0.2229\n",
      "Epoch [2/5], Step [25900/36000], Loss: 0.3962\n",
      "Epoch [2/5], Step [26000/36000], Loss: 0.1721\n",
      "Epoch [2/5], Step [26100/36000], Loss: 0.3025\n",
      "Epoch [2/5], Step [26200/36000], Loss: 0.4265\n",
      "Epoch [2/5], Step [26300/36000], Loss: 0.1546\n",
      "Epoch [2/5], Step [26400/36000], Loss: 0.1979\n",
      "Epoch [2/5], Step [26500/36000], Loss: 0.4719\n",
      "Epoch [2/5], Step [26600/36000], Loss: 0.2860\n",
      "Epoch [2/5], Step [26700/36000], Loss: 0.2332\n",
      "Epoch [2/5], Step [26800/36000], Loss: 0.3689\n",
      "Epoch [2/5], Step [26900/36000], Loss: 0.3950\n",
      "Epoch [2/5], Step [27000/36000], Loss: 0.4891\n",
      "Epoch [2/5], Step [27100/36000], Loss: 0.2123\n",
      "Epoch [2/5], Step [27200/36000], Loss: 0.3293\n",
      "Epoch [2/5], Step [27300/36000], Loss: 0.4442\n",
      "Epoch [2/5], Step [27400/36000], Loss: 0.1964\n",
      "Epoch [2/5], Step [27500/36000], Loss: 0.3222\n",
      "Epoch [2/5], Step [27600/36000], Loss: 0.4129\n",
      "Epoch [2/5], Step [27700/36000], Loss: 0.2693\n",
      "Epoch [2/5], Step [27800/36000], Loss: 0.3536\n",
      "Epoch [2/5], Step [27900/36000], Loss: 0.4641\n",
      "Epoch [2/5], Step [28000/36000], Loss: 0.2422\n",
      "Epoch [2/5], Step [28100/36000], Loss: 0.2815\n",
      "Epoch [2/5], Step [28200/36000], Loss: 0.2076\n",
      "Epoch [2/5], Step [28300/36000], Loss: 0.6237\n",
      "Epoch [2/5], Step [28400/36000], Loss: 0.1007\n",
      "Epoch [2/5], Step [28500/36000], Loss: 0.3732\n",
      "Epoch [2/5], Step [28600/36000], Loss: 0.2129\n",
      "Epoch [2/5], Step [28700/36000], Loss: 0.2513\n",
      "Epoch [2/5], Step [28800/36000], Loss: 0.3221\n",
      "Epoch [2/5], Step [28900/36000], Loss: 0.4292\n",
      "Epoch [2/5], Step [29000/36000], Loss: 0.2335\n",
      "Epoch [2/5], Step [29100/36000], Loss: 0.1391\n",
      "Epoch [2/5], Step [29200/36000], Loss: 0.3880\n",
      "Epoch [2/5], Step [29300/36000], Loss: 0.1530\n",
      "Epoch [2/5], Step [29400/36000], Loss: 0.0949\n",
      "Epoch [2/5], Step [29500/36000], Loss: 0.2529\n",
      "Epoch [2/5], Step [29600/36000], Loss: 0.4324\n",
      "Epoch [2/5], Step [29700/36000], Loss: 0.5001\n",
      "Epoch [2/5], Step [29800/36000], Loss: 0.3351\n",
      "Epoch [2/5], Step [29900/36000], Loss: 0.1843\n",
      "Epoch [2/5], Step [30000/36000], Loss: 0.1915\n",
      "Epoch [2/5], Step [30100/36000], Loss: 0.0971\n",
      "Epoch [2/5], Step [30200/36000], Loss: 0.2967\n",
      "Epoch [2/5], Step [30300/36000], Loss: 0.1232\n",
      "Epoch [2/5], Step [30400/36000], Loss: 0.1711\n",
      "Epoch [2/5], Step [30500/36000], Loss: 0.2042\n",
      "Epoch [2/5], Step [30600/36000], Loss: 0.1385\n",
      "Epoch [2/5], Step [30700/36000], Loss: 0.1570\n",
      "Epoch [2/5], Step [30800/36000], Loss: 0.3433\n",
      "Epoch [2/5], Step [30900/36000], Loss: 0.1848\n",
      "Epoch [2/5], Step [31000/36000], Loss: 0.7363\n",
      "Epoch [2/5], Step [31100/36000], Loss: 0.1243\n",
      "Epoch [2/5], Step [31200/36000], Loss: 0.3587\n",
      "Epoch [2/5], Step [31300/36000], Loss: 0.5417\n",
      "Epoch [2/5], Step [31400/36000], Loss: 0.2920\n",
      "Epoch [2/5], Step [31500/36000], Loss: 0.1991\n",
      "Epoch [2/5], Step [31600/36000], Loss: 0.2878\n",
      "Epoch [2/5], Step [31700/36000], Loss: 0.3033\n",
      "Epoch [2/5], Step [31800/36000], Loss: 0.1477\n",
      "Epoch [2/5], Step [31900/36000], Loss: 0.2993\n",
      "Epoch [2/5], Step [32000/36000], Loss: 0.2322\n",
      "Epoch [2/5], Step [32100/36000], Loss: 0.2411\n",
      "Epoch [2/5], Step [32200/36000], Loss: 0.2340\n",
      "Epoch [2/5], Step [32300/36000], Loss: 0.3379\n",
      "Epoch [2/5], Step [32400/36000], Loss: 0.2127\n",
      "Epoch [2/5], Step [32500/36000], Loss: 0.4938\n",
      "Epoch [2/5], Step [32600/36000], Loss: 0.2249\n",
      "Epoch [2/5], Step [32700/36000], Loss: 0.2219\n",
      "Epoch [2/5], Step [32800/36000], Loss: 0.1633\n",
      "Epoch [2/5], Step [32900/36000], Loss: 0.5301\n",
      "Epoch [2/5], Step [33000/36000], Loss: 0.1252\n",
      "Epoch [2/5], Step [33100/36000], Loss: 0.1813\n",
      "Epoch [2/5], Step [33200/36000], Loss: 0.2550\n",
      "Epoch [2/5], Step [33300/36000], Loss: 0.4926\n",
      "Epoch [2/5], Step [33400/36000], Loss: 0.2820\n",
      "Epoch [2/5], Step [33500/36000], Loss: 0.1648\n",
      "Epoch [2/5], Step [33600/36000], Loss: 0.1662\n",
      "Epoch [2/5], Step [33700/36000], Loss: 0.4184\n",
      "Epoch [2/5], Step [33800/36000], Loss: 0.4217\n",
      "Epoch [2/5], Step [33900/36000], Loss: 0.5461\n",
      "Epoch [2/5], Step [34000/36000], Loss: 0.2674\n",
      "Epoch [2/5], Step [34100/36000], Loss: 0.3066\n",
      "Epoch [2/5], Step [34200/36000], Loss: 0.2689\n",
      "Epoch [2/5], Step [34300/36000], Loss: 0.2937\n",
      "Epoch [2/5], Step [34400/36000], Loss: 0.2375\n",
      "Epoch [2/5], Step [34500/36000], Loss: 0.2771\n",
      "Epoch [2/5], Step [34600/36000], Loss: 0.2385\n",
      "Epoch [2/5], Step [34700/36000], Loss: 0.1662\n",
      "Epoch [2/5], Step [34800/36000], Loss: 0.4719\n",
      "Epoch [2/5], Step [34900/36000], Loss: 0.4800\n",
      "Epoch [2/5], Step [35000/36000], Loss: 0.1963\n",
      "Epoch [2/5], Step [35100/36000], Loss: 0.6371\n",
      "Epoch [2/5], Step [35200/36000], Loss: 0.1808\n",
      "Epoch [2/5], Step [35300/36000], Loss: 0.1256\n",
      "Epoch [2/5], Step [35400/36000], Loss: 0.1817\n",
      "Epoch [2/5], Step [35500/36000], Loss: 0.3111\n",
      "Epoch [2/5], Step [35600/36000], Loss: 0.1858\n",
      "Epoch [2/5], Step [35700/36000], Loss: 0.1599\n",
      "Epoch [2/5], Step [35800/36000], Loss: 0.2517\n",
      "Epoch [2/5], Step [35900/36000], Loss: 0.2451\n",
      "Epoch [2/5], Step [36000/36000], Loss: 0.6071\n",
      "Epoch 2, train_loss: 0.2934\n"
     ]
    },
    {
     "name": "stdout",
     "output_type": "stream",
     "text": [
      "Epoch [3/5], Step [100/36000], Loss: 0.2939\n",
      "Epoch [3/5], Step [200/36000], Loss: 0.3718\n",
      "Epoch [3/5], Step [300/36000], Loss: 0.4571\n",
      "Epoch [3/5], Step [400/36000], Loss: 0.1913\n",
      "Epoch [3/5], Step [500/36000], Loss: 0.1706\n",
      "Epoch [3/5], Step [600/36000], Loss: 0.1996\n",
      "Epoch [3/5], Step [700/36000], Loss: 0.3543\n",
      "Epoch [3/5], Step [800/36000], Loss: 0.2244\n",
      "Epoch [3/5], Step [900/36000], Loss: 0.3274\n",
      "Epoch [3/5], Step [1000/36000], Loss: 0.2501\n",
      "Epoch [3/5], Step [1100/36000], Loss: 0.4394\n",
      "Epoch [3/5], Step [1200/36000], Loss: 0.3780\n",
      "Epoch [3/5], Step [1300/36000], Loss: 0.3816\n",
      "Epoch [3/5], Step [1400/36000], Loss: 0.2985\n",
      "Epoch [3/5], Step [1500/36000], Loss: 0.3087\n",
      "Epoch [3/5], Step [1600/36000], Loss: 0.1794\n",
      "Epoch [3/5], Step [1700/36000], Loss: 0.2153\n",
      "Epoch [3/5], Step [1800/36000], Loss: 0.3980\n",
      "Epoch [3/5], Step [1900/36000], Loss: 0.3866\n",
      "Epoch [3/5], Step [2000/36000], Loss: 0.1630\n",
      "Epoch [3/5], Step [2100/36000], Loss: 0.2218\n",
      "Epoch [3/5], Step [2200/36000], Loss: 0.1428\n",
      "Epoch [3/5], Step [2300/36000], Loss: 0.2677\n",
      "Epoch [3/5], Step [2400/36000], Loss: 0.1632\n",
      "Epoch [3/5], Step [2500/36000], Loss: 0.3896\n",
      "Epoch [3/5], Step [2600/36000], Loss: 0.8457\n",
      "Epoch [3/5], Step [2700/36000], Loss: 0.2607\n",
      "Epoch [3/5], Step [2800/36000], Loss: 0.3422\n",
      "Epoch [3/5], Step [2900/36000], Loss: 0.4102\n",
      "Epoch [3/5], Step [3000/36000], Loss: 0.1601\n",
      "Epoch [3/5], Step [3100/36000], Loss: 0.1825\n",
      "Epoch [3/5], Step [3200/36000], Loss: 0.1941\n",
      "Epoch [3/5], Step [3300/36000], Loss: 0.5908\n",
      "Epoch [3/5], Step [3400/36000], Loss: 0.1028\n",
      "Epoch [3/5], Step [3500/36000], Loss: 0.2861\n",
      "Epoch [3/5], Step [3600/36000], Loss: 0.3604\n",
      "Epoch [3/5], Step [3700/36000], Loss: 0.2776\n",
      "Epoch [3/5], Step [3800/36000], Loss: 0.2397\n",
      "Epoch [3/5], Step [3900/36000], Loss: 0.1881\n",
      "Epoch [3/5], Step [4000/36000], Loss: 0.2168\n",
      "Epoch [3/5], Step [4100/36000], Loss: 0.3238\n",
      "Epoch [3/5], Step [4200/36000], Loss: 0.3214\n",
      "Epoch [3/5], Step [4300/36000], Loss: 0.3162\n",
      "Epoch [3/5], Step [4400/36000], Loss: 0.3187\n",
      "Epoch [3/5], Step [4500/36000], Loss: 0.3810\n",
      "Epoch [3/5], Step [4600/36000], Loss: 0.4292\n",
      "Epoch [3/5], Step [4700/36000], Loss: 0.2394\n",
      "Epoch [3/5], Step [4800/36000], Loss: 0.2371\n",
      "Epoch [3/5], Step [4900/36000], Loss: 0.0982\n",
      "Epoch [3/5], Step [5000/36000], Loss: 0.4382\n",
      "Epoch [3/5], Step [5100/36000], Loss: 0.5615\n",
      "Epoch [3/5], Step [5200/36000], Loss: 0.3783\n",
      "Epoch [3/5], Step [5300/36000], Loss: 0.5046\n",
      "Epoch [3/5], Step [5400/36000], Loss: 0.4281\n",
      "Epoch [3/5], Step [5500/36000], Loss: 0.7668\n",
      "Epoch [3/5], Step [5600/36000], Loss: 0.4590\n",
      "Epoch [3/5], Step [5700/36000], Loss: 0.1555\n",
      "Epoch [3/5], Step [5800/36000], Loss: 0.3295\n",
      "Epoch [3/5], Step [5900/36000], Loss: 0.2765\n",
      "Epoch [3/5], Step [6000/36000], Loss: 0.2012\n",
      "Epoch [3/5], Step [6100/36000], Loss: 0.2417\n",
      "Epoch [3/5], Step [6200/36000], Loss: 0.3231\n",
      "Epoch [3/5], Step [6300/36000], Loss: 0.2275\n",
      "Epoch [3/5], Step [6400/36000], Loss: 0.1040\n",
      "Epoch [3/5], Step [6500/36000], Loss: 0.2785\n",
      "Epoch [3/5], Step [6600/36000], Loss: 0.1518\n",
      "Epoch [3/5], Step [6700/36000], Loss: 0.3182\n",
      "Epoch [3/5], Step [6800/36000], Loss: 0.2898\n",
      "Epoch [3/5], Step [6900/36000], Loss: 0.3426\n",
      "Epoch [3/5], Step [7000/36000], Loss: 0.2473\n",
      "Epoch [3/5], Step [7100/36000], Loss: 0.4198\n",
      "Epoch [3/5], Step [7200/36000], Loss: 0.4107\n",
      "Epoch [3/5], Step [7300/36000], Loss: 0.4546\n",
      "Epoch [3/5], Step [7400/36000], Loss: 0.2612\n",
      "Epoch [3/5], Step [7500/36000], Loss: 0.1752\n",
      "Epoch [3/5], Step [7600/36000], Loss: 0.5708\n",
      "Epoch [3/5], Step [7700/36000], Loss: 0.2268\n",
      "Epoch [3/5], Step [7800/36000], Loss: 0.1825\n",
      "Epoch [3/5], Step [7900/36000], Loss: 0.2881\n",
      "Epoch [3/5], Step [8000/36000], Loss: 0.5618\n",
      "Epoch [3/5], Step [8100/36000], Loss: 0.2921\n",
      "Epoch [3/5], Step [8200/36000], Loss: 0.3540\n",
      "Epoch [3/5], Step [8300/36000], Loss: 0.2164\n",
      "Epoch [3/5], Step [8400/36000], Loss: 0.3979\n",
      "Epoch [3/5], Step [8500/36000], Loss: 0.4991\n",
      "Epoch [3/5], Step [8600/36000], Loss: 0.2592\n",
      "Epoch [3/5], Step [8700/36000], Loss: 0.6724\n",
      "Epoch [3/5], Step [8800/36000], Loss: 0.3802\n",
      "Epoch [3/5], Step [8900/36000], Loss: 0.2512\n",
      "Epoch [3/5], Step [9000/36000], Loss: 0.2411\n",
      "Epoch [3/5], Step [9100/36000], Loss: 0.3671\n",
      "Epoch [3/5], Step [9200/36000], Loss: 0.5533\n",
      "Epoch [3/5], Step [9300/36000], Loss: 0.1881\n",
      "Epoch [3/5], Step [9400/36000], Loss: 0.6963\n",
      "Epoch [3/5], Step [9500/36000], Loss: 0.3130\n",
      "Epoch [3/5], Step [9600/36000], Loss: 0.3251\n",
      "Epoch [3/5], Step [9700/36000], Loss: 0.2492\n",
      "Epoch [3/5], Step [9800/36000], Loss: 0.3911\n",
      "Epoch [3/5], Step [9900/36000], Loss: 0.1723\n",
      "Epoch [3/5], Step [10000/36000], Loss: 0.2545\n",
      "Epoch [3/5], Step [10100/36000], Loss: 0.2308\n",
      "Epoch [3/5], Step [10200/36000], Loss: 0.3176\n",
      "Epoch [3/5], Step [10300/36000], Loss: 0.3334\n",
      "Epoch [3/5], Step [10400/36000], Loss: 0.2615\n",
      "Epoch [3/5], Step [10500/36000], Loss: 0.1508\n",
      "Epoch [3/5], Step [10600/36000], Loss: 0.0838\n",
      "Epoch [3/5], Step [10700/36000], Loss: 0.2536\n",
      "Epoch [3/5], Step [10800/36000], Loss: 0.2854\n",
      "Epoch [3/5], Step [10900/36000], Loss: 0.2838\n",
      "Epoch [3/5], Step [11000/36000], Loss: 0.4383\n",
      "Epoch [3/5], Step [11100/36000], Loss: 0.3333\n",
      "Epoch [3/5], Step [11200/36000], Loss: 0.4348\n",
      "Epoch [3/5], Step [11300/36000], Loss: 0.4150\n",
      "Epoch [3/5], Step [11400/36000], Loss: 0.3747\n",
      "Epoch [3/5], Step [11500/36000], Loss: 0.2459\n",
      "Epoch [3/5], Step [11600/36000], Loss: 0.4759\n",
      "Epoch [3/5], Step [11700/36000], Loss: 0.1149\n",
      "Epoch [3/5], Step [11800/36000], Loss: 0.3586\n",
      "Epoch [3/5], Step [11900/36000], Loss: 0.2721\n",
      "Epoch [3/5], Step [12000/36000], Loss: 0.2198\n",
      "Epoch [3/5], Step [12100/36000], Loss: 0.1682\n",
      "Epoch [3/5], Step [12200/36000], Loss: 0.3209\n",
      "Epoch [3/5], Step [12300/36000], Loss: 0.1784\n",
      "Epoch [3/5], Step [12400/36000], Loss: 0.3801\n",
      "Epoch [3/5], Step [12500/36000], Loss: 0.1073\n",
      "Epoch [3/5], Step [12600/36000], Loss: 0.2726\n",
      "Epoch [3/5], Step [12700/36000], Loss: 0.2257\n",
      "Epoch [3/5], Step [12800/36000], Loss: 0.1086\n",
      "Epoch [3/5], Step [12900/36000], Loss: 0.3021\n",
      "Epoch [3/5], Step [13000/36000], Loss: 0.0855\n",
      "Epoch [3/5], Step [13100/36000], Loss: 0.2353\n",
      "Epoch [3/5], Step [13200/36000], Loss: 0.4543\n",
      "Epoch [3/5], Step [13300/36000], Loss: 0.2269\n",
      "Epoch [3/5], Step [13400/36000], Loss: 0.3196\n",
      "Epoch [3/5], Step [13500/36000], Loss: 0.2111\n",
      "Epoch [3/5], Step [13600/36000], Loss: 0.2808\n",
      "Epoch [3/5], Step [13700/36000], Loss: 0.2234\n",
      "Epoch [3/5], Step [13800/36000], Loss: 0.2000\n",
      "Epoch [3/5], Step [13900/36000], Loss: 0.0798\n",
      "Epoch [3/5], Step [14000/36000], Loss: 0.3556\n",
      "Epoch [3/5], Step [14100/36000], Loss: 0.2940\n",
      "Epoch [3/5], Step [14200/36000], Loss: 0.1887\n",
      "Epoch [3/5], Step [14300/36000], Loss: 0.4006\n",
      "Epoch [3/5], Step [14400/36000], Loss: 0.1488\n",
      "Epoch [3/5], Step [14500/36000], Loss: 0.2642\n",
      "Epoch [3/5], Step [14600/36000], Loss: 0.3962\n",
      "Epoch [3/5], Step [14700/36000], Loss: 0.1525\n",
      "Epoch [3/5], Step [14800/36000], Loss: 0.4178\n",
      "Epoch [3/5], Step [14900/36000], Loss: 0.1929\n",
      "Epoch [3/5], Step [15000/36000], Loss: 0.5249\n",
      "Epoch [3/5], Step [15100/36000], Loss: 0.1815\n",
      "Epoch [3/5], Step [15200/36000], Loss: 0.1413\n",
      "Epoch [3/5], Step [15300/36000], Loss: 0.2896\n",
      "Epoch [3/5], Step [15400/36000], Loss: 0.1790\n",
      "Epoch [3/5], Step [15500/36000], Loss: 0.2447\n",
      "Epoch [3/5], Step [15600/36000], Loss: 0.5628\n",
      "Epoch [3/5], Step [15700/36000], Loss: 0.1450\n",
      "Epoch [3/5], Step [15800/36000], Loss: 0.2573\n",
      "Epoch [3/5], Step [15900/36000], Loss: 0.3291\n",
      "Epoch [3/5], Step [16000/36000], Loss: 0.2974\n",
      "Epoch [3/5], Step [16100/36000], Loss: 0.1931\n",
      "Epoch [3/5], Step [16200/36000], Loss: 0.0647\n",
      "Epoch [3/5], Step [16300/36000], Loss: 0.1755\n",
      "Epoch [3/5], Step [16400/36000], Loss: 0.4872\n",
      "Epoch [3/5], Step [16500/36000], Loss: 0.1719\n",
      "Epoch [3/5], Step [16600/36000], Loss: 0.2314\n",
      "Epoch [3/5], Step [16700/36000], Loss: 0.3372\n",
      "Epoch [3/5], Step [16800/36000], Loss: 0.5257\n",
      "Epoch [3/5], Step [16900/36000], Loss: 0.4500\n",
      "Epoch [3/5], Step [17000/36000], Loss: 0.1305\n",
      "Epoch [3/5], Step [17100/36000], Loss: 0.2660\n",
      "Epoch [3/5], Step [17200/36000], Loss: 0.1594\n",
      "Epoch [3/5], Step [17300/36000], Loss: 0.1441\n",
      "Epoch [3/5], Step [17400/36000], Loss: 0.1657\n",
      "Epoch [3/5], Step [17500/36000], Loss: 0.2610\n",
      "Epoch [3/5], Step [17600/36000], Loss: 0.2782\n",
      "Epoch [3/5], Step [17700/36000], Loss: 0.2754\n",
      "Epoch [3/5], Step [17800/36000], Loss: 0.5264\n",
      "Epoch [3/5], Step [17900/36000], Loss: 0.2611\n",
      "Epoch [3/5], Step [18000/36000], Loss: 0.1953\n",
      "Epoch [3/5], Step [18100/36000], Loss: 0.3351\n"
     ]
    },
    {
     "name": "stdout",
     "output_type": "stream",
     "text": [
      "Epoch [3/5], Step [18200/36000], Loss: 0.2025\n",
      "Epoch [3/5], Step [18300/36000], Loss: 0.4451\n",
      "Epoch [3/5], Step [18400/36000], Loss: 0.1620\n",
      "Epoch [3/5], Step [18500/36000], Loss: 0.2831\n",
      "Epoch [3/5], Step [18600/36000], Loss: 0.1971\n",
      "Epoch [3/5], Step [18700/36000], Loss: 0.2467\n",
      "Epoch [3/5], Step [18800/36000], Loss: 0.3802\n",
      "Epoch [3/5], Step [18900/36000], Loss: 0.2027\n",
      "Epoch [3/5], Step [19000/36000], Loss: 0.1900\n",
      "Epoch [3/5], Step [19100/36000], Loss: 0.6208\n",
      "Epoch [3/5], Step [19200/36000], Loss: 0.3215\n",
      "Epoch [3/5], Step [19300/36000], Loss: 0.3306\n",
      "Epoch [3/5], Step [19400/36000], Loss: 0.3239\n",
      "Epoch [3/5], Step [19500/36000], Loss: 0.2696\n",
      "Epoch [3/5], Step [19600/36000], Loss: 0.2932\n",
      "Epoch [3/5], Step [19700/36000], Loss: 0.5185\n",
      "Epoch [3/5], Step [19800/36000], Loss: 0.1605\n",
      "Epoch [3/5], Step [19900/36000], Loss: 0.2371\n",
      "Epoch [3/5], Step [20000/36000], Loss: 0.4741\n",
      "Epoch [3/5], Step [20100/36000], Loss: 0.3047\n",
      "Epoch [3/5], Step [20200/36000], Loss: 0.1420\n",
      "Epoch [3/5], Step [20300/36000], Loss: 0.2654\n",
      "Epoch [3/5], Step [20400/36000], Loss: 0.4024\n",
      "Epoch [3/5], Step [20500/36000], Loss: 0.2243\n",
      "Epoch [3/5], Step [20600/36000], Loss: 0.1587\n",
      "Epoch [3/5], Step [20700/36000], Loss: 0.1538\n",
      "Epoch [3/5], Step [20800/36000], Loss: 0.1949\n",
      "Epoch [3/5], Step [20900/36000], Loss: 0.1680\n",
      "Epoch [3/5], Step [21000/36000], Loss: 0.1820\n",
      "Epoch [3/5], Step [21100/36000], Loss: 0.1009\n",
      "Epoch [3/5], Step [21200/36000], Loss: 0.3356\n",
      "Epoch [3/5], Step [21300/36000], Loss: 0.1586\n",
      "Epoch [3/5], Step [21400/36000], Loss: 0.5936\n",
      "Epoch [3/5], Step [21500/36000], Loss: 0.2561\n",
      "Epoch [3/5], Step [21600/36000], Loss: 0.2191\n",
      "Epoch [3/5], Step [21700/36000], Loss: 0.4575\n",
      "Epoch [3/5], Step [21800/36000], Loss: 0.5122\n",
      "Epoch [3/5], Step [21900/36000], Loss: 0.6114\n",
      "Epoch [3/5], Step [22000/36000], Loss: 0.2115\n",
      "Epoch [3/5], Step [22100/36000], Loss: 0.2493\n",
      "Epoch [3/5], Step [22200/36000], Loss: 0.2181\n",
      "Epoch [3/5], Step [22300/36000], Loss: 0.2747\n",
      "Epoch [3/5], Step [22400/36000], Loss: 0.2999\n",
      "Epoch [3/5], Step [22500/36000], Loss: 0.3338\n",
      "Epoch [3/5], Step [22600/36000], Loss: 0.3629\n",
      "Epoch [3/5], Step [22700/36000], Loss: 0.1240\n",
      "Epoch [3/5], Step [22800/36000], Loss: 0.5623\n",
      "Epoch [3/5], Step [22900/36000], Loss: 0.2436\n",
      "Epoch [3/5], Step [23000/36000], Loss: 0.2734\n",
      "Epoch [3/5], Step [23100/36000], Loss: 0.7340\n",
      "Epoch [3/5], Step [23200/36000], Loss: 0.2015\n",
      "Epoch [3/5], Step [23300/36000], Loss: 0.3845\n",
      "Epoch [3/5], Step [23400/36000], Loss: 0.1813\n",
      "Epoch [3/5], Step [23500/36000], Loss: 0.2407\n",
      "Epoch [3/5], Step [23600/36000], Loss: 0.1595\n",
      "Epoch [3/5], Step [23700/36000], Loss: 0.2925\n",
      "Epoch [3/5], Step [23800/36000], Loss: 0.1654\n",
      "Epoch [3/5], Step [23900/36000], Loss: 0.1229\n",
      "Epoch [3/5], Step [24000/36000], Loss: 0.2242\n",
      "Epoch [3/5], Step [24100/36000], Loss: 0.2684\n",
      "Epoch [3/5], Step [24200/36000], Loss: 0.3049\n",
      "Epoch [3/5], Step [24300/36000], Loss: 0.1629\n",
      "Epoch [3/5], Step [24400/36000], Loss: 0.3371\n",
      "Epoch [3/5], Step [24500/36000], Loss: 0.3528\n",
      "Epoch [3/5], Step [24600/36000], Loss: 0.2926\n",
      "Epoch [3/5], Step [24700/36000], Loss: 0.4394\n",
      "Epoch [3/5], Step [24800/36000], Loss: 0.1401\n",
      "Epoch [3/5], Step [24900/36000], Loss: 0.1708\n",
      "Epoch [3/5], Step [25000/36000], Loss: 0.2533\n",
      "Epoch [3/5], Step [25100/36000], Loss: 0.2472\n",
      "Epoch [3/5], Step [25200/36000], Loss: 0.0962\n",
      "Epoch [3/5], Step [25300/36000], Loss: 0.1766\n",
      "Epoch [3/5], Step [25400/36000], Loss: 0.2860\n",
      "Epoch [3/5], Step [25500/36000], Loss: 0.2507\n",
      "Epoch [3/5], Step [25600/36000], Loss: 0.2384\n",
      "Epoch [3/5], Step [25700/36000], Loss: 0.2515\n",
      "Epoch [3/5], Step [25800/36000], Loss: 0.1830\n",
      "Epoch [3/5], Step [25900/36000], Loss: 0.2069\n",
      "Epoch [3/5], Step [26000/36000], Loss: 0.3398\n",
      "Epoch [3/5], Step [26100/36000], Loss: 0.1865\n",
      "Epoch [3/5], Step [26200/36000], Loss: 0.1708\n",
      "Epoch [3/5], Step [26300/36000], Loss: 0.4176\n",
      "Epoch [3/5], Step [26400/36000], Loss: 0.1601\n",
      "Epoch [3/5], Step [26500/36000], Loss: 0.4437\n",
      "Epoch [3/5], Step [26600/36000], Loss: 0.6727\n",
      "Epoch [3/5], Step [26700/36000], Loss: 0.3614\n",
      "Epoch [3/5], Step [26800/36000], Loss: 0.2365\n",
      "Epoch [3/5], Step [26900/36000], Loss: 0.4386\n",
      "Epoch [3/5], Step [27000/36000], Loss: 0.2553\n",
      "Epoch [3/5], Step [27100/36000], Loss: 0.0707\n",
      "Epoch [3/5], Step [27200/36000], Loss: 0.3559\n",
      "Epoch [3/5], Step [27300/36000], Loss: 0.6428\n",
      "Epoch [3/5], Step [27400/36000], Loss: 0.3433\n",
      "Epoch [3/5], Step [27500/36000], Loss: 0.3938\n",
      "Epoch [3/5], Step [27600/36000], Loss: 0.2551\n",
      "Epoch [3/5], Step [27700/36000], Loss: 0.2746\n",
      "Epoch [3/5], Step [27800/36000], Loss: 0.1047\n",
      "Epoch [3/5], Step [27900/36000], Loss: 0.1810\n",
      "Epoch [3/5], Step [28000/36000], Loss: 0.4288\n",
      "Epoch [3/5], Step [28100/36000], Loss: 0.3087\n",
      "Epoch [3/5], Step [28200/36000], Loss: 0.2291\n",
      "Epoch [3/5], Step [28300/36000], Loss: 0.2445\n",
      "Epoch [3/5], Step [28400/36000], Loss: 0.2831\n",
      "Epoch [3/5], Step [28500/36000], Loss: 0.3874\n",
      "Epoch [3/5], Step [28600/36000], Loss: 0.3032\n",
      "Epoch [3/5], Step [28700/36000], Loss: 0.3362\n",
      "Epoch [3/5], Step [28800/36000], Loss: 0.1324\n",
      "Epoch [3/5], Step [28900/36000], Loss: 0.1764\n",
      "Epoch [3/5], Step [29000/36000], Loss: 0.4842\n",
      "Epoch [3/5], Step [29100/36000], Loss: 0.5014\n",
      "Epoch [3/5], Step [29200/36000], Loss: 0.2492\n",
      "Epoch [3/5], Step [29300/36000], Loss: 0.1221\n",
      "Epoch [3/5], Step [29400/36000], Loss: 0.3575\n",
      "Epoch [3/5], Step [29500/36000], Loss: 0.3229\n",
      "Epoch [3/5], Step [29600/36000], Loss: 0.1533\n",
      "Epoch [3/5], Step [29700/36000], Loss: 0.3533\n",
      "Epoch [3/5], Step [29800/36000], Loss: 0.2784\n",
      "Epoch [3/5], Step [29900/36000], Loss: 0.1599\n",
      "Epoch [3/5], Step [30000/36000], Loss: 0.1620\n",
      "Epoch [3/5], Step [30100/36000], Loss: 0.5379\n",
      "Epoch [3/5], Step [30200/36000], Loss: 0.3656\n",
      "Epoch [3/5], Step [30300/36000], Loss: 0.2118\n",
      "Epoch [3/5], Step [30400/36000], Loss: 0.3334\n",
      "Epoch [3/5], Step [30500/36000], Loss: 0.4417\n",
      "Epoch [3/5], Step [30600/36000], Loss: 0.3064\n",
      "Epoch [3/5], Step [30700/36000], Loss: 0.1510\n",
      "Epoch [3/5], Step [30800/36000], Loss: 0.4254\n",
      "Epoch [3/5], Step [30900/36000], Loss: 0.4792\n",
      "Epoch [3/5], Step [31000/36000], Loss: 0.4615\n",
      "Epoch [3/5], Step [31100/36000], Loss: 0.2450\n",
      "Epoch [3/5], Step [31200/36000], Loss: 0.1317\n",
      "Epoch [3/5], Step [31300/36000], Loss: 0.2518\n",
      "Epoch [3/5], Step [31400/36000], Loss: 0.2380\n",
      "Epoch [3/5], Step [31500/36000], Loss: 0.2021\n",
      "Epoch [3/5], Step [31600/36000], Loss: 0.3013\n",
      "Epoch [3/5], Step [31700/36000], Loss: 0.2930\n",
      "Epoch [3/5], Step [31800/36000], Loss: 0.1272\n",
      "Epoch [3/5], Step [31900/36000], Loss: 0.2540\n",
      "Epoch [3/5], Step [32000/36000], Loss: 0.2231\n",
      "Epoch [3/5], Step [32100/36000], Loss: 0.4350\n",
      "Epoch [3/5], Step [32200/36000], Loss: 0.1345\n",
      "Epoch [3/5], Step [32300/36000], Loss: 0.4724\n",
      "Epoch [3/5], Step [32400/36000], Loss: 0.1902\n",
      "Epoch [3/5], Step [32500/36000], Loss: 0.3304\n",
      "Epoch [3/5], Step [32600/36000], Loss: 0.2490\n",
      "Epoch [3/5], Step [32700/36000], Loss: 0.1840\n",
      "Epoch [3/5], Step [32800/36000], Loss: 0.2262\n",
      "Epoch [3/5], Step [32900/36000], Loss: 0.2562\n",
      "Epoch [3/5], Step [33000/36000], Loss: 0.1435\n",
      "Epoch [3/5], Step [33100/36000], Loss: 0.2150\n",
      "Epoch [3/5], Step [33200/36000], Loss: 0.5550\n",
      "Epoch [3/5], Step [33300/36000], Loss: 0.1750\n",
      "Epoch [3/5], Step [33400/36000], Loss: 0.5119\n",
      "Epoch [3/5], Step [33500/36000], Loss: 0.1813\n",
      "Epoch [3/5], Step [33600/36000], Loss: 0.1362\n",
      "Epoch [3/5], Step [33700/36000], Loss: 0.3054\n",
      "Epoch [3/5], Step [33800/36000], Loss: 0.7130\n",
      "Epoch [3/5], Step [33900/36000], Loss: 0.1528\n",
      "Epoch [3/5], Step [34000/36000], Loss: 0.2607\n",
      "Epoch [3/5], Step [34100/36000], Loss: 0.3469\n",
      "Epoch [3/5], Step [34200/36000], Loss: 0.4430\n",
      "Epoch [3/5], Step [34300/36000], Loss: 0.2004\n",
      "Epoch [3/5], Step [34400/36000], Loss: 0.1473\n",
      "Epoch [3/5], Step [34500/36000], Loss: 0.5484\n",
      "Epoch [3/5], Step [34600/36000], Loss: 0.1434\n",
      "Epoch [3/5], Step [34700/36000], Loss: 0.3439\n",
      "Epoch [3/5], Step [34800/36000], Loss: 0.1984\n",
      "Epoch [3/5], Step [34900/36000], Loss: 0.3572\n",
      "Epoch [3/5], Step [35000/36000], Loss: 0.5870\n",
      "Epoch [3/5], Step [35100/36000], Loss: 0.2251\n",
      "Epoch [3/5], Step [35200/36000], Loss: 0.5475\n",
      "Epoch [3/5], Step [35300/36000], Loss: 0.3197\n",
      "Epoch [3/5], Step [35400/36000], Loss: 0.2049\n",
      "Epoch [3/5], Step [35500/36000], Loss: 0.1300\n",
      "Epoch [3/5], Step [35600/36000], Loss: 0.1895\n",
      "Epoch [3/5], Step [35700/36000], Loss: 0.2500\n",
      "Epoch [3/5], Step [35800/36000], Loss: 0.3555\n",
      "Epoch [3/5], Step [35900/36000], Loss: 0.1901\n",
      "Epoch [3/5], Step [36000/36000], Loss: 0.3372\n",
      "Epoch 3, train_loss: 0.2921\n"
     ]
    },
    {
     "name": "stdout",
     "output_type": "stream",
     "text": [
      "Epoch [4/5], Step [100/36000], Loss: 0.2885\n",
      "Epoch [4/5], Step [200/36000], Loss: 0.4698\n",
      "Epoch [4/5], Step [300/36000], Loss: 0.3961\n",
      "Epoch [4/5], Step [400/36000], Loss: 0.2326\n",
      "Epoch [4/5], Step [500/36000], Loss: 0.4632\n",
      "Epoch [4/5], Step [600/36000], Loss: 0.5469\n",
      "Epoch [4/5], Step [700/36000], Loss: 0.4132\n",
      "Epoch [4/5], Step [800/36000], Loss: 0.1848\n",
      "Epoch [4/5], Step [900/36000], Loss: 0.5628\n",
      "Epoch [4/5], Step [1000/36000], Loss: 0.3602\n",
      "Epoch [4/5], Step [1100/36000], Loss: 0.1693\n",
      "Epoch [4/5], Step [1200/36000], Loss: 0.1767\n",
      "Epoch [4/5], Step [1300/36000], Loss: 0.3156\n",
      "Epoch [4/5], Step [1400/36000], Loss: 0.1123\n",
      "Epoch [4/5], Step [1500/36000], Loss: 0.1437\n",
      "Epoch [4/5], Step [1600/36000], Loss: 0.2033\n",
      "Epoch [4/5], Step [1700/36000], Loss: 0.1119\n",
      "Epoch [4/5], Step [1800/36000], Loss: 0.4292\n",
      "Epoch [4/5], Step [1900/36000], Loss: 0.2652\n",
      "Epoch [4/5], Step [2000/36000], Loss: 0.1658\n",
      "Epoch [4/5], Step [2100/36000], Loss: 0.2096\n",
      "Epoch [4/5], Step [2200/36000], Loss: 0.5367\n",
      "Epoch [4/5], Step [2300/36000], Loss: 0.2341\n",
      "Epoch [4/5], Step [2400/36000], Loss: 0.1253\n",
      "Epoch [4/5], Step [2500/36000], Loss: 0.2980\n",
      "Epoch [4/5], Step [2600/36000], Loss: 0.2713\n",
      "Epoch [4/5], Step [2700/36000], Loss: 0.2653\n",
      "Epoch [4/5], Step [2800/36000], Loss: 0.1762\n",
      "Epoch [4/5], Step [2900/36000], Loss: 0.2098\n",
      "Epoch [4/5], Step [3000/36000], Loss: 0.1351\n",
      "Epoch [4/5], Step [3100/36000], Loss: 0.2819\n",
      "Epoch [4/5], Step [3200/36000], Loss: 0.2544\n",
      "Epoch [4/5], Step [3300/36000], Loss: 0.2200\n",
      "Epoch [4/5], Step [3400/36000], Loss: 0.4047\n",
      "Epoch [4/5], Step [3500/36000], Loss: 0.3015\n",
      "Epoch [4/5], Step [3600/36000], Loss: 0.1532\n",
      "Epoch [4/5], Step [3700/36000], Loss: 0.7955\n",
      "Epoch [4/5], Step [3800/36000], Loss: 0.1749\n",
      "Epoch [4/5], Step [3900/36000], Loss: 0.1878\n",
      "Epoch [4/5], Step [4000/36000], Loss: 0.1615\n",
      "Epoch [4/5], Step [4100/36000], Loss: 0.3238\n",
      "Epoch [4/5], Step [4200/36000], Loss: 0.2095\n",
      "Epoch [4/5], Step [4300/36000], Loss: 0.4826\n",
      "Epoch [4/5], Step [4400/36000], Loss: 0.3786\n",
      "Epoch [4/5], Step [4500/36000], Loss: 0.5448\n",
      "Epoch [4/5], Step [4600/36000], Loss: 0.1769\n",
      "Epoch [4/5], Step [4700/36000], Loss: 0.3815\n",
      "Epoch [4/5], Step [4800/36000], Loss: 0.1416\n",
      "Epoch [4/5], Step [4900/36000], Loss: 0.2926\n",
      "Epoch [4/5], Step [5000/36000], Loss: 0.1578\n",
      "Epoch [4/5], Step [5100/36000], Loss: 0.2550\n",
      "Epoch [4/5], Step [5200/36000], Loss: 0.2969\n",
      "Epoch [4/5], Step [5300/36000], Loss: 0.1937\n",
      "Epoch [4/5], Step [5400/36000], Loss: 0.1600\n",
      "Epoch [4/5], Step [5500/36000], Loss: 0.4289\n",
      "Epoch [4/5], Step [5600/36000], Loss: 0.4762\n",
      "Epoch [4/5], Step [5700/36000], Loss: 0.2194\n",
      "Epoch [4/5], Step [5800/36000], Loss: 0.3229\n",
      "Epoch [4/5], Step [5900/36000], Loss: 0.3100\n",
      "Epoch [4/5], Step [6000/36000], Loss: 0.3232\n",
      "Epoch [4/5], Step [6100/36000], Loss: 0.2589\n",
      "Epoch [4/5], Step [6200/36000], Loss: 0.2482\n",
      "Epoch [4/5], Step [6300/36000], Loss: 0.2524\n",
      "Epoch [4/5], Step [6400/36000], Loss: 0.1421\n",
      "Epoch [4/5], Step [6500/36000], Loss: 0.3703\n",
      "Epoch [4/5], Step [6600/36000], Loss: 0.2908\n",
      "Epoch [4/5], Step [6700/36000], Loss: 0.2574\n",
      "Epoch [4/5], Step [6800/36000], Loss: 0.1313\n",
      "Epoch [4/5], Step [6900/36000], Loss: 0.4960\n",
      "Epoch [4/5], Step [7000/36000], Loss: 0.0963\n",
      "Epoch [4/5], Step [7100/36000], Loss: 0.2027\n",
      "Epoch [4/5], Step [7200/36000], Loss: 0.2791\n",
      "Epoch [4/5], Step [7300/36000], Loss: 0.3546\n",
      "Epoch [4/5], Step [7400/36000], Loss: 0.3074\n",
      "Epoch [4/5], Step [7500/36000], Loss: 0.2145\n",
      "Epoch [4/5], Step [7600/36000], Loss: 0.1937\n",
      "Epoch [4/5], Step [7700/36000], Loss: 0.5222\n",
      "Epoch [4/5], Step [7800/36000], Loss: 0.5174\n",
      "Epoch [4/5], Step [7900/36000], Loss: 0.3184\n",
      "Epoch [4/5], Step [8000/36000], Loss: 0.2808\n",
      "Epoch [4/5], Step [8100/36000], Loss: 0.2234\n",
      "Epoch [4/5], Step [8200/36000], Loss: 0.6277\n",
      "Epoch [4/5], Step [8300/36000], Loss: 0.1538\n",
      "Epoch [4/5], Step [8400/36000], Loss: 0.1591\n",
      "Epoch [4/5], Step [8500/36000], Loss: 0.2789\n",
      "Epoch [4/5], Step [8600/36000], Loss: 0.3145\n",
      "Epoch [4/5], Step [8700/36000], Loss: 0.5642\n",
      "Epoch [4/5], Step [8800/36000], Loss: 0.2424\n",
      "Epoch [4/5], Step [8900/36000], Loss: 0.2020\n",
      "Epoch [4/5], Step [9000/36000], Loss: 0.1859\n",
      "Epoch [4/5], Step [9100/36000], Loss: 0.3561\n",
      "Epoch [4/5], Step [9200/36000], Loss: 0.1605\n",
      "Epoch [4/5], Step [9300/36000], Loss: 0.3394\n",
      "Epoch [4/5], Step [9400/36000], Loss: 0.2128\n",
      "Epoch [4/5], Step [9500/36000], Loss: 0.3072\n",
      "Epoch [4/5], Step [9600/36000], Loss: 0.3022\n",
      "Epoch [4/5], Step [9700/36000], Loss: 0.3098\n",
      "Epoch [4/5], Step [9800/36000], Loss: 0.2370\n",
      "Epoch [4/5], Step [9900/36000], Loss: 0.6495\n",
      "Epoch [4/5], Step [10000/36000], Loss: 0.2909\n",
      "Epoch [4/5], Step [10100/36000], Loss: 0.2155\n",
      "Epoch [4/5], Step [10200/36000], Loss: 0.4019\n",
      "Epoch [4/5], Step [10300/36000], Loss: 0.2409\n",
      "Epoch [4/5], Step [10400/36000], Loss: 0.3117\n",
      "Epoch [4/5], Step [10500/36000], Loss: 0.6085\n",
      "Epoch [4/5], Step [10600/36000], Loss: 0.4236\n",
      "Epoch [4/5], Step [10700/36000], Loss: 0.6670\n",
      "Epoch [4/5], Step [10800/36000], Loss: 0.3232\n",
      "Epoch [4/5], Step [10900/36000], Loss: 0.4289\n",
      "Epoch [4/5], Step [11000/36000], Loss: 0.2527\n",
      "Epoch [4/5], Step [11100/36000], Loss: 0.2403\n",
      "Epoch [4/5], Step [11200/36000], Loss: 0.2503\n",
      "Epoch [4/5], Step [11300/36000], Loss: 0.3863\n",
      "Epoch [4/5], Step [11400/36000], Loss: 0.5119\n",
      "Epoch [4/5], Step [11500/36000], Loss: 0.2643\n",
      "Epoch [4/5], Step [11600/36000], Loss: 0.1439\n",
      "Epoch [4/5], Step [11700/36000], Loss: 0.4539\n",
      "Epoch [4/5], Step [11800/36000], Loss: 0.2356\n",
      "Epoch [4/5], Step [11900/36000], Loss: 0.2204\n",
      "Epoch [4/5], Step [12000/36000], Loss: 0.3293\n",
      "Epoch [4/5], Step [12100/36000], Loss: 0.2695\n",
      "Epoch [4/5], Step [12200/36000], Loss: 0.2496\n",
      "Epoch [4/5], Step [12300/36000], Loss: 0.5075\n",
      "Epoch [4/5], Step [12400/36000], Loss: 0.7999\n",
      "Epoch [4/5], Step [12500/36000], Loss: 0.1983\n",
      "Epoch [4/5], Step [12600/36000], Loss: 0.2790\n",
      "Epoch [4/5], Step [12700/36000], Loss: 0.2201\n",
      "Epoch [4/5], Step [12800/36000], Loss: 0.2844\n",
      "Epoch [4/5], Step [12900/36000], Loss: 0.3461\n",
      "Epoch [4/5], Step [13000/36000], Loss: 0.4660\n",
      "Epoch [4/5], Step [13100/36000], Loss: 0.2712\n",
      "Epoch [4/5], Step [13200/36000], Loss: 0.1537\n",
      "Epoch [4/5], Step [13300/36000], Loss: 0.1503\n",
      "Epoch [4/5], Step [13400/36000], Loss: 0.3079\n",
      "Epoch [4/5], Step [13500/36000], Loss: 0.2089\n",
      "Epoch [4/5], Step [13600/36000], Loss: 0.2751\n",
      "Epoch [4/5], Step [13700/36000], Loss: 0.2466\n",
      "Epoch [4/5], Step [13800/36000], Loss: 0.2651\n",
      "Epoch [4/5], Step [13900/36000], Loss: 0.4872\n",
      "Epoch [4/5], Step [14000/36000], Loss: 0.2471\n",
      "Epoch [4/5], Step [14100/36000], Loss: 0.1324\n",
      "Epoch [4/5], Step [14200/36000], Loss: 0.2411\n",
      "Epoch [4/5], Step [14300/36000], Loss: 0.1805\n",
      "Epoch [4/5], Step [14400/36000], Loss: 0.1882\n",
      "Epoch [4/5], Step [14500/36000], Loss: 0.2445\n",
      "Epoch [4/5], Step [14600/36000], Loss: 0.3264\n",
      "Epoch [4/5], Step [14700/36000], Loss: 0.3468\n",
      "Epoch [4/5], Step [14800/36000], Loss: 0.4922\n",
      "Epoch [4/5], Step [14900/36000], Loss: 0.1442\n",
      "Epoch [4/5], Step [15000/36000], Loss: 0.2420\n",
      "Epoch [4/5], Step [15100/36000], Loss: 0.2859\n",
      "Epoch [4/5], Step [15200/36000], Loss: 0.1884\n",
      "Epoch [4/5], Step [15300/36000], Loss: 0.3945\n",
      "Epoch [4/5], Step [15400/36000], Loss: 0.3436\n",
      "Epoch [4/5], Step [15500/36000], Loss: 0.1049\n",
      "Epoch [4/5], Step [15600/36000], Loss: 0.2266\n",
      "Epoch [4/5], Step [15700/36000], Loss: 0.4946\n",
      "Epoch [4/5], Step [15800/36000], Loss: 0.3469\n",
      "Epoch [4/5], Step [15900/36000], Loss: 0.4212\n",
      "Epoch [4/5], Step [16000/36000], Loss: 0.2718\n",
      "Epoch [4/5], Step [16100/36000], Loss: 0.2961\n",
      "Epoch [4/5], Step [16200/36000], Loss: 0.3377\n",
      "Epoch [4/5], Step [16300/36000], Loss: 0.1833\n",
      "Epoch [4/5], Step [16400/36000], Loss: 0.2439\n",
      "Epoch [4/5], Step [16500/36000], Loss: 0.2191\n",
      "Epoch [4/5], Step [16600/36000], Loss: 0.2351\n",
      "Epoch [4/5], Step [16700/36000], Loss: 0.3204\n",
      "Epoch [4/5], Step [16800/36000], Loss: 0.3873\n",
      "Epoch [4/5], Step [16900/36000], Loss: 0.2810\n",
      "Epoch [4/5], Step [17000/36000], Loss: 0.1348\n",
      "Epoch [4/5], Step [17100/36000], Loss: 0.1464\n",
      "Epoch [4/5], Step [17200/36000], Loss: 0.2047\n",
      "Epoch [4/5], Step [17300/36000], Loss: 0.3675\n",
      "Epoch [4/5], Step [17400/36000], Loss: 0.3521\n",
      "Epoch [4/5], Step [17500/36000], Loss: 0.2635\n",
      "Epoch [4/5], Step [17600/36000], Loss: 0.3146\n",
      "Epoch [4/5], Step [17700/36000], Loss: 0.1772\n",
      "Epoch [4/5], Step [17800/36000], Loss: 0.3213\n",
      "Epoch [4/5], Step [17900/36000], Loss: 0.5090\n",
      "Epoch [4/5], Step [18000/36000], Loss: 0.1928\n",
      "Epoch [4/5], Step [18100/36000], Loss: 0.1967\n"
     ]
    },
    {
     "name": "stdout",
     "output_type": "stream",
     "text": [
      "Epoch [4/5], Step [18200/36000], Loss: 0.3378\n",
      "Epoch [4/5], Step [18300/36000], Loss: 0.7347\n",
      "Epoch [4/5], Step [18400/36000], Loss: 0.3515\n",
      "Epoch [4/5], Step [18500/36000], Loss: 0.1512\n",
      "Epoch [4/5], Step [18600/36000], Loss: 0.2194\n",
      "Epoch [4/5], Step [18700/36000], Loss: 0.3317\n",
      "Epoch [4/5], Step [18800/36000], Loss: 0.1271\n",
      "Epoch [4/5], Step [18900/36000], Loss: 0.2084\n",
      "Epoch [4/5], Step [19000/36000], Loss: 0.2670\n",
      "Epoch [4/5], Step [19100/36000], Loss: 0.2322\n",
      "Epoch [4/5], Step [19200/36000], Loss: 0.4123\n",
      "Epoch [4/5], Step [19300/36000], Loss: 0.3834\n",
      "Epoch [4/5], Step [19400/36000], Loss: 0.1614\n",
      "Epoch [4/5], Step [19500/36000], Loss: 0.4474\n",
      "Epoch [4/5], Step [19600/36000], Loss: 0.2518\n",
      "Epoch [4/5], Step [19700/36000], Loss: 0.1783\n",
      "Epoch [4/5], Step [19800/36000], Loss: 0.1920\n",
      "Epoch [4/5], Step [19900/36000], Loss: 0.1737\n",
      "Epoch [4/5], Step [20000/36000], Loss: 0.3227\n",
      "Epoch [4/5], Step [20100/36000], Loss: 0.1961\n",
      "Epoch [4/5], Step [20200/36000], Loss: 0.3515\n",
      "Epoch [4/5], Step [20300/36000], Loss: 0.6103\n",
      "Epoch [4/5], Step [20400/36000], Loss: 0.3427\n",
      "Epoch [4/5], Step [20500/36000], Loss: 0.2923\n",
      "Epoch [4/5], Step [20600/36000], Loss: 0.1448\n",
      "Epoch [4/5], Step [20700/36000], Loss: 0.3750\n",
      "Epoch [4/5], Step [20800/36000], Loss: 0.2954\n",
      "Epoch [4/5], Step [20900/36000], Loss: 0.0893\n",
      "Epoch [4/5], Step [21000/36000], Loss: 0.4254\n",
      "Epoch [4/5], Step [21100/36000], Loss: 0.3492\n",
      "Epoch [4/5], Step [21200/36000], Loss: 0.0430\n",
      "Epoch [4/5], Step [21300/36000], Loss: 0.1012\n",
      "Epoch [4/5], Step [21400/36000], Loss: 0.2399\n",
      "Epoch [4/5], Step [21500/36000], Loss: 0.5836\n",
      "Epoch [4/5], Step [21600/36000], Loss: 0.1479\n",
      "Epoch [4/5], Step [21700/36000], Loss: 0.2011\n",
      "Epoch [4/5], Step [21800/36000], Loss: 0.2711\n",
      "Epoch [4/5], Step [21900/36000], Loss: 0.1751\n",
      "Epoch [4/5], Step [22000/36000], Loss: 0.4698\n",
      "Epoch [4/5], Step [22100/36000], Loss: 0.4806\n",
      "Epoch [4/5], Step [22200/36000], Loss: 0.4293\n",
      "Epoch [4/5], Step [22300/36000], Loss: 0.4881\n",
      "Epoch [4/5], Step [22400/36000], Loss: 0.5991\n",
      "Epoch [4/5], Step [22500/36000], Loss: 0.1244\n",
      "Epoch [4/5], Step [22600/36000], Loss: 0.0638\n",
      "Epoch [4/5], Step [22700/36000], Loss: 0.1511\n",
      "Epoch [4/5], Step [22800/36000], Loss: 0.2201\n",
      "Epoch [4/5], Step [22900/36000], Loss: 0.3491\n",
      "Epoch [4/5], Step [23000/36000], Loss: 0.1738\n",
      "Epoch [4/5], Step [23100/36000], Loss: 0.2318\n",
      "Epoch [4/5], Step [23200/36000], Loss: 0.0991\n",
      "Epoch [4/5], Step [23300/36000], Loss: 0.2748\n",
      "Epoch [4/5], Step [23400/36000], Loss: 0.2016\n",
      "Epoch [4/5], Step [23500/36000], Loss: 0.2665\n",
      "Epoch [4/5], Step [23600/36000], Loss: 0.4807\n",
      "Epoch [4/5], Step [23700/36000], Loss: 0.1877\n",
      "Epoch [4/5], Step [23800/36000], Loss: 0.4495\n",
      "Epoch [4/5], Step [23900/36000], Loss: 0.4720\n",
      "Epoch [4/5], Step [24000/36000], Loss: 0.3279\n",
      "Epoch [4/5], Step [24100/36000], Loss: 0.1924\n",
      "Epoch [4/5], Step [24200/36000], Loss: 0.2402\n",
      "Epoch [4/5], Step [24300/36000], Loss: 0.2818\n",
      "Epoch [4/5], Step [24400/36000], Loss: 0.3725\n",
      "Epoch [4/5], Step [24500/36000], Loss: 0.1731\n",
      "Epoch [4/5], Step [24600/36000], Loss: 0.1826\n",
      "Epoch [4/5], Step [24700/36000], Loss: 0.3988\n",
      "Epoch [4/5], Step [24800/36000], Loss: 0.2969\n",
      "Epoch [4/5], Step [24900/36000], Loss: 0.3612\n",
      "Epoch [4/5], Step [25000/36000], Loss: 0.2629\n",
      "Epoch [4/5], Step [25100/36000], Loss: 0.2621\n",
      "Epoch [4/5], Step [25200/36000], Loss: 0.1923\n",
      "Epoch [4/5], Step [25300/36000], Loss: 0.3227\n",
      "Epoch [4/5], Step [25400/36000], Loss: 0.2436\n",
      "Epoch [4/5], Step [25500/36000], Loss: 0.3366\n",
      "Epoch [4/5], Step [25600/36000], Loss: 0.3839\n",
      "Epoch [4/5], Step [25700/36000], Loss: 0.3247\n",
      "Epoch [4/5], Step [25800/36000], Loss: 0.2147\n",
      "Epoch [4/5], Step [25900/36000], Loss: 0.5487\n",
      "Epoch [4/5], Step [26000/36000], Loss: 0.2344\n",
      "Epoch [4/5], Step [26100/36000], Loss: 0.0988\n",
      "Epoch [4/5], Step [26200/36000], Loss: 0.3163\n",
      "Epoch [4/5], Step [26300/36000], Loss: 0.2355\n",
      "Epoch [4/5], Step [26400/36000], Loss: 0.1173\n",
      "Epoch [4/5], Step [26500/36000], Loss: 0.1870\n",
      "Epoch [4/5], Step [26600/36000], Loss: 0.5179\n",
      "Epoch [4/5], Step [26700/36000], Loss: 0.1810\n",
      "Epoch [4/5], Step [26800/36000], Loss: 0.2976\n",
      "Epoch [4/5], Step [26900/36000], Loss: 0.1988\n",
      "Epoch [4/5], Step [27000/36000], Loss: 0.1352\n",
      "Epoch [4/5], Step [27100/36000], Loss: 0.4501\n",
      "Epoch [4/5], Step [27200/36000], Loss: 0.2826\n",
      "Epoch [4/5], Step [27300/36000], Loss: 0.1001\n",
      "Epoch [4/5], Step [27400/36000], Loss: 0.1386\n",
      "Epoch [4/5], Step [27500/36000], Loss: 0.1358\n",
      "Epoch [4/5], Step [27600/36000], Loss: 0.4507\n",
      "Epoch [4/5], Step [27700/36000], Loss: 0.5141\n",
      "Epoch [4/5], Step [27800/36000], Loss: 0.2328\n",
      "Epoch [4/5], Step [27900/36000], Loss: 0.2281\n",
      "Epoch [4/5], Step [28000/36000], Loss: 0.4327\n",
      "Epoch [4/5], Step [28100/36000], Loss: 0.3090\n",
      "Epoch [4/5], Step [28200/36000], Loss: 0.5752\n",
      "Epoch [4/5], Step [28300/36000], Loss: 0.2279\n",
      "Epoch [4/5], Step [28400/36000], Loss: 0.4336\n",
      "Epoch [4/5], Step [28500/36000], Loss: 0.2843\n",
      "Epoch [4/5], Step [28600/36000], Loss: 0.4512\n",
      "Epoch [4/5], Step [28700/36000], Loss: 0.3745\n",
      "Epoch [4/5], Step [28800/36000], Loss: 0.2897\n",
      "Epoch [4/5], Step [28900/36000], Loss: 0.5315\n",
      "Epoch [4/5], Step [29000/36000], Loss: 0.3923\n",
      "Epoch [4/5], Step [29100/36000], Loss: 0.3013\n",
      "Epoch [4/5], Step [29200/36000], Loss: 0.2650\n",
      "Epoch [4/5], Step [29300/36000], Loss: 0.3363\n",
      "Epoch [4/5], Step [29400/36000], Loss: 0.4349\n",
      "Epoch [4/5], Step [29500/36000], Loss: 0.1603\n",
      "Epoch [4/5], Step [29600/36000], Loss: 0.4025\n",
      "Epoch [4/5], Step [29700/36000], Loss: 0.3685\n",
      "Epoch [4/5], Step [29800/36000], Loss: 0.3071\n",
      "Epoch [4/5], Step [29900/36000], Loss: 0.3421\n",
      "Epoch [4/5], Step [30000/36000], Loss: 0.2079\n",
      "Epoch [4/5], Step [30100/36000], Loss: 0.1369\n",
      "Epoch [4/5], Step [30200/36000], Loss: 0.2914\n",
      "Epoch [4/5], Step [30300/36000], Loss: 0.5225\n",
      "Epoch [4/5], Step [30400/36000], Loss: 0.4690\n",
      "Epoch [4/5], Step [30500/36000], Loss: 0.2802\n",
      "Epoch [4/5], Step [30600/36000], Loss: 0.2043\n",
      "Epoch [4/5], Step [30700/36000], Loss: 0.2268\n",
      "Epoch [4/5], Step [30800/36000], Loss: 0.2614\n",
      "Epoch [4/5], Step [30900/36000], Loss: 0.5376\n",
      "Epoch [4/5], Step [31000/36000], Loss: 0.2258\n",
      "Epoch [4/5], Step [31100/36000], Loss: 0.3201\n",
      "Epoch [4/5], Step [31200/36000], Loss: 0.2471\n",
      "Epoch [4/5], Step [31300/36000], Loss: 0.3392\n",
      "Epoch [4/5], Step [31400/36000], Loss: 0.3072\n",
      "Epoch [4/5], Step [31500/36000], Loss: 0.2350\n",
      "Epoch [4/5], Step [31600/36000], Loss: 0.2575\n",
      "Epoch [4/5], Step [31700/36000], Loss: 0.2830\n",
      "Epoch [4/5], Step [31800/36000], Loss: 0.2756\n",
      "Epoch [4/5], Step [31900/36000], Loss: 0.4536\n",
      "Epoch [4/5], Step [32000/36000], Loss: 0.3233\n",
      "Epoch [4/5], Step [32100/36000], Loss: 0.2551\n",
      "Epoch [4/5], Step [32200/36000], Loss: 0.3592\n",
      "Epoch [4/5], Step [32300/36000], Loss: 0.3279\n",
      "Epoch [4/5], Step [32400/36000], Loss: 0.4105\n",
      "Epoch [4/5], Step [32500/36000], Loss: 0.4465\n",
      "Epoch [4/5], Step [32600/36000], Loss: 0.4368\n",
      "Epoch [4/5], Step [32700/36000], Loss: 0.3739\n",
      "Epoch [4/5], Step [32800/36000], Loss: 0.2223\n",
      "Epoch [4/5], Step [32900/36000], Loss: 0.1134\n",
      "Epoch [4/5], Step [33000/36000], Loss: 0.2117\n",
      "Epoch [4/5], Step [33100/36000], Loss: 0.3650\n",
      "Epoch [4/5], Step [33200/36000], Loss: 0.2587\n",
      "Epoch [4/5], Step [33300/36000], Loss: 0.4091\n",
      "Epoch [4/5], Step [33400/36000], Loss: 0.3255\n",
      "Epoch [4/5], Step [33500/36000], Loss: 0.3416\n",
      "Epoch [4/5], Step [33600/36000], Loss: 0.3261\n",
      "Epoch [4/5], Step [33700/36000], Loss: 0.1199\n",
      "Epoch [4/5], Step [33800/36000], Loss: 0.3451\n",
      "Epoch [4/5], Step [33900/36000], Loss: 0.1576\n",
      "Epoch [4/5], Step [34000/36000], Loss: 0.2062\n",
      "Epoch [4/5], Step [34100/36000], Loss: 0.2856\n",
      "Epoch [4/5], Step [34200/36000], Loss: 0.3608\n",
      "Epoch [4/5], Step [34300/36000], Loss: 0.2187\n",
      "Epoch [4/5], Step [34400/36000], Loss: 0.3973\n",
      "Epoch [4/5], Step [34500/36000], Loss: 0.2275\n",
      "Epoch [4/5], Step [34600/36000], Loss: 0.2178\n",
      "Epoch [4/5], Step [34700/36000], Loss: 0.4245\n",
      "Epoch [4/5], Step [34800/36000], Loss: 0.2228\n",
      "Epoch [4/5], Step [34900/36000], Loss: 0.5082\n",
      "Epoch [4/5], Step [35000/36000], Loss: 0.0634\n",
      "Epoch [4/5], Step [35100/36000], Loss: 0.2713\n",
      "Epoch [4/5], Step [35200/36000], Loss: 0.2041\n",
      "Epoch [4/5], Step [35300/36000], Loss: 0.1804\n",
      "Epoch [4/5], Step [35400/36000], Loss: 0.2935\n",
      "Epoch [4/5], Step [35500/36000], Loss: 0.3327\n",
      "Epoch [4/5], Step [35600/36000], Loss: 0.2250\n",
      "Epoch [4/5], Step [35700/36000], Loss: 0.3183\n",
      "Epoch [4/5], Step [35800/36000], Loss: 0.1623\n",
      "Epoch [4/5], Step [35900/36000], Loss: 0.4863\n",
      "Epoch [4/5], Step [36000/36000], Loss: 0.2148\n",
      "Epoch 4, train_loss: 0.2912\n"
     ]
    },
    {
     "name": "stdout",
     "output_type": "stream",
     "text": [
      "Epoch [5/5], Step [100/36000], Loss: 0.3032\n",
      "Epoch [5/5], Step [200/36000], Loss: 0.2182\n",
      "Epoch [5/5], Step [300/36000], Loss: 0.1462\n",
      "Epoch [5/5], Step [400/36000], Loss: 0.1729\n",
      "Epoch [5/5], Step [500/36000], Loss: 0.4081\n",
      "Epoch [5/5], Step [600/36000], Loss: 0.6480\n",
      "Epoch [5/5], Step [700/36000], Loss: 0.2903\n",
      "Epoch [5/5], Step [800/36000], Loss: 0.3006\n",
      "Epoch [5/5], Step [900/36000], Loss: 0.1585\n",
      "Epoch [5/5], Step [1000/36000], Loss: 0.3286\n",
      "Epoch [5/5], Step [1100/36000], Loss: 0.5022\n",
      "Epoch [5/5], Step [1200/36000], Loss: 0.1525\n",
      "Epoch [5/5], Step [1300/36000], Loss: 0.2218\n",
      "Epoch [5/5], Step [1400/36000], Loss: 0.4405\n",
      "Epoch [5/5], Step [1500/36000], Loss: 0.2374\n",
      "Epoch [5/5], Step [1600/36000], Loss: 0.3061\n",
      "Epoch [5/5], Step [1700/36000], Loss: 0.2306\n",
      "Epoch [5/5], Step [1800/36000], Loss: 0.5808\n",
      "Epoch [5/5], Step [1900/36000], Loss: 0.1638\n",
      "Epoch [5/5], Step [2000/36000], Loss: 0.1278\n",
      "Epoch [5/5], Step [2100/36000], Loss: 0.1495\n",
      "Epoch [5/5], Step [2200/36000], Loss: 0.3880\n",
      "Epoch [5/5], Step [2300/36000], Loss: 0.1408\n",
      "Epoch [5/5], Step [2400/36000], Loss: 0.3478\n",
      "Epoch [5/5], Step [2500/36000], Loss: 0.1436\n",
      "Epoch [5/5], Step [2600/36000], Loss: 0.2275\n",
      "Epoch [5/5], Step [2700/36000], Loss: 0.3361\n",
      "Epoch [5/5], Step [2800/36000], Loss: 0.2841\n",
      "Epoch [5/5], Step [2900/36000], Loss: 0.1004\n",
      "Epoch [5/5], Step [3000/36000], Loss: 0.1139\n",
      "Epoch [5/5], Step [3100/36000], Loss: 0.1793\n",
      "Epoch [5/5], Step [3200/36000], Loss: 0.0983\n",
      "Epoch [5/5], Step [3300/36000], Loss: 0.3614\n",
      "Epoch [5/5], Step [3400/36000], Loss: 0.1659\n",
      "Epoch [5/5], Step [3500/36000], Loss: 0.5294\n",
      "Epoch [5/5], Step [3600/36000], Loss: 0.2775\n",
      "Epoch [5/5], Step [3700/36000], Loss: 0.3060\n",
      "Epoch [5/5], Step [3800/36000], Loss: 0.1926\n",
      "Epoch [5/5], Step [3900/36000], Loss: 0.1525\n",
      "Epoch [5/5], Step [4000/36000], Loss: 0.4535\n",
      "Epoch [5/5], Step [4100/36000], Loss: 0.2053\n",
      "Epoch [5/5], Step [4200/36000], Loss: 0.1014\n",
      "Epoch [5/5], Step [4300/36000], Loss: 0.1980\n",
      "Epoch [5/5], Step [4400/36000], Loss: 0.1923\n",
      "Epoch [5/5], Step [4500/36000], Loss: 0.1780\n",
      "Epoch [5/5], Step [4600/36000], Loss: 0.3988\n",
      "Epoch [5/5], Step [4700/36000], Loss: 0.1655\n",
      "Epoch [5/5], Step [4800/36000], Loss: 0.2029\n",
      "Epoch [5/5], Step [4900/36000], Loss: 0.2574\n",
      "Epoch [5/5], Step [5000/36000], Loss: 0.2456\n",
      "Epoch [5/5], Step [5100/36000], Loss: 0.4455\n",
      "Epoch [5/5], Step [5200/36000], Loss: 0.2145\n",
      "Epoch [5/5], Step [5300/36000], Loss: 0.3373\n",
      "Epoch [5/5], Step [5400/36000], Loss: 0.1890\n",
      "Epoch [5/5], Step [5500/36000], Loss: 0.2168\n",
      "Epoch [5/5], Step [5600/36000], Loss: 0.2633\n",
      "Epoch [5/5], Step [5700/36000], Loss: 0.2244\n",
      "Epoch [5/5], Step [5800/36000], Loss: 0.2925\n",
      "Epoch [5/5], Step [5900/36000], Loss: 0.3590\n",
      "Epoch [5/5], Step [6000/36000], Loss: 0.3937\n",
      "Epoch [5/5], Step [6100/36000], Loss: 0.2235\n",
      "Epoch [5/5], Step [6200/36000], Loss: 0.3454\n",
      "Epoch [5/5], Step [6300/36000], Loss: 0.2840\n",
      "Epoch [5/5], Step [6400/36000], Loss: 0.3294\n",
      "Epoch [5/5], Step [6500/36000], Loss: 0.2380\n",
      "Epoch [5/5], Step [6600/36000], Loss: 0.0764\n",
      "Epoch [5/5], Step [6700/36000], Loss: 0.1294\n",
      "Epoch [5/5], Step [6800/36000], Loss: 0.1650\n",
      "Epoch [5/5], Step [6900/36000], Loss: 0.2053\n",
      "Epoch [5/5], Step [7000/36000], Loss: 0.2247\n",
      "Epoch [5/5], Step [7100/36000], Loss: 0.2812\n",
      "Epoch [5/5], Step [7200/36000], Loss: 0.1855\n",
      "Epoch [5/5], Step [7300/36000], Loss: 0.2325\n",
      "Epoch [5/5], Step [7400/36000], Loss: 0.2976\n",
      "Epoch [5/5], Step [7500/36000], Loss: 0.2849\n",
      "Epoch [5/5], Step [7600/36000], Loss: 0.1981\n",
      "Epoch [5/5], Step [7700/36000], Loss: 0.2562\n",
      "Epoch [5/5], Step [7800/36000], Loss: 0.3981\n",
      "Epoch [5/5], Step [7900/36000], Loss: 0.5604\n",
      "Epoch [5/5], Step [8000/36000], Loss: 0.2832\n",
      "Epoch [5/5], Step [8100/36000], Loss: 0.3010\n",
      "Epoch [5/5], Step [8200/36000], Loss: 0.3408\n",
      "Epoch [5/5], Step [8300/36000], Loss: 0.2089\n",
      "Epoch [5/5], Step [8400/36000], Loss: 0.4808\n",
      "Epoch [5/5], Step [8500/36000], Loss: 0.2578\n",
      "Epoch [5/5], Step [8600/36000], Loss: 0.2266\n",
      "Epoch [5/5], Step [8700/36000], Loss: 0.2390\n",
      "Epoch [5/5], Step [8800/36000], Loss: 0.3653\n",
      "Epoch [5/5], Step [8900/36000], Loss: 0.0905\n",
      "Epoch [5/5], Step [9000/36000], Loss: 0.1483\n",
      "Epoch [5/5], Step [9100/36000], Loss: 0.2482\n",
      "Epoch [5/5], Step [9200/36000], Loss: 0.3588\n",
      "Epoch [5/5], Step [9300/36000], Loss: 0.2784\n",
      "Epoch [5/5], Step [9400/36000], Loss: 0.2222\n",
      "Epoch [5/5], Step [9500/36000], Loss: 0.1713\n",
      "Epoch [5/5], Step [9600/36000], Loss: 0.3330\n",
      "Epoch [5/5], Step [9700/36000], Loss: 0.3042\n",
      "Epoch [5/5], Step [9800/36000], Loss: 0.1625\n",
      "Epoch [5/5], Step [9900/36000], Loss: 0.4087\n",
      "Epoch [5/5], Step [10000/36000], Loss: 0.3442\n",
      "Epoch [5/5], Step [10100/36000], Loss: 0.4215\n",
      "Epoch [5/5], Step [10200/36000], Loss: 0.1359\n",
      "Epoch [5/5], Step [10300/36000], Loss: 0.2171\n",
      "Epoch [5/5], Step [10400/36000], Loss: 0.1722\n",
      "Epoch [5/5], Step [10500/36000], Loss: 0.1713\n",
      "Epoch [5/5], Step [10600/36000], Loss: 0.2302\n",
      "Epoch [5/5], Step [10700/36000], Loss: 0.4206\n",
      "Epoch [5/5], Step [10800/36000], Loss: 0.1924\n",
      "Epoch [5/5], Step [10900/36000], Loss: 0.2163\n",
      "Epoch [5/5], Step [11000/36000], Loss: 0.1679\n",
      "Epoch [5/5], Step [11100/36000], Loss: 0.2110\n",
      "Epoch [5/5], Step [11200/36000], Loss: 0.2545\n",
      "Epoch [5/5], Step [11300/36000], Loss: 0.4246\n",
      "Epoch [5/5], Step [11400/36000], Loss: 0.1431\n",
      "Epoch [5/5], Step [11500/36000], Loss: 0.6009\n",
      "Epoch [5/5], Step [11600/36000], Loss: 0.4332\n",
      "Epoch [5/5], Step [11700/36000], Loss: 0.2422\n",
      "Epoch [5/5], Step [11800/36000], Loss: 0.2474\n",
      "Epoch [5/5], Step [11900/36000], Loss: 0.1706\n",
      "Epoch [5/5], Step [12000/36000], Loss: 0.0936\n",
      "Epoch [5/5], Step [12100/36000], Loss: 0.1690\n",
      "Epoch [5/5], Step [12200/36000], Loss: 0.1832\n",
      "Epoch [5/5], Step [12300/36000], Loss: 0.1874\n",
      "Epoch [5/5], Step [12400/36000], Loss: 0.2017\n",
      "Epoch [5/5], Step [12500/36000], Loss: 0.1419\n",
      "Epoch [5/5], Step [12600/36000], Loss: 0.1457\n",
      "Epoch [5/5], Step [12700/36000], Loss: 0.3012\n",
      "Epoch [5/5], Step [12800/36000], Loss: 0.5931\n",
      "Epoch [5/5], Step [12900/36000], Loss: 0.1302\n",
      "Epoch [5/5], Step [13000/36000], Loss: 0.5213\n",
      "Epoch [5/5], Step [13100/36000], Loss: 0.0870\n",
      "Epoch [5/5], Step [13200/36000], Loss: 0.4975\n",
      "Epoch [5/5], Step [13300/36000], Loss: 0.1536\n",
      "Epoch [5/5], Step [13400/36000], Loss: 0.1523\n",
      "Epoch [5/5], Step [13500/36000], Loss: 0.1860\n",
      "Epoch [5/5], Step [13600/36000], Loss: 0.2929\n",
      "Epoch [5/5], Step [13700/36000], Loss: 0.2176\n",
      "Epoch [5/5], Step [13800/36000], Loss: 0.2561\n",
      "Epoch [5/5], Step [13900/36000], Loss: 0.3435\n",
      "Epoch [5/5], Step [14000/36000], Loss: 0.1926\n",
      "Epoch [5/5], Step [14100/36000], Loss: 0.1967\n",
      "Epoch [5/5], Step [14200/36000], Loss: 0.1263\n",
      "Epoch [5/5], Step [14300/36000], Loss: 0.1404\n",
      "Epoch [5/5], Step [14400/36000], Loss: 0.1825\n",
      "Epoch [5/5], Step [14500/36000], Loss: 0.1945\n",
      "Epoch [5/5], Step [14600/36000], Loss: 0.2730\n",
      "Epoch [5/5], Step [14700/36000], Loss: 0.4632\n",
      "Epoch [5/5], Step [14800/36000], Loss: 0.2842\n",
      "Epoch [5/5], Step [14900/36000], Loss: 0.2106\n",
      "Epoch [5/5], Step [15000/36000], Loss: 0.3386\n",
      "Epoch [5/5], Step [15100/36000], Loss: 0.6135\n",
      "Epoch [5/5], Step [15200/36000], Loss: 0.2690\n",
      "Epoch [5/5], Step [15300/36000], Loss: 0.2202\n",
      "Epoch [5/5], Step [15400/36000], Loss: 0.2754\n",
      "Epoch [5/5], Step [15500/36000], Loss: 0.2668\n",
      "Epoch [5/5], Step [15600/36000], Loss: 0.5170\n",
      "Epoch [5/5], Step [15700/36000], Loss: 0.3748\n",
      "Epoch [5/5], Step [15800/36000], Loss: 0.2517\n",
      "Epoch [5/5], Step [15900/36000], Loss: 0.7305\n",
      "Epoch [5/5], Step [16000/36000], Loss: 0.2498\n",
      "Epoch [5/5], Step [16100/36000], Loss: 0.3007\n",
      "Epoch [5/5], Step [16200/36000], Loss: 0.2554\n",
      "Epoch [5/5], Step [16300/36000], Loss: 0.1978\n",
      "Epoch [5/5], Step [16400/36000], Loss: 0.5435\n",
      "Epoch [5/5], Step [16500/36000], Loss: 0.1932\n",
      "Epoch [5/5], Step [16600/36000], Loss: 0.3918\n",
      "Epoch [5/5], Step [16700/36000], Loss: 0.3158\n",
      "Epoch [5/5], Step [16800/36000], Loss: 0.3558\n",
      "Epoch [5/5], Step [16900/36000], Loss: 0.4429\n",
      "Epoch [5/5], Step [17000/36000], Loss: 0.2727\n",
      "Epoch [5/5], Step [17100/36000], Loss: 0.1932\n",
      "Epoch [5/5], Step [17200/36000], Loss: 0.6104\n",
      "Epoch [5/5], Step [17300/36000], Loss: 0.1272\n",
      "Epoch [5/5], Step [17400/36000], Loss: 0.3646\n",
      "Epoch [5/5], Step [17500/36000], Loss: 0.3966\n",
      "Epoch [5/5], Step [17600/36000], Loss: 0.1844\n",
      "Epoch [5/5], Step [17700/36000], Loss: 0.6342\n",
      "Epoch [5/5], Step [17800/36000], Loss: 0.5330\n",
      "Epoch [5/5], Step [17900/36000], Loss: 0.1991\n",
      "Epoch [5/5], Step [18000/36000], Loss: 0.4656\n",
      "Epoch [5/5], Step [18100/36000], Loss: 0.2752\n"
     ]
    },
    {
     "name": "stdout",
     "output_type": "stream",
     "text": [
      "Epoch [5/5], Step [18200/36000], Loss: 0.2803\n",
      "Epoch [5/5], Step [18300/36000], Loss: 0.0900\n",
      "Epoch [5/5], Step [18400/36000], Loss: 0.2242\n",
      "Epoch [5/5], Step [18500/36000], Loss: 0.3372\n",
      "Epoch [5/5], Step [18600/36000], Loss: 0.2095\n",
      "Epoch [5/5], Step [18700/36000], Loss: 0.4029\n",
      "Epoch [5/5], Step [18800/36000], Loss: 0.2935\n",
      "Epoch [5/5], Step [18900/36000], Loss: 0.4784\n",
      "Epoch [5/5], Step [19000/36000], Loss: 0.1523\n",
      "Epoch [5/5], Step [19100/36000], Loss: 0.3569\n",
      "Epoch [5/5], Step [19200/36000], Loss: 0.2165\n",
      "Epoch [5/5], Step [19300/36000], Loss: 0.2264\n",
      "Epoch [5/5], Step [19400/36000], Loss: 0.3252\n",
      "Epoch [5/5], Step [19500/36000], Loss: 0.5001\n",
      "Epoch [5/5], Step [19600/36000], Loss: 0.2826\n",
      "Epoch [5/5], Step [19700/36000], Loss: 0.2538\n",
      "Epoch [5/5], Step [19800/36000], Loss: 0.1810\n",
      "Epoch [5/5], Step [19900/36000], Loss: 0.3823\n",
      "Epoch [5/5], Step [20000/36000], Loss: 0.1789\n",
      "Epoch [5/5], Step [20100/36000], Loss: 0.1645\n",
      "Epoch [5/5], Step [20200/36000], Loss: 0.1339\n",
      "Epoch [5/5], Step [20300/36000], Loss: 0.4341\n",
      "Epoch [5/5], Step [20400/36000], Loss: 0.4482\n",
      "Epoch [5/5], Step [20500/36000], Loss: 0.4227\n",
      "Epoch [5/5], Step [20600/36000], Loss: 0.3962\n",
      "Epoch [5/5], Step [20700/36000], Loss: 0.2801\n",
      "Epoch [5/5], Step [20800/36000], Loss: 0.3110\n",
      "Epoch [5/5], Step [20900/36000], Loss: 0.1314\n",
      "Epoch [5/5], Step [21000/36000], Loss: 0.3995\n",
      "Epoch [5/5], Step [21100/36000], Loss: 0.2536\n",
      "Epoch [5/5], Step [21200/36000], Loss: 0.3050\n",
      "Epoch [5/5], Step [21300/36000], Loss: 0.1824\n",
      "Epoch [5/5], Step [21400/36000], Loss: 0.1632\n",
      "Epoch [5/5], Step [21500/36000], Loss: 0.1853\n",
      "Epoch [5/5], Step [21600/36000], Loss: 0.2586\n",
      "Epoch [5/5], Step [21700/36000], Loss: 0.1196\n",
      "Epoch [5/5], Step [21800/36000], Loss: 0.3044\n",
      "Epoch [5/5], Step [21900/36000], Loss: 0.2408\n",
      "Epoch [5/5], Step [22000/36000], Loss: 0.2667\n",
      "Epoch [5/5], Step [22100/36000], Loss: 0.2775\n",
      "Epoch [5/5], Step [22200/36000], Loss: 0.1600\n",
      "Epoch [5/5], Step [22300/36000], Loss: 0.2417\n",
      "Epoch [5/5], Step [22400/36000], Loss: 0.4943\n",
      "Epoch [5/5], Step [22500/36000], Loss: 0.2912\n",
      "Epoch [5/5], Step [22600/36000], Loss: 0.3863\n",
      "Epoch [5/5], Step [22700/36000], Loss: 0.3841\n",
      "Epoch [5/5], Step [22800/36000], Loss: 0.2336\n",
      "Epoch [5/5], Step [22900/36000], Loss: 0.1571\n",
      "Epoch [5/5], Step [23000/36000], Loss: 0.2038\n",
      "Epoch [5/5], Step [23100/36000], Loss: 0.2801\n",
      "Epoch [5/5], Step [23200/36000], Loss: 0.1545\n",
      "Epoch [5/5], Step [23300/36000], Loss: 0.3514\n",
      "Epoch [5/5], Step [23400/36000], Loss: 0.1940\n",
      "Epoch [5/5], Step [23500/36000], Loss: 0.2434\n",
      "Epoch [5/5], Step [23600/36000], Loss: 0.1221\n",
      "Epoch [5/5], Step [23700/36000], Loss: 0.5324\n",
      "Epoch [5/5], Step [23800/36000], Loss: 0.2267\n",
      "Epoch [5/5], Step [23900/36000], Loss: 0.2810\n",
      "Epoch [5/5], Step [24000/36000], Loss: 0.4097\n",
      "Epoch [5/5], Step [24100/36000], Loss: 0.2243\n",
      "Epoch [5/5], Step [24200/36000], Loss: 0.2436\n",
      "Epoch [5/5], Step [24300/36000], Loss: 0.3505\n",
      "Epoch [5/5], Step [24400/36000], Loss: 0.2654\n",
      "Epoch [5/5], Step [24500/36000], Loss: 0.4253\n",
      "Epoch [5/5], Step [24600/36000], Loss: 0.4675\n",
      "Epoch [5/5], Step [24700/36000], Loss: 0.4221\n",
      "Epoch [5/5], Step [24800/36000], Loss: 0.1148\n",
      "Epoch [5/5], Step [24900/36000], Loss: 0.2732\n",
      "Epoch [5/5], Step [25000/36000], Loss: 0.2778\n",
      "Epoch [5/5], Step [25100/36000], Loss: 0.0780\n",
      "Epoch [5/5], Step [25200/36000], Loss: 0.5709\n",
      "Epoch [5/5], Step [25300/36000], Loss: 0.3556\n",
      "Epoch [5/5], Step [25400/36000], Loss: 0.1848\n",
      "Epoch [5/5], Step [25500/36000], Loss: 0.2561\n",
      "Epoch [5/5], Step [25600/36000], Loss: 0.1439\n",
      "Epoch [5/5], Step [25700/36000], Loss: 0.3006\n",
      "Epoch [5/5], Step [25800/36000], Loss: 0.1286\n",
      "Epoch [5/5], Step [25900/36000], Loss: 0.1027\n",
      "Epoch [5/5], Step [26000/36000], Loss: 0.2985\n",
      "Epoch [5/5], Step [26100/36000], Loss: 0.3477\n",
      "Epoch [5/5], Step [26200/36000], Loss: 0.2201\n",
      "Epoch [5/5], Step [26300/36000], Loss: 0.3555\n",
      "Epoch [5/5], Step [26400/36000], Loss: 0.4372\n",
      "Epoch [5/5], Step [26500/36000], Loss: 0.0951\n",
      "Epoch [5/5], Step [26600/36000], Loss: 0.2680\n",
      "Epoch [5/5], Step [26700/36000], Loss: 0.2251\n",
      "Epoch [5/5], Step [26800/36000], Loss: 0.3159\n",
      "Epoch [5/5], Step [26900/36000], Loss: 0.3632\n",
      "Epoch [5/5], Step [27000/36000], Loss: 0.1706\n",
      "Epoch [5/5], Step [27100/36000], Loss: 0.2943\n",
      "Epoch [5/5], Step [27200/36000], Loss: 0.2464\n",
      "Epoch [5/5], Step [27300/36000], Loss: 0.2077\n",
      "Epoch [5/5], Step [27400/36000], Loss: 0.3904\n",
      "Epoch [5/5], Step [27500/36000], Loss: 0.2611\n",
      "Epoch [5/5], Step [27600/36000], Loss: 0.2889\n",
      "Epoch [5/5], Step [27700/36000], Loss: 0.4326\n",
      "Epoch [5/5], Step [27800/36000], Loss: 0.2326\n",
      "Epoch [5/5], Step [27900/36000], Loss: 0.3132\n",
      "Epoch [5/5], Step [28000/36000], Loss: 0.2334\n",
      "Epoch [5/5], Step [28100/36000], Loss: 0.1733\n",
      "Epoch [5/5], Step [28200/36000], Loss: 0.1599\n",
      "Epoch [5/5], Step [28300/36000], Loss: 0.1941\n",
      "Epoch [5/5], Step [28400/36000], Loss: 0.3011\n",
      "Epoch [5/5], Step [28500/36000], Loss: 0.2473\n",
      "Epoch [5/5], Step [28600/36000], Loss: 0.4152\n",
      "Epoch [5/5], Step [28700/36000], Loss: 0.2405\n",
      "Epoch [5/5], Step [28800/36000], Loss: 0.2037\n",
      "Epoch [5/5], Step [28900/36000], Loss: 0.3055\n",
      "Epoch [5/5], Step [29000/36000], Loss: 0.1271\n",
      "Epoch [5/5], Step [29100/36000], Loss: 0.1679\n",
      "Epoch [5/5], Step [29200/36000], Loss: 0.1832\n",
      "Epoch [5/5], Step [29300/36000], Loss: 0.3549\n",
      "Epoch [5/5], Step [29400/36000], Loss: 0.2976\n",
      "Epoch [5/5], Step [29500/36000], Loss: 0.6634\n",
      "Epoch [5/5], Step [29600/36000], Loss: 0.1914\n",
      "Epoch [5/5], Step [29700/36000], Loss: 0.6163\n",
      "Epoch [5/5], Step [29800/36000], Loss: 0.3873\n",
      "Epoch [5/5], Step [29900/36000], Loss: 0.1928\n",
      "Epoch [5/5], Step [30000/36000], Loss: 0.2271\n",
      "Epoch [5/5], Step [30100/36000], Loss: 0.1493\n",
      "Epoch [5/5], Step [30200/36000], Loss: 0.2035\n",
      "Epoch [5/5], Step [30300/36000], Loss: 0.3503\n",
      "Epoch [5/5], Step [30400/36000], Loss: 0.3240\n",
      "Epoch [5/5], Step [30500/36000], Loss: 0.3127\n",
      "Epoch [5/5], Step [30600/36000], Loss: 0.1343\n",
      "Epoch [5/5], Step [30700/36000], Loss: 0.5161\n",
      "Epoch [5/5], Step [30800/36000], Loss: 0.4009\n",
      "Epoch [5/5], Step [30900/36000], Loss: 0.2007\n",
      "Epoch [5/5], Step [31000/36000], Loss: 0.3085\n",
      "Epoch [5/5], Step [31100/36000], Loss: 0.2378\n",
      "Epoch [5/5], Step [31200/36000], Loss: 0.3588\n",
      "Epoch [5/5], Step [31300/36000], Loss: 0.1688\n",
      "Epoch [5/5], Step [31400/36000], Loss: 0.2558\n",
      "Epoch [5/5], Step [31500/36000], Loss: 0.2166\n",
      "Epoch [5/5], Step [31600/36000], Loss: 0.2342\n",
      "Epoch [5/5], Step [31700/36000], Loss: 0.5795\n",
      "Epoch [5/5], Step [31800/36000], Loss: 0.5135\n",
      "Epoch [5/5], Step [31900/36000], Loss: 0.2067\n",
      "Epoch [5/5], Step [32000/36000], Loss: 0.1197\n",
      "Epoch [5/5], Step [32100/36000], Loss: 0.2771\n",
      "Epoch [5/5], Step [32200/36000], Loss: 0.2082\n",
      "Epoch [5/5], Step [32300/36000], Loss: 0.0850\n",
      "Epoch [5/5], Step [32400/36000], Loss: 0.1656\n",
      "Epoch [5/5], Step [32500/36000], Loss: 0.1379\n",
      "Epoch [5/5], Step [32600/36000], Loss: 0.3565\n",
      "Epoch [5/5], Step [32700/36000], Loss: 0.4072\n",
      "Epoch [5/5], Step [32800/36000], Loss: 0.3513\n",
      "Epoch [5/5], Step [32900/36000], Loss: 0.1566\n",
      "Epoch [5/5], Step [33000/36000], Loss: 0.1732\n",
      "Epoch [5/5], Step [33100/36000], Loss: 0.1405\n",
      "Epoch [5/5], Step [33200/36000], Loss: 0.2313\n",
      "Epoch [5/5], Step [33300/36000], Loss: 0.3760\n",
      "Epoch [5/5], Step [33400/36000], Loss: 0.2488\n",
      "Epoch [5/5], Step [33500/36000], Loss: 0.2473\n",
      "Epoch [5/5], Step [33600/36000], Loss: 0.2135\n",
      "Epoch [5/5], Step [33700/36000], Loss: 0.2526\n",
      "Epoch [5/5], Step [33800/36000], Loss: 0.2071\n",
      "Epoch [5/5], Step [33900/36000], Loss: 0.2686\n",
      "Epoch [5/5], Step [34000/36000], Loss: 0.2422\n",
      "Epoch [5/5], Step [34100/36000], Loss: 0.1583\n",
      "Epoch [5/5], Step [34200/36000], Loss: 0.2886\n",
      "Epoch [5/5], Step [34300/36000], Loss: 0.4195\n",
      "Epoch [5/5], Step [34400/36000], Loss: 0.1863\n",
      "Epoch [5/5], Step [34500/36000], Loss: 0.3704\n",
      "Epoch [5/5], Step [34600/36000], Loss: 0.1284\n",
      "Epoch [5/5], Step [34700/36000], Loss: 0.3008\n",
      "Epoch [5/5], Step [34800/36000], Loss: 0.1257\n",
      "Epoch [5/5], Step [34900/36000], Loss: 0.2700\n",
      "Epoch [5/5], Step [35000/36000], Loss: 0.1011\n",
      "Epoch [5/5], Step [35100/36000], Loss: 0.2631\n",
      "Epoch [5/5], Step [35200/36000], Loss: 0.3400\n",
      "Epoch [5/5], Step [35300/36000], Loss: 0.3266\n",
      "Epoch [5/5], Step [35400/36000], Loss: 0.2306\n",
      "Epoch [5/5], Step [35500/36000], Loss: 0.1995\n",
      "Epoch [5/5], Step [35600/36000], Loss: 0.3602\n",
      "Epoch [5/5], Step [35700/36000], Loss: 0.3526\n",
      "Epoch [5/5], Step [35800/36000], Loss: 0.2406\n",
      "Epoch [5/5], Step [35900/36000], Loss: 0.3488\n",
      "Epoch [5/5], Step [36000/36000], Loss: 0.3017\n",
      "Epoch 5, train_loss: 0.2905\n"
     ]
    }
   ],
   "source": [
    "for epochs in range(num_epochs):\n",
    "    for batch_idx, data in enumerate(celeb_train_dataloader):\n",
    "        x = data['image'].to(device)\n",
    "        c = data['attribute'].to(device)\n",
    "        optimizer.zero_grad()\n",
    "        reconstruction, mu, logvar = model(x, c)\n",
    "        loss = criterion(reconstruction, x)\n",
    "        kl_divergence = -0.5 * torch.sum(1 + logvar - mu.pow(2) - logvar.exp())\n",
    "        loss += kl_divergence # reconstruction loss + kl divergence loss\n",
    "        train_loss += loss\n",
    "        loss.backward()\n",
    "        optimizer.step()\n",
    "\n",
    "        if (batch_idx +1) % 100 == 0:\n",
    "            print('Epoch [{}/{}], Step [{}/{}], Loss: {:.4f}'\n",
    "                  .format(epochs +1, num_epochs, batch_idx +1, len(celeb_train_dataloader),loss))\n",
    "            \n",
    "    train_loss /= len(celeb_train_dataloader)\n",
    "    print('Epoch {}, train_loss: {:.4f}'.format(epochs +1, train_loss))"
   ]
  },
  {
   "cell_type": "code",
   "execution_count": 394,
   "id": "365e3e29",
   "metadata": {},
   "outputs": [],
   "source": [
    "torch.save(model.state_dict(), 'cvae_model_40k.pth')"
   ]
  },
  {
   "cell_type": "code",
   "execution_count": 409,
   "id": "cb17aca7",
   "metadata": {},
   "outputs": [
    {
     "name": "stdout",
     "output_type": "stream",
     "text": [
      "Epoch [1/5], Validation Loss: 0.3226\n",
      "Epoch [2/5], Validation Loss: 0.2903\n",
      "Epoch [3/5], Validation Loss: 0.2900\n",
      "Epoch [4/5], Validation Loss: 0.2903\n",
      "Epoch [5/5], Validation Loss: 0.2899\n"
     ]
    }
   ],
   "source": [
    "model.eval()\n",
    "\n",
    "with torch.no_grad():\n",
    "    for epochs in range(num_epochs):    \n",
    "        for batch_idx, data in enumerate(celeb_val_dataloader):\n",
    "            x = data['image']\n",
    "            c = data['attribute']\n",
    "            recon_val, mu, logvar = model(x, c)\n",
    "            loss = criterion(recon_val, x)\n",
    "            kl_divergence = -0.5 * torch.sum(1 + logvar - mu.pow(2) - logvar.exp())\n",
    "            loss += kl_divergence\n",
    "            val_loss += loss\n",
    "        val_loss = val_loss / len(celeb_val_dataloader)\n",
    "\n",
    "        print(f\"Epoch [{epochs+1}/{num_epochs}], Validation Loss: {val_loss:.4f}\")"
   ]
  },
  {
   "cell_type": "code",
   "execution_count": 410,
   "id": "d0a86d33",
   "metadata": {},
   "outputs": [
    {
     "data": {
      "text/plain": [
       "torch.Size([1, 3, 64, 64])"
      ]
     },
     "execution_count": 410,
     "metadata": {},
     "output_type": "execute_result"
    }
   ],
   "source": [
    "x.shape"
   ]
  },
  {
   "cell_type": "code",
   "execution_count": 411,
   "id": "63e29770",
   "metadata": {},
   "outputs": [
    {
     "data": {
      "text/plain": [
       "<matplotlib.image.AxesImage at 0x7f7d6bc26d90>"
      ]
     },
     "execution_count": 411,
     "metadata": {},
     "output_type": "execute_result"
    },
    {
     "data": {
      "image/png": "[encoded data removed]",
      "text/plain": [
       "<Figure size 640x480 with 1 Axes>"
      ]
     },
     "metadata": {},
     "output_type": "display_data"
    }
   ],
   "source": [
    "img_np = x.squeeze(0).permute(1, 2, 0).detach().numpy()\n",
    "\n",
    "# Rescale values to range [0, 1]\n",
    "img_np = (img_np - img_np.min()) / (img_np.max() - img_np.min())\n",
    "\n",
    "# Display the image\n",
    "plt.imshow(img_np)"
   ]
  },
  {
   "cell_type": "code",
   "execution_count": 412,
   "id": "91710c66",
   "metadata": {},
   "outputs": [
    {
     "data": {
      "text/plain": [
       "(64, 64, 3)"
      ]
     },
     "execution_count": 412,
     "metadata": {},
     "output_type": "execute_result"
    }
   ],
   "source": [
    "img_np.shape"
   ]
  },
  {
   "cell_type": "code",
   "execution_count": 415,
   "id": "ab1b0973",
   "metadata": {},
   "outputs": [
    {
     "data": {
      "text/plain": [
       "torch.Size([1, 3, 64, 64])"
      ]
     },
     "execution_count": 415,
     "metadata": {},
     "output_type": "execute_result"
    }
   ],
   "source": [
    "recon_val.shape"
   ]
  },
  {
   "cell_type": "code",
   "execution_count": 418,
   "id": "78788cde",
   "metadata": {},
   "outputs": [
    {
     "data": {
      "text/plain": [
       "<matplotlib.image.AxesImage at 0x7f7db0dfc0a0>"
      ]
     },
     "execution_count": 418,
     "metadata": {},
     "output_type": "execute_result"
    },
    {
     "data": {
      "image/png": "[encoded data removed]",
      "text/plain": [
       "<Figure size 640x480 with 1 Axes>"
      ]
     },
     "metadata": {},
     "output_type": "display_data"
    }
   ],
   "source": [
    "img_np = recon_val.squeeze(0).permute(1, 2, 0).detach().numpy()\n",
    "\n",
    "# Rescale values to range [0, 1]\n",
    "img_np = (img_np - img_np.min()) / (img_np.max() - img_np.min())\n",
    "\n",
    "# Display the image\n",
    "plt.imshow(img_np)"
   ]
  },
  {
   "cell_type": "markdown",
   "id": "08cac710",
   "metadata": {},
   "source": [
    "### TASK 2. Use the previusly trained CVAE to manipulate an image by changing the attribute vector input to the encoded image."
   ]
  },
  {
   "cell_type": "code",
   "execution_count": 441,
   "id": "529001d2",
   "metadata": {},
   "outputs": [
    {
     "data": {
      "text/plain": [
       "<All keys matched successfully>"
      ]
     },
     "execution_count": 441,
     "metadata": {},
     "output_type": "execute_result"
    }
   ],
   "source": [
    "model.load_state_dict(torch.load('cvae_model_40k.pth'))"
   ]
  },
  {
   "cell_type": "code",
   "execution_count": 478,
   "id": "69c50bae",
   "metadata": {},
   "outputs": [],
   "source": [
    "sample = next(iter(celeb_test_dataloader))\n",
    "img, label = sample['image'], sample['attribute']"
   ]
  },
  {
   "cell_type": "code",
   "execution_count": 479,
   "id": "252f4c6a",
   "metadata": {},
   "outputs": [
    {
     "data": {
      "text/plain": [
       "torch.Size([1, 3, 64, 64])"
      ]
     },
     "execution_count": 479,
     "metadata": {},
     "output_type": "execute_result"
    }
   ],
   "source": [
    "img.shape"
   ]
  },
  {
   "cell_type": "code",
   "execution_count": 480,
   "id": "56542b8e",
   "metadata": {},
   "outputs": [
    {
     "data": {
      "text/plain": [
       "<matplotlib.image.AxesImage at 0x7f7d994fd6d0>"
      ]
     },
     "execution_count": 480,
     "metadata": {},
     "output_type": "execute_result"
    },
    {
     "data": {
      "image/png": "[encoded data removed]",
      "text/plain": [
       "<Figure size 640x480 with 1 Axes>"
      ]
     },
     "metadata": {},
     "output_type": "display_data"
    }
   ],
   "source": [
    "img_np = img.squeeze(0).permute(1, 2, 0).detach().numpy()\n",
    "\n",
    "# Rescale values to range [0, 1]\n",
    "img_np = (img_np - img_np.min()) / (img_np.max() - img_np.min())\n",
    "\n",
    "# Display the image\n",
    "plt.imshow(img_np)"
   ]
  },
  {
   "cell_type": "code",
   "execution_count": 481,
   "id": "d81ad519",
   "metadata": {},
   "outputs": [],
   "source": [
    "mu,log_var = model.encoder(img,label)"
   ]
  },
  {
   "cell_type": "code",
   "execution_count": 482,
   "id": "86a9f24e",
   "metadata": {},
   "outputs": [
    {
     "data": {
      "text/plain": [
       "torch.Size([1, 40])"
      ]
     },
     "execution_count": 482,
     "metadata": {},
     "output_type": "execute_result"
    }
   ],
   "source": [
    "label.shape"
   ]
  },
  {
   "cell_type": "code",
   "execution_count": 483,
   "id": "9c20fc47",
   "metadata": {},
   "outputs": [
    {
     "data": {
      "text/plain": [
       "tensor([[-1, -1,  1, -1, -1, -1, -1, -1,  1, -1, -1, -1, -1, -1, -1, -1, -1, -1,\n",
       "         -1,  1, -1, -1, -1, -1,  1, -1, -1, -1, -1, -1, -1, -1, -1,  1,  1, -1,\n",
       "          1, -1, -1,  1]])"
      ]
     },
     "execution_count": 483,
     "metadata": {},
     "output_type": "execute_result"
    }
   ],
   "source": [
    "label"
   ]
  },
  {
   "cell_type": "code",
   "execution_count": 484,
   "id": "8678b2f5",
   "metadata": {},
   "outputs": [
    {
     "data": {
      "text/plain": [
       "['image_id',\n",
       " '5_o_Clock_Shadow',\n",
       " 'Arched_Eyebrows',\n",
       " 'Attractive',\n",
       " 'Bags_Under_Eyes',\n",
       " 'Bald',\n",
       " 'Bangs',\n",
       " 'Big_Lips',\n",
       " 'Big_Nose',\n",
       " 'Black_Hair',\n",
       " 'Blond_Hair',\n",
       " 'Blurry',\n",
       " 'Brown_Hair',\n",
       " 'Bushy_Eyebrows',\n",
       " 'Chubby',\n",
       " 'Double_Chin',\n",
       " 'Eyeglasses',\n",
       " 'Goatee',\n",
       " 'Gray_Hair',\n",
       " 'Heavy_Makeup',\n",
       " 'High_Cheekbones',\n",
       " 'Male',\n",
       " 'Mouth_Slightly_Open',\n",
       " 'Mustache',\n",
       " 'Narrow_Eyes',\n",
       " 'No_Beard',\n",
       " 'Oval_Face',\n",
       " 'Pale_Skin',\n",
       " 'Pointy_Nose',\n",
       " 'Receding_Hairline',\n",
       " 'Rosy_Cheeks',\n",
       " 'Sideburns',\n",
       " 'Smiling',\n",
       " 'Straight_Hair',\n",
       " 'Wavy_Hair',\n",
       " 'Wearing_Earrings',\n",
       " 'Wearing_Hat',\n",
       " 'Wearing_Lipstick',\n",
       " 'Wearing_Necklace',\n",
       " 'Wearing_Necktie',\n",
       " 'Young']"
      ]
     },
     "execution_count": 484,
     "metadata": {},
     "output_type": "execute_result"
    }
   ],
   "source": [
    "attribute_description_list"
   ]
  },
  {
   "cell_type": "code",
   "execution_count": 485,
   "id": "c84e60f6",
   "metadata": {},
   "outputs": [
    {
     "data": {
      "text/plain": [
       "31"
      ]
     },
     "execution_count": 485,
     "metadata": {},
     "output_type": "execute_result"
    }
   ],
   "source": [
    "index = attribute_description_list.index('Smiling')\n",
    "index = index -1 #image_id\n",
    "index"
   ]
  },
  {
   "cell_type": "code",
   "execution_count": 486,
   "id": "3d07966b",
   "metadata": {},
   "outputs": [
    {
     "data": {
      "text/plain": [
       "tensor([-1])"
      ]
     },
     "execution_count": 486,
     "metadata": {},
     "output_type": "execute_result"
    }
   ],
   "source": [
    "label[:, 31]  # smiling attribute"
   ]
  },
  {
   "cell_type": "code",
   "execution_count": 487,
   "id": "75ec8e28",
   "metadata": {},
   "outputs": [
    {
     "data": {
      "text/plain": [
       "tensor([[-1, -1,  1, -1, -1, -1, -1, -1,  1, -1, -1, -1, -1, -1, -1, -1, -1, -1,\n",
       "         -1,  1, -1, -1, -1, -1,  1, -1, -1, -1, -1, -1, -1, -1, -1,  1,  1, -1,\n",
       "          1, -1, -1,  1]])"
      ]
     },
     "execution_count": 487,
     "metadata": {},
     "output_type": "execute_result"
    }
   ],
   "source": [
    "new_attrs = torch.clone(label)\n",
    "new_attrs"
   ]
  },
  {
   "cell_type": "code",
   "execution_count": 488,
   "id": "c4419a31",
   "metadata": {},
   "outputs": [],
   "source": [
    "new_attrs[:, 31] = 1"
   ]
  },
  {
   "cell_type": "code",
   "execution_count": 489,
   "id": "72e082a9",
   "metadata": {},
   "outputs": [],
   "source": [
    "with torch.no_grad():\n",
    "    z = model.reparameterize(mu, log_var)"
   ]
  },
  {
   "cell_type": "code",
   "execution_count": 490,
   "id": "a13a27f9",
   "metadata": {},
   "outputs": [
    {
     "data": {
      "text/plain": [
       "torch.Size([1, 128])"
      ]
     },
     "execution_count": 490,
     "metadata": {},
     "output_type": "execute_result"
    }
   ],
   "source": [
    "z.shape"
   ]
  },
  {
   "cell_type": "code",
   "execution_count": 491,
   "id": "d4ab8891",
   "metadata": {},
   "outputs": [],
   "source": [
    "reconstruction = model.decoder(z,label)"
   ]
  },
  {
   "cell_type": "code",
   "execution_count": 492,
   "id": "eccc13d2",
   "metadata": {},
   "outputs": [
    {
     "data": {
      "text/plain": [
       "torch.Size([1, 3, 64, 64])"
      ]
     },
     "execution_count": 492,
     "metadata": {},
     "output_type": "execute_result"
    }
   ],
   "source": [
    "reconstruction.shape"
   ]
  },
  {
   "cell_type": "markdown",
   "id": "37ccd727",
   "metadata": {},
   "source": [
    "#### original reconstruction"
   ]
  },
  {
   "cell_type": "code",
   "execution_count": 493,
   "id": "f3ec8544",
   "metadata": {},
   "outputs": [
    {
     "data": {
      "text/plain": [
       "<matplotlib.image.AxesImage at 0x7f7d7bb5d430>"
      ]
     },
     "execution_count": 493,
     "metadata": {},
     "output_type": "execute_result"
    },
    {
     "data": {
      "image/png": "[encoded data removed]",
      "text/plain": [
       "<Figure size 640x480 with 1 Axes>"
      ]
     },
     "metadata": {},
     "output_type": "display_data"
    }
   ],
   "source": [
    "img_np = reconstruction.squeeze(0).permute(1, 2, 0).detach().numpy()\n",
    "\n",
    "# Rescale values to range [0, 1]\n",
    "img_np = (img_np - img_np.min()) / (img_np.max() - img_np.min())\n",
    "\n",
    "# Display the image\n",
    "plt.imshow(img_np)"
   ]
  },
  {
   "cell_type": "markdown",
   "id": "eaa4cd79",
   "metadata": {},
   "source": [
    "### attribute changed reconstruction"
   ]
  },
  {
   "cell_type": "code",
   "execution_count": 494,
   "id": "5d0a10ae",
   "metadata": {},
   "outputs": [
    {
     "data": {
      "text/plain": [
       "<matplotlib.image.AxesImage at 0x7f7d9b97ef10>"
      ]
     },
     "execution_count": 494,
     "metadata": {},
     "output_type": "execute_result"
    },
    {
     "data": {
      "image/png": "[encoded data removed]",
      "text/plain": [
       "<Figure size 640x480 with 1 Axes>"
      ]
     },
     "metadata": {},
     "output_type": "display_data"
    }
   ],
   "source": [
    "reconstruction = model.decoder(z,new_attrs)         # using new attributes\n",
    "img_np = reconstruction.squeeze(0).permute(1, 2, 0).detach().numpy()\n",
    "\n",
    "# Rescale values to range [0, 1]\n",
    "img_np = (img_np - img_np.min()) / (img_np.max() - img_np.min())\n",
    "\n",
    "# Display the image\n",
    "plt.imshow(img_np)"
   ]
  },
  {
   "cell_type": "markdown",
   "id": "93f6c602",
   "metadata": {},
   "source": [
    "### Mustache change"
   ]
  },
  {
   "cell_type": "code",
   "execution_count": 495,
   "id": "be0292bf",
   "metadata": {},
   "outputs": [
    {
     "data": {
      "text/plain": [
       "<matplotlib.image.AxesImage at 0x7f7d68576e80>"
      ]
     },
     "execution_count": 495,
     "metadata": {},
     "output_type": "execute_result"
    },
    {
     "data": {
      "image/png": "[encoded data removed]",
      "text/plain": [
       "<Figure size 640x480 with 1 Axes>"
      ]
     },
     "metadata": {},
     "output_type": "display_data"
    }
   ],
   "source": [
    "index = attribute_description_list.index('Mustache') -1\n",
    "new_attrs = torch.clone(label)\n",
    "\n",
    "new_attrs[:, index] = 1\n",
    "reconstruction = model.decoder(z,new_attrs)\n",
    "img_np = reconstruction.squeeze(0).permute(1, 2, 0).detach().numpy()\n",
    "\n",
    "# Rescale values to range [0, 1]\n",
    "img_np = (img_np - img_np.min()) / (img_np.max() - img_np.min())\n",
    "\n",
    "# Display the image\n",
    "plt.imshow(img_np)"
   ]
  },
  {
   "cell_type": "markdown",
   "id": "80ac1b50",
   "metadata": {},
   "source": [
    "### Glass wearing change\n"
   ]
  },
  {
   "cell_type": "code",
   "execution_count": 496,
   "id": "a41658a1",
   "metadata": {},
   "outputs": [
    {
     "data": {
      "text/plain": [
       "tensor([-1])"
      ]
     },
     "execution_count": 496,
     "metadata": {},
     "output_type": "execute_result"
    }
   ],
   "source": [
    "index = attribute_description_list.index('Eyeglasses') -1\n",
    "label[:,index]"
   ]
  },
  {
   "cell_type": "code",
   "execution_count": 497,
   "id": "fb6cc798",
   "metadata": {},
   "outputs": [
    {
     "data": {
      "text/plain": [
       "<matplotlib.image.AxesImage at 0x7f7d685e0970>"
      ]
     },
     "execution_count": 497,
     "metadata": {},
     "output_type": "execute_result"
    },
    {
     "data": {
      "image/png": "[encoded data removed]",
      "text/plain": [
       "<Figure size 640x480 with 1 Axes>"
      ]
     },
     "metadata": {},
     "output_type": "display_data"
    }
   ],
   "source": [
    "new_attrs = torch.clone(label)\n",
    "\n",
    "new_attrs[:, index] = 1\n",
    "reconstruction = model.decoder(z,new_attrs)\n",
    "img_np = reconstruction.squeeze(0).permute(1, 2, 0).detach().numpy()\n",
    "\n",
    "# Rescale values to range [0, 1]\n",
    "img_np = (img_np - img_np.min()) / (img_np.max() - img_np.min())\n",
    "\n",
    "# Display the image\n",
    "plt.imshow(img_np)"
   ]
  },
  {
   "cell_type": "markdown",
   "id": "472829c9",
   "metadata": {},
   "source": [
    "### TASK 3. Slowly morph one image to another"
   ]
  },
  {
   "cell_type": "code",
   "execution_count": 507,
   "id": "f62d7c29",
   "metadata": {},
   "outputs": [],
   "source": [
    "sample_A = next(iter(celeb_test_dataloader))\n",
    "img_A, label_A = sample_A['image'], sample_A['attribute']\n"
   ]
  },
  {
   "cell_type": "code",
   "execution_count": 508,
   "id": "60560821",
   "metadata": {},
   "outputs": [
    {
     "data": {
      "text/plain": [
       "<matplotlib.image.AxesImage at 0x7f7d9ba89d00>"
      ]
     },
     "execution_count": 508,
     "metadata": {},
     "output_type": "execute_result"
    },
    {
     "data": {
      "image/png": "[encoded data removed]",
      "text/plain": [
       "<Figure size 640x480 with 1 Axes>"
      ]
     },
     "metadata": {},
     "output_type": "display_data"
    }
   ],
   "source": [
    "img_A_np = img_A.squeeze(0).permute(1, 2, 0).detach().numpy()\n",
    "\n",
    "# Rescale values to range [0, 1]\n",
    "img_A_np = (img_A_np - img_A_np.min()) / (img_A_np.max() - img_A_np.min())\n",
    "\n",
    "# Display the image\n",
    "plt.imshow(img_A_np)"
   ]
  },
  {
   "cell_type": "code",
   "execution_count": 509,
   "id": "ac15eadc",
   "metadata": {},
   "outputs": [],
   "source": [
    "sample_B = next(iter(celeb_test_dataloader))\n",
    "img_B, label_B = sample_B['image'], sample_B['attribute']\n"
   ]
  },
  {
   "cell_type": "code",
   "execution_count": 510,
   "id": "d0da03e4",
   "metadata": {},
   "outputs": [
    {
     "data": {
      "text/plain": [
       "<matplotlib.image.AxesImage at 0x7f7d7c12e910>"
      ]
     },
     "execution_count": 510,
     "metadata": {},
     "output_type": "execute_result"
    },
    {
     "data": {
      "image/png": "[encoded data removed]",
      "text/plain": [
       "<Figure size 640x480 with 1 Axes>"
      ]
     },
     "metadata": {},
     "output_type": "display_data"
    }
   ],
   "source": [
    "img_B_np = img_B.squeeze(0).permute(1, 2, 0).detach().numpy()\n",
    "\n",
    "# Rescale values to range [0, 1]\n",
    "img_B_np = (img_B_np - img_B_np.min()) / (img_B_np.max() - img_B_np.min())\n",
    "\n",
    "# Display the image\n",
    "plt.imshow(img_B_np)"
   ]
  },
  {
   "cell_type": "code",
   "execution_count": 511,
   "id": "703ea793",
   "metadata": {},
   "outputs": [
    {
     "data": {
      "text/plain": [
       "torch.Size([1, 3, 64, 64])"
      ]
     },
     "execution_count": 511,
     "metadata": {},
     "output_type": "execute_result"
    }
   ],
   "source": [
    "img_A.shape"
   ]
  },
  {
   "cell_type": "code",
   "execution_count": 512,
   "id": "f5a3ee21",
   "metadata": {},
   "outputs": [
    {
     "data": {
      "text/plain": [
       "torch.Size([1, 3, 64, 64])"
      ]
     },
     "execution_count": 512,
     "metadata": {},
     "output_type": "execute_result"
    }
   ],
   "source": [
    "img_B.shape"
   ]
  },
  {
   "cell_type": "code",
   "execution_count": 513,
   "id": "24197edf",
   "metadata": {},
   "outputs": [
    {
     "data": {
      "text/plain": [
       "tensor([[-1, -1, -1, -1,  1, -1, -1,  1, -1, -1, -1, -1, -1, -1, -1, -1,  1, -1,\n",
       "         -1,  1,  1, -1, -1, -1, -1,  1, -1, -1, -1, -1,  1,  1, -1, -1, -1, -1,\n",
       "         -1, -1, -1, -1]])"
      ]
     },
     "execution_count": 513,
     "metadata": {},
     "output_type": "execute_result"
    }
   ],
   "source": [
    "label_A"
   ]
  },
  {
   "cell_type": "code",
   "execution_count": 514,
   "id": "d16c9ced",
   "metadata": {},
   "outputs": [
    {
     "data": {
      "text/plain": [
       "tensor([[-1, -1,  1,  1, -1, -1, -1, -1,  1, -1, -1, -1,  1, -1, -1, -1, -1, -1,\n",
       "         -1,  1,  1,  1, -1,  1,  1, -1, -1, -1, -1, -1, -1,  1,  1, -1,  1, -1,\n",
       "         -1, -1, -1,  1]])"
      ]
     },
     "execution_count": 514,
     "metadata": {},
     "output_type": "execute_result"
    }
   ],
   "source": [
    "label_B"
   ]
  },
  {
   "cell_type": "code",
   "execution_count": 515,
   "id": "c72c4940",
   "metadata": {},
   "outputs": [],
   "source": [
    "mu_A,log_var_A = model.encoder(img_A,label_A)\n",
    "mu_B,log_var_B = model.encoder(img_B,label_B)"
   ]
  },
  {
   "cell_type": "markdown",
   "id": "23846b3e",
   "metadata": {},
   "source": [
    "###  μA→B =(1−δ)·μA +δ·μB withδ∈(0,1)"
   ]
  },
  {
   "cell_type": "code",
   "execution_count": 516,
   "id": "922c1c77",
   "metadata": {},
   "outputs": [],
   "source": [
    "delta = 0.2      #for interpolation"
   ]
  },
  {
   "cell_type": "code",
   "execution_count": 517,
   "id": "71a3ac6e",
   "metadata": {},
   "outputs": [
    {
     "data": {
      "image/png": "[encoded data removed]",
      "text/plain": [
       "<Figure size 2000x1000 with 5 Axes>"
      ]
     },
     "metadata": {},
     "output_type": "display_data"
    }
   ],
   "source": [
    "fig=plt.figure(figsize=(20, 10))\n",
    "for i in range(1,6):\n",
    "    mu_interp = (1 - delta) * mu_A + delta * mu_B\n",
    "    z = model.reparameterize(mu_interp, log_var_A)\n",
    "    with torch.no_grad():\n",
    "        reconstruction = model.decoder(z,label_A)\n",
    "    \n",
    "    img_np = reconstruction.squeeze(0).permute(1, 2, 0).detach().numpy()\n",
    "\n",
    "    # Rescale values to range [0, 1]\n",
    "    img_np = (img_np - img_np.min()) / (img_np.max() - img_np.min())\n",
    "\n",
    "    # Display the image\n",
    "    fig.add_subplot(1, 6, i)\n",
    "    plt.imshow(img_np)\n",
    "\n",
    "    \n",
    "    delta += 0.2\n",
    "plt.show()  "
   ]
  },
  {
   "cell_type": "code",
   "execution_count": null,
   "id": "67cf9632",
   "metadata": {},
   "outputs": [],
   "source": []
  }
 ],
 "metadata": {
  "kernelspec": {
   "display_name": "Python 3 (ipykernel)",
   "language": "python",
   "name": "python3"
  },
  "language_info": {
   "codemirror_mode": {
    "name": "ipython",
    "version": 3
   },
   "file_extension": ".py",
   "mimetype": "text/x-python",
   "name": "python",
   "nbconvert_exporter": "python",
   "pygments_lexer": "ipython3",
   "version": "3.9.13"
  }
 },
 "nbformat": 4,
 "nbformat_minor": 5
}
