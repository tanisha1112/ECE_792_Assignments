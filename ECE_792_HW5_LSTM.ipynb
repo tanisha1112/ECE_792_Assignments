{
  "nbformat": 4,
  "nbformat_minor": 0,
  "metadata": {
    "colab": {
      "provenance": [],
      "include_colab_link": true
    },
    "kernelspec": {
      "name": "python3",
      "display_name": "Python 3"
    },
    "language_info": {
      "name": "python"
    }
  },
  "cells": [
    {
      "cell_type": "markdown",
      "metadata": {
        "id": "view-in-github",
        "colab_type": "text"
      },
      "source": [
        "<a href=\"https://colab.research.google.com/github/tanisha1112/ECE_792_Assignments/blob/main/ECE_792_HW5_LSTM.ipynb\" target=\"_parent\"><img src=\"https://colab.research.google.com/assets/colab-badge.svg\" alt=\"Open In Colab\"/></a>"
      ]
    },
    {
      "cell_type": "code",
      "source": [
        "!pip install nltk bs4 keras"
      ],
      "metadata": {
        "colab": {
          "base_uri": "https://localhost:8080/"
        },
        "id": "lppxUTkfys1N",
        "outputId": "87a92a8c-e7e9-4a30-e570-7f20ab01d708"
      },
      "execution_count": null,
      "outputs": [
        {
          "output_type": "stream",
          "name": "stdout",
          "text": [
            "Looking in indexes: https://pypi.org/simple, https://us-python.pkg.dev/colab-wheels/public/simple/\n",
            "Requirement already satisfied: nltk in /usr/local/lib/python3.9/dist-packages (3.8.1)\n",
            "Requirement already satisfied: bs4 in /usr/local/lib/python3.9/dist-packages (0.0.1)\n",
            "Requirement already satisfied: keras in /usr/local/lib/python3.9/dist-packages (2.12.0)\n",
            "Requirement already satisfied: tqdm in /usr/local/lib/python3.9/dist-packages (from nltk) (4.65.0)\n",
            "Requirement already satisfied: click in /usr/local/lib/python3.9/dist-packages (from nltk) (8.1.3)\n",
            "Requirement already satisfied: regex>=2021.8.3 in /usr/local/lib/python3.9/dist-packages (from nltk) (2022.10.31)\n",
            "Requirement already satisfied: joblib in /usr/local/lib/python3.9/dist-packages (from nltk) (1.2.0)\n",
            "Requirement already satisfied: beautifulsoup4 in /usr/local/lib/python3.9/dist-packages (from bs4) (4.11.2)\n",
            "Requirement already satisfied: soupsieve>1.2 in /usr/local/lib/python3.9/dist-packages (from beautifulsoup4->bs4) (2.4.1)\n"
          ]
        }
      ]
    },
    {
      "cell_type": "code",
      "execution_count": null,
      "metadata": {
        "id": "seWCvncByHvz"
      },
      "outputs": [],
      "source": [
        "import numpy as np\n",
        "import pandas as pd\n",
        "import nltk\n",
        "from nltk.corpus import gutenberg\n",
        "from keras.preprocessing.text import Tokenizer\n",
        "from keras.utils import pad_sequences\n",
        "from keras.models import Sequential\n",
        "from keras.layers import Dense, LSTM, Embedding, Dropout\n",
        "from nltk.corpus import stopwords\n",
        "from bs4 import BeautifulSoup\n",
        "from keras.utils import to_categorical\n",
        "import matplotlib.pyplot as plt\n",
        "import re"
      ]
    },
    {
      "cell_type": "code",
      "source": [
        "# download corpus\n",
        "nltk.download('gutenberg')\n",
        "nltk.download('stopwords')\n",
        "corpus = nltk.corpus.gutenberg.raw('austen-sense.txt')"
      ],
      "metadata": {
        "colab": {
          "base_uri": "https://localhost:8080/"
        },
        "id": "TroHqMFF0v6S",
        "outputId": "21a71b7b-7cd9-4430-9a90-2280ad6d64ff"
      },
      "execution_count": null,
      "outputs": [
        {
          "output_type": "stream",
          "name": "stderr",
          "text": [
            "[nltk_data] Downloading package gutenberg to /root/nltk_data...\n",
            "[nltk_data]   Unzipping corpora/gutenberg.zip.\n",
            "[nltk_data] Downloading package stopwords to /root/nltk_data...\n",
            "[nltk_data]   Unzipping corpora/stopwords.zip.\n"
          ]
        }
      ]
    },
    {
      "cell_type": "code",
      "source": [
        "corpus"
      ],
      "metadata": {
        "id": "10cxI3rdCgDK"
      },
      "execution_count": null,
      "outputs": []
    },
    {
      "cell_type": "code",
      "source": [
        "def denoise_text(text):\n",
        "    # remove html strips\n",
        "    soup = BeautifulSoup(text, 'html.parser')\n",
        "    text = soup.get_text()\n",
        "    # replace \\n with space\n",
        "    text = re.sub('\\n', ' ', text)\n",
        "    # remove square brackets\n",
        "    text = re.sub(r'\\[[^\\]]*\\]', ' ', text)\n",
        "    # replace punctuation with space\n",
        "    text = re.sub(r'[,.;@#?!&$\\-]+\\ *', ' ', text, flags=re.VERBOSE)\n",
        "    # remove special characters\n",
        "    text = re.sub(r'[^\\w\\s]', ' ', text)\n",
        "    # replace extra spaces with single space\n",
        "    text = re.sub(' +', ' ', text)\n",
        "    return text.lower().strip()"
      ],
      "metadata": {
        "id": "MpKTHV8gIkU1"
      },
      "execution_count": null,
      "outputs": []
    },
    {
      "cell_type": "code",
      "source": [
        "corpus = denoise_text(corpus)"
      ],
      "metadata": {
        "id": "Ej1Q7cMo1fk-"
      },
      "execution_count": null,
      "outputs": []
    },
    {
      "cell_type": "code",
      "source": [
        "words = corpus.split(' ')"
      ],
      "metadata": {
        "id": "-L0w7rte1nAj"
      },
      "execution_count": null,
      "outputs": []
    },
    {
      "cell_type": "code",
      "source": [
        "a = np.array(words)\n",
        "_, idx = np.unique(a, return_index=True)\n",
        "unique_words = a[np.sort(idx)]\n",
        "unique_words"
      ],
      "metadata": {
        "id": "EiUPdHIF1pfy",
        "colab": {
          "base_uri": "https://localhost:8080/"
        },
        "outputId": "59c2ef28-7a3a-44a9-ccb7-c8be3ae86385"
      },
      "execution_count": null,
      "outputs": [
        {
          "output_type": "execute_result",
          "data": {
            "text/plain": [
              "array(['chapter', '1', 'the', ..., 'ranked', 'disagreement', 'producing'],\n",
              "      dtype='<U17')"
            ]
          },
          "metadata": {},
          "execution_count": 6
        }
      ]
    },
    {
      "cell_type": "code",
      "source": [
        "vocab_size = len(unique_words)\n",
        "vocab_size"
      ],
      "metadata": {
        "id": "e_FA63_j1qvp",
        "colab": {
          "base_uri": "https://localhost:8080/"
        },
        "outputId": "9e03b1cd-b82c-43fe-9f94-a684c938c5ca"
      },
      "execution_count": null,
      "outputs": [
        {
          "output_type": "execute_result",
          "data": {
            "text/plain": [
              "6330"
            ]
          },
          "metadata": {},
          "execution_count": 7
        }
      ]
    },
    {
      "cell_type": "code",
      "source": [
        "tokenizer = Tokenizer()\n",
        "tokenizer.fit_on_texts(unique_words)\n",
        "word_to_int = tokenizer.word_index"
      ],
      "metadata": {
        "id": "t9OVLAXi1rTU"
      },
      "execution_count": null,
      "outputs": []
    },
    {
      "cell_type": "code",
      "source": [
        "n = 6\n",
        "ngrams = []\n",
        "\n",
        "for i in range(len(unique_words) - n):\n",
        "    ngram = unique_words[i:i + n]\n",
        "    ngrams.append((ngram[:5], ngram[5]))"
      ],
      "metadata": {
        "id": "JGmPsNA4gsE2"
      },
      "execution_count": null,
      "outputs": []
    },
    {
      "cell_type": "code",
      "source": [
        "ngrams"
      ],
      "metadata": {
        "id": "uyNrWW8UyruN"
      },
      "execution_count": null,
      "outputs": []
    },
    {
      "cell_type": "code",
      "source": [
        "X = []\n",
        "Y = []\n",
        "\n",
        "for input_text, output_text in ngrams:\n",
        "    X.append([word_to_int[word] for word in input_text])\n",
        "    Y.append(word_to_int[output_text])"
      ],
      "metadata": {
        "id": "B4nQKJJwiGgl"
      },
      "execution_count": null,
      "outputs": []
    },
    {
      "cell_type": "code",
      "source": [
        "X = np.array(X)\n",
        "Y = to_categorical(Y, num_classes=vocab_size)"
      ],
      "metadata": {
        "id": "Iq5KYD2-kfcH"
      },
      "execution_count": null,
      "outputs": []
    },
    {
      "cell_type": "code",
      "source": [
        "model = Sequential()\n",
        "model.add(Embedding(vocab_size, 128, input_length=5))\n",
        "model.add(LSTM(256))\n",
        "model.add(Dropout(0.1))\n",
        "model.add(Dense(vocab_size, activation='softmax'))"
      ],
      "metadata": {
        "id": "aTf0DoVqmTKg"
      },
      "execution_count": null,
      "outputs": []
    },
    {
      "cell_type": "code",
      "source": [
        "model.compile(loss='categorical_crossentropy', optimizer='adam', metrics=['accuracy'])"
      ],
      "metadata": {
        "id": "hZOpP2HUnRDL"
      },
      "execution_count": null,
      "outputs": []
    },
    {
      "cell_type": "code",
      "source": [
        "batch_size = 128\n",
        "epochs = 20\n",
        "\n",
        "history = model.fit(X, Y, batch_size=batch_size, epochs=epochs)"
      ],
      "metadata": {
        "colab": {
          "base_uri": "https://localhost:8080/"
        },
        "id": "eNx-zbgmnRje",
        "outputId": "9569fd63-7286-4a0c-a849-2d57924bae0d"
      },
      "execution_count": null,
      "outputs": [
        {
          "output_type": "stream",
          "name": "stdout",
          "text": [
            "Epoch 1/20\n",
            "50/50 [==============================] - 16s 236ms/step - loss: 8.7620 - accuracy: 0.0000e+00\n",
            "Epoch 2/20\n",
            "50/50 [==============================] - 11s 229ms/step - loss: 8.7502 - accuracy: 0.0016\n",
            "Epoch 3/20\n",
            "50/50 [==============================] - 7s 128ms/step - loss: 8.7349 - accuracy: 0.0013\n",
            "Epoch 4/20\n",
            "50/50 [==============================] - 7s 137ms/step - loss: 8.5963 - accuracy: 7.9064e-04\n",
            "Epoch 5/20\n",
            "50/50 [==============================] - 5s 108ms/step - loss: 8.3477 - accuracy: 0.0000e+00\n",
            "Epoch 6/20\n",
            "50/50 [==============================] - 5s 103ms/step - loss: 7.9546 - accuracy: 0.0016\n",
            "Epoch 7/20\n",
            "50/50 [==============================] - 7s 139ms/step - loss: 7.2004 - accuracy: 0.0142\n",
            "Epoch 8/20\n",
            "50/50 [==============================] - 5s 107ms/step - loss: 6.1327 - accuracy: 0.0963\n",
            "Epoch 9/20\n",
            "50/50 [==============================] - 7s 141ms/step - loss: 5.0182 - accuracy: 0.3512\n",
            "Epoch 10/20\n",
            "50/50 [==============================] - 5s 104ms/step - loss: 3.9730 - accuracy: 0.6662\n",
            "Epoch 11/20\n",
            "50/50 [==============================] - 6s 113ms/step - loss: 3.0183 - accuracy: 0.8801\n",
            "Epoch 12/20\n",
            "50/50 [==============================] - 7s 132ms/step - loss: 2.1880 - accuracy: 0.9578\n",
            "Epoch 13/20\n",
            "50/50 [==============================] - 5s 108ms/step - loss: 1.4976 - accuracy: 0.9899\n",
            "Epoch 14/20\n",
            "50/50 [==============================] - 7s 140ms/step - loss: 0.9794 - accuracy: 0.9972\n",
            "Epoch 15/20\n",
            "50/50 [==============================] - 5s 107ms/step - loss: 0.6235 - accuracy: 0.9995\n",
            "Epoch 16/20\n",
            "50/50 [==============================] - 6s 125ms/step - loss: 0.4052 - accuracy: 1.0000\n",
            "Epoch 17/20\n",
            "50/50 [==============================] - 6s 120ms/step - loss: 0.2770 - accuracy: 0.9998\n",
            "Epoch 18/20\n",
            "50/50 [==============================] - 5s 105ms/step - loss: 0.2038 - accuracy: 1.0000\n",
            "Epoch 19/20\n",
            "50/50 [==============================] - 8s 157ms/step - loss: 0.1612 - accuracy: 1.0000\n",
            "Epoch 20/20\n",
            "50/50 [==============================] - 5s 105ms/step - loss: 0.1324 - accuracy: 1.0000\n"
          ]
        }
      ]
    },
    {
      "cell_type": "code",
      "source": [
        "# Generate text using the model\n",
        "start = 'his natural shyness was overcome'\n",
        "for i in range(100):\n",
        "    # Tokenize the start sequence\n",
        "    tokens = start.split()\n",
        "    if len(tokens) < n-1:\n",
        "        break\n",
        "    # Pad the tokens to a fixed length\n",
        "    tokens = pad_sequences([tokenizer.texts_to_sequences([start])[0]], maxlen=5)\n",
        "    # Predict the next word\n",
        "    prediction = model.predict(tokens)\n",
        "    word_index = np.argmax(prediction)\n",
        "    # Convert the predicted word index to the actual word\n",
        "    word = ''\n",
        "    for w, i in tokenizer.word_index.items():\n",
        "        if i == word_index:\n",
        "            word = w\n",
        "            break\n",
        "    # Add the predicted word to the start sequence\n",
        "    start += ' ' + word"
      ],
      "metadata": {
        "id": "prJ8C7e0r6ij"
      },
      "execution_count": null,
      "outputs": []
    },
    {
      "cell_type": "code",
      "source": [
        "start"
      ],
      "metadata": {
        "colab": {
          "base_uri": "https://localhost:8080/",
          "height": 125
        },
        "id": "v6o-r4KrsxKC",
        "outputId": "0f262d4b-3915-46d8-fcfa-3fd715cd2821"
      },
      "execution_count": null,
      "outputs": [
        {
          "output_type": "execute_result",
          "data": {
            "text/plain": [
              "'his natural shyness was overcome sister education longed norland see explained fine figure for figure hold parliament connected so forego shame attained quieted to mab interests turn barouches mamma christian recently fortunately younger meet assurances befall engaged stole grave fat assent disturb seclusion disposition dinner terminated contrast travelled yet permitting size sentiment imputed abilities strongest feet took affectionate eager gun unavoidable reserve grateful generous hasty show regard mindful strikingly keeping told militated secret misconduct betraying motive warm frank pangs jacket wholly forward action heighten allowed shewn happy guide maid their attend meet sleepless permit across effort grave pictured intervals window cards striking reproaches fat stew'"
            ],
            "application/vnd.google.colaboratory.intrinsic+json": {
              "type": "string"
            }
          },
          "metadata": {},
          "execution_count": 19
        }
      ]
    },
    {
      "cell_type": "code",
      "source": [
        "plt.plot(history.history['loss'])\n",
        "plt.title('Model Loss')\n",
        "plt.xlabel('Epoch')\n",
        "plt.ylabel('Loss')\n",
        "plt.show()"
      ],
      "metadata": {
        "colab": {
          "base_uri": "https://localhost:8080/",
          "height": 472
        },
        "id": "cx9lDN0YwufG",
        "outputId": "4d6b638a-8237-4b2f-a214-494737cef205"
      },
      "execution_count": null,
      "outputs": [
        {
          "output_type": "display_data",
          "data": {
            "text/plain": [
              "<Figure size 640x480 with 1 Axes>"
            ],
            "image/png": "[encoded data removed]"
          },
          "metadata": {}
        }
      ]
    },
    {
      "cell_type": "code",
      "source": [],
      "metadata": {
        "id": "O3M_dhDs0Y0D"
      },
      "execution_count": null,
      "outputs": []
    }
  ]
}