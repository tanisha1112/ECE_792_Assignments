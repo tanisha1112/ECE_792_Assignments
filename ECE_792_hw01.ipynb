{
  "nbformat": 4,
  "nbformat_minor": 0,
  "metadata": {
    "colab": {
      "provenance": [],
      "authorship_tag": "ABX9TyMoKSOunC8z9LbCGj/eg1y6",
      "include_colab_link": true
    },
    "kernelspec": {
      "name": "python3",
      "display_name": "Python 3"
    },
    "language_info": {
      "name": "python"
    },
    "widgets": {
      "application/vnd.jupyter.widget-state+json": {
        "21dffc3d13114db48d4e89733d7fb23c": {
          "model_module": "@jupyter-widgets/controls",
          "model_name": "HBoxModel",
          "model_module_version": "1.5.0",
          "state": {
            "_dom_classes": [],
            "_model_module": "@jupyter-widgets/controls",
            "_model_module_version": "1.5.0",
            "_model_name": "HBoxModel",
            "_view_count": null,
            "_view_module": "@jupyter-widgets/controls",
            "_view_module_version": "1.5.0",
            "_view_name": "HBoxView",
            "box_style": "",
            "children": [
              "IPY_MODEL_7103f4a3817147c7babeb1c6fca86694",
              "IPY_MODEL_aa9b6e4664e242c0a1ba47015d334eaa",
              "IPY_MODEL_7a001f205f614d9a9a2356d2b94b426f"
            ],
            "layout": "IPY_MODEL_fd0a4d96b20e4a3a99a0d07eb232ad7a"
          }
        },
        "7103f4a3817147c7babeb1c6fca86694": {
          "model_module": "@jupyter-widgets/controls",
          "model_name": "HTMLModel",
          "model_module_version": "1.5.0",
          "state": {
            "_dom_classes": [],
            "_model_module": "@jupyter-widgets/controls",
            "_model_module_version": "1.5.0",
            "_model_name": "HTMLModel",
            "_view_count": null,
            "_view_module": "@jupyter-widgets/controls",
            "_view_module_version": "1.5.0",
            "_view_name": "HTMLView",
            "description": "",
            "description_tooltip": null,
            "layout": "IPY_MODEL_9f4204956f6746659cc3f208960c7545",
            "placeholder": "​",
            "style": "IPY_MODEL_34ad3cd742f4491389e0882a34895f75",
            "value": "100%"
          }
        },
        "aa9b6e4664e242c0a1ba47015d334eaa": {
          "model_module": "@jupyter-widgets/controls",
          "model_name": "FloatProgressModel",
          "model_module_version": "1.5.0",
          "state": {
            "_dom_classes": [],
            "_model_module": "@jupyter-widgets/controls",
            "_model_module_version": "1.5.0",
            "_model_name": "FloatProgressModel",
            "_view_count": null,
            "_view_module": "@jupyter-widgets/controls",
            "_view_module_version": "1.5.0",
            "_view_name": "ProgressView",
            "bar_style": "success",
            "description": "",
            "description_tooltip": null,
            "layout": "IPY_MODEL_ed9fd05bcb58412a95122a8f6bae9f0e",
            "max": 9912422,
            "min": 0,
            "orientation": "horizontal",
            "style": "IPY_MODEL_14667636048c4e8aac174c160e3289e8",
            "value": 9912422
          }
        },
        "7a001f205f614d9a9a2356d2b94b426f": {
          "model_module": "@jupyter-widgets/controls",
          "model_name": "HTMLModel",
          "model_module_version": "1.5.0",
          "state": {
            "_dom_classes": [],
            "_model_module": "@jupyter-widgets/controls",
            "_model_module_version": "1.5.0",
            "_model_name": "HTMLModel",
            "_view_count": null,
            "_view_module": "@jupyter-widgets/controls",
            "_view_module_version": "1.5.0",
            "_view_name": "HTMLView",
            "description": "",
            "description_tooltip": null,
            "layout": "IPY_MODEL_893df7a2ca5b4d8da9462c8f0b84a8bc",
            "placeholder": "​",
            "style": "IPY_MODEL_7f6c10006f544a7bb6d67c22d6acd174",
            "value": " 9912422/9912422 [00:00&lt;00:00, 104689641.11it/s]"
          }
        },
        "fd0a4d96b20e4a3a99a0d07eb232ad7a": {
          "model_module": "@jupyter-widgets/base",
          "model_name": "LayoutModel",
          "model_module_version": "1.2.0",
          "state": {
            "_model_module": "@jupyter-widgets/base",
            "_model_module_version": "1.2.0",
            "_model_name": "LayoutModel",
            "_view_count": null,
            "_view_module": "@jupyter-widgets/base",
            "_view_module_version": "1.2.0",
            "_view_name": "LayoutView",
            "align_content": null,
            "align_items": null,
            "align_self": null,
            "border": null,
            "bottom": null,
            "display": null,
            "flex": null,
            "flex_flow": null,
            "grid_area": null,
            "grid_auto_columns": null,
            "grid_auto_flow": null,
            "grid_auto_rows": null,
            "grid_column": null,
            "grid_gap": null,
            "grid_row": null,
            "grid_template_areas": null,
            "grid_template_columns": null,
            "grid_template_rows": null,
            "height": null,
            "justify_content": null,
            "justify_items": null,
            "left": null,
            "margin": null,
            "max_height": null,
            "max_width": null,
            "min_height": null,
            "min_width": null,
            "object_fit": null,
            "object_position": null,
            "order": null,
            "overflow": null,
            "overflow_x": null,
            "overflow_y": null,
            "padding": null,
            "right": null,
            "top": null,
            "visibility": null,
            "width": null
          }
        },
        "9f4204956f6746659cc3f208960c7545": {
          "model_module": "@jupyter-widgets/base",
          "model_name": "LayoutModel",
          "model_module_version": "1.2.0",
          "state": {
            "_model_module": "@jupyter-widgets/base",
            "_model_module_version": "1.2.0",
            "_model_name": "LayoutModel",
            "_view_count": null,
            "_view_module": "@jupyter-widgets/base",
            "_view_module_version": "1.2.0",
            "_view_name": "LayoutView",
            "align_content": null,
            "align_items": null,
            "align_self": null,
            "border": null,
            "bottom": null,
            "display": null,
            "flex": null,
            "flex_flow": null,
            "grid_area": null,
            "grid_auto_columns": null,
            "grid_auto_flow": null,
            "grid_auto_rows": null,
            "grid_column": null,
            "grid_gap": null,
            "grid_row": null,
            "grid_template_areas": null,
            "grid_template_columns": null,
            "grid_template_rows": null,
            "height": null,
            "justify_content": null,
            "justify_items": null,
            "left": null,
            "margin": null,
            "max_height": null,
            "max_width": null,
            "min_height": null,
            "min_width": null,
            "object_fit": null,
            "object_position": null,
            "order": null,
            "overflow": null,
            "overflow_x": null,
            "overflow_y": null,
            "padding": null,
            "right": null,
            "top": null,
            "visibility": null,
            "width": null
          }
        },
        "34ad3cd742f4491389e0882a34895f75": {
          "model_module": "@jupyter-widgets/controls",
          "model_name": "DescriptionStyleModel",
          "model_module_version": "1.5.0",
          "state": {
            "_model_module": "@jupyter-widgets/controls",
            "_model_module_version": "1.5.0",
            "_model_name": "DescriptionStyleModel",
            "_view_count": null,
            "_view_module": "@jupyter-widgets/base",
            "_view_module_version": "1.2.0",
            "_view_name": "StyleView",
            "description_width": ""
          }
        },
        "ed9fd05bcb58412a95122a8f6bae9f0e": {
          "model_module": "@jupyter-widgets/base",
          "model_name": "LayoutModel",
          "model_module_version": "1.2.0",
          "state": {
            "_model_module": "@jupyter-widgets/base",
            "_model_module_version": "1.2.0",
            "_model_name": "LayoutModel",
            "_view_count": null,
            "_view_module": "@jupyter-widgets/base",
            "_view_module_version": "1.2.0",
            "_view_name": "LayoutView",
            "align_content": null,
            "align_items": null,
            "align_self": null,
            "border": null,
            "bottom": null,
            "display": null,
            "flex": null,
            "flex_flow": null,
            "grid_area": null,
            "grid_auto_columns": null,
            "grid_auto_flow": null,
            "grid_auto_rows": null,
            "grid_column": null,
            "grid_gap": null,
            "grid_row": null,
            "grid_template_areas": null,
            "grid_template_columns": null,
            "grid_template_rows": null,
            "height": null,
            "justify_content": null,
            "justify_items": null,
            "left": null,
            "margin": null,
            "max_height": null,
            "max_width": null,
            "min_height": null,
            "min_width": null,
            "object_fit": null,
            "object_position": null,
            "order": null,
            "overflow": null,
            "overflow_x": null,
            "overflow_y": null,
            "padding": null,
            "right": null,
            "top": null,
            "visibility": null,
            "width": null
          }
        },
        "14667636048c4e8aac174c160e3289e8": {
          "model_module": "@jupyter-widgets/controls",
          "model_name": "ProgressStyleModel",
          "model_module_version": "1.5.0",
          "state": {
            "_model_module": "@jupyter-widgets/controls",
            "_model_module_version": "1.5.0",
            "_model_name": "ProgressStyleModel",
            "_view_count": null,
            "_view_module": "@jupyter-widgets/base",
            "_view_module_version": "1.2.0",
            "_view_name": "StyleView",
            "bar_color": null,
            "description_width": ""
          }
        },
        "893df7a2ca5b4d8da9462c8f0b84a8bc": {
          "model_module": "@jupyter-widgets/base",
          "model_name": "LayoutModel",
          "model_module_version": "1.2.0",
          "state": {
            "_model_module": "@jupyter-widgets/base",
            "_model_module_version": "1.2.0",
            "_model_name": "LayoutModel",
            "_view_count": null,
            "_view_module": "@jupyter-widgets/base",
            "_view_module_version": "1.2.0",
            "_view_name": "LayoutView",
            "align_content": null,
            "align_items": null,
            "align_self": null,
            "border": null,
            "bottom": null,
            "display": null,
            "flex": null,
            "flex_flow": null,
            "grid_area": null,
            "grid_auto_columns": null,
            "grid_auto_flow": null,
            "grid_auto_rows": null,
            "grid_column": null,
            "grid_gap": null,
            "grid_row": null,
            "grid_template_areas": null,
            "grid_template_columns": null,
            "grid_template_rows": null,
            "height": null,
            "justify_content": null,
            "justify_items": null,
            "left": null,
            "margin": null,
            "max_height": null,
            "max_width": null,
            "min_height": null,
            "min_width": null,
            "object_fit": null,
            "object_position": null,
            "order": null,
            "overflow": null,
            "overflow_x": null,
            "overflow_y": null,
            "padding": null,
            "right": null,
            "top": null,
            "visibility": null,
            "width": null
          }
        },
        "7f6c10006f544a7bb6d67c22d6acd174": {
          "model_module": "@jupyter-widgets/controls",
          "model_name": "DescriptionStyleModel",
          "model_module_version": "1.5.0",
          "state": {
            "_model_module": "@jupyter-widgets/controls",
            "_model_module_version": "1.5.0",
            "_model_name": "DescriptionStyleModel",
            "_view_count": null,
            "_view_module": "@jupyter-widgets/base",
            "_view_module_version": "1.2.0",
            "_view_name": "StyleView",
            "description_width": ""
          }
        },
        "af1d4349af3648e2bae0c1bd7069807b": {
          "model_module": "@jupyter-widgets/controls",
          "model_name": "HBoxModel",
          "model_module_version": "1.5.0",
          "state": {
            "_dom_classes": [],
            "_model_module": "@jupyter-widgets/controls",
            "_model_module_version": "1.5.0",
            "_model_name": "HBoxModel",
            "_view_count": null,
            "_view_module": "@jupyter-widgets/controls",
            "_view_module_version": "1.5.0",
            "_view_name": "HBoxView",
            "box_style": "",
            "children": [
              "IPY_MODEL_bbbda0b5e951400c9c173708130a94c8",
              "IPY_MODEL_a649e1f79829465797aa0311a1d6814c",
              "IPY_MODEL_761475b6d2524b5ab8cc045b9f2cdabd"
            ],
            "layout": "IPY_MODEL_2aee38d47a424cef8fd14231a6404a50"
          }
        },
        "bbbda0b5e951400c9c173708130a94c8": {
          "model_module": "@jupyter-widgets/controls",
          "model_name": "HTMLModel",
          "model_module_version": "1.5.0",
          "state": {
            "_dom_classes": [],
            "_model_module": "@jupyter-widgets/controls",
            "_model_module_version": "1.5.0",
            "_model_name": "HTMLModel",
            "_view_count": null,
            "_view_module": "@jupyter-widgets/controls",
            "_view_module_version": "1.5.0",
            "_view_name": "HTMLView",
            "description": "",
            "description_tooltip": null,
            "layout": "IPY_MODEL_ae2e450cedad473290853dfe561574ff",
            "placeholder": "​",
            "style": "IPY_MODEL_e2056f21f4f2489bae79af8726438d77",
            "value": "100%"
          }
        },
        "a649e1f79829465797aa0311a1d6814c": {
          "model_module": "@jupyter-widgets/controls",
          "model_name": "FloatProgressModel",
          "model_module_version": "1.5.0",
          "state": {
            "_dom_classes": [],
            "_model_module": "@jupyter-widgets/controls",
            "_model_module_version": "1.5.0",
            "_model_name": "FloatProgressModel",
            "_view_count": null,
            "_view_module": "@jupyter-widgets/controls",
            "_view_module_version": "1.5.0",
            "_view_name": "ProgressView",
            "bar_style": "success",
            "description": "",
            "description_tooltip": null,
            "layout": "IPY_MODEL_1954bbdd3dad407da1775029236dc842",
            "max": 28881,
            "min": 0,
            "orientation": "horizontal",
            "style": "IPY_MODEL_e3d640d1a0ad40a98e0f122cc5ed03e4",
            "value": 28881
          }
        },
        "761475b6d2524b5ab8cc045b9f2cdabd": {
          "model_module": "@jupyter-widgets/controls",
          "model_name": "HTMLModel",
          "model_module_version": "1.5.0",
          "state": {
            "_dom_classes": [],
            "_model_module": "@jupyter-widgets/controls",
            "_model_module_version": "1.5.0",
            "_model_name": "HTMLModel",
            "_view_count": null,
            "_view_module": "@jupyter-widgets/controls",
            "_view_module_version": "1.5.0",
            "_view_name": "HTMLView",
            "description": "",
            "description_tooltip": null,
            "layout": "IPY_MODEL_3e147b4f1f954eaab82f93ef10db8474",
            "placeholder": "​",
            "style": "IPY_MODEL_661acb7a9bd7432b9002927982b1d2fd",
            "value": " 28881/28881 [00:00&lt;00:00, 1189751.06it/s]"
          }
        },
        "2aee38d47a424cef8fd14231a6404a50": {
          "model_module": "@jupyter-widgets/base",
          "model_name": "LayoutModel",
          "model_module_version": "1.2.0",
          "state": {
            "_model_module": "@jupyter-widgets/base",
            "_model_module_version": "1.2.0",
            "_model_name": "LayoutModel",
            "_view_count": null,
            "_view_module": "@jupyter-widgets/base",
            "_view_module_version": "1.2.0",
            "_view_name": "LayoutView",
            "align_content": null,
            "align_items": null,
            "align_self": null,
            "border": null,
            "bottom": null,
            "display": null,
            "flex": null,
            "flex_flow": null,
            "grid_area": null,
            "grid_auto_columns": null,
            "grid_auto_flow": null,
            "grid_auto_rows": null,
            "grid_column": null,
            "grid_gap": null,
            "grid_row": null,
            "grid_template_areas": null,
            "grid_template_columns": null,
            "grid_template_rows": null,
            "height": null,
            "justify_content": null,
            "justify_items": null,
            "left": null,
            "margin": null,
            "max_height": null,
            "max_width": null,
            "min_height": null,
            "min_width": null,
            "object_fit": null,
            "object_position": null,
            "order": null,
            "overflow": null,
            "overflow_x": null,
            "overflow_y": null,
            "padding": null,
            "right": null,
            "top": null,
            "visibility": null,
            "width": null
          }
        },
        "ae2e450cedad473290853dfe561574ff": {
          "model_module": "@jupyter-widgets/base",
          "model_name": "LayoutModel",
          "model_module_version": "1.2.0",
          "state": {
            "_model_module": "@jupyter-widgets/base",
            "_model_module_version": "1.2.0",
            "_model_name": "LayoutModel",
            "_view_count": null,
            "_view_module": "@jupyter-widgets/base",
            "_view_module_version": "1.2.0",
            "_view_name": "LayoutView",
            "align_content": null,
            "align_items": null,
            "align_self": null,
            "border": null,
            "bottom": null,
            "display": null,
            "flex": null,
            "flex_flow": null,
            "grid_area": null,
            "grid_auto_columns": null,
            "grid_auto_flow": null,
            "grid_auto_rows": null,
            "grid_column": null,
            "grid_gap": null,
            "grid_row": null,
            "grid_template_areas": null,
            "grid_template_columns": null,
            "grid_template_rows": null,
            "height": null,
            "justify_content": null,
            "justify_items": null,
            "left": null,
            "margin": null,
            "max_height": null,
            "max_width": null,
            "min_height": null,
            "min_width": null,
            "object_fit": null,
            "object_position": null,
            "order": null,
            "overflow": null,
            "overflow_x": null,
            "overflow_y": null,
            "padding": null,
            "right": null,
            "top": null,
            "visibility": null,
            "width": null
          }
        },
        "e2056f21f4f2489bae79af8726438d77": {
          "model_module": "@jupyter-widgets/controls",
          "model_name": "DescriptionStyleModel",
          "model_module_version": "1.5.0",
          "state": {
            "_model_module": "@jupyter-widgets/controls",
            "_model_module_version": "1.5.0",
            "_model_name": "DescriptionStyleModel",
            "_view_count": null,
            "_view_module": "@jupyter-widgets/base",
            "_view_module_version": "1.2.0",
            "_view_name": "StyleView",
            "description_width": ""
          }
        },
        "1954bbdd3dad407da1775029236dc842": {
          "model_module": "@jupyter-widgets/base",
          "model_name": "LayoutModel",
          "model_module_version": "1.2.0",
          "state": {
            "_model_module": "@jupyter-widgets/base",
            "_model_module_version": "1.2.0",
            "_model_name": "LayoutModel",
            "_view_count": null,
            "_view_module": "@jupyter-widgets/base",
            "_view_module_version": "1.2.0",
            "_view_name": "LayoutView",
            "align_content": null,
            "align_items": null,
            "align_self": null,
            "border": null,
            "bottom": null,
            "display": null,
            "flex": null,
            "flex_flow": null,
            "grid_area": null,
            "grid_auto_columns": null,
            "grid_auto_flow": null,
            "grid_auto_rows": null,
            "grid_column": null,
            "grid_gap": null,
            "grid_row": null,
            "grid_template_areas": null,
            "grid_template_columns": null,
            "grid_template_rows": null,
            "height": null,
            "justify_content": null,
            "justify_items": null,
            "left": null,
            "margin": null,
            "max_height": null,
            "max_width": null,
            "min_height": null,
            "min_width": null,
            "object_fit": null,
            "object_position": null,
            "order": null,
            "overflow": null,
            "overflow_x": null,
            "overflow_y": null,
            "padding": null,
            "right": null,
            "top": null,
            "visibility": null,
            "width": null
          }
        },
        "e3d640d1a0ad40a98e0f122cc5ed03e4": {
          "model_module": "@jupyter-widgets/controls",
          "model_name": "ProgressStyleModel",
          "model_module_version": "1.5.0",
          "state": {
            "_model_module": "@jupyter-widgets/controls",
            "_model_module_version": "1.5.0",
            "_model_name": "ProgressStyleModel",
            "_view_count": null,
            "_view_module": "@jupyter-widgets/base",
            "_view_module_version": "1.2.0",
            "_view_name": "StyleView",
            "bar_color": null,
            "description_width": ""
          }
        },
        "3e147b4f1f954eaab82f93ef10db8474": {
          "model_module": "@jupyter-widgets/base",
          "model_name": "LayoutModel",
          "model_module_version": "1.2.0",
          "state": {
            "_model_module": "@jupyter-widgets/base",
            "_model_module_version": "1.2.0",
            "_model_name": "LayoutModel",
            "_view_count": null,
            "_view_module": "@jupyter-widgets/base",
            "_view_module_version": "1.2.0",
            "_view_name": "LayoutView",
            "align_content": null,
            "align_items": null,
            "align_self": null,
            "border": null,
            "bottom": null,
            "display": null,
            "flex": null,
            "flex_flow": null,
            "grid_area": null,
            "grid_auto_columns": null,
            "grid_auto_flow": null,
            "grid_auto_rows": null,
            "grid_column": null,
            "grid_gap": null,
            "grid_row": null,
            "grid_template_areas": null,
            "grid_template_columns": null,
            "grid_template_rows": null,
            "height": null,
            "justify_content": null,
            "justify_items": null,
            "left": null,
            "margin": null,
            "max_height": null,
            "max_width": null,
            "min_height": null,
            "min_width": null,
            "object_fit": null,
            "object_position": null,
            "order": null,
            "overflow": null,
            "overflow_x": null,
            "overflow_y": null,
            "padding": null,
            "right": null,
            "top": null,
            "visibility": null,
            "width": null
          }
        },
        "661acb7a9bd7432b9002927982b1d2fd": {
          "model_module": "@jupyter-widgets/controls",
          "model_name": "DescriptionStyleModel",
          "model_module_version": "1.5.0",
          "state": {
            "_model_module": "@jupyter-widgets/controls",
            "_model_module_version": "1.5.0",
            "_model_name": "DescriptionStyleModel",
            "_view_count": null,
            "_view_module": "@jupyter-widgets/base",
            "_view_module_version": "1.2.0",
            "_view_name": "StyleView",
            "description_width": ""
          }
        },
        "def394ce59644ebd96562b639d181828": {
          "model_module": "@jupyter-widgets/controls",
          "model_name": "HBoxModel",
          "model_module_version": "1.5.0",
          "state": {
            "_dom_classes": [],
            "_model_module": "@jupyter-widgets/controls",
            "_model_module_version": "1.5.0",
            "_model_name": "HBoxModel",
            "_view_count": null,
            "_view_module": "@jupyter-widgets/controls",
            "_view_module_version": "1.5.0",
            "_view_name": "HBoxView",
            "box_style": "",
            "children": [
              "IPY_MODEL_2ab755970fed4a29a47cf4bd64b2ff43",
              "IPY_MODEL_2c2bce95ca854a98926284787a34e61d",
              "IPY_MODEL_66c86e23db7a41d7b5e750bb8ade1716"
            ],
            "layout": "IPY_MODEL_9eca3268acce4e1699a06488b276f4da"
          }
        },
        "2ab755970fed4a29a47cf4bd64b2ff43": {
          "model_module": "@jupyter-widgets/controls",
          "model_name": "HTMLModel",
          "model_module_version": "1.5.0",
          "state": {
            "_dom_classes": [],
            "_model_module": "@jupyter-widgets/controls",
            "_model_module_version": "1.5.0",
            "_model_name": "HTMLModel",
            "_view_count": null,
            "_view_module": "@jupyter-widgets/controls",
            "_view_module_version": "1.5.0",
            "_view_name": "HTMLView",
            "description": "",
            "description_tooltip": null,
            "layout": "IPY_MODEL_eaba8b9adf3140c6bd70c11d4f77f4b7",
            "placeholder": "​",
            "style": "IPY_MODEL_ab4155882fd443aea9919eedb77ef4bf",
            "value": "100%"
          }
        },
        "2c2bce95ca854a98926284787a34e61d": {
          "model_module": "@jupyter-widgets/controls",
          "model_name": "FloatProgressModel",
          "model_module_version": "1.5.0",
          "state": {
            "_dom_classes": [],
            "_model_module": "@jupyter-widgets/controls",
            "_model_module_version": "1.5.0",
            "_model_name": "FloatProgressModel",
            "_view_count": null,
            "_view_module": "@jupyter-widgets/controls",
            "_view_module_version": "1.5.0",
            "_view_name": "ProgressView",
            "bar_style": "success",
            "description": "",
            "description_tooltip": null,
            "layout": "IPY_MODEL_8a7d1628003a479e94859539d1ac73c2",
            "max": 1648877,
            "min": 0,
            "orientation": "horizontal",
            "style": "IPY_MODEL_f1887e94faa74ca4a609ddf924229fb3",
            "value": 1648877
          }
        },
        "66c86e23db7a41d7b5e750bb8ade1716": {
          "model_module": "@jupyter-widgets/controls",
          "model_name": "HTMLModel",
          "model_module_version": "1.5.0",
          "state": {
            "_dom_classes": [],
            "_model_module": "@jupyter-widgets/controls",
            "_model_module_version": "1.5.0",
            "_model_name": "HTMLModel",
            "_view_count": null,
            "_view_module": "@jupyter-widgets/controls",
            "_view_module_version": "1.5.0",
            "_view_name": "HTMLView",
            "description": "",
            "description_tooltip": null,
            "layout": "IPY_MODEL_9d477d09fcb145189b8f3a50afeffdc7",
            "placeholder": "​",
            "style": "IPY_MODEL_0a7b165d48944b8ea300165953471758",
            "value": " 1648877/1648877 [00:00&lt;00:00, 20725249.47it/s]"
          }
        },
        "9eca3268acce4e1699a06488b276f4da": {
          "model_module": "@jupyter-widgets/base",
          "model_name": "LayoutModel",
          "model_module_version": "1.2.0",
          "state": {
            "_model_module": "@jupyter-widgets/base",
            "_model_module_version": "1.2.0",
            "_model_name": "LayoutModel",
            "_view_count": null,
            "_view_module": "@jupyter-widgets/base",
            "_view_module_version": "1.2.0",
            "_view_name": "LayoutView",
            "align_content": null,
            "align_items": null,
            "align_self": null,
            "border": null,
            "bottom": null,
            "display": null,
            "flex": null,
            "flex_flow": null,
            "grid_area": null,
            "grid_auto_columns": null,
            "grid_auto_flow": null,
            "grid_auto_rows": null,
            "grid_column": null,
            "grid_gap": null,
            "grid_row": null,
            "grid_template_areas": null,
            "grid_template_columns": null,
            "grid_template_rows": null,
            "height": null,
            "justify_content": null,
            "justify_items": null,
            "left": null,
            "margin": null,
            "max_height": null,
            "max_width": null,
            "min_height": null,
            "min_width": null,
            "object_fit": null,
            "object_position": null,
            "order": null,
            "overflow": null,
            "overflow_x": null,
            "overflow_y": null,
            "padding": null,
            "right": null,
            "top": null,
            "visibility": null,
            "width": null
          }
        },
        "eaba8b9adf3140c6bd70c11d4f77f4b7": {
          "model_module": "@jupyter-widgets/base",
          "model_name": "LayoutModel",
          "model_module_version": "1.2.0",
          "state": {
            "_model_module": "@jupyter-widgets/base",
            "_model_module_version": "1.2.0",
            "_model_name": "LayoutModel",
            "_view_count": null,
            "_view_module": "@jupyter-widgets/base",
            "_view_module_version": "1.2.0",
            "_view_name": "LayoutView",
            "align_content": null,
            "align_items": null,
            "align_self": null,
            "border": null,
            "bottom": null,
            "display": null,
            "flex": null,
            "flex_flow": null,
            "grid_area": null,
            "grid_auto_columns": null,
            "grid_auto_flow": null,
            "grid_auto_rows": null,
            "grid_column": null,
            "grid_gap": null,
            "grid_row": null,
            "grid_template_areas": null,
            "grid_template_columns": null,
            "grid_template_rows": null,
            "height": null,
            "justify_content": null,
            "justify_items": null,
            "left": null,
            "margin": null,
            "max_height": null,
            "max_width": null,
            "min_height": null,
            "min_width": null,
            "object_fit": null,
            "object_position": null,
            "order": null,
            "overflow": null,
            "overflow_x": null,
            "overflow_y": null,
            "padding": null,
            "right": null,
            "top": null,
            "visibility": null,
            "width": null
          }
        },
        "ab4155882fd443aea9919eedb77ef4bf": {
          "model_module": "@jupyter-widgets/controls",
          "model_name": "DescriptionStyleModel",
          "model_module_version": "1.5.0",
          "state": {
            "_model_module": "@jupyter-widgets/controls",
            "_model_module_version": "1.5.0",
            "_model_name": "DescriptionStyleModel",
            "_view_count": null,
            "_view_module": "@jupyter-widgets/base",
            "_view_module_version": "1.2.0",
            "_view_name": "StyleView",
            "description_width": ""
          }
        },
        "8a7d1628003a479e94859539d1ac73c2": {
          "model_module": "@jupyter-widgets/base",
          "model_name": "LayoutModel",
          "model_module_version": "1.2.0",
          "state": {
            "_model_module": "@jupyter-widgets/base",
            "_model_module_version": "1.2.0",
            "_model_name": "LayoutModel",
            "_view_count": null,
            "_view_module": "@jupyter-widgets/base",
            "_view_module_version": "1.2.0",
            "_view_name": "LayoutView",
            "align_content": null,
            "align_items": null,
            "align_self": null,
            "border": null,
            "bottom": null,
            "display": null,
            "flex": null,
            "flex_flow": null,
            "grid_area": null,
            "grid_auto_columns": null,
            "grid_auto_flow": null,
            "grid_auto_rows": null,
            "grid_column": null,
            "grid_gap": null,
            "grid_row": null,
            "grid_template_areas": null,
            "grid_template_columns": null,
            "grid_template_rows": null,
            "height": null,
            "justify_content": null,
            "justify_items": null,
            "left": null,
            "margin": null,
            "max_height": null,
            "max_width": null,
            "min_height": null,
            "min_width": null,
            "object_fit": null,
            "object_position": null,
            "order": null,
            "overflow": null,
            "overflow_x": null,
            "overflow_y": null,
            "padding": null,
            "right": null,
            "top": null,
            "visibility": null,
            "width": null
          }
        },
        "f1887e94faa74ca4a609ddf924229fb3": {
          "model_module": "@jupyter-widgets/controls",
          "model_name": "ProgressStyleModel",
          "model_module_version": "1.5.0",
          "state": {
            "_model_module": "@jupyter-widgets/controls",
            "_model_module_version": "1.5.0",
            "_model_name": "ProgressStyleModel",
            "_view_count": null,
            "_view_module": "@jupyter-widgets/base",
            "_view_module_version": "1.2.0",
            "_view_name": "StyleView",
            "bar_color": null,
            "description_width": ""
          }
        },
        "9d477d09fcb145189b8f3a50afeffdc7": {
          "model_module": "@jupyter-widgets/base",
          "model_name": "LayoutModel",
          "model_module_version": "1.2.0",
          "state": {
            "_model_module": "@jupyter-widgets/base",
            "_model_module_version": "1.2.0",
            "_model_name": "LayoutModel",
            "_view_count": null,
            "_view_module": "@jupyter-widgets/base",
            "_view_module_version": "1.2.0",
            "_view_name": "LayoutView",
            "align_content": null,
            "align_items": null,
            "align_self": null,
            "border": null,
            "bottom": null,
            "display": null,
            "flex": null,
            "flex_flow": null,
            "grid_area": null,
            "grid_auto_columns": null,
            "grid_auto_flow": null,
            "grid_auto_rows": null,
            "grid_column": null,
            "grid_gap": null,
            "grid_row": null,
            "grid_template_areas": null,
            "grid_template_columns": null,
            "grid_template_rows": null,
            "height": null,
            "justify_content": null,
            "justify_items": null,
            "left": null,
            "margin": null,
            "max_height": null,
            "max_width": null,
            "min_height": null,
            "min_width": null,
            "object_fit": null,
            "object_position": null,
            "order": null,
            "overflow": null,
            "overflow_x": null,
            "overflow_y": null,
            "padding": null,
            "right": null,
            "top": null,
            "visibility": null,
            "width": null
          }
        },
        "0a7b165d48944b8ea300165953471758": {
          "model_module": "@jupyter-widgets/controls",
          "model_name": "DescriptionStyleModel",
          "model_module_version": "1.5.0",
          "state": {
            "_model_module": "@jupyter-widgets/controls",
            "_model_module_version": "1.5.0",
            "_model_name": "DescriptionStyleModel",
            "_view_count": null,
            "_view_module": "@jupyter-widgets/base",
            "_view_module_version": "1.2.0",
            "_view_name": "StyleView",
            "description_width": ""
          }
        },
        "62ea30ec62324611bcee69c516c95b98": {
          "model_module": "@jupyter-widgets/controls",
          "model_name": "HBoxModel",
          "model_module_version": "1.5.0",
          "state": {
            "_dom_classes": [],
            "_model_module": "@jupyter-widgets/controls",
            "_model_module_version": "1.5.0",
            "_model_name": "HBoxModel",
            "_view_count": null,
            "_view_module": "@jupyter-widgets/controls",
            "_view_module_version": "1.5.0",
            "_view_name": "HBoxView",
            "box_style": "",
            "children": [
              "IPY_MODEL_7ec098f344e04494b9c9ae67aea20623",
              "IPY_MODEL_b3ba80f11b6748c4844e7176f4fa6d1b",
              "IPY_MODEL_53f089d5ae1748689a0f53bcc51a2519"
            ],
            "layout": "IPY_MODEL_fccca7f6694042d78f2ceaedcbc5c4cd"
          }
        },
        "7ec098f344e04494b9c9ae67aea20623": {
          "model_module": "@jupyter-widgets/controls",
          "model_name": "HTMLModel",
          "model_module_version": "1.5.0",
          "state": {
            "_dom_classes": [],
            "_model_module": "@jupyter-widgets/controls",
            "_model_module_version": "1.5.0",
            "_model_name": "HTMLModel",
            "_view_count": null,
            "_view_module": "@jupyter-widgets/controls",
            "_view_module_version": "1.5.0",
            "_view_name": "HTMLView",
            "description": "",
            "description_tooltip": null,
            "layout": "IPY_MODEL_17d6c990f12142368a523bfa14f96584",
            "placeholder": "​",
            "style": "IPY_MODEL_794c13ec4d5240479f561f0ffe49487b",
            "value": "100%"
          }
        },
        "b3ba80f11b6748c4844e7176f4fa6d1b": {
          "model_module": "@jupyter-widgets/controls",
          "model_name": "FloatProgressModel",
          "model_module_version": "1.5.0",
          "state": {
            "_dom_classes": [],
            "_model_module": "@jupyter-widgets/controls",
            "_model_module_version": "1.5.0",
            "_model_name": "FloatProgressModel",
            "_view_count": null,
            "_view_module": "@jupyter-widgets/controls",
            "_view_module_version": "1.5.0",
            "_view_name": "ProgressView",
            "bar_style": "success",
            "description": "",
            "description_tooltip": null,
            "layout": "IPY_MODEL_08ad82a86a504512916dad7300a49891",
            "max": 4542,
            "min": 0,
            "orientation": "horizontal",
            "style": "IPY_MODEL_a2fa5da541974e098efb48ab2d37c0de",
            "value": 4542
          }
        },
        "53f089d5ae1748689a0f53bcc51a2519": {
          "model_module": "@jupyter-widgets/controls",
          "model_name": "HTMLModel",
          "model_module_version": "1.5.0",
          "state": {
            "_dom_classes": [],
            "_model_module": "@jupyter-widgets/controls",
            "_model_module_version": "1.5.0",
            "_model_name": "HTMLModel",
            "_view_count": null,
            "_view_module": "@jupyter-widgets/controls",
            "_view_module_version": "1.5.0",
            "_view_name": "HTMLView",
            "description": "",
            "description_tooltip": null,
            "layout": "IPY_MODEL_75acd42e5a014bdda8fd9df0c15cfa1f",
            "placeholder": "​",
            "style": "IPY_MODEL_0ada29896cf34799bb34b70dd03c86c0",
            "value": " 4542/4542 [00:00&lt;00:00, 175401.47it/s]"
          }
        },
        "fccca7f6694042d78f2ceaedcbc5c4cd": {
          "model_module": "@jupyter-widgets/base",
          "model_name": "LayoutModel",
          "model_module_version": "1.2.0",
          "state": {
            "_model_module": "@jupyter-widgets/base",
            "_model_module_version": "1.2.0",
            "_model_name": "LayoutModel",
            "_view_count": null,
            "_view_module": "@jupyter-widgets/base",
            "_view_module_version": "1.2.0",
            "_view_name": "LayoutView",
            "align_content": null,
            "align_items": null,
            "align_self": null,
            "border": null,
            "bottom": null,
            "display": null,
            "flex": null,
            "flex_flow": null,
            "grid_area": null,
            "grid_auto_columns": null,
            "grid_auto_flow": null,
            "grid_auto_rows": null,
            "grid_column": null,
            "grid_gap": null,
            "grid_row": null,
            "grid_template_areas": null,
            "grid_template_columns": null,
            "grid_template_rows": null,
            "height": null,
            "justify_content": null,
            "justify_items": null,
            "left": null,
            "margin": null,
            "max_height": null,
            "max_width": null,
            "min_height": null,
            "min_width": null,
            "object_fit": null,
            "object_position": null,
            "order": null,
            "overflow": null,
            "overflow_x": null,
            "overflow_y": null,
            "padding": null,
            "right": null,
            "top": null,
            "visibility": null,
            "width": null
          }
        },
        "17d6c990f12142368a523bfa14f96584": {
          "model_module": "@jupyter-widgets/base",
          "model_name": "LayoutModel",
          "model_module_version": "1.2.0",
          "state": {
            "_model_module": "@jupyter-widgets/base",
            "_model_module_version": "1.2.0",
            "_model_name": "LayoutModel",
            "_view_count": null,
            "_view_module": "@jupyter-widgets/base",
            "_view_module_version": "1.2.0",
            "_view_name": "LayoutView",
            "align_content": null,
            "align_items": null,
            "align_self": null,
            "border": null,
            "bottom": null,
            "display": null,
            "flex": null,
            "flex_flow": null,
            "grid_area": null,
            "grid_auto_columns": null,
            "grid_auto_flow": null,
            "grid_auto_rows": null,
            "grid_column": null,
            "grid_gap": null,
            "grid_row": null,
            "grid_template_areas": null,
            "grid_template_columns": null,
            "grid_template_rows": null,
            "height": null,
            "justify_content": null,
            "justify_items": null,
            "left": null,
            "margin": null,
            "max_height": null,
            "max_width": null,
            "min_height": null,
            "min_width": null,
            "object_fit": null,
            "object_position": null,
            "order": null,
            "overflow": null,
            "overflow_x": null,
            "overflow_y": null,
            "padding": null,
            "right": null,
            "top": null,
            "visibility": null,
            "width": null
          }
        },
        "794c13ec4d5240479f561f0ffe49487b": {
          "model_module": "@jupyter-widgets/controls",
          "model_name": "DescriptionStyleModel",
          "model_module_version": "1.5.0",
          "state": {
            "_model_module": "@jupyter-widgets/controls",
            "_model_module_version": "1.5.0",
            "_model_name": "DescriptionStyleModel",
            "_view_count": null,
            "_view_module": "@jupyter-widgets/base",
            "_view_module_version": "1.2.0",
            "_view_name": "StyleView",
            "description_width": ""
          }
        },
        "08ad82a86a504512916dad7300a49891": {
          "model_module": "@jupyter-widgets/base",
          "model_name": "LayoutModel",
          "model_module_version": "1.2.0",
          "state": {
            "_model_module": "@jupyter-widgets/base",
            "_model_module_version": "1.2.0",
            "_model_name": "LayoutModel",
            "_view_count": null,
            "_view_module": "@jupyter-widgets/base",
            "_view_module_version": "1.2.0",
            "_view_name": "LayoutView",
            "align_content": null,
            "align_items": null,
            "align_self": null,
            "border": null,
            "bottom": null,
            "display": null,
            "flex": null,
            "flex_flow": null,
            "grid_area": null,
            "grid_auto_columns": null,
            "grid_auto_flow": null,
            "grid_auto_rows": null,
            "grid_column": null,
            "grid_gap": null,
            "grid_row": null,
            "grid_template_areas": null,
            "grid_template_columns": null,
            "grid_template_rows": null,
            "height": null,
            "justify_content": null,
            "justify_items": null,
            "left": null,
            "margin": null,
            "max_height": null,
            "max_width": null,
            "min_height": null,
            "min_width": null,
            "object_fit": null,
            "object_position": null,
            "order": null,
            "overflow": null,
            "overflow_x": null,
            "overflow_y": null,
            "padding": null,
            "right": null,
            "top": null,
            "visibility": null,
            "width": null
          }
        },
        "a2fa5da541974e098efb48ab2d37c0de": {
          "model_module": "@jupyter-widgets/controls",
          "model_name": "ProgressStyleModel",
          "model_module_version": "1.5.0",
          "state": {
            "_model_module": "@jupyter-widgets/controls",
            "_model_module_version": "1.5.0",
            "_model_name": "ProgressStyleModel",
            "_view_count": null,
            "_view_module": "@jupyter-widgets/base",
            "_view_module_version": "1.2.0",
            "_view_name": "StyleView",
            "bar_color": null,
            "description_width": ""
          }
        },
        "75acd42e5a014bdda8fd9df0c15cfa1f": {
          "model_module": "@jupyter-widgets/base",
          "model_name": "LayoutModel",
          "model_module_version": "1.2.0",
          "state": {
            "_model_module": "@jupyter-widgets/base",
            "_model_module_version": "1.2.0",
            "_model_name": "LayoutModel",
            "_view_count": null,
            "_view_module": "@jupyter-widgets/base",
            "_view_module_version": "1.2.0",
            "_view_name": "LayoutView",
            "align_content": null,
            "align_items": null,
            "align_self": null,
            "border": null,
            "bottom": null,
            "display": null,
            "flex": null,
            "flex_flow": null,
            "grid_area": null,
            "grid_auto_columns": null,
            "grid_auto_flow": null,
            "grid_auto_rows": null,
            "grid_column": null,
            "grid_gap": null,
            "grid_row": null,
            "grid_template_areas": null,
            "grid_template_columns": null,
            "grid_template_rows": null,
            "height": null,
            "justify_content": null,
            "justify_items": null,
            "left": null,
            "margin": null,
            "max_height": null,
            "max_width": null,
            "min_height": null,
            "min_width": null,
            "object_fit": null,
            "object_position": null,
            "order": null,
            "overflow": null,
            "overflow_x": null,
            "overflow_y": null,
            "padding": null,
            "right": null,
            "top": null,
            "visibility": null,
            "width": null
          }
        },
        "0ada29896cf34799bb34b70dd03c86c0": {
          "model_module": "@jupyter-widgets/controls",
          "model_name": "DescriptionStyleModel",
          "model_module_version": "1.5.0",
          "state": {
            "_model_module": "@jupyter-widgets/controls",
            "_model_module_version": "1.5.0",
            "_model_name": "DescriptionStyleModel",
            "_view_count": null,
            "_view_module": "@jupyter-widgets/base",
            "_view_module_version": "1.2.0",
            "_view_name": "StyleView",
            "description_width": ""
          }
        }
      }
    }
  },
  "cells": [
    {
      "cell_type": "markdown",
      "metadata": {
        "id": "view-in-github",
        "colab_type": "text"
      },
      "source": [
        "<a href=\"https://colab.research.google.com/github/tanisha1112/ECE_792_Assignments/blob/main/ECE_792_hw01.ipynb\" target=\"_parent\"><img src=\"https://colab.research.google.com/assets/colab-badge.svg\" alt=\"Open In Colab\"/></a>"
      ]
    },
    {
      "cell_type": "markdown",
      "source": [
        "## Classify hand-written digits from MNIST dataset\n",
        "\n"
      ],
      "metadata": {
        "id": "Cm7qK06LjQY9"
      }
    },
    {
      "cell_type": "markdown",
      "source": [
        "Importing the libraries"
      ],
      "metadata": {
        "id": "nEVOqeirUxBi"
      }
    },
    {
      "cell_type": "code",
      "source": [
        "import torch\n",
        "from torchvision import transforms\n",
        "import torchvision.datasets as datasets\n",
        "import matplotlib.pyplot as plt\n",
        "import numpy as np\n",
        "import torch.nn as nn\n",
        "import torch.nn.functional as F\n",
        "import sklearn\n",
        "from torch.utils.data import DataLoader\n"
      ],
      "metadata": {
        "id": "g6puhuT5Sve-"
      },
      "execution_count": null,
      "outputs": []
    },
    {
      "cell_type": "markdown",
      "source": [
        "Downloading the dataset inside the DATA folder"
      ],
      "metadata": {
        "id": "UKXcGdH4XwJw"
      }
    },
    {
      "cell_type": "code",
      "source": [
        "mnist_trainset = datasets.MNIST(root='./DATA', train=True, download=True, transform=transforms.Compose([transforms.ToTensor()]))\n",
        "mnist_testset = datasets.MNIST(root='./DATA', train=False, download=True, transform=transforms.Compose([transforms.ToTensor()]))"
      ],
      "metadata": {
        "id": "4V3uVlTdTVnM",
        "colab": {
          "base_uri": "https://localhost:8080/",
          "height": 431,
          "referenced_widgets": [
            "21dffc3d13114db48d4e89733d7fb23c",
            "7103f4a3817147c7babeb1c6fca86694",
            "aa9b6e4664e242c0a1ba47015d334eaa",
            "7a001f205f614d9a9a2356d2b94b426f",
            "fd0a4d96b20e4a3a99a0d07eb232ad7a",
            "9f4204956f6746659cc3f208960c7545",
            "34ad3cd742f4491389e0882a34895f75",
            "ed9fd05bcb58412a95122a8f6bae9f0e",
            "14667636048c4e8aac174c160e3289e8",
            "893df7a2ca5b4d8da9462c8f0b84a8bc",
            "7f6c10006f544a7bb6d67c22d6acd174",
            "af1d4349af3648e2bae0c1bd7069807b",
            "bbbda0b5e951400c9c173708130a94c8",
            "a649e1f79829465797aa0311a1d6814c",
            "761475b6d2524b5ab8cc045b9f2cdabd",
            "2aee38d47a424cef8fd14231a6404a50",
            "ae2e450cedad473290853dfe561574ff",
            "e2056f21f4f2489bae79af8726438d77",
            "1954bbdd3dad407da1775029236dc842",
            "e3d640d1a0ad40a98e0f122cc5ed03e4",
            "3e147b4f1f954eaab82f93ef10db8474",
            "661acb7a9bd7432b9002927982b1d2fd",
            "def394ce59644ebd96562b639d181828",
            "2ab755970fed4a29a47cf4bd64b2ff43",
            "2c2bce95ca854a98926284787a34e61d",
            "66c86e23db7a41d7b5e750bb8ade1716",
            "9eca3268acce4e1699a06488b276f4da",
            "eaba8b9adf3140c6bd70c11d4f77f4b7",
            "ab4155882fd443aea9919eedb77ef4bf",
            "8a7d1628003a479e94859539d1ac73c2",
            "f1887e94faa74ca4a609ddf924229fb3",
            "9d477d09fcb145189b8f3a50afeffdc7",
            "0a7b165d48944b8ea300165953471758",
            "62ea30ec62324611bcee69c516c95b98",
            "7ec098f344e04494b9c9ae67aea20623",
            "b3ba80f11b6748c4844e7176f4fa6d1b",
            "53f089d5ae1748689a0f53bcc51a2519",
            "fccca7f6694042d78f2ceaedcbc5c4cd",
            "17d6c990f12142368a523bfa14f96584",
            "794c13ec4d5240479f561f0ffe49487b",
            "08ad82a86a504512916dad7300a49891",
            "a2fa5da541974e098efb48ab2d37c0de",
            "75acd42e5a014bdda8fd9df0c15cfa1f",
            "0ada29896cf34799bb34b70dd03c86c0"
          ]
        },
        "outputId": "f5a2eb1c-bd4e-498d-a00f-aa05dee83f92"
      },
      "execution_count": null,
      "outputs": [
        {
          "output_type": "stream",
          "name": "stdout",
          "text": [
            "Downloading http://yann.lecun.com/exdb/mnist/train-images-idx3-ubyte.gz\n",
            "Downloading http://yann.lecun.com/exdb/mnist/train-images-idx3-ubyte.gz to ./DATA/MNIST/raw/train-images-idx3-ubyte.gz\n"
          ]
        },
        {
          "output_type": "display_data",
          "data": {
            "text/plain": [
              "  0%|          | 0/9912422 [00:00<?, ?it/s]"
            ],
            "application/vnd.jupyter.widget-view+json": {
              "version_major": 2,
              "version_minor": 0,
              "model_id": "21dffc3d13114db48d4e89733d7fb23c"
            }
          },
          "metadata": {}
        },
        {
          "output_type": "stream",
          "name": "stdout",
          "text": [
            "Extracting ./DATA/MNIST/raw/train-images-idx3-ubyte.gz to ./DATA/MNIST/raw\n",
            "\n",
            "Downloading http://yann.lecun.com/exdb/mnist/train-labels-idx1-ubyte.gz\n",
            "Downloading http://yann.lecun.com/exdb/mnist/train-labels-idx1-ubyte.gz to ./DATA/MNIST/raw/train-labels-idx1-ubyte.gz\n"
          ]
        },
        {
          "output_type": "display_data",
          "data": {
            "text/plain": [
              "  0%|          | 0/28881 [00:00<?, ?it/s]"
            ],
            "application/vnd.jupyter.widget-view+json": {
              "version_major": 2,
              "version_minor": 0,
              "model_id": "af1d4349af3648e2bae0c1bd7069807b"
            }
          },
          "metadata": {}
        },
        {
          "output_type": "stream",
          "name": "stdout",
          "text": [
            "Extracting ./DATA/MNIST/raw/train-labels-idx1-ubyte.gz to ./DATA/MNIST/raw\n",
            "\n",
            "Downloading http://yann.lecun.com/exdb/mnist/t10k-images-idx3-ubyte.gz\n",
            "Downloading http://yann.lecun.com/exdb/mnist/t10k-images-idx3-ubyte.gz to ./DATA/MNIST/raw/t10k-images-idx3-ubyte.gz\n"
          ]
        },
        {
          "output_type": "display_data",
          "data": {
            "text/plain": [
              "  0%|          | 0/1648877 [00:00<?, ?it/s]"
            ],
            "application/vnd.jupyter.widget-view+json": {
              "version_major": 2,
              "version_minor": 0,
              "model_id": "def394ce59644ebd96562b639d181828"
            }
          },
          "metadata": {}
        },
        {
          "output_type": "stream",
          "name": "stdout",
          "text": [
            "Extracting ./DATA/MNIST/raw/t10k-images-idx3-ubyte.gz to ./DATA/MNIST/raw\n",
            "\n",
            "Downloading http://yann.lecun.com/exdb/mnist/t10k-labels-idx1-ubyte.gz\n",
            "Downloading http://yann.lecun.com/exdb/mnist/t10k-labels-idx1-ubyte.gz to ./DATA/MNIST/raw/t10k-labels-idx1-ubyte.gz\n"
          ]
        },
        {
          "output_type": "display_data",
          "data": {
            "text/plain": [
              "  0%|          | 0/4542 [00:00<?, ?it/s]"
            ],
            "application/vnd.jupyter.widget-view+json": {
              "version_major": 2,
              "version_minor": 0,
              "model_id": "62ea30ec62324611bcee69c516c95b98"
            }
          },
          "metadata": {}
        },
        {
          "output_type": "stream",
          "name": "stdout",
          "text": [
            "Extracting ./DATA/MNIST/raw/t10k-labels-idx1-ubyte.gz to ./DATA/MNIST/raw\n",
            "\n"
          ]
        }
      ]
    },
    {
      "cell_type": "markdown",
      "source": [
        "Load the train test dataset into the pytorch Dataloader\n",
        "For the train set, we give a batch size, to load the dataset in batches.\n"
      ],
      "metadata": {
        "id": "KL1atsT8ZLg0"
      }
    },
    {
      "cell_type": "code",
      "source": [
        "train_batchsize = 100\n",
        "test_batchsize = 500\n",
        "train_dataloader = torch.utils.data.DataLoader(mnist_trainset, batch_size=train_batchsize, shuffle=True)\n",
        "test_dataloader = torch.utils.data.DataLoader(mnist_testset, batch_size=test_batchsize, shuffle=False)\n",
        "\n",
        "print(\"Training dataset size: \", len(mnist_trainset))\n",
        "print(\"Testing dataset size: \", len(mnist_testset))"
      ],
      "metadata": {
        "colab": {
          "base_uri": "https://localhost:8080/"
        },
        "id": "HjovAv_mTp_I",
        "outputId": "8d04e2b6-8707-4bdd-c043-f859f77dafe9"
      },
      "execution_count": null,
      "outputs": [
        {
          "output_type": "stream",
          "name": "stdout",
          "text": [
            "Training dataset size:  60000\n",
            "Testing dataset size:  10000\n"
          ]
        }
      ]
    },
    {
      "cell_type": "markdown",
      "source": [
        "The train data has 60,000 images and the test has 10,000."
      ],
      "metadata": {
        "id": "YoA4Z8DUkkqc"
      }
    },
    {
      "cell_type": "code",
      "source": [
        "# visualize data\n",
        "fig=plt.figure(figsize=(20, 10))\n",
        "for i in range(1, 6):\n",
        "    img = transforms.ToPILImage(mode='L')(mnist_trainset[i][0])\n",
        "    fig.add_subplot(1, 6, i)\n",
        "    plt.title(mnist_trainset[i][1])\n",
        "    plt.imshow(img)\n",
        "plt.show()\n"
      ],
      "metadata": {
        "colab": {
          "base_uri": "https://localhost:8080/",
          "height": 223
        },
        "id": "J_pGH0USTtjy",
        "outputId": "5513ab4e-e70e-40c6-f41a-34e18110ceed"
      },
      "execution_count": null,
      "outputs": [
        {
          "output_type": "display_data",
          "data": {
            "text/plain": [
              "<Figure size 1440x720 with 5 Axes>"
            ],
            "image/png": "[encoded data removed]"
          },
          "metadata": {
            "needs_background": "light"
          }
        }
      ]
    },
    {
      "cell_type": "code",
      "source": [
        "mnist_trainset"
      ],
      "metadata": {
        "colab": {
          "base_uri": "https://localhost:8080/"
        },
        "id": "5sjNgNYfjqJH",
        "outputId": "b009d868-440c-4b73-c6e8-7ebd6946fb19"
      },
      "execution_count": null,
      "outputs": [
        {
          "output_type": "execute_result",
          "data": {
            "text/plain": [
              "Dataset MNIST\n",
              "    Number of datapoints: 60000\n",
              "    Root location: ./DATA\n",
              "    Split: Train\n",
              "    StandardTransform\n",
              "Transform: Compose(\n",
              "               ToTensor()\n",
              "           )"
            ]
          },
          "metadata": {},
          "execution_count": 6
        }
      ]
    },
    {
      "cell_type": "markdown",
      "source": [
        "Shape of my training samples:"
      ],
      "metadata": {
        "id": "uMK_DPvejJSx"
      }
    },
    {
      "cell_type": "code",
      "source": [
        "img, label=mnist_trainset[0]\n",
        "print(img.shape,label)\n"
      ],
      "metadata": {
        "colab": {
          "base_uri": "https://localhost:8080/"
        },
        "id": "8t9ca83yTvi5",
        "outputId": "50525a55-a8e9-4866-b6f7-ea7021f871e3"
      },
      "execution_count": null,
      "outputs": [
        {
          "output_type": "stream",
          "name": "stdout",
          "text": [
            "torch.Size([1, 28, 28]) 5\n"
          ]
        }
      ]
    },
    {
      "cell_type": "code",
      "source": [
        "img = transforms.ToPILImage(mode='L')(img)\n",
        "plt.imshow(img)"
      ],
      "metadata": {
        "colab": {
          "base_uri": "https://localhost:8080/",
          "height": 283
        },
        "id": "sxYaPQwgdZti",
        "outputId": "8dca5c21-1ad1-46db-d9cf-ecc55216a1ca"
      },
      "execution_count": null,
      "outputs": [
        {
          "output_type": "execute_result",
          "data": {
            "text/plain": [
              "<matplotlib.image.AxesImage at 0x7f3f18d3eaf0>"
            ]
          },
          "metadata": {},
          "execution_count": 8
        },
        {
          "output_type": "display_data",
          "data": {
            "text/plain": [
              "<Figure size 432x288 with 1 Axes>"
            ],
            "image/png": "[encoded data removed]"
          },
          "metadata": {
            "needs_background": "light"
          }
        }
      ]
    },
    {
      "cell_type": "markdown",
      "source": [
        "# Multilevel perceptron\n",
        "Input size = 784 (28 * 28) image size is flattened for 784 pixel values.\n",
        "The next layer has 120 neurons that are each fed the input array.\n",
        "\n",
        "After Wx+b, a non linear activation function is applied. The activation function we have used here is ReLu.\n",
        "ReLU formula is : f(x) = max(0,x)\n",
        "# ---\n",
        "\n",
        "\n",
        "\n",
        "The next layer has 84 neurons and takes 120 inputs from the previous layer. The output of this layer is fed into the last layer which is the Output Layer.\n",
        "\n",
        "The Output Layer has only 10 neurons for the 10 classes that we have(digits between 0-9). For the output layer, we use the softmax function.\n",
        "\n",
        "\n",
        "Softmax takes the output of the last layer(called logits) which could be any 10 real values and converts it into another 10 real values that sum to 1. Softmax transforms the values between 0 and 1, such that they can be interpreted as probabilities. The maximum value pertains to the class predicted by the classifier."
      ],
      "metadata": {
        "id": "Tcr5mpktpLz2"
      }
    },
    {
      "cell_type": "code",
      "source": [
        "class Multilevel_perceptron(nn.Module):\n",
        "  def __init__(self,input_size = 784,output_size = 10, layers = [120,84]):\n",
        "    super().__init__()\n",
        "    self.d1 = nn.Linear(input_size,layers[0])\n",
        "    self.d2 = nn.Linear(layers[0],layers[1])\n",
        "    self.d3 = nn.Linear(layers[1],output_size)\n",
        "\n",
        "  def forward(self,X):\n",
        "    X = F.relu(self.d1(X))\n",
        "    X = F.relu(self.d2(X))\n",
        "    X = self.d3(X)\n",
        "    return F.log_softmax(X , dim=1)\n"
      ],
      "metadata": {
        "id": "ZKVLgYlVkbgw"
      },
      "execution_count": null,
      "outputs": []
    },
    {
      "cell_type": "code",
      "source": [
        "model = Multilevel_perceptron()\n",
        "print(model)"
      ],
      "metadata": {
        "colab": {
          "base_uri": "https://localhost:8080/"
        },
        "id": "aP7upe0kkDhR",
        "outputId": "f7776a9c-d570-4662-ffd4-3b5d96ffd1bf"
      },
      "execution_count": null,
      "outputs": [
        {
          "output_type": "stream",
          "name": "stdout",
          "text": [
            "Multilevel_perceptron(\n",
            "  (d1): Linear(in_features=784, out_features=120, bias=True)\n",
            "  (d2): Linear(in_features=120, out_features=84, bias=True)\n",
            "  (d3): Linear(in_features=84, out_features=10, bias=True)\n",
            ")\n"
          ]
        }
      ]
    },
    {
      "cell_type": "markdown",
      "source": [
        "# Initializing the loss function and the optimizer"
      ],
      "metadata": {
        "id": "tEWOyfbix-tq"
      }
    },
    {
      "cell_type": "markdown",
      "source": [
        "The loss function used here is Cross Entropy Loss.![yo.webp](data:image/webp;base64,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)\n",
        "\n",
        "![image.png](data:image/png;base64,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)\n",
        "\n",
        "Adam optimizer is used for the optimizer function"
      ],
      "metadata": {
        "id": "PVmun2FZv6Pe"
      }
    },
    {
      "cell_type": "code",
      "source": [
        "criterion = nn.CrossEntropyLoss()\n",
        "optimizer = torch.optim.Adam(model.parameters(),lr = 0.001)"
      ],
      "metadata": {
        "id": "ObBqre750vK-"
      },
      "execution_count": null,
      "outputs": []
    },
    {
      "cell_type": "code",
      "source": [
        "for images,labels in train_dataloader:\n",
        "  print(images.size())\n",
        "  break\n",
        "print(images.view(train_batchsize,-1).size())"
      ],
      "metadata": {
        "colab": {
          "base_uri": "https://localhost:8080/"
        },
        "id": "J_dH5XAw1CIV",
        "outputId": "facefc3d-cc57-468d-cdad-73a91edc4602"
      },
      "execution_count": null,
      "outputs": [
        {
          "output_type": "stream",
          "name": "stdout",
          "text": [
            "torch.Size([100, 1, 28, 28])\n",
            "torch.Size([100, 784])\n"
          ]
        }
      ]
    },
    {
      "cell_type": "code",
      "source": [
        "for images,labels in test_dataloader:\n",
        "  print(images.size())\n",
        "  break\n",
        "print(images.view(test_batchsize,-1).size())"
      ],
      "metadata": {
        "colab": {
          "base_uri": "https://localhost:8080/"
        },
        "id": "j-ARdEEQAkKy",
        "outputId": "55505d8d-936e-469b-aec4-cbc06dc7d60b"
      },
      "execution_count": null,
      "outputs": [
        {
          "output_type": "stream",
          "name": "stdout",
          "text": [
            "torch.Size([500, 1, 28, 28])\n",
            "torch.Size([500, 784])\n"
          ]
        }
      ]
    },
    {
      "cell_type": "markdown",
      "source": [
        "Initializing the training parameters\n",
        "\n"
      ],
      "metadata": {
        "id": "aIT_74sKy2lW"
      }
    },
    {
      "cell_type": "code",
      "source": [
        "epochs = 10.  # epoch is a single pass through our full training data(60,000 images)\n",
        "train_size = len(mnist_trainset)/train_batchsize\n",
        "train_losses = []\n",
        "test_losses = []\n",
        "train_correct_list = []\n",
        "test_correct_list = []"
      ],
      "metadata": {
        "id": "t5C4Uqnz3UJX"
      },
      "execution_count": null,
      "outputs": []
    },
    {
      "cell_type": "code",
      "source": [
        "for i in range(epochs):\n",
        "  train_correct = 0\n",
        "  test_correct = 0\n",
        "\n",
        "  # Run the training batches\n",
        "  for b, (X_train, y_train) in enumerate(train_dataloader):\n",
        "    b +=1        # current image\n",
        "    #Apply the model\n",
        "    y_pred = model(X_train.view(train_batchsize, -1)) # Here we flatten X_train\n",
        "\n",
        "    loss = criterion(y_pred, y_train)        # cross entropy loss to calculate the number of correct predictions\n",
        "    predicted = torch.max(y_pred.data,1)[1]  # the prediction that has the maximum probability\n",
        "    batch_correct = (predicted == y_train).sum()\n",
        "    train_correct += batch_correct\n",
        "\n",
        "    #Update parameters\n",
        "    optimizer.zero_grad()     # reset the gradients after each training step\n",
        "    loss.backward()           #to trigger backprop\n",
        "    optimizer.step()          #perform parameter update\n",
        "\n",
        "    # Print interim results\n",
        "    if b % train_size == 0:\n",
        "      print(f'epoch: {i:2} batch:{b:4} [{train_batchsize*b:6}/len(mnist_trainset)] Train loss: {loss.item():10.8f} Train accuracy: {(train_correct.item()/train_size)}%')\n",
        "\n",
        "\n",
        "  train_correct_list.append(train_correct)         # Update train Loss & accuracy for the epoch\n",
        "  train_losses.append(loss)\n",
        "\n",
        "  # Run the testing batches\n",
        "  with torch.no_grad(): # don't calculate gradients during testing\n",
        "\n",
        "    for b,(X_test, y_test) in enumerate(test_dataloader):\n",
        "\n",
        "      # Apply the model\n",
        "      y_val = model(X_test.view(test_batchsize, -1)) # Here we flatten X_test\n",
        "\n",
        "      # Tally the number of correct predictions\n",
        "      predicted = torch.max(y_val.data, 1)[1]\n",
        "      test_correct += (predicted == y_test).sum()\n",
        "\n",
        "    # Update test Loss & accuracy for the epoch\n",
        "    loss = criterion(y_val, y_test)\n",
        "    test_losses.append(loss)\n",
        "    test_correct_list.append(test_correct)\n"
      ],
      "metadata": {
        "colab": {
          "base_uri": "https://localhost:8080/"
        },
        "id": "oz0qsoxf1U0v",
        "outputId": "fdbaf67e-a294-4ccc-9fba-3c9777164508"
      },
      "execution_count": null,
      "outputs": [
        {
          "output_type": "stream",
          "name": "stdout",
          "text": [
            "epoch:  0 batch: 600 [ 60000/60000] Train loss: 0.14159660 Train accuracy: 89.27333333333333%\n",
            "epoch:  1 batch: 600 [ 60000/60000] Train loss: 0.16910133 Train accuracy: 95.27333333333333%\n",
            "epoch:  2 batch: 600 [ 60000/60000] Train loss: 0.03161852 Train accuracy: 96.72333333333333%\n",
            "epoch:  3 batch: 600 [ 60000/60000] Train loss: 0.03844130 Train accuracy: 97.46166666666667%\n",
            "epoch:  4 batch: 600 [ 60000/60000] Train loss: 0.15490907 Train accuracy: 98.025%\n",
            "epoch:  5 batch: 600 [ 60000/60000] Train loss: 0.24337988 Train accuracy: 98.40166666666667%\n",
            "epoch:  6 batch: 600 [ 60000/60000] Train loss: 0.05269320 Train accuracy: 98.60833333333333%\n",
            "epoch:  7 batch: 600 [ 60000/60000] Train loss: 0.03324822 Train accuracy: 98.92333333333333%\n",
            "epoch:  8 batch: 600 [ 60000/60000] Train loss: 0.01766952 Train accuracy: 99.12%\n",
            "epoch:  9 batch: 600 [ 60000/60000] Train loss: 0.04619160 Train accuracy: 99.28166666666667%\n"
          ]
        }
      ]
    },
    {
      "cell_type": "code",
      "source": [
        "len(test_correct_list)"
      ],
      "metadata": {
        "colab": {
          "base_uri": "https://localhost:8080/"
        },
        "id": "J84iSRQf9IoQ",
        "outputId": "89b0dd77-3399-4799-9ff9-855debcb3f60"
      },
      "execution_count": null,
      "outputs": [
        {
          "output_type": "execute_result",
          "data": {
            "text/plain": [
              "10"
            ]
          },
          "metadata": {},
          "execution_count": 16
        }
      ]
    },
    {
      "cell_type": "code",
      "source": [
        "print(f'Test accuracy:{test_correct_list[-1].item()*100/10000:.3f}%') # test accuracy for the last epoch"
      ],
      "metadata": {
        "colab": {
          "base_uri": "https://localhost:8080/"
        },
        "id": "Dw8P0s9Y2C3u",
        "outputId": "a7a8882f-367d-4cb5-9fc2-7fb2e77cc006"
      },
      "execution_count": null,
      "outputs": [
        {
          "output_type": "stream",
          "name": "stdout",
          "text": [
            "Test accuracy:97.730%\n"
          ]
        }
      ]
    },
    {
      "cell_type": "code",
      "source": [
        "train_losses"
      ],
      "metadata": {
        "colab": {
          "base_uri": "https://localhost:8080/"
        },
        "id": "K7Yml5SE92kn",
        "outputId": "15217099-4bd6-4444-9fcf-009af5ed9c54"
      },
      "execution_count": null,
      "outputs": [
        {
          "output_type": "execute_result",
          "data": {
            "text/plain": [
              "[tensor(0.1416, grad_fn=<NllLossBackward0>),\n",
              " tensor(0.1691, grad_fn=<NllLossBackward0>),\n",
              " tensor(0.0316, grad_fn=<NllLossBackward0>),\n",
              " tensor(0.0384, grad_fn=<NllLossBackward0>),\n",
              " tensor(0.1549, grad_fn=<NllLossBackward0>),\n",
              " tensor(0.2434, grad_fn=<NllLossBackward0>),\n",
              " tensor(0.0527, grad_fn=<NllLossBackward0>),\n",
              " tensor(0.0332, grad_fn=<NllLossBackward0>),\n",
              " tensor(0.0177, grad_fn=<NllLossBackward0>),\n",
              " tensor(0.0462, grad_fn=<NllLossBackward0>)]"
            ]
          },
          "metadata": {},
          "execution_count": 18
        }
      ]
    },
    {
      "cell_type": "code",
      "source": [
        "train_los = [fl.item() for fl in train_losses]\n",
        "test_los = [fl.item() for fl in test_losses]"
      ],
      "metadata": {
        "id": "jAS5TV4d-zMU"
      },
      "execution_count": null,
      "outputs": []
    },
    {
      "cell_type": "code",
      "source": [
        "len(train_los)"
      ],
      "metadata": {
        "colab": {
          "base_uri": "https://localhost:8080/"
        },
        "id": "b3Qm-eU2_igc",
        "outputId": "04ebd74f-a62d-43da-a5df-e1cfd4a2c7a9"
      },
      "execution_count": null,
      "outputs": [
        {
          "output_type": "execute_result",
          "data": {
            "text/plain": [
              "10"
            ]
          },
          "metadata": {},
          "execution_count": 20
        }
      ]
    },
    {
      "cell_type": "code",
      "source": [
        "plt.plot(train_los, label='training loss')\n",
        "plt.plot(test_los, label='validation loss')\n",
        "plt.ylabel('loss')\n",
        "plt.xlabel('epoch')\n",
        "plt.title('Loss at the end of each epoch')\n",
        "plt.legend()\n",
        "plt.show()\n",
        "\n",
        "plt.plot([t/600 for t in train_correct_list], label='training accuracy')\n",
        "plt.plot([t/100 for t in test_correct_list], label='test accuracy')\n",
        "plt.suptitle('Accuracy at the end of each epoch')\n",
        "plt.ylabel('Acccuracy')\n",
        "plt.xlabel('epoch')\n",
        "plt.legend()\n",
        "plt.show()\n"
      ],
      "metadata": {
        "colab": {
          "base_uri": "https://localhost:8080/",
          "height": 586
        },
        "id": "gkyGibWX5sP5",
        "outputId": "cbf7b399-b630-4d11-b41d-93065e7beda6"
      },
      "execution_count": null,
      "outputs": [
        {
          "output_type": "display_data",
          "data": {
            "text/plain": [
              "<Figure size 432x288 with 1 Axes>"
            ],
            "image/png": "[encoded data removed]"
          },
          "metadata": {
            "needs_background": "light"
          }
        },
        {
          "output_type": "display_data",
          "data": {
            "text/plain": [
              "<Figure size 432x288 with 1 Axes>"
            ],
            "image/png": "[encoded data removed]"
          },
          "metadata": {
            "needs_background": "light"
          }
        }
      ]
    },
    {
      "cell_type": "code",
      "source": [],
      "metadata": {
        "id": "mBCV0c1l6agb"
      },
      "execution_count": null,
      "outputs": []
    }
  ]
}